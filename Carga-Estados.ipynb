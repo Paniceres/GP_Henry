{
 "cells": [
  {
   "cell_type": "code",
   "execution_count": null,
   "metadata": {},
   "outputs": [],
   "source": [
    "import pandas as pd\n",
    "import os\n",
    "\n"
   ]
  },
  {
   "cell_type": "markdown",
   "metadata": {},
   "source": [
    "# Google Maps"
   ]
  },
  {
   "cell_type": "code",
   "execution_count": null,
   "metadata": {},
   "outputs": [],
   "source": [
    "#lista con nombre de los estados\n",
    "estados = []\n",
    "ruta = './datasets/Google Maps/reviews-estados'\n",
    "for estado in os.listdir(ruta):\n",
    "        estado_path = os.path.join(ruta, estado)\n",
    "        \n",
    "        if os.path.isdir(estado_path) and estado.startswith('review-'):\n",
    "            nombre_estado = estado[len('review-'):]\n",
    "            estados.append(nombre_estado)"
   ]
  },
  {
   "cell_type": "code",
   "execution_count": null,
   "metadata": {},
   "outputs": [],
   "source": [
    "# Funcion para leer todos los json de uina carpeta y unirlos en un datafram\n",
    "def read_all_json(folder_ruth):\n",
    "    dataframes = []\n",
    "    for archivo_json in os.listdir(folder_ruth):\n",
    "        if archivo_json.endswith('.json'):\n",
    "            # Construye la ruta completa del archivo JSON\n",
    "            ruta_archivo_json = os.path.join(folder_ruth, archivo_json)\n",
    "            \n",
    "            # Lee el archivo JSON en un DataFrame\n",
    "            df = pd.read_json(ruta_archivo_json,lines=True)\n",
    "            \n",
    "            # Agrega el DataFrame a la lista\n",
    "            dataframes.append(df)\n",
    "\n",
    "    # Concatena todos los DataFrames en uno solo\n",
    "    return pd.concat(dataframes, ignore_index=True)"
   ]
  },
  {
   "cell_type": "code",
   "execution_count": 17,
   "metadata": {},
   "outputs": [],
   "source": [
    "# Extraer la fecha del diccionario\n",
    "def extraer_resp_time(diccionario):\n",
    "    if diccionario is not None:\n",
    "        return diccionario['time']\n",
    "    else:\n",
    "        return None\n",
    "\n",
    "# Función para extraer 'resp_text'\n",
    "def extraer_resp_text(diccionario):\n",
    "    if diccionario is not None:\n",
    "        return diccionario['text']\n",
    "    else:\n",
    "        return None\n",
    "    \n",
    "#Trasnformo los foramtos de time y extraigo time y text de resp\n",
    "def format_time(df):\n",
    "    df['time'] =  pd.to_datetime(df['time'], unit='ms')\n",
    "    df['resp_time'] = df['resp'].apply(extraer_resp_time)\n",
    "    df['resp_time'] = pd.to_datetime(df['resp_time'], unit='ms')\n",
    "    df['resp_text'] = df['resp'].apply(extraer_resp_text)\n",
    "    df['resp_text'] = df['resp'].apply(extraer_resp_text)\n",
    "    df.drop(columns=['resp'],inplace=True)"
   ]
  },
  {
   "cell_type": "code",
   "execution_count": 31,
   "metadata": {},
   "outputs": [],
   "source": [
    "#Concateno los json de cada estado en uno solo y lo exporto a parquet\n",
    "for estado in estados:\n",
    "    rutas = f'{ruta}/review-{estado}'\n",
    "    df = read_all_json(rutas)\n",
    "    format_time(df)\n",
    "    df.to_parquet(f'./{rutas}/all_{estado}.parquet',index=False)"
   ]
  },
  {
   "cell_type": "markdown",
   "metadata": {},
   "source": [
    "## Alabama\n"
   ]
  },
  {
   "cell_type": "code",
   "execution_count": 32,
   "metadata": {},
   "outputs": [],
   "source": [
    "df_Alabama = pd.read_parquet('./datasets/Google Maps/reviews-estados/review-Alabama/all_Alabama.parquet')"
   ]
  },
  {
   "cell_type": "code",
   "execution_count": 33,
   "metadata": {},
   "outputs": [
    {
     "data": {
      "text/html": [
       "<div>\n",
       "<style scoped>\n",
       "    .dataframe tbody tr th:only-of-type {\n",
       "        vertical-align: middle;\n",
       "    }\n",
       "\n",
       "    .dataframe tbody tr th {\n",
       "        vertical-align: top;\n",
       "    }\n",
       "\n",
       "    .dataframe thead th {\n",
       "        text-align: right;\n",
       "    }\n",
       "</style>\n",
       "<table border=\"1\" class=\"dataframe\">\n",
       "  <thead>\n",
       "    <tr style=\"text-align: right;\">\n",
       "      <th></th>\n",
       "      <th>user_id</th>\n",
       "      <th>name</th>\n",
       "      <th>time</th>\n",
       "      <th>rating</th>\n",
       "      <th>text</th>\n",
       "      <th>pics</th>\n",
       "      <th>gmap_id</th>\n",
       "      <th>resp_time</th>\n",
       "      <th>resp_text</th>\n",
       "    </tr>\n",
       "  </thead>\n",
       "  <tbody>\n",
       "    <tr>\n",
       "      <th>1020741</th>\n",
       "      <td>1.044122e+20</td>\n",
       "      <td>Cassandra Nicole Brown</td>\n",
       "      <td>2018-03-19 14:30:13.180</td>\n",
       "      <td>5</td>\n",
       "      <td>None</td>\n",
       "      <td>None</td>\n",
       "      <td>0x8887e3b40fb9faed:0xceb828ae2ee8bc98</td>\n",
       "      <td>NaT</td>\n",
       "      <td>None</td>\n",
       "    </tr>\n",
       "    <tr>\n",
       "      <th>1376417</th>\n",
       "      <td>1.143149e+20</td>\n",
       "      <td>Sandra Stamps</td>\n",
       "      <td>2019-04-15 10:06:39.586</td>\n",
       "      <td>4</td>\n",
       "      <td>clean and friendly it was my first time there....</td>\n",
       "      <td>None</td>\n",
       "      <td>0x888a4caeb3b260ad:0x45eddfd0536fd89f</td>\n",
       "      <td>NaT</td>\n",
       "      <td>None</td>\n",
       "    </tr>\n",
       "    <tr>\n",
       "      <th>841939</th>\n",
       "      <td>1.031659e+20</td>\n",
       "      <td>Christopher Felts</td>\n",
       "      <td>2021-05-07 21:20:37.236</td>\n",
       "      <td>5</td>\n",
       "      <td>Sheryl did exactly what I asked</td>\n",
       "      <td>None</td>\n",
       "      <td>0x8889276bc79e5b8d:0x592a9a0ea720206b</td>\n",
       "      <td>NaT</td>\n",
       "      <td>None</td>\n",
       "    </tr>\n",
       "    <tr>\n",
       "      <th>33830</th>\n",
       "      <td>1.123377e+20</td>\n",
       "      <td>Sundara Owens</td>\n",
       "      <td>2019-06-17 20:29:46.219</td>\n",
       "      <td>5</td>\n",
       "      <td>The property is clean. Very professional. Kier...</td>\n",
       "      <td>None</td>\n",
       "      <td>0x8889194bfb4ad025:0x9f0c37dca3a69acd</td>\n",
       "      <td>2019-06-18 18:20:29.371000064</td>\n",
       "      <td>Hi Sundara, thank you for your review! We're s...</td>\n",
       "    </tr>\n",
       "    <tr>\n",
       "      <th>412143</th>\n",
       "      <td>1.006235e+20</td>\n",
       "      <td>Sheila C</td>\n",
       "      <td>2017-12-30 20:27:41.067</td>\n",
       "      <td>5</td>\n",
       "      <td>None</td>\n",
       "      <td>None</td>\n",
       "      <td>0x888911afe9d9bafb:0xbca3d7e40c3a19c3</td>\n",
       "      <td>NaT</td>\n",
       "      <td>None</td>\n",
       "    </tr>\n",
       "  </tbody>\n",
       "</table>\n",
       "</div>"
      ],
      "text/plain": [
       "              user_id                    name                    time  rating  \\\n",
       "1020741  1.044122e+20  Cassandra Nicole Brown 2018-03-19 14:30:13.180       5   \n",
       "1376417  1.143149e+20           Sandra Stamps 2019-04-15 10:06:39.586       4   \n",
       "841939   1.031659e+20       Christopher Felts 2021-05-07 21:20:37.236       5   \n",
       "33830    1.123377e+20           Sundara Owens 2019-06-17 20:29:46.219       5   \n",
       "412143   1.006235e+20                Sheila C 2017-12-30 20:27:41.067       5   \n",
       "\n",
       "                                                      text  pics  \\\n",
       "1020741                                               None  None   \n",
       "1376417  clean and friendly it was my first time there....  None   \n",
       "841939                     Sheryl did exactly what I asked  None   \n",
       "33830    The property is clean. Very professional. Kier...  None   \n",
       "412143                                                None  None   \n",
       "\n",
       "                                       gmap_id                     resp_time  \\\n",
       "1020741  0x8887e3b40fb9faed:0xceb828ae2ee8bc98                           NaT   \n",
       "1376417  0x888a4caeb3b260ad:0x45eddfd0536fd89f                           NaT   \n",
       "841939   0x8889276bc79e5b8d:0x592a9a0ea720206b                           NaT   \n",
       "33830    0x8889194bfb4ad025:0x9f0c37dca3a69acd 2019-06-18 18:20:29.371000064   \n",
       "412143   0x888911afe9d9bafb:0xbca3d7e40c3a19c3                           NaT   \n",
       "\n",
       "                                                 resp_text  \n",
       "1020741                                               None  \n",
       "1376417                                               None  \n",
       "841939                                                None  \n",
       "33830    Hi Sundara, thank you for your review! We're s...  \n",
       "412143                                                None  "
      ]
     },
     "execution_count": 33,
     "metadata": {},
     "output_type": "execute_result"
    }
   ],
   "source": [
    "df_Alabama.sample(5)"
   ]
  },
  {
   "cell_type": "code",
   "execution_count": null,
   "metadata": {},
   "outputs": [],
   "source": [
    "# Doy formato a las columnas time y resp\n",
    "format_time(df_Alabama)"
   ]
  },
  {
   "cell_type": "code",
   "execution_count": null,
   "metadata": {},
   "outputs": [],
   "source": [
    "df_Alabama.sample(3)"
   ]
  }
 ],
 "metadata": {
  "kernelspec": {
   "display_name": "Python 3",
   "language": "python",
   "name": "python3"
  },
  "language_info": {
   "codemirror_mode": {
    "name": "ipython",
    "version": 3
   },
   "file_extension": ".py",
   "mimetype": "text/x-python",
   "name": "python",
   "nbconvert_exporter": "python",
   "pygments_lexer": "ipython3",
   "version": "3.11.6"
  }
 },
 "nbformat": 4,
 "nbformat_minor": 2
}
