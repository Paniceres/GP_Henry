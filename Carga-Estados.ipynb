{
 "cells": [
  {
   "cell_type": "code",
   "execution_count": null,
   "metadata": {},
   "outputs": [],
   "source": [
    "import pandas as pd\n",
    "import os\n",
    "\n"
   ]
  },
  {
   "cell_type": "markdown",
   "metadata": {},
   "source": [
    "# Google Maps"
   ]
  },
  {
   "cell_type": "code",
   "execution_count": null,
   "metadata": {},
   "outputs": [],
   "source": [
    "#lista con nombre de los estados\n",
    "estados = []\n",
    "ruta = './datasets/Google Maps/reviews-estados'\n",
    "for estado in os.listdir(ruta):\n",
    "        estado_path = os.path.join(ruta, estado)\n",
    "        \n",
    "        if os.path.isdir(estado_path) and estado.startswith('review-'):\n",
    "            nombre_estado = estado[len('review-'):]\n",
    "            estados.append(nombre_estado)"
   ]
  },
  {
   "cell_type": "code",
   "execution_count": null,
   "metadata": {},
   "outputs": [],
   "source": [
    "# Funcion para leer todos los json de una carpeta y unirlos en un datafram\n",
    "def read_all_json(folder_ruth):\n",
    "    dataframes = []\n",
    "    for archivo_json in os.listdir(folder_ruth):\n",
    "        if archivo_json.endswith('.json'):\n",
    "            # Construye la ruta completa del archivo JSON\n",
    "            ruta_archivo_json = os.path.join(folder_ruth, archivo_json)\n",
    "            \n",
    "            # Lee el archivo JSON en un DataFrame\n",
    "            df = pd.read_json(ruta_archivo_json,lines=True)\n",
    "            \n",
    "            # Agrega el DataFrame a la lista\n",
    "            dataframes.append(df)\n",
    "\n",
    "    # Concatena todos los DataFrames en uno solo\n",
    "    return pd.concat(dataframes, ignore_index=True)"
   ]
  },
  {
   "cell_type": "code",
   "execution_count": 17,
   "metadata": {},
   "outputs": [],
   "source": [
    "# Extraer la fecha del diccionario\n",
    "def extraer_resp_time(diccionario):\n",
    "    if diccionario is not None:\n",
    "        return diccionario['time']\n",
    "    else:\n",
    "        return None\n",
    "\n",
    "# Función para extraer 'resp_text'\n",
    "def extraer_resp_text(diccionario):\n",
    "    if diccionario is not None:\n",
    "        return diccionario['text']\n",
    "    else:\n",
    "        return None\n",
    "    \n",
    "#Trasnformo los foramtos de time y extraigo time y text de resp\n",
    "def format_time(df):\n",
    "    df['time'] =  pd.to_datetime(df['time'], unit='ms')\n",
    "    df['resp_time'] = df['resp'].apply(extraer_resp_time)\n",
    "    df['resp_time'] = pd.to_datetime(df['resp_time'], unit='ms')\n",
    "    df['resp_text'] = df['resp'].apply(extraer_resp_text)\n",
    "    df['resp_text'] = df['resp'].apply(extraer_resp_text)\n",
    "    df.drop(columns=['resp'],inplace=True)"
   ]
  },
  {
   "cell_type": "code",
   "execution_count": 31,
   "metadata": {},
   "outputs": [],
   "source": [
    "#Concateno los json de cada estado en uno solo y lo exporto a parquet\n",
    "for estado in estados:\n",
    "    rutas = f'{ruta}/review-{estado}'\n",
    "    df = read_all_json(rutas)\n",
    "    format_time(df)\n",
    "    df.to_parquet(f'./{rutas}/all_{estado}.parquet',index=False)"
   ]
  }
 ],
 "metadata": {
  "kernelspec": {
   "display_name": "Python 3",
   "language": "python",
   "name": "python3"
  },
  "language_info": {
   "codemirror_mode": {
    "name": "ipython",
    "version": 3
   },
   "file_extension": ".py",
   "mimetype": "text/x-python",
   "name": "python",
   "nbconvert_exporter": "python",
   "pygments_lexer": "ipython3",
   "version": "3.11.0"
  }
 },
 "nbformat": 4,
 "nbformat_minor": 2
}
