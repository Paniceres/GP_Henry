{
 "cells": [
  {
   "cell_type": "code",
   "execution_count": 1,
   "metadata": {},
   "outputs": [],
   "source": [
    "import pandas as pd\n",
    "import requests\n",
    "import os\n",
    "from dotenv import load_dotenv \n",
    "from nltk.sentiment import SentimentIntensityAnalyzer\n",
    "import nltk"
   ]
  },
  {
   "cell_type": "markdown",
   "metadata": {},
   "source": [
    "A partir de la API publica de yelp, puedo realizar ingesta de datos referente a los locales y sus cacacteristicas junto a reviews de estos."
   ]
  },
  {
   "cell_type": "markdown",
   "metadata": {},
   "source": [
    "## Business Yelp"
   ]
  },
  {
   "cell_type": "markdown",
   "metadata": {},
   "source": [
    "Ingesta de de los locales que son restaurantes y pertencen a los estados trabajados.\n"
   ]
  },
  {
   "cell_type": "code",
   "execution_count": 2,
   "metadata": {},
   "outputs": [],
   "source": [
    "\n",
    "load_dotenv('../extras/.env') # Cargo ela archivo donde esta la variable de entorno.\n",
    "api_key_yelp =  os.getenv(\"API_KEY_YELP\") # Cargo la variable de entorno"
   ]
  },
  {
   "cell_type": "code",
   "execution_count": null,
   "metadata": {},
   "outputs": [],
   "source": [
    "def state_normalize(state):\n",
    "    if state == 'CA':\n",
    "        return 'California'\n",
    "    elif state == 'FL':\n",
    "        return 'Florida'\n",
    "    elif state == 'NJ':\n",
    "        return 'New Jersey'\n",
    "    elif state == 'IL':\n",
    "        return 'Illinois'"
   ]
  },
  {
   "cell_type": "code",
   "execution_count": 3,
   "metadata": {},
   "outputs": [],
   "source": [
    "def business(state):\n",
    "    url = f'https://api.yelp.com/v3/businesses/search'\n",
    "\n",
    "    params = {\n",
    "        'location': state,\n",
    "        'categories':','.join(['restaurant','Restaurant','restaurants','Restaurants']),\n",
    "        'limit':50\n",
    "    }\n",
    "\n",
    "    headers = {\n",
    "        'Authorization': f'Bearer {api_key_yelp}',\n",
    "        'accept': 'application/json'\n",
    "    }\n",
    "\n",
    "    response = requests.get(url, headers=headers,params=params)\n",
    "\n",
    "    if response.status_code == 200:\n",
    "        data = response.json()\n",
    "        # Convierte el JSON en un DataFrame de pandas\n",
    "        #df = pd.json_normalize(data)\n",
    "        businesses = pd.json_normalize(data['businesses'])\n",
    "        return businesses\n",
    "    else:\n",
    "        print(f'Error en la solicitud. Código de estado: {response.status_code}')\n",
    "        print(response.text)"
   ]
  },
  {
   "cell_type": "code",
   "execution_count": 4,
   "metadata": {},
   "outputs": [],
   "source": [
    "yelp_bussines = business('TX')\n",
    "yelp_bussines['categories'] = yelp_bussines['categories'].apply(lambda x: [item['title'] for item in x] if isinstance(x, list) else [])\n"
   ]
  },
  {
   "cell_type": "code",
   "execution_count": null,
   "metadata": {},
   "outputs": [],
   "source": [
    "url = f'https://api.yelp.com/v3/businesses/search'\n",
    "\n",
    "yelp_bussines = pd.DataFrame()\n",
    "for state in ['CA','FL','NJ','IL']:\n",
    "    businesses = business(state)\n",
    "    yelp_bussines = pd.concat([businesses,yelp_bussines])"
   ]
  },
  {
   "cell_type": "code",
   "execution_count": null,
   "metadata": {},
   "outputs": [],
   "source": [
    "yelp_bussines.shape[0]\n"
   ]
  },
  {
   "cell_type": "markdown",
   "metadata": {},
   "source": [
    "Como puede verse cargue datos de locales para los estados a usar, pero solo se ingestar 200 locales, y se consumieron 4 consultas de las 500"
   ]
  },
  {
   "cell_type": "markdown",
   "metadata": {},
   "source": [
    "Voy a realizar un etl para dejar los datos, igual a los del Data Wherehouse"
   ]
  },
  {
   "cell_type": "code",
   "execution_count": null,
   "metadata": {},
   "outputs": [],
   "source": [
    "yelp_bussines.columns"
   ]
  },
  {
   "cell_type": "code",
   "execution_count": null,
   "metadata": {},
   "outputs": [],
   "source": [
    "\n",
    "yelp_bussines['categories'] = yelp_bussines['categories'].apply(lambda x: [item['title'] for item in x] if isinstance(x, list) else [])\n",
    "\n",
    "\n",
    "yelp_bussines.rename(columns={\n",
    "    'id':'business_id',\n",
    "    'name':'name',\n",
    "    'coordinates.latitude':'latitude',\n",
    "    'coordinates.longitude':'longitude',\n",
    "    'categories':'categories',\n",
    "    'rating':'stars',\n",
    "    'location.state':'state',\n",
    "    \n",
    "},inplace=True)\n",
    "yelp_bussines['state'] = yelp_bussines['state'].apply(state_normalize)\n",
    "columnas = ['business_id', 'name', 'latitude','longitude','categories','stars','state']\n",
    "yelp_bussines = yelp_bussines[columnas]\n",
    "# funcion que elimina los locales que ya existen"
   ]
  },
  {
   "cell_type": "markdown",
   "metadata": {},
   "source": [
    "## Reviews Yelp\n"
   ]
  },
  {
   "cell_type": "code",
   "execution_count": null,
   "metadata": {},
   "outputs": [],
   "source": [
    "def ingest_reviews_yelp(business_id):\n",
    "    url =f'https://api.yelp.com/v3/businesses/{business_id}/reviews?limit=50&sort_by=yelp_sort\"'\n",
    "\n",
    "    headers = {\n",
    "        'Authorization': f'Bearer {api_key_yelp}',\n",
    "        'accept': 'application/json'\n",
    "    }\n",
    "\n",
    "    response = requests.get(url, headers=headers)\n",
    "\n",
    "    if response.status_code == 200:\n",
    "        data = response.json()\n",
    "        reviews_list = data.get('reviews', [])\n",
    "        return  pd.json_normalize(reviews_list)\n",
    "\n",
    "    else:\n",
    "        print(f'Error en la solicitud. Código de estado: {response.status_code}')\n"
   ]
  },
  {
   "cell_type": "code",
   "execution_count": null,
   "metadata": {},
   "outputs": [],
   "source": [
    "#funcion que retorna una lista con los id que no existan ya en el DW\n",
    "business_id = 'eEOYSgkmpB90uNA7lDOMRA'\n",
    "reviews_yelp = ingest_reviews_yelp(business_id)\n",
    "reviews_yelp['business_id'] = business_id\n",
    "reviews_yelp.shape[0]"
   ]
  },
  {
   "cell_type": "markdown",
   "metadata": {},
   "source": [
    "Puede verse que cada review se saca a partir de un business id por ende, con 500 consultas que es el limite diario se obtendrian reviews solo para 500 locales."
   ]
  },
  {
   "cell_type": "code",
   "execution_count": null,
   "metadata": {},
   "outputs": [],
   "source": [
    "sid = SentimentIntensityAnalyzer()\n",
    "nltk.download('vader_lexicon')\n",
    "def puntajeNLP(x):\n",
    "    if x > 1.5:\n",
    "        return 2 # Positivo\n",
    "    elif x >= 1:\n",
    "        return 0 # Neutro\n",
    "    else: \n",
    "        return 1 # Negativo\n",
    "analisis = reviews_yelp['text'].apply(lambda x: sid.polarity_scores(x)[\"compound\"])\n",
    "valorEstrellas = reviews_yelp['rating'] / 5 \n",
    "analisis += valorEstrellas\n",
    "analisis = analisis.apply(lambda x: puntajeNLP(x))\n",
    "reviews_yelp['text'] = analisis\n",
    "reviews_yelp['sentiment'] = reviews_yelp['text'].astype('int')\n",
    "\n",
    "\n",
    "\n",
    "reviews_yelp.rename(columns={\n",
    "    'id':'review_id',\n",
    "    'user.id':'user_id',\n",
    "    'business_id':'business_id',\n",
    "    'sentiment':'sentiment',\n",
    "    'time_created':'date',\n",
    "    'user.name':'name'\n",
    "},inplace=True)\n",
    "\n",
    "columns= ['review_id','user_id','business_id','sentiment','date','name']\n",
    "reviews_yelp = reviews_yelp[columns]"
   ]
  },
  {
   "cell_type": "code",
   "execution_count": null,
   "metadata": {},
   "outputs": [],
   "source": [
    "reviews_yelp"
   ]
  },
  {
   "cell_type": "code",
   "execution_count": null,
   "metadata": {},
   "outputs": [],
   "source": [
    "\n",
    "reviews_yelp['date'] = pd.to_datetime(reviews_yelp['date'],unit='s')\n",
    "reviews_yelp['date'].max()"
   ]
  },
  {
   "cell_type": "code",
   "execution_count": null,
   "metadata": {},
   "outputs": [],
   "source": [
    "import sys\n",
    "sys.path.append('../../extras/')\n",
    "import s3\n",
    "bucket_nombre = 'projectgoogleyelp'\n",
    "objeto_key = 'yelp/reviews_yelp.parquet.gz'\n",
    "destino_archivo = '../../extras/asd.parquet.gz'\n",
    "# Llama a la función para descargar el objeto desde S3\n",
    "s3.download_file(bucket_nombre,objeto_key,destino_archivo)\n"
   ]
  },
  {
   "cell_type": "code",
   "execution_count": null,
   "metadata": {},
   "outputs": [],
   "source": [
    "yelp_bussines = pd.read_parquet(destino_archivo)"
   ]
  },
  {
   "cell_type": "code",
   "execution_count": null,
   "metadata": {},
   "outputs": [],
   "source": [
    "reviews_yelp"
   ]
  },
  {
   "cell_type": "code",
   "execution_count": null,
   "metadata": {},
   "outputs": [],
   "source": [
    "pd.to_datetime(yelp_bussines['date']).max() > reviews_yelp['date'].max()"
   ]
  },
  {
   "cell_type": "code",
   "execution_count": null,
   "metadata": {},
   "outputs": [],
   "source": [
    "reviews_yelp[((pd.to_datetime(yelp_bussines['date']).max())<reviews_yelp['date']) & (~reviews_yelp['review_id'].isin(yelp_bussines['review_id']))]\n"
   ]
  },
  {
   "cell_type": "code",
   "execution_count": null,
   "metadata": {},
   "outputs": [],
   "source": [
    "yelp_bussines['categories'] = yelp_bussines['categories'].apply(lambda x: [item['title'] for item in x] if isinstance(x, list) else [])\n"
   ]
  },
  {
   "cell_type": "code",
   "execution_count": 14,
   "metadata": {},
   "outputs": [],
   "source": [
    "categories_data = []\n",
    "for index, row in yelp_bussines.iterrows():\n",
    "    local_id = row['id']\n",
    "    categories = row['categories']\n",
    "    for category in categories:\n",
    "        categories_data.append({'business_id': local_id, 'categoria': category})\n",
    "\n",
    "# Crear un nuevo DataFrame para la tabla de categorías\n",
    "categorias_df = pd.DataFrame(categories_data)\n",
    "#Consultar la base de datos  de categorias "
   ]
  },
  {
   "cell_type": "code",
   "execution_count": 27,
   "metadata": {},
   "outputs": [
    {
     "data": {
      "text/html": [
       "<div>\n",
       "<style scoped>\n",
       "    .dataframe tbody tr th:only-of-type {\n",
       "        vertical-align: middle;\n",
       "    }\n",
       "\n",
       "    .dataframe tbody tr th {\n",
       "        vertical-align: top;\n",
       "    }\n",
       "\n",
       "    .dataframe thead th {\n",
       "        text-align: right;\n",
       "    }\n",
       "</style>\n",
       "<table border=\"1\" class=\"dataframe\">\n",
       "  <thead>\n",
       "    <tr style=\"text-align: right;\">\n",
       "      <th></th>\n",
       "      <th>business_id</th>\n",
       "      <th>categoria</th>\n",
       "    </tr>\n",
       "  </thead>\n",
       "  <tbody>\n",
       "    <tr>\n",
       "      <th>0</th>\n",
       "      <td>ZUtFIxtTKRRhZ2fuvl6_cg</td>\n",
       "      <td>Restaurants</td>\n",
       "    </tr>\n",
       "    <tr>\n",
       "      <th>2</th>\n",
       "      <td>237MSviehmCzD_wwKg4-zA</td>\n",
       "      <td>Restaurants</td>\n",
       "    </tr>\n",
       "    <tr>\n",
       "      <th>5</th>\n",
       "      <td>TqbzDpUI9_SREzH_AfejlQ</td>\n",
       "      <td>Restaurants</td>\n",
       "    </tr>\n",
       "    <tr>\n",
       "      <th>8</th>\n",
       "      <td>No7l5_GrsGBIu0OdvLslrw</td>\n",
       "      <td>Restaurants</td>\n",
       "    </tr>\n",
       "    <tr>\n",
       "      <th>9</th>\n",
       "      <td>MtrXTHsxOCw0iCtOlPhrGQ</td>\n",
       "      <td>Restaurants</td>\n",
       "    </tr>\n",
       "    <tr>\n",
       "      <th>11</th>\n",
       "      <td>yTnMkgBS19T90hxWOEOy4A</td>\n",
       "      <td>Restaurants</td>\n",
       "    </tr>\n",
       "    <tr>\n",
       "      <th>13</th>\n",
       "      <td>I1VlZBW80UL3E3NvahlqXg</td>\n",
       "      <td>Restaurants</td>\n",
       "    </tr>\n",
       "    <tr>\n",
       "      <th>16</th>\n",
       "      <td>vg2_-zFEzbKJb5MKyU9q4g</td>\n",
       "      <td>Restaurants</td>\n",
       "    </tr>\n",
       "    <tr>\n",
       "      <th>19</th>\n",
       "      <td>Eaani_7M6xAsasMnG4t5HQ</td>\n",
       "      <td>Restaurants</td>\n",
       "    </tr>\n",
       "    <tr>\n",
       "      <th>22</th>\n",
       "      <td>x4WealiPVG-tzwzhe7nvpw</td>\n",
       "      <td>Restaurants</td>\n",
       "    </tr>\n",
       "    <tr>\n",
       "      <th>25</th>\n",
       "      <td>5MG_McXD1URWSryfn9sCdw</td>\n",
       "      <td>Restaurants</td>\n",
       "    </tr>\n",
       "    <tr>\n",
       "      <th>28</th>\n",
       "      <td>NNMvUp-r7sQt7Q2l-kO9wA</td>\n",
       "      <td>Restaurants</td>\n",
       "    </tr>\n",
       "    <tr>\n",
       "      <th>31</th>\n",
       "      <td>RoU8KznQMrRFcIjYVtdZMw</td>\n",
       "      <td>Restaurants</td>\n",
       "    </tr>\n",
       "    <tr>\n",
       "      <th>33</th>\n",
       "      <td>NNL2lQ1TgNX0gCs9ikATBA</td>\n",
       "      <td>Restaurants</td>\n",
       "    </tr>\n",
       "    <tr>\n",
       "      <th>34</th>\n",
       "      <td>z4UopTuEkrO4LT1sVq6LJw</td>\n",
       "      <td>Restaurants</td>\n",
       "    </tr>\n",
       "    <tr>\n",
       "      <th>37</th>\n",
       "      <td>xdx57Qj1FJi0MK8kwzbeuA</td>\n",
       "      <td>Restaurants</td>\n",
       "    </tr>\n",
       "    <tr>\n",
       "      <th>39</th>\n",
       "      <td>iGMTbYr2FTFHc6vEIn51_Q</td>\n",
       "      <td>Restaurants</td>\n",
       "    </tr>\n",
       "    <tr>\n",
       "      <th>42</th>\n",
       "      <td>xeMboytLw4Oy2cfa4HNX-g</td>\n",
       "      <td>Restaurants</td>\n",
       "    </tr>\n",
       "    <tr>\n",
       "      <th>45</th>\n",
       "      <td>lvPKIOptlfBKyg7f1vWd7w</td>\n",
       "      <td>Restaurants</td>\n",
       "    </tr>\n",
       "    <tr>\n",
       "      <th>47</th>\n",
       "      <td>PAZRfJ8LKCJO3hhKK9ky7w</td>\n",
       "      <td>Restaurants</td>\n",
       "    </tr>\n",
       "    <tr>\n",
       "      <th>50</th>\n",
       "      <td>GW34GT0t1boHlJVTDXqpsQ</td>\n",
       "      <td>Restaurants</td>\n",
       "    </tr>\n",
       "    <tr>\n",
       "      <th>53</th>\n",
       "      <td>qwwRCIbAaaxIbCwWovXV6A</td>\n",
       "      <td>Restaurants</td>\n",
       "    </tr>\n",
       "    <tr>\n",
       "      <th>56</th>\n",
       "      <td>mtGZS8a0TKeLkQbAylbNPg</td>\n",
       "      <td>Restaurants</td>\n",
       "    </tr>\n",
       "    <tr>\n",
       "      <th>59</th>\n",
       "      <td>pr9Hcn5fjpxWLZzIbNb8Cw</td>\n",
       "      <td>Restaurants</td>\n",
       "    </tr>\n",
       "    <tr>\n",
       "      <th>61</th>\n",
       "      <td>E8Kfjp5xQYj-D2fx_YBC7g</td>\n",
       "      <td>Restaurants</td>\n",
       "    </tr>\n",
       "    <tr>\n",
       "      <th>63</th>\n",
       "      <td>wVHUuutjv1Gge2PYcjJmyg</td>\n",
       "      <td>Restaurants</td>\n",
       "    </tr>\n",
       "    <tr>\n",
       "      <th>66</th>\n",
       "      <td>z0sbzv4MRstpyodVBjCLLA</td>\n",
       "      <td>Restaurants</td>\n",
       "    </tr>\n",
       "    <tr>\n",
       "      <th>68</th>\n",
       "      <td>sICvh8l9t31JcDgwweNe8A</td>\n",
       "      <td>Restaurants</td>\n",
       "    </tr>\n",
       "    <tr>\n",
       "      <th>70</th>\n",
       "      <td>4Xes12b8RqX2Yq6oCJxQ5g</td>\n",
       "      <td>Restaurants</td>\n",
       "    </tr>\n",
       "    <tr>\n",
       "      <th>72</th>\n",
       "      <td>Ciwc3Cevrq7PCVHOfxylbA</td>\n",
       "      <td>Restaurants</td>\n",
       "    </tr>\n",
       "    <tr>\n",
       "      <th>74</th>\n",
       "      <td>x9N8KDSNTkvi2arF0B0BNg</td>\n",
       "      <td>Restaurants</td>\n",
       "    </tr>\n",
       "    <tr>\n",
       "      <th>75</th>\n",
       "      <td>suffPaUlK64hJFkhO0Nn_Q</td>\n",
       "      <td>Restaurants</td>\n",
       "    </tr>\n",
       "    <tr>\n",
       "      <th>78</th>\n",
       "      <td>Ga839ZKqLbJsHXcZhcM1eQ</td>\n",
       "      <td>Restaurants</td>\n",
       "    </tr>\n",
       "    <tr>\n",
       "      <th>81</th>\n",
       "      <td>9J13hiCPaIgCXOx3PD1saA</td>\n",
       "      <td>Restaurants</td>\n",
       "    </tr>\n",
       "    <tr>\n",
       "      <th>83</th>\n",
       "      <td>sLrHO2ct7qsJERWYXrR1pg</td>\n",
       "      <td>Restaurants</td>\n",
       "    </tr>\n",
       "    <tr>\n",
       "      <th>86</th>\n",
       "      <td>qlMdfSUSzLGhtmyg6xXlCA</td>\n",
       "      <td>Restaurants</td>\n",
       "    </tr>\n",
       "    <tr>\n",
       "      <th>89</th>\n",
       "      <td>2Hsx_X-zX2xuz0-9MaG-3w</td>\n",
       "      <td>Restaurants</td>\n",
       "    </tr>\n",
       "    <tr>\n",
       "      <th>91</th>\n",
       "      <td>KhYg0AiE4D3bS97n-4KvYA</td>\n",
       "      <td>Restaurants</td>\n",
       "    </tr>\n",
       "    <tr>\n",
       "      <th>94</th>\n",
       "      <td>8ZhYOX0zREv0Px2aBqnLNg</td>\n",
       "      <td>Restaurants</td>\n",
       "    </tr>\n",
       "    <tr>\n",
       "      <th>97</th>\n",
       "      <td>8i5ApAGOt1nV0rzH8imlLg</td>\n",
       "      <td>Restaurants</td>\n",
       "    </tr>\n",
       "    <tr>\n",
       "      <th>100</th>\n",
       "      <td>klNukwjIL3hkpgwXKoH3Zw</td>\n",
       "      <td>Restaurants</td>\n",
       "    </tr>\n",
       "    <tr>\n",
       "      <th>102</th>\n",
       "      <td>mnRw8w8Fp7-b13Dmmpm70w</td>\n",
       "      <td>Restaurants</td>\n",
       "    </tr>\n",
       "    <tr>\n",
       "      <th>105</th>\n",
       "      <td>kHyVzbt2NvIqxwcDIhqNvg</td>\n",
       "      <td>Restaurants</td>\n",
       "    </tr>\n",
       "    <tr>\n",
       "      <th>108</th>\n",
       "      <td>3oVFxuNiSGSUcYEJdw_BJQ</td>\n",
       "      <td>Restaurants</td>\n",
       "    </tr>\n",
       "    <tr>\n",
       "      <th>110</th>\n",
       "      <td>N6FFbFZrVhyUQ7aO7FgnNQ</td>\n",
       "      <td>Restaurants</td>\n",
       "    </tr>\n",
       "    <tr>\n",
       "      <th>112</th>\n",
       "      <td>IwdIMYXZOhhkYmnzXLAMbQ</td>\n",
       "      <td>Restaurants</td>\n",
       "    </tr>\n",
       "    <tr>\n",
       "      <th>115</th>\n",
       "      <td>iQNYPIJ_MWjokyTqrIM8cQ</td>\n",
       "      <td>Restaurants</td>\n",
       "    </tr>\n",
       "    <tr>\n",
       "      <th>117</th>\n",
       "      <td>X9WqXLXnoO_9yY3T-1X7Bw</td>\n",
       "      <td>Restaurants</td>\n",
       "    </tr>\n",
       "    <tr>\n",
       "      <th>120</th>\n",
       "      <td>xh9Ucz_h5sIKaATF93WO4w</td>\n",
       "      <td>Restaurants</td>\n",
       "    </tr>\n",
       "    <tr>\n",
       "      <th>123</th>\n",
       "      <td>fyXynRba9znW2LrsaZxgVg</td>\n",
       "      <td>Restaurants</td>\n",
       "    </tr>\n",
       "  </tbody>\n",
       "</table>\n",
       "</div>"
      ],
      "text/plain": [
       "                business_id    categoria\n",
       "0    ZUtFIxtTKRRhZ2fuvl6_cg  Restaurants\n",
       "2    237MSviehmCzD_wwKg4-zA  Restaurants\n",
       "5    TqbzDpUI9_SREzH_AfejlQ  Restaurants\n",
       "8    No7l5_GrsGBIu0OdvLslrw  Restaurants\n",
       "9    MtrXTHsxOCw0iCtOlPhrGQ  Restaurants\n",
       "11   yTnMkgBS19T90hxWOEOy4A  Restaurants\n",
       "13   I1VlZBW80UL3E3NvahlqXg  Restaurants\n",
       "16   vg2_-zFEzbKJb5MKyU9q4g  Restaurants\n",
       "19   Eaani_7M6xAsasMnG4t5HQ  Restaurants\n",
       "22   x4WealiPVG-tzwzhe7nvpw  Restaurants\n",
       "25   5MG_McXD1URWSryfn9sCdw  Restaurants\n",
       "28   NNMvUp-r7sQt7Q2l-kO9wA  Restaurants\n",
       "31   RoU8KznQMrRFcIjYVtdZMw  Restaurants\n",
       "33   NNL2lQ1TgNX0gCs9ikATBA  Restaurants\n",
       "34   z4UopTuEkrO4LT1sVq6LJw  Restaurants\n",
       "37   xdx57Qj1FJi0MK8kwzbeuA  Restaurants\n",
       "39   iGMTbYr2FTFHc6vEIn51_Q  Restaurants\n",
       "42   xeMboytLw4Oy2cfa4HNX-g  Restaurants\n",
       "45   lvPKIOptlfBKyg7f1vWd7w  Restaurants\n",
       "47   PAZRfJ8LKCJO3hhKK9ky7w  Restaurants\n",
       "50   GW34GT0t1boHlJVTDXqpsQ  Restaurants\n",
       "53   qwwRCIbAaaxIbCwWovXV6A  Restaurants\n",
       "56   mtGZS8a0TKeLkQbAylbNPg  Restaurants\n",
       "59   pr9Hcn5fjpxWLZzIbNb8Cw  Restaurants\n",
       "61   E8Kfjp5xQYj-D2fx_YBC7g  Restaurants\n",
       "63   wVHUuutjv1Gge2PYcjJmyg  Restaurants\n",
       "66   z0sbzv4MRstpyodVBjCLLA  Restaurants\n",
       "68   sICvh8l9t31JcDgwweNe8A  Restaurants\n",
       "70   4Xes12b8RqX2Yq6oCJxQ5g  Restaurants\n",
       "72   Ciwc3Cevrq7PCVHOfxylbA  Restaurants\n",
       "74   x9N8KDSNTkvi2arF0B0BNg  Restaurants\n",
       "75   suffPaUlK64hJFkhO0Nn_Q  Restaurants\n",
       "78   Ga839ZKqLbJsHXcZhcM1eQ  Restaurants\n",
       "81   9J13hiCPaIgCXOx3PD1saA  Restaurants\n",
       "83   sLrHO2ct7qsJERWYXrR1pg  Restaurants\n",
       "86   qlMdfSUSzLGhtmyg6xXlCA  Restaurants\n",
       "89   2Hsx_X-zX2xuz0-9MaG-3w  Restaurants\n",
       "91   KhYg0AiE4D3bS97n-4KvYA  Restaurants\n",
       "94   8ZhYOX0zREv0Px2aBqnLNg  Restaurants\n",
       "97   8i5ApAGOt1nV0rzH8imlLg  Restaurants\n",
       "100  klNukwjIL3hkpgwXKoH3Zw  Restaurants\n",
       "102  mnRw8w8Fp7-b13Dmmpm70w  Restaurants\n",
       "105  kHyVzbt2NvIqxwcDIhqNvg  Restaurants\n",
       "108  3oVFxuNiSGSUcYEJdw_BJQ  Restaurants\n",
       "110  N6FFbFZrVhyUQ7aO7FgnNQ  Restaurants\n",
       "112  IwdIMYXZOhhkYmnzXLAMbQ  Restaurants\n",
       "115  iQNYPIJ_MWjokyTqrIM8cQ  Restaurants\n",
       "117  X9WqXLXnoO_9yY3T-1X7Bw  Restaurants\n",
       "120  xh9Ucz_h5sIKaATF93WO4w  Restaurants\n",
       "123  fyXynRba9znW2LrsaZxgVg  Restaurants"
      ]
     },
     "execution_count": 27,
     "metadata": {},
     "output_type": "execute_result"
    }
   ],
   "source": [
    "df = categorias_df.drop_duplicates(subset='business_id').drop(columns='categoria')\n",
    "df['categoria'] = 'Restaurants'\n",
    "df"
   ]
  },
  {
   "cell_type": "code",
   "execution_count": null,
   "metadata": {},
   "outputs": [],
   "source": [
    "\n",
    "categories_data = []\n",
    "for index, row in yelp_bussines.iterrows():\n",
    "    local_id = row['id']\n",
    "    categories = row['categories']\n",
    "    for category in categories:\n",
    "        categories_data.append({'business_id': local_id, 'categoria': category})\n",
    "\n",
    "# Crear un nuevo DataFrame para la tabla de categorías\n",
    "categorias_df = pd.DataFrame(categories_data)\n",
    "#Consultar la base de datos  de categorias "
   ]
  },
  {
   "cell_type": "code",
   "execution_count": 9,
   "metadata": {},
   "outputs": [],
   "source": [
    "df_1 = pd.read_parquet('../processed/yelp/bussiness_yelp.parquet.gz')"
   ]
  },
  {
   "cell_type": "code",
   "execution_count": null,
   "metadata": {},
   "outputs": [],
   "source": [
    "df_filtered = df_1[df_1['categories'].apply(lambda x: 'Mediterranean' in x)]\n",
    "df_filtered"
   ]
  },
  {
   "cell_type": "code",
   "execution_count": null,
   "metadata": {},
   "outputs": [],
   "source": [
    "categorias_df\n"
   ]
  },
  {
   "cell_type": "markdown",
   "metadata": {},
   "source": [
    "1-COMO DESAGREGAR LAS CATEGORIAS NUEVAS INGESTADAS<br>\n",
    "2- DESAGREGAR LAS LOS USUARIOS INGESTADOS"
   ]
  },
  {
   "cell_type": "code",
   "execution_count": 16,
   "metadata": {},
   "outputs": [],
   "source": [
    "import pandas as pd\n",
    "import pymysql as mysql\n",
    "\n",
    "# Configura la conexión a la base de datos\n",
    "conexion = mysql.connect(host = 'servidorgrupo.cpfbmucjyznh.us-east-2.rds.amazonaws.com',\n",
    "                         user = 'admin',\n",
    "                         password = '1533542415',\n",
    "                         database='QUANTYLE_ANALITICS')\n"
   ]
  },
  {
   "cell_type": "code",
   "execution_count": 17,
   "metadata": {},
   "outputs": [],
   "source": [
    "# Crea un cursor para ejecutar consultas SQL\n",
    "cursor = conexion.cursor()\n",
    "\n",
    "# Ejecuta una consulta para obtener el nombre de las tablas\n",
    "cursor.execute(\"SHOW TABLES\")\n",
    "\n",
    "# Obtiene los resultados de la consulta\n",
    "tablas = cursor.fetchall()"
   ]
  },
  {
   "cell_type": "code",
   "execution_count": 18,
   "metadata": {},
   "outputs": [
    {
     "data": {
      "text/plain": [
       "(('categories',),\n",
       " ('categories_google',),\n",
       " ('categories_yelp',),\n",
       " ('google',),\n",
       " ('reviews_google',),\n",
       " ('reviews_yelp',),\n",
       " ('state',),\n",
       " ('user_yelp',),\n",
       " ('yelp',))"
      ]
     },
     "execution_count": 18,
     "metadata": {},
     "output_type": "execute_result"
    }
   ],
   "source": [
    "tablas"
   ]
  },
  {
   "cell_type": "code",
   "execution_count": 22,
   "metadata": {},
   "outputs": [],
   "source": [
    "tables  = ['categories','categories_yelp','reviews_yelp','user_yelp','yelp']"
   ]
  },
  {
   "cell_type": "code",
   "execution_count": 20,
   "metadata": {},
   "outputs": [],
   "source": [
    "def get_table(table_name):\n",
    "    #iniciarmysql\n",
    "    cursor = conexion.cursor()\n",
    "    consulta = f\"SELECT * FROM {table_name}\"\n",
    "    cursor.execute(consulta)\n",
    "    # Obtiene los resultados de la consulta\n",
    "    resultados = cursor.fetchall()\n",
    "    # Obtiene los nombres de las columnas\n",
    "    columnas = [columna[0] for columna in cursor.description]\n",
    "    # Crea un DataFrame de Pandas con los resultados y los nombres de las columnas\n",
    "    df = pd.DataFrame(resultados, columns=columnas)\n",
    "    cursor.close()\n",
    "    #cerrarmysql\n",
    "    return df"
   ]
  },
  {
   "cell_type": "code",
   "execution_count": 23,
   "metadata": {},
   "outputs": [
    {
     "name": "stdout",
     "output_type": "stream",
     "text": [
      "Empty DataFrame\n",
      "Columns: [categories_id, name]\n",
      "Index: []\n",
      "Empty DataFrame\n",
      "Columns: [id, business_id, categories_id]\n",
      "Index: []\n",
      "Empty DataFrame\n",
      "Columns: [review_id, user_id, bussiness_id, sentiment, date]\n",
      "Index: []\n",
      "Empty DataFrame\n",
      "Columns: [user_id, name, creation, review_count, useful, fans, stars]\n",
      "Index: []\n",
      "Empty DataFrame\n",
      "Columns: [bussiness_id, name, latitude, longitude, stars, state_id]\n",
      "Index: []\n"
     ]
    }
   ],
   "source": [
    "for tabla in tables:\n",
    "    print(get_table(tabla))"
   ]
  },
  {
   "cell_type": "code",
   "execution_count": 12,
   "metadata": {},
   "outputs": [],
   "source": [
    "df_new_data = pd.read_parquet('../processed/yelp/bussiness_yelp.parquet.gz')\n",
    "categories_data = []\n",
    "for index, row in df_new_data.iterrows():\n",
    "    local_id = row['business_id']\n",
    "    categories = row['categories']\n",
    "    for category in categories:\n",
    "        categories_data.append({'business_id': local_id, 'categoria': category})\n",
    "\n",
    "# Crear un nuevo DataFrame para la tabla de categorías\n",
    "categorias_df = pd.DataFrame(categories_data)\n",
    "#Consultar la base de datos  de categorias "
   ]
  },
  {
   "cell_type": "code",
   "execution_count": 2,
   "metadata": {},
   "outputs": [],
   "source": [
    "import pandas as pd\n",
    "df_new_data = pd.read_parquet('../processed/yelp/reviews_yelp.parquet.gz')\n"
   ]
  },
  {
   "cell_type": "code",
   "execution_count": 5,
   "metadata": {},
   "outputs": [
    {
     "name": "stdout",
     "output_type": "stream",
     "text": [
      "Index(['review_id', 'user_id', 'business_id', 'sentiment', 'date'], dtype='object')\n"
     ]
    }
   ],
   "source": [
    "print(df_new_data.columns)"
   ]
  },
  {
   "cell_type": "code",
   "execution_count": 3,
   "metadata": {},
   "outputs": [
    {
     "data": {
      "text/plain": [
       "0         2016-07-25 07:31:06\n",
       "1         2017-06-28 01:04:59\n",
       "2         2017-01-14 23:31:35\n",
       "3         2016-07-14 23:09:38\n",
       "4         2014-11-30 07:35:54\n",
       "                  ...        \n",
       "1138330   2021-08-19 02:30:16\n",
       "1138331   2021-09-12 05:20:37\n",
       "1138332   2021-04-25 13:44:37\n",
       "1138333   2021-10-06 01:52:41\n",
       "1138334   2021-04-02 13:54:12\n",
       "Name: date, Length: 1138335, dtype: datetime64[ns]"
      ]
     },
     "execution_count": 3,
     "metadata": {},
     "output_type": "execute_result"
    }
   ],
   "source": [
    "df_new_data.groupby('user_id').agg({\n",
    "    'review_id':'count',\n",
    "    \n",
    "    \n",
    "})"
   ]
  },
  {
   "cell_type": "code",
   "execution_count": 65,
   "metadata": {},
   "outputs": [
    {
     "data": {
      "text/html": [
       "<div>\n",
       "<style scoped>\n",
       "    .dataframe tbody tr th:only-of-type {\n",
       "        vertical-align: middle;\n",
       "    }\n",
       "\n",
       "    .dataframe tbody tr th {\n",
       "        vertical-align: top;\n",
       "    }\n",
       "\n",
       "    .dataframe thead th {\n",
       "        text-align: right;\n",
       "    }\n",
       "</style>\n",
       "<table border=\"1\" class=\"dataframe\">\n",
       "  <thead>\n",
       "    <tr style=\"text-align: right;\">\n",
       "      <th></th>\n",
       "      <th>business_id</th>\n",
       "      <th>categoria</th>\n",
       "    </tr>\n",
       "  </thead>\n",
       "  <tbody>\n",
       "    <tr>\n",
       "      <th>0</th>\n",
       "      <td>eEOYSgkmpB90uNA7lDOMRA</td>\n",
       "      <td>Vietnamese</td>\n",
       "    </tr>\n",
       "    <tr>\n",
       "      <th>1</th>\n",
       "      <td>eEOYSgkmpB90uNA7lDOMRA</td>\n",
       "      <td>Food</td>\n",
       "    </tr>\n",
       "    <tr>\n",
       "      <th>2</th>\n",
       "      <td>eEOYSgkmpB90uNA7lDOMRA</td>\n",
       "      <td>Restaurants</td>\n",
       "    </tr>\n",
       "    <tr>\n",
       "      <th>3</th>\n",
       "      <td>eEOYSgkmpB90uNA7lDOMRA</td>\n",
       "      <td>Food Trucks</td>\n",
       "    </tr>\n",
       "    <tr>\n",
       "      <th>4</th>\n",
       "      <td>0bPLkL0QhhPO5kt1_EXmNQ</td>\n",
       "      <td>Food</td>\n",
       "    </tr>\n",
       "    <tr>\n",
       "      <th>...</th>\n",
       "      <td>...</td>\n",
       "      <td>...</td>\n",
       "    </tr>\n",
       "    <tr>\n",
       "      <th>65142</th>\n",
       "      <td>UBQAksw81m0sMrAd8g-ECg</td>\n",
       "      <td>Restaurants</td>\n",
       "    </tr>\n",
       "    <tr>\n",
       "      <th>65143</th>\n",
       "      <td>UBQAksw81m0sMrAd8g-ECg</td>\n",
       "      <td>Mexican</td>\n",
       "    </tr>\n",
       "    <tr>\n",
       "      <th>65144</th>\n",
       "      <td>FBTKjIHyMk8V4frov04ClQ</td>\n",
       "      <td>Restaurants</td>\n",
       "    </tr>\n",
       "    <tr>\n",
       "      <th>65145</th>\n",
       "      <td>FBTKjIHyMk8V4frov04ClQ</td>\n",
       "      <td>Pizza</td>\n",
       "    </tr>\n",
       "    <tr>\n",
       "      <th>65146</th>\n",
       "      <td>FBTKjIHyMk8V4frov04ClQ</td>\n",
       "      <td>Mexican</td>\n",
       "    </tr>\n",
       "  </tbody>\n",
       "</table>\n",
       "<p>65147 rows × 2 columns</p>\n",
       "</div>"
      ],
      "text/plain": [
       "                  business_id    categoria\n",
       "0      eEOYSgkmpB90uNA7lDOMRA   Vietnamese\n",
       "1      eEOYSgkmpB90uNA7lDOMRA         Food\n",
       "2      eEOYSgkmpB90uNA7lDOMRA  Restaurants\n",
       "3      eEOYSgkmpB90uNA7lDOMRA  Food Trucks\n",
       "4      0bPLkL0QhhPO5kt1_EXmNQ         Food\n",
       "...                       ...          ...\n",
       "65142  UBQAksw81m0sMrAd8g-ECg  Restaurants\n",
       "65143  UBQAksw81m0sMrAd8g-ECg      Mexican\n",
       "65144  FBTKjIHyMk8V4frov04ClQ  Restaurants\n",
       "65145  FBTKjIHyMk8V4frov04ClQ        Pizza\n",
       "65146  FBTKjIHyMk8V4frov04ClQ      Mexican\n",
       "\n",
       "[65147 rows x 2 columns]"
      ]
     },
     "execution_count": 65,
     "metadata": {},
     "output_type": "execute_result"
    }
   ],
   "source": [
    "categories_acualizada = get_table('categories')\n",
    "categorias_yelp_new =  pd.merge(categories_acualizada,categorias_new_data,left_on='name',right_on='categoria',how='inner')\n",
    "categorias_yelp_new = categorias_yelp_new[['business_id','categories_id']]\n",
    "cursor = conexion.cursor()\n",
    "consulta = \"INSERT INTO categories_yelp  VALUES(NULL,%s,%s)\"\n",
    "cursor.executemany(consulta, categorias_yelp_new.to_list())\n",
    "conexion.commit()"
   ]
  },
  {
   "cell_type": "code",
   "execution_count": null,
   "metadata": {},
   "outputs": [],
   "source": [
    "def yelp_ER():\n",
    "    \n",
    "    extract_api = extract_businesses() # Extraigo los datos de la API referentes a los estados seleccionados y restaurantes\n",
    "    yelp_new_data = transform_business(extract_api) # Realizo las trasnformaciones necesarias para que los datos esten limpios\n",
    "    yelp_origen = get_table('yelp') # Cargo de la base de datos la tabla de yelp en un dataframe\n",
    "    \n",
    "    yelp_new_data = yelp_new_data[~(yelp_new_data['business_id'].isin(yelp_origen['bussiness_id']))] #De los restaurantes extraidos tomo solo los que su id NO esta en la DB\n",
    "    \n",
    "    conexion = mysql_get_connection() # Genero una conexion a mysql\n",
    "    cursor = conexion.cursor() \n",
    "    \n",
    "    consulta = \"INSERT INTO yelp  VALUES(%s,%s,%s,%s,%s,%s)\" \n",
    "    cursor.executemany(consulta, yelp_new_data.drop(columns='categories').values.tolist()) # Inserto los nuevos locales, sin insertar las categorias\n",
    "    \n",
    "    conexion.commit()\n",
    "    conexion.close()\n",
    "    \n",
    "    categories_origen = get_table('categories') # Cargo la tabla de categorias de la base de datos.    \n",
    "    \n",
    "    categorias_new_data = get_categoires(yelp_new_data) # Funcion que recibe el DF con las categorias como listas, y devuelve otro con bunisess_id y el nombre de cada categoria.\n",
    "    \n",
    "    categorias_new = categorias_new_data[~(categorias_new_data['categoria'].isin(categories_origen['name']))] # Selecciono las categorias que no estan en la DB\n",
    "    categories = categorias_new.drop_duplicates(subset='categoria')['categoria'].values.tolist() # Elimino las categorias duplicadas y las convierto en lista de listas.\n",
    "    categorias_para_agregar = [(int(indice), valor) for indice, valor in enumerate(categories, start=(categories_origen['categories_id'].max()+1))] # En funcion del id maximo que hay en DB genero lista de tuplas con id y id de categoria\n",
    "    \n",
    "    conexion = mysql_get_connection() \n",
    "    cursor = conexion.cursor()\n",
    "    \n",
    "    # Ingesto las nuevas categorias.\n",
    "    consulta = \"INSERT INTO categories  VALUES(%s,%s)\"\n",
    "    cursor.executemany(consulta, categorias_para_agregar)\n",
    "    \n",
    "    conexion.commit()\n",
    "    conexion.close()\n",
    "    \n",
    "    \n",
    "    categories_acualizada = get_table('categories') # Cargo la tabla de categorias actualizada.\n",
    "    \n",
    "    #Hago un join entre la tabla business_id,categoria creada anteriormente con las categorias de la BD, y me quedo solo con business_id y categoria id\n",
    "    categorias_yelp_new =  pd.merge(categories_acualizada,categorias_new_data,left_on='name',right_on='categoria',how='inner')\n",
    "    \n",
    "    conexion = mysql_get_connection()\n",
    "    \n",
    "    # Como business id ya es unico simplemente agrego las filas a la tabla cateogires_yelp\n",
    "    categorias_yelp_new = categorias_yelp_new[['business_id','categories_id']]\n",
    "    cursor = conexion.cursor()\n",
    "    consulta = \"INSERT INTO categories_yelp  VALUES(NULL,%s,%s)\"\n",
    "    cursor.executemany(consulta, categorias_yelp_new.values.tolist())\n",
    "    conexion.commit()\n",
    "    conexion.close()\n",
    "    "
   ]
  },
  {
   "cell_type": "markdown",
   "metadata": {},
   "source": [
    "[bussiness_id, name, latitude, longitude, stars, state_id]"
   ]
  },
  {
   "cell_type": "code",
   "execution_count": null,
   "metadata": {},
   "outputs": [],
   "source": [
    "def get_categories(df):\n",
    "    #Convierto las categorias de cada fila que estan en listas, a una tabla de id_,categoria.\n",
    "    categories_data = []\n",
    "    for index, row in df.iterrows():\n",
    "        local_id = row['business_id']\n",
    "        categories = row['categories']\n",
    "        for category in categories:\n",
    "            categories_data.append({'business_id': local_id, 'categoria': category})\n",
    "\n",
    "    # Crear un nuevo DataFrame para la tabla de categorías\n",
    "    categorias_new_data = pd.DataFrame(categories_data)"
   ]
  }
 ],
 "metadata": {
  "kernelspec": {
   "display_name": "Python 3",
   "language": "python",
   "name": "python3"
  },
  "language_info": {
   "codemirror_mode": {
    "name": "ipython",
    "version": 3
   },
   "file_extension": ".py",
   "mimetype": "text/x-python",
   "name": "python",
   "nbconvert_exporter": "python",
   "pygments_lexer": "ipython3",
   "version": "3.11.6"
  }
 },
 "nbformat": 4,
 "nbformat_minor": 2
}
