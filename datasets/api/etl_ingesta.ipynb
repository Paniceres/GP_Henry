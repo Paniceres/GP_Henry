{
 "cells": [
  {
   "cell_type": "code",
   "execution_count": 4,
   "metadata": {},
   "outputs": [],
   "source": [
    "import pandas as pd\n",
    "import requests\n",
    "import os\n",
    "from dotenv import load_dotenv \n",
    "from nltk.sentiment import SentimentIntensityAnalyzer\n",
    "import nltk"
   ]
  },
  {
   "cell_type": "markdown",
   "metadata": {},
   "source": [
    "A partir de la API publica de yelp, puedo realizar ingesta de datos referente a los locales y sus cacacteristicas junto a reviews de estos."
   ]
  },
  {
   "cell_type": "markdown",
   "metadata": {},
   "source": [
    "## Business Yelp"
   ]
  },
  {
   "cell_type": "markdown",
   "metadata": {},
   "source": [
    "Ingesta de de los locales que son restaurantes y pertencen a los estados trabajados.\n"
   ]
  },
  {
   "cell_type": "code",
   "execution_count": 6,
   "metadata": {},
   "outputs": [],
   "source": [
    "\n",
    "load_dotenv('../extras/.env') # Cargo ela archivo donde esta la variable de entorno.\n",
    "api_key_yelp =  os.getenv(\"API_KEY_YELP\") # Cargo la variable de entorno"
   ]
  },
  {
   "cell_type": "code",
   "execution_count": null,
   "metadata": {},
   "outputs": [],
   "source": [
    "def state_normalize(state):\n",
    "    if state == 'CA':\n",
    "        return 'California'\n",
    "    elif state == 'FL':\n",
    "        return 'Florida'\n",
    "    elif state == 'NJ':\n",
    "        return 'New Jersey'\n",
    "    elif state == 'IL':\n",
    "        return 'Illinois'"
   ]
  },
  {
   "cell_type": "code",
   "execution_count": 7,
   "metadata": {},
   "outputs": [],
   "source": [
    "def business(state):\n",
    "    \"\"\"Esta funcion realiza una consulta a la API de yelp para obtener los restaurantes por  estado.\n",
    "\n",
    "    Args:\n",
    "        state (string): Codigo de estado (Texas=TX) del estado requerido. \n",
    "\n",
    "    Returns:\n",
    "        pd.DataFrame: Data frame de la información de un restaurant en concreto.\n",
    "    \"\"\"\n",
    "    \n",
    "    \n",
    "    url = f'https://api.yelp.com/v3/businesses/search'\n",
    "\n",
    "    params = {\n",
    "        'location': state,\n",
    "        'categories':','.join(['restaurant','Restaurant','restaurants','Restaurants']),\n",
    "        'limit':50\n",
    "    }\n",
    "\n",
    "    headers = {\n",
    "        'Authorization': f'Bearer {api_key_yelp}',\n",
    "        'accept': 'application/json'\n",
    "    }\n",
    "\n",
    "    response = requests.get(url, headers=headers,params=params)\n",
    "\n",
    "    if response.status_code == 200:\n",
    "        data = response.json()\n",
    "        # Convierte el JSON en un DataFrame de pandas\n",
    "        #df = pd.json_normalize(data)\n",
    "        businesses = pd.json_normalize(data['businesses'])\n",
    "        return businesses\n",
    "    else:\n",
    "        print(f'Error en la solicitud. Código de estado: {response.status_code}')\n",
    "        print(response.text)\n",
    "        \n",
    "        \n",
    "        \n",
    "# Funcion que carga desde la API hasta  50 datos de cada estado.        \n",
    "def extract_businesses():\n",
    "    \n",
    "    \"\"\" Esta funcion aplica la funcion business para 4 estados seleccionados.\n",
    "\n",
    "    Returns:\n",
    "        pd.DataFrame: Concatenacion de los restaurantes de los 4 estados.\n",
    "    \"\"\"\n",
    "    \n",
    "    \n",
    "    url = f'https://api.yelp.com/v3/businesses/search'\n",
    "\n",
    "    yelp_bussines = pd.DataFrame()\n",
    "    for state in ['CA','FL','NJ','IL']:\n",
    "        businesses = business(state)\n",
    "        yelp_bussines = pd.concat([businesses,yelp_bussines])\n",
    "    return yelp_bussines"
   ]
  },
  {
   "cell_type": "code",
   "execution_count": 9,
   "metadata": {},
   "outputs": [],
   "source": [
    "yelp_bussines = extract_businesses()\n",
    "yelp_bussines['categories'] = yelp_bussines['categories'].apply(lambda x: [item['title'] for item in x] if isinstance(x, list) else [])\n"
   ]
  },
  {
   "cell_type": "code",
   "execution_count": null,
   "metadata": {},
   "outputs": [],
   "source": [
    "url = f'https://api.yelp.com/v3/businesses/search'\n",
    "\n",
    "yelp_bussines = pd.DataFrame()\n",
    "for state in ['CA','FL','NJ','IL']:\n",
    "    businesses = business(state)\n",
    "    yelp_bussines = pd.concat([businesses,yelp_bussines])"
   ]
  },
  {
   "cell_type": "code",
   "execution_count": null,
   "metadata": {},
   "outputs": [],
   "source": [
    "yelp_bussines.shape[0]\n"
   ]
  },
  {
   "cell_type": "markdown",
   "metadata": {},
   "source": [
    "Como puede verse cargue datos de locales para los estados a usar, pero solo se ingestar 200 locales, y se consumieron 4 consultas de las 500"
   ]
  },
  {
   "cell_type": "markdown",
   "metadata": {},
   "source": [
    "Voy a realizar un etl para dejar los datos, igual a los del Data Wherehouse"
   ]
  },
  {
   "cell_type": "code",
   "execution_count": null,
   "metadata": {},
   "outputs": [],
   "source": [
    "yelp_bussines.columns"
   ]
  },
  {
   "cell_type": "code",
   "execution_count": 21,
   "metadata": {},
   "outputs": [
    {
     "ename": "TypeError",
     "evalue": "string indices must be integers, not 'str'",
     "output_type": "error",
     "traceback": [
      "\u001b[1;31m---------------------------------------------------------------------------\u001b[0m",
      "\u001b[1;31mTypeError\u001b[0m                                 Traceback (most recent call last)",
      "\u001b[1;32mc:\\Henry_PF\\GP_Henry\\datasets\\api\\etl_ingesta.ipynb Cell 14\u001b[0m line \u001b[0;36m1\n\u001b[1;32m----> <a href='vscode-notebook-cell:/c%3A/Henry_PF/GP_Henry/datasets/api/etl_ingesta.ipynb#X16sZmlsZQ%3D%3D?line=0'>1</a>\u001b[0m yelp_bussines[\u001b[39m'\u001b[39m\u001b[39mcategories\u001b[39m\u001b[39m'\u001b[39m] \u001b[39m=\u001b[39m yelp_bussines[\u001b[39m'\u001b[39;49m\u001b[39mcategories\u001b[39;49m\u001b[39m'\u001b[39;49m]\u001b[39m.\u001b[39;49mapply(\u001b[39mlambda\u001b[39;49;00m x: [item[\u001b[39m'\u001b[39;49m\u001b[39mtitle\u001b[39;49m\u001b[39m'\u001b[39;49m] \u001b[39mfor\u001b[39;49;00m item \u001b[39min\u001b[39;49;00m x] \u001b[39mif\u001b[39;49;00m \u001b[39misinstance\u001b[39;49m(x, \u001b[39mlist\u001b[39;49m) \u001b[39melse\u001b[39;49;00m [])\n\u001b[0;32m      <a href='vscode-notebook-cell:/c%3A/Henry_PF/GP_Henry/datasets/api/etl_ingesta.ipynb#X16sZmlsZQ%3D%3D?line=3'>4</a>\u001b[0m yelp_bussines\u001b[39m.\u001b[39mrename(columns\u001b[39m=\u001b[39m{\n\u001b[0;32m      <a href='vscode-notebook-cell:/c%3A/Henry_PF/GP_Henry/datasets/api/etl_ingesta.ipynb#X16sZmlsZQ%3D%3D?line=4'>5</a>\u001b[0m     \u001b[39m'\u001b[39m\u001b[39mid\u001b[39m\u001b[39m'\u001b[39m:\u001b[39m'\u001b[39m\u001b[39mbusiness_id\u001b[39m\u001b[39m'\u001b[39m,\n\u001b[0;32m      <a href='vscode-notebook-cell:/c%3A/Henry_PF/GP_Henry/datasets/api/etl_ingesta.ipynb#X16sZmlsZQ%3D%3D?line=5'>6</a>\u001b[0m     \u001b[39m'\u001b[39m\u001b[39mname\u001b[39m\u001b[39m'\u001b[39m:\u001b[39m'\u001b[39m\u001b[39mname\u001b[39m\u001b[39m'\u001b[39m,\n\u001b[1;32m   (...)\u001b[0m\n\u001b[0;32m     <a href='vscode-notebook-cell:/c%3A/Henry_PF/GP_Henry/datasets/api/etl_ingesta.ipynb#X16sZmlsZQ%3D%3D?line=11'>12</a>\u001b[0m     \n\u001b[0;32m     <a href='vscode-notebook-cell:/c%3A/Henry_PF/GP_Henry/datasets/api/etl_ingesta.ipynb#X16sZmlsZQ%3D%3D?line=12'>13</a>\u001b[0m },inplace\u001b[39m=\u001b[39m\u001b[39mTrue\u001b[39;00m)\n\u001b[0;32m     <a href='vscode-notebook-cell:/c%3A/Henry_PF/GP_Henry/datasets/api/etl_ingesta.ipynb#X16sZmlsZQ%3D%3D?line=13'>14</a>\u001b[0m yelp_bussines[\u001b[39m'\u001b[39m\u001b[39mstate\u001b[39m\u001b[39m'\u001b[39m] \u001b[39m=\u001b[39m yelp_bussines[\u001b[39m'\u001b[39m\u001b[39mstate\u001b[39m\u001b[39m'\u001b[39m]\u001b[39m.\u001b[39mapply(state_normalize)\n",
      "File \u001b[1;32m~\\AppData\\Local\\Packages\\PythonSoftwareFoundation.Python.3.11_qbz5n2kfra8p0\\LocalCache\\local-packages\\Python311\\site-packages\\pandas\\core\\series.py:4760\u001b[0m, in \u001b[0;36mSeries.apply\u001b[1;34m(self, func, convert_dtype, args, by_row, **kwargs)\u001b[0m\n\u001b[0;32m   4625\u001b[0m \u001b[39mdef\u001b[39;00m \u001b[39mapply\u001b[39m(\n\u001b[0;32m   4626\u001b[0m     \u001b[39mself\u001b[39m,\n\u001b[0;32m   4627\u001b[0m     func: AggFuncType,\n\u001b[1;32m   (...)\u001b[0m\n\u001b[0;32m   4632\u001b[0m     \u001b[39m*\u001b[39m\u001b[39m*\u001b[39mkwargs,\n\u001b[0;32m   4633\u001b[0m ) \u001b[39m-\u001b[39m\u001b[39m>\u001b[39m DataFrame \u001b[39m|\u001b[39m Series:\n\u001b[0;32m   4634\u001b[0m \u001b[39m    \u001b[39m\u001b[39m\"\"\"\u001b[39;00m\n\u001b[0;32m   4635\u001b[0m \u001b[39m    Invoke function on values of Series.\u001b[39;00m\n\u001b[0;32m   4636\u001b[0m \n\u001b[1;32m   (...)\u001b[0m\n\u001b[0;32m   4751\u001b[0m \u001b[39m    dtype: float64\u001b[39;00m\n\u001b[0;32m   4752\u001b[0m \u001b[39m    \"\"\"\u001b[39;00m\n\u001b[0;32m   4753\u001b[0m     \u001b[39mreturn\u001b[39;00m SeriesApply(\n\u001b[0;32m   4754\u001b[0m         \u001b[39mself\u001b[39;49m,\n\u001b[0;32m   4755\u001b[0m         func,\n\u001b[0;32m   4756\u001b[0m         convert_dtype\u001b[39m=\u001b[39;49mconvert_dtype,\n\u001b[0;32m   4757\u001b[0m         by_row\u001b[39m=\u001b[39;49mby_row,\n\u001b[0;32m   4758\u001b[0m         args\u001b[39m=\u001b[39;49margs,\n\u001b[0;32m   4759\u001b[0m         kwargs\u001b[39m=\u001b[39;49mkwargs,\n\u001b[1;32m-> 4760\u001b[0m     )\u001b[39m.\u001b[39;49mapply()\n",
      "File \u001b[1;32m~\\AppData\\Local\\Packages\\PythonSoftwareFoundation.Python.3.11_qbz5n2kfra8p0\\LocalCache\\local-packages\\Python311\\site-packages\\pandas\\core\\apply.py:1207\u001b[0m, in \u001b[0;36mSeriesApply.apply\u001b[1;34m(self)\u001b[0m\n\u001b[0;32m   1204\u001b[0m     \u001b[39mreturn\u001b[39;00m \u001b[39mself\u001b[39m\u001b[39m.\u001b[39mapply_compat()\n\u001b[0;32m   1206\u001b[0m \u001b[39m# self.func is Callable\u001b[39;00m\n\u001b[1;32m-> 1207\u001b[0m \u001b[39mreturn\u001b[39;00m \u001b[39mself\u001b[39;49m\u001b[39m.\u001b[39;49mapply_standard()\n",
      "File \u001b[1;32m~\\AppData\\Local\\Packages\\PythonSoftwareFoundation.Python.3.11_qbz5n2kfra8p0\\LocalCache\\local-packages\\Python311\\site-packages\\pandas\\core\\apply.py:1287\u001b[0m, in \u001b[0;36mSeriesApply.apply_standard\u001b[1;34m(self)\u001b[0m\n\u001b[0;32m   1281\u001b[0m \u001b[39m# row-wise access\u001b[39;00m\n\u001b[0;32m   1282\u001b[0m \u001b[39m# apply doesn't have a `na_action` keyword and for backward compat reasons\u001b[39;00m\n\u001b[0;32m   1283\u001b[0m \u001b[39m# we need to give `na_action=\"ignore\"` for categorical data.\u001b[39;00m\n\u001b[0;32m   1284\u001b[0m \u001b[39m# TODO: remove the `na_action=\"ignore\"` when that default has been changed in\u001b[39;00m\n\u001b[0;32m   1285\u001b[0m \u001b[39m#  Categorical (GH51645).\u001b[39;00m\n\u001b[0;32m   1286\u001b[0m action \u001b[39m=\u001b[39m \u001b[39m\"\u001b[39m\u001b[39mignore\u001b[39m\u001b[39m\"\u001b[39m \u001b[39mif\u001b[39;00m \u001b[39misinstance\u001b[39m(obj\u001b[39m.\u001b[39mdtype, CategoricalDtype) \u001b[39melse\u001b[39;00m \u001b[39mNone\u001b[39;00m\n\u001b[1;32m-> 1287\u001b[0m mapped \u001b[39m=\u001b[39m obj\u001b[39m.\u001b[39;49m_map_values(\n\u001b[0;32m   1288\u001b[0m     mapper\u001b[39m=\u001b[39;49mcurried, na_action\u001b[39m=\u001b[39;49maction, convert\u001b[39m=\u001b[39;49m\u001b[39mself\u001b[39;49m\u001b[39m.\u001b[39;49mconvert_dtype\n\u001b[0;32m   1289\u001b[0m )\n\u001b[0;32m   1291\u001b[0m \u001b[39mif\u001b[39;00m \u001b[39mlen\u001b[39m(mapped) \u001b[39mand\u001b[39;00m \u001b[39misinstance\u001b[39m(mapped[\u001b[39m0\u001b[39m], ABCSeries):\n\u001b[0;32m   1292\u001b[0m     \u001b[39m# GH#43986 Need to do list(mapped) in order to get treated as nested\u001b[39;00m\n\u001b[0;32m   1293\u001b[0m     \u001b[39m#  See also GH#25959 regarding EA support\u001b[39;00m\n\u001b[0;32m   1294\u001b[0m     \u001b[39mreturn\u001b[39;00m obj\u001b[39m.\u001b[39m_constructor_expanddim(\u001b[39mlist\u001b[39m(mapped), index\u001b[39m=\u001b[39mobj\u001b[39m.\u001b[39mindex)\n",
      "File \u001b[1;32m~\\AppData\\Local\\Packages\\PythonSoftwareFoundation.Python.3.11_qbz5n2kfra8p0\\LocalCache\\local-packages\\Python311\\site-packages\\pandas\\core\\base.py:921\u001b[0m, in \u001b[0;36mIndexOpsMixin._map_values\u001b[1;34m(self, mapper, na_action, convert)\u001b[0m\n\u001b[0;32m    918\u001b[0m \u001b[39mif\u001b[39;00m \u001b[39misinstance\u001b[39m(arr, ExtensionArray):\n\u001b[0;32m    919\u001b[0m     \u001b[39mreturn\u001b[39;00m arr\u001b[39m.\u001b[39mmap(mapper, na_action\u001b[39m=\u001b[39mna_action)\n\u001b[1;32m--> 921\u001b[0m \u001b[39mreturn\u001b[39;00m algorithms\u001b[39m.\u001b[39;49mmap_array(arr, mapper, na_action\u001b[39m=\u001b[39;49mna_action, convert\u001b[39m=\u001b[39;49mconvert)\n",
      "File \u001b[1;32m~\\AppData\\Local\\Packages\\PythonSoftwareFoundation.Python.3.11_qbz5n2kfra8p0\\LocalCache\\local-packages\\Python311\\site-packages\\pandas\\core\\algorithms.py:1814\u001b[0m, in \u001b[0;36mmap_array\u001b[1;34m(arr, mapper, na_action, convert)\u001b[0m\n\u001b[0;32m   1812\u001b[0m values \u001b[39m=\u001b[39m arr\u001b[39m.\u001b[39mastype(\u001b[39mobject\u001b[39m, copy\u001b[39m=\u001b[39m\u001b[39mFalse\u001b[39;00m)\n\u001b[0;32m   1813\u001b[0m \u001b[39mif\u001b[39;00m na_action \u001b[39mis\u001b[39;00m \u001b[39mNone\u001b[39;00m:\n\u001b[1;32m-> 1814\u001b[0m     \u001b[39mreturn\u001b[39;00m lib\u001b[39m.\u001b[39;49mmap_infer(values, mapper, convert\u001b[39m=\u001b[39;49mconvert)\n\u001b[0;32m   1815\u001b[0m \u001b[39melse\u001b[39;00m:\n\u001b[0;32m   1816\u001b[0m     \u001b[39mreturn\u001b[39;00m lib\u001b[39m.\u001b[39mmap_infer_mask(\n\u001b[0;32m   1817\u001b[0m         values, mapper, mask\u001b[39m=\u001b[39misna(values)\u001b[39m.\u001b[39mview(np\u001b[39m.\u001b[39muint8), convert\u001b[39m=\u001b[39mconvert\n\u001b[0;32m   1818\u001b[0m     )\n",
      "File \u001b[1;32mlib.pyx:2920\u001b[0m, in \u001b[0;36mpandas._libs.lib.map_infer\u001b[1;34m()\u001b[0m\n",
      "\u001b[1;32mc:\\Henry_PF\\GP_Henry\\datasets\\api\\etl_ingesta.ipynb Cell 14\u001b[0m line \u001b[0;36m1\n\u001b[1;32m----> <a href='vscode-notebook-cell:/c%3A/Henry_PF/GP_Henry/datasets/api/etl_ingesta.ipynb#X16sZmlsZQ%3D%3D?line=0'>1</a>\u001b[0m yelp_bussines[\u001b[39m'\u001b[39m\u001b[39mcategories\u001b[39m\u001b[39m'\u001b[39m] \u001b[39m=\u001b[39m yelp_bussines[\u001b[39m'\u001b[39m\u001b[39mcategories\u001b[39m\u001b[39m'\u001b[39m]\u001b[39m.\u001b[39mapply(\u001b[39mlambda\u001b[39;00m x: [item[\u001b[39m'\u001b[39;49m\u001b[39mtitle\u001b[39;49m\u001b[39m'\u001b[39;49m] \u001b[39mfor\u001b[39;49;00m item \u001b[39min\u001b[39;49;00m x] \u001b[39mif\u001b[39;00m \u001b[39misinstance\u001b[39m(x, \u001b[39mlist\u001b[39m) \u001b[39melse\u001b[39;00m [])\n\u001b[0;32m      <a href='vscode-notebook-cell:/c%3A/Henry_PF/GP_Henry/datasets/api/etl_ingesta.ipynb#X16sZmlsZQ%3D%3D?line=3'>4</a>\u001b[0m yelp_bussines\u001b[39m.\u001b[39mrename(columns\u001b[39m=\u001b[39m{\n\u001b[0;32m      <a href='vscode-notebook-cell:/c%3A/Henry_PF/GP_Henry/datasets/api/etl_ingesta.ipynb#X16sZmlsZQ%3D%3D?line=4'>5</a>\u001b[0m     \u001b[39m'\u001b[39m\u001b[39mid\u001b[39m\u001b[39m'\u001b[39m:\u001b[39m'\u001b[39m\u001b[39mbusiness_id\u001b[39m\u001b[39m'\u001b[39m,\n\u001b[0;32m      <a href='vscode-notebook-cell:/c%3A/Henry_PF/GP_Henry/datasets/api/etl_ingesta.ipynb#X16sZmlsZQ%3D%3D?line=5'>6</a>\u001b[0m     \u001b[39m'\u001b[39m\u001b[39mname\u001b[39m\u001b[39m'\u001b[39m:\u001b[39m'\u001b[39m\u001b[39mname\u001b[39m\u001b[39m'\u001b[39m,\n\u001b[1;32m   (...)\u001b[0m\n\u001b[0;32m     <a href='vscode-notebook-cell:/c%3A/Henry_PF/GP_Henry/datasets/api/etl_ingesta.ipynb#X16sZmlsZQ%3D%3D?line=11'>12</a>\u001b[0m     \n\u001b[0;32m     <a href='vscode-notebook-cell:/c%3A/Henry_PF/GP_Henry/datasets/api/etl_ingesta.ipynb#X16sZmlsZQ%3D%3D?line=12'>13</a>\u001b[0m },inplace\u001b[39m=\u001b[39m\u001b[39mTrue\u001b[39;00m)\n\u001b[0;32m     <a href='vscode-notebook-cell:/c%3A/Henry_PF/GP_Henry/datasets/api/etl_ingesta.ipynb#X16sZmlsZQ%3D%3D?line=13'>14</a>\u001b[0m yelp_bussines[\u001b[39m'\u001b[39m\u001b[39mstate\u001b[39m\u001b[39m'\u001b[39m] \u001b[39m=\u001b[39m yelp_bussines[\u001b[39m'\u001b[39m\u001b[39mstate\u001b[39m\u001b[39m'\u001b[39m]\u001b[39m.\u001b[39mapply(state_normalize)\n",
      "\u001b[1;32mc:\\Henry_PF\\GP_Henry\\datasets\\api\\etl_ingesta.ipynb Cell 14\u001b[0m line \u001b[0;36m1\n\u001b[1;32m----> <a href='vscode-notebook-cell:/c%3A/Henry_PF/GP_Henry/datasets/api/etl_ingesta.ipynb#X16sZmlsZQ%3D%3D?line=0'>1</a>\u001b[0m yelp_bussines[\u001b[39m'\u001b[39m\u001b[39mcategories\u001b[39m\u001b[39m'\u001b[39m] \u001b[39m=\u001b[39m yelp_bussines[\u001b[39m'\u001b[39m\u001b[39mcategories\u001b[39m\u001b[39m'\u001b[39m]\u001b[39m.\u001b[39mapply(\u001b[39mlambda\u001b[39;00m x: [item[\u001b[39m'\u001b[39;49m\u001b[39mtitle\u001b[39;49m\u001b[39m'\u001b[39;49m] \u001b[39mfor\u001b[39;00m item \u001b[39min\u001b[39;00m x] \u001b[39mif\u001b[39;00m \u001b[39misinstance\u001b[39m(x, \u001b[39mlist\u001b[39m) \u001b[39melse\u001b[39;00m [])\n\u001b[0;32m      <a href='vscode-notebook-cell:/c%3A/Henry_PF/GP_Henry/datasets/api/etl_ingesta.ipynb#X16sZmlsZQ%3D%3D?line=3'>4</a>\u001b[0m yelp_bussines\u001b[39m.\u001b[39mrename(columns\u001b[39m=\u001b[39m{\n\u001b[0;32m      <a href='vscode-notebook-cell:/c%3A/Henry_PF/GP_Henry/datasets/api/etl_ingesta.ipynb#X16sZmlsZQ%3D%3D?line=4'>5</a>\u001b[0m     \u001b[39m'\u001b[39m\u001b[39mid\u001b[39m\u001b[39m'\u001b[39m:\u001b[39m'\u001b[39m\u001b[39mbusiness_id\u001b[39m\u001b[39m'\u001b[39m,\n\u001b[0;32m      <a href='vscode-notebook-cell:/c%3A/Henry_PF/GP_Henry/datasets/api/etl_ingesta.ipynb#X16sZmlsZQ%3D%3D?line=5'>6</a>\u001b[0m     \u001b[39m'\u001b[39m\u001b[39mname\u001b[39m\u001b[39m'\u001b[39m:\u001b[39m'\u001b[39m\u001b[39mname\u001b[39m\u001b[39m'\u001b[39m,\n\u001b[1;32m   (...)\u001b[0m\n\u001b[0;32m     <a href='vscode-notebook-cell:/c%3A/Henry_PF/GP_Henry/datasets/api/etl_ingesta.ipynb#X16sZmlsZQ%3D%3D?line=11'>12</a>\u001b[0m     \n\u001b[0;32m     <a href='vscode-notebook-cell:/c%3A/Henry_PF/GP_Henry/datasets/api/etl_ingesta.ipynb#X16sZmlsZQ%3D%3D?line=12'>13</a>\u001b[0m },inplace\u001b[39m=\u001b[39m\u001b[39mTrue\u001b[39;00m)\n\u001b[0;32m     <a href='vscode-notebook-cell:/c%3A/Henry_PF/GP_Henry/datasets/api/etl_ingesta.ipynb#X16sZmlsZQ%3D%3D?line=13'>14</a>\u001b[0m yelp_bussines[\u001b[39m'\u001b[39m\u001b[39mstate\u001b[39m\u001b[39m'\u001b[39m] \u001b[39m=\u001b[39m yelp_bussines[\u001b[39m'\u001b[39m\u001b[39mstate\u001b[39m\u001b[39m'\u001b[39m]\u001b[39m.\u001b[39mapply(state_normalize)\n",
      "\u001b[1;31mTypeError\u001b[0m: string indices must be integers, not 'str'"
     ]
    }
   ],
   "source": [
    "\n",
    "yelp_bussines['categories'] = yelp_bussines['categories'].apply(lambda x: [item['title'] for item in x] if isinstance(x, list) else [])\n",
    "\n",
    "\n",
    "yelp_bussines.rename(columns={\n",
    "    'id':'business_id',\n",
    "    'name':'name',\n",
    "    'coordinates.latitude':'latitude',\n",
    "    'coordinates.longitude':'longitude',\n",
    "    'categories':'categories',\n",
    "    'rating':'stars',\n",
    "    'location.state':'state',\n",
    "    \n",
    "},inplace=True)\n",
    "yelp_bussines['state'] = yelp_bussines['state'].apply(state_normalize)\n",
    "columnas = ['business_id', 'name', 'latitude','longitude','categories','stars','state']\n",
    "yelp_bussines = yelp_bussines[columnas]\n",
    "# funcion que elimina los locales que ya existen"
   ]
  },
  {
   "cell_type": "markdown",
   "metadata": {},
   "source": [
    "## Reviews Yelp\n"
   ]
  },
  {
   "cell_type": "code",
   "execution_count": 7,
   "metadata": {},
   "outputs": [],
   "source": [
    "def ingest_reviews_yelp(business_id):\n",
    "    url =f'https://api.yelp.com/v3/businesses/{business_id}/engagement'\n",
    "\n",
    "    headers = {\n",
    "        'Authorization': f'Bearer {api_key_yelp}',\n",
    "        'accept': 'application/json'\n",
    "    }\n",
    "\n",
    "    response = requests.get(url, headers=headers)\n",
    "\n",
    "    if response.status_code == 200:\n",
    "        data = response.json()\n",
    "        reviews_list = data.get('reviews', [])\n",
    "        return  pd.json_normalize(reviews_list)\n",
    "\n",
    "    else:\n",
    "        print(f'Error en la solicitud. Código de estado: {response.status_code}')\n"
   ]
  },
  {
   "cell_type": "code",
   "execution_count": 8,
   "metadata": {},
   "outputs": [
    {
     "name": "stdout",
     "output_type": "stream",
     "text": [
      "Error en la solicitud. Código de estado: 404\n"
     ]
    },
    {
     "ename": "TypeError",
     "evalue": "'NoneType' object does not support item assignment",
     "output_type": "error",
     "traceback": [
      "\u001b[1;31m---------------------------------------------------------------------------\u001b[0m",
      "\u001b[1;31mTypeError\u001b[0m                                 Traceback (most recent call last)",
      "\u001b[1;32mc:\\Henry_PF\\GP_Henry\\datasets\\api\\etl_ingesta.ipynb Cell 17\u001b[0m line \u001b[0;36m4\n\u001b[0;32m      <a href='vscode-notebook-cell:/c%3A/Henry_PF/GP_Henry/datasets/api/etl_ingesta.ipynb#X22sZmlsZQ%3D%3D?line=1'>2</a>\u001b[0m business_id \u001b[39m=\u001b[39m \u001b[39m'\u001b[39m\u001b[39meEOYSgkmpB90uNA7lDOMRA\u001b[39m\u001b[39m'\u001b[39m\n\u001b[0;32m      <a href='vscode-notebook-cell:/c%3A/Henry_PF/GP_Henry/datasets/api/etl_ingesta.ipynb#X22sZmlsZQ%3D%3D?line=2'>3</a>\u001b[0m reviews_yelp \u001b[39m=\u001b[39m ingest_reviews_yelp(business_id)\n\u001b[1;32m----> <a href='vscode-notebook-cell:/c%3A/Henry_PF/GP_Henry/datasets/api/etl_ingesta.ipynb#X22sZmlsZQ%3D%3D?line=3'>4</a>\u001b[0m reviews_yelp[\u001b[39m'\u001b[39;49m\u001b[39mbusiness_id\u001b[39;49m\u001b[39m'\u001b[39;49m] \u001b[39m=\u001b[39m business_id\n\u001b[0;32m      <a href='vscode-notebook-cell:/c%3A/Henry_PF/GP_Henry/datasets/api/etl_ingesta.ipynb#X22sZmlsZQ%3D%3D?line=4'>5</a>\u001b[0m reviews_yelp\n",
      "\u001b[1;31mTypeError\u001b[0m: 'NoneType' object does not support item assignment"
     ]
    }
   ],
   "source": [
    "#funcion que retorna una lista con los id que no existan ya en el DW\n",
    "business_id = 'eEOYSgkmpB90uNA7lDOMRA'\n",
    "reviews_yelp = ingest_reviews_yelp(business_id)\n",
    "reviews_yelp['business_id'] = business_id\n",
    "reviews_yelp"
   ]
  },
  {
   "cell_type": "markdown",
   "metadata": {},
   "source": [
    "Puede verse que cada review se saca a partir de un business id por ende, con 500 consultas que es el limite diario se obtendrian reviews solo para 500 locales."
   ]
  },
  {
   "cell_type": "code",
   "execution_count": null,
   "metadata": {},
   "outputs": [],
   "source": [
    "sid = SentimentIntensityAnalyzer()\n",
    "nltk.download('vader_lexicon')\n",
    "def puntajeNLP(x):\n",
    "    if x > 1.5:\n",
    "        return 2 # Positivo\n",
    "    elif x >= 1:\n",
    "        return 0 # Neutro\n",
    "    else: \n",
    "        return 1 # Negativo\n",
    "analisis = reviews_yelp['text'].apply(lambda x: sid.polarity_scores(x)[\"compound\"])\n",
    "valorEstrellas = reviews_yelp['rating'] / 5 \n",
    "analisis += valorEstrellas\n",
    "analisis = analisis.apply(lambda x: puntajeNLP(x))\n",
    "reviews_yelp['text'] = analisis\n",
    "reviews_yelp['sentiment'] = reviews_yelp['text'].astype('int')\n",
    "\n",
    "\n",
    "\n",
    "reviews_yelp.rename(columns={\n",
    "    'id':'review_id',\n",
    "    'user.id':'user_id',\n",
    "    'business_id':'business_id',\n",
    "    'sentiment':'sentiment',\n",
    "    'time_created':'date',\n",
    "    'user.name':'name'\n",
    "},inplace=True)\n",
    "\n",
    "columns= ['review_id','user_id','business_id','sentiment','date','name']\n",
    "reviews_yelp = reviews_yelp[columns]"
   ]
  },
  {
   "cell_type": "code",
   "execution_count": null,
   "metadata": {},
   "outputs": [],
   "source": [
    "reviews_yelp"
   ]
  },
  {
   "cell_type": "code",
   "execution_count": null,
   "metadata": {},
   "outputs": [],
   "source": [
    "\n",
    "reviews_yelp['date'] = pd.to_datetime(reviews_yelp['date'],unit='s')\n",
    "reviews_yelp['date'].max()"
   ]
  },
  {
   "cell_type": "code",
   "execution_count": null,
   "metadata": {},
   "outputs": [],
   "source": [
    "yelp_bussines = pd.read_parquet(destino_archivo)"
   ]
  },
  {
   "cell_type": "code",
   "execution_count": null,
   "metadata": {},
   "outputs": [],
   "source": [
    "reviews_yelp"
   ]
  },
  {
   "cell_type": "code",
   "execution_count": null,
   "metadata": {},
   "outputs": [],
   "source": [
    "pd.to_datetime(yelp_bussines['date']).max() > reviews_yelp['date'].max()"
   ]
  },
  {
   "cell_type": "code",
   "execution_count": null,
   "metadata": {},
   "outputs": [],
   "source": [
    "reviews_yelp[((pd.to_datetime(yelp_bussines['date']).max())<reviews_yelp['date']) & (~reviews_yelp['review_id'].isin(yelp_bussines['review_id']))]\n"
   ]
  },
  {
   "cell_type": "code",
   "execution_count": null,
   "metadata": {},
   "outputs": [],
   "source": [
    "yelp_bussines['categories'] = yelp_bussines['categories'].apply(lambda x: [item['title'] for item in x] if isinstance(x, list) else [])\n"
   ]
  },
  {
   "cell_type": "code",
   "execution_count": 26,
   "metadata": {},
   "outputs": [],
   "source": [
    "def get_categories(df):\n",
    "    \n",
    "    \"\"\"Esta funcion a partir de un dataframe de restaurantes retorna otro con las categorias y los business_id conectados. \n",
    "\n",
    "    Returns:\n",
    "       pd.DataFrame: DataFrame de restaurantes.\n",
    "    \"\"\"\n",
    "    \n",
    "    #Convierto las categorias de cada fila que estan en listas, a una tabla de id_,categoria.\n",
    "    categories_data = []\n",
    "    for index, row in df.iterrows():\n",
    "        local_id = row['id']\n",
    "        categories = row['categories']\n",
    "        for category in categories:\n",
    "            categories_data.append({'business_id': local_id, 'categories': category})\n",
    "\n",
    "    # Crear un nuevo DataFrame para la tabla de categorías\n",
    "    categorias_new_data = pd.DataFrame(categories_data)\n",
    "    return categorias_new_data"
   ]
  },
  {
   "cell_type": "code",
   "execution_count": 29,
   "metadata": {},
   "outputs": [
    {
     "data": {
      "text/plain": [
       "0            New American\n",
       "1                Bakeries\n",
       "2            Coffee & Tea\n",
       "3      Tapas/Small Plates\n",
       "4           Mediterranean\n",
       "              ...        \n",
       "493                French\n",
       "494               Italian\n",
       "495               Seafood\n",
       "496         Mediterranean\n",
       "497              Armenian\n",
       "Name: categories, Length: 498, dtype: object"
      ]
     },
     "execution_count": 29,
     "metadata": {},
     "output_type": "execute_result"
    }
   ],
   "source": [
    "get_categories(yelp_bussines)['categories']"
   ]
  },
  {
   "cell_type": "code",
   "execution_count": 17,
   "metadata": {},
   "outputs": [
    {
     "data": {
      "text/html": [
       "<div>\n",
       "<style scoped>\n",
       "    .dataframe tbody tr th:only-of-type {\n",
       "        vertical-align: middle;\n",
       "    }\n",
       "\n",
       "    .dataframe tbody tr th {\n",
       "        vertical-align: top;\n",
       "    }\n",
       "\n",
       "    .dataframe thead th {\n",
       "        text-align: right;\n",
       "    }\n",
       "</style>\n",
       "<table border=\"1\" class=\"dataframe\">\n",
       "  <thead>\n",
       "    <tr style=\"text-align: right;\">\n",
       "      <th></th>\n",
       "      <th>business_id</th>\n",
       "      <th>categories</th>\n",
       "    </tr>\n",
       "  </thead>\n",
       "  <tbody>\n",
       "    <tr>\n",
       "      <th>0</th>\n",
       "      <td>qjnpkS8yZO8xcyEIy5OU9A</td>\n",
       "      <td>New American</td>\n",
       "    </tr>\n",
       "    <tr>\n",
       "      <th>1</th>\n",
       "      <td>qjnpkS8yZO8xcyEIy5OU9A</td>\n",
       "      <td>Bakeries</td>\n",
       "    </tr>\n",
       "    <tr>\n",
       "      <th>2</th>\n",
       "      <td>qjnpkS8yZO8xcyEIy5OU9A</td>\n",
       "      <td>Coffee &amp; Tea</td>\n",
       "    </tr>\n",
       "    <tr>\n",
       "      <th>3</th>\n",
       "      <td>boE4Ahsssqic7o5wQLI04w</td>\n",
       "      <td>Tapas/Small Plates</td>\n",
       "    </tr>\n",
       "    <tr>\n",
       "      <th>4</th>\n",
       "      <td>boE4Ahsssqic7o5wQLI04w</td>\n",
       "      <td>Mediterranean</td>\n",
       "    </tr>\n",
       "    <tr>\n",
       "      <th>...</th>\n",
       "      <td>...</td>\n",
       "      <td>...</td>\n",
       "    </tr>\n",
       "    <tr>\n",
       "      <th>484</th>\n",
       "      <td>3uBgSXc_FP1sRSKfjWExoQ</td>\n",
       "      <td>Restaurants</td>\n",
       "    </tr>\n",
       "    <tr>\n",
       "      <th>487</th>\n",
       "      <td>dwxU9Nke7wr3RZze0ivkTg</td>\n",
       "      <td>Restaurants</td>\n",
       "    </tr>\n",
       "    <tr>\n",
       "      <th>490</th>\n",
       "      <td>PGUM86R57lXPi4LFHJWhAg</td>\n",
       "      <td>Restaurants</td>\n",
       "    </tr>\n",
       "    <tr>\n",
       "      <th>493</th>\n",
       "      <td>XdTyuEoZLq4U3GXR7-HdIg</td>\n",
       "      <td>Restaurants</td>\n",
       "    </tr>\n",
       "    <tr>\n",
       "      <th>496</th>\n",
       "      <td>DJHm-fYcCpr-OO2h6z1wPQ</td>\n",
       "      <td>Restaurants</td>\n",
       "    </tr>\n",
       "  </tbody>\n",
       "</table>\n",
       "<p>698 rows × 2 columns</p>\n",
       "</div>"
      ],
      "text/plain": [
       "                business_id          categories\n",
       "0    qjnpkS8yZO8xcyEIy5OU9A        New American\n",
       "1    qjnpkS8yZO8xcyEIy5OU9A            Bakeries\n",
       "2    qjnpkS8yZO8xcyEIy5OU9A        Coffee & Tea\n",
       "3    boE4Ahsssqic7o5wQLI04w  Tapas/Small Plates\n",
       "4    boE4Ahsssqic7o5wQLI04w       Mediterranean\n",
       "..                      ...                 ...\n",
       "484  3uBgSXc_FP1sRSKfjWExoQ         Restaurants\n",
       "487  dwxU9Nke7wr3RZze0ivkTg         Restaurants\n",
       "490  PGUM86R57lXPi4LFHJWhAg         Restaurants\n",
       "493  XdTyuEoZLq4U3GXR7-HdIg         Restaurants\n",
       "496  DJHm-fYcCpr-OO2h6z1wPQ         Restaurants\n",
       "\n",
       "[698 rows x 2 columns]"
      ]
     },
     "execution_count": 17,
     "metadata": {},
     "output_type": "execute_result"
    }
   ],
   "source": [
    "df = categorias_df.drop_duplicates(subset='business_id').drop(columns='categories')\n",
    "df['categories'] = 'Restaurants'\n",
    "pd.concat([categorias_df,df])\n"
   ]
  },
  {
   "cell_type": "code",
   "execution_count": null,
   "metadata": {},
   "outputs": [],
   "source": [
    "\n",
    "categories_data = []\n",
    "for index, row in yelp_bussines.iterrows():\n",
    "    local_id = row['id']\n",
    "    categories = row['categories']\n",
    "    for category in categories:\n",
    "        categories_data.append({'business_id': local_id, 'categoria': category})\n",
    "\n",
    "# Crear un nuevo DataFrame para la tabla de categorías\n",
    "categorias_df = pd.DataFrame(categories_data)\n",
    "#Consultar la base de datos  de categorias "
   ]
  },
  {
   "cell_type": "code",
   "execution_count": 9,
   "metadata": {},
   "outputs": [],
   "source": [
    "df_1 = pd.read_parquet('../processed/yelp/bussiness_yelp.parquet.gz')"
   ]
  },
  {
   "cell_type": "code",
   "execution_count": null,
   "metadata": {},
   "outputs": [],
   "source": [
    "df_filtered = df_1[df_1['categories'].apply(lambda x: 'Mediterranean' in x)]\n",
    "df_filtered"
   ]
  },
  {
   "cell_type": "code",
   "execution_count": null,
   "metadata": {},
   "outputs": [],
   "source": [
    "categorias_df\n"
   ]
  },
  {
   "cell_type": "markdown",
   "metadata": {},
   "source": [
    "1-COMO DESAGREGAR LAS CATEGORIAS NUEVAS INGESTADAS<br>\n",
    "2- DESAGREGAR LAS LOS USUARIOS INGESTADOS"
   ]
  },
  {
   "cell_type": "code",
   "execution_count": 16,
   "metadata": {},
   "outputs": [],
   "source": [
    "import pandas as pd\n",
    "import pymysql as mysql\n",
    "\n",
    "# Configura la conexión a la base de datos\n",
    "conexion = mysql.connect(host = 'servidorgrupo.cpfbmucjyznh.us-east-2.rds.amazonaws.com',\n",
    "                         user = 'admin',\n",
    "                         password = '1533542415',\n",
    "                         database='QUANTYLE_ANALITICS')\n"
   ]
  },
  {
   "cell_type": "code",
   "execution_count": 17,
   "metadata": {},
   "outputs": [],
   "source": [
    "# Crea un cursor para ejecutar consultas SQL\n",
    "cursor = conexion.cursor()\n",
    "\n",
    "# Ejecuta una consulta para obtener el nombre de las tablas\n",
    "cursor.execute(\"SHOW TABLES\")\n",
    "\n",
    "# Obtiene los resultados de la consulta\n",
    "tablas = cursor.fetchall()"
   ]
  },
  {
   "cell_type": "code",
   "execution_count": 18,
   "metadata": {},
   "outputs": [
    {
     "data": {
      "text/plain": [
       "(('categories',),\n",
       " ('categories_google',),\n",
       " ('categories_yelp',),\n",
       " ('google',),\n",
       " ('reviews_google',),\n",
       " ('reviews_yelp',),\n",
       " ('state',),\n",
       " ('user_yelp',),\n",
       " ('yelp',))"
      ]
     },
     "execution_count": 18,
     "metadata": {},
     "output_type": "execute_result"
    }
   ],
   "source": [
    "tablas"
   ]
  },
  {
   "cell_type": "code",
   "execution_count": 22,
   "metadata": {},
   "outputs": [],
   "source": [
    "tables  = ['categories','categories_yelp','reviews_yelp','user_yelp','yelp']"
   ]
  },
  {
   "cell_type": "code",
   "execution_count": 20,
   "metadata": {},
   "outputs": [],
   "source": [
    "def get_table(table_name):\n",
    "    #iniciarmysql\n",
    "    cursor = conexion.cursor()\n",
    "    consulta = f\"SELECT * FROM {table_name}\"\n",
    "    cursor.execute(consulta)\n",
    "    # Obtiene los resultados de la consulta\n",
    "    resultados = cursor.fetchall()\n",
    "    # Obtiene los nombres de las columnas\n",
    "    columnas = [columna[0] for columna in cursor.description]\n",
    "    # Crea un DataFrame de Pandas con los resultados y los nombres de las columnas\n",
    "    df = pd.DataFrame(resultados, columns=columnas)\n",
    "    cursor.close()\n",
    "    #cerrarmysql\n",
    "    return df"
   ]
  },
  {
   "cell_type": "code",
   "execution_count": 23,
   "metadata": {},
   "outputs": [
    {
     "name": "stdout",
     "output_type": "stream",
     "text": [
      "Empty DataFrame\n",
      "Columns: [categories_id, name]\n",
      "Index: []\n",
      "Empty DataFrame\n",
      "Columns: [id, business_id, categories_id]\n",
      "Index: []\n",
      "Empty DataFrame\n",
      "Columns: [review_id, user_id, bussiness_id, sentiment, date]\n",
      "Index: []\n",
      "Empty DataFrame\n",
      "Columns: [user_id, name, creation, review_count, useful, fans, stars]\n",
      "Index: []\n",
      "Empty DataFrame\n",
      "Columns: [bussiness_id, name, latitude, longitude, stars, state_id]\n",
      "Index: []\n"
     ]
    }
   ],
   "source": [
    "for tabla in tables:\n",
    "    print(get_table(tabla))"
   ]
  },
  {
   "cell_type": "code",
   "execution_count": 12,
   "metadata": {},
   "outputs": [],
   "source": [
    "df_new_data = pd.read_parquet('../processed/yelp/bussiness_yelp.parquet.gz')\n",
    "categories_data = []\n",
    "for index, row in df_new_data.iterrows():\n",
    "    local_id = row['business_id']\n",
    "    categories = row['categories']\n",
    "    for category in categories:\n",
    "        categories_data.append({'business_id': local_id, 'categoria': category})\n",
    "\n",
    "# Crear un nuevo DataFrame para la tabla de categorías\n",
    "categorias_df = pd.DataFrame(categories_data)\n",
    "#Consultar la base de datos  de categorias "
   ]
  },
  {
   "cell_type": "code",
   "execution_count": 2,
   "metadata": {},
   "outputs": [],
   "source": [
    "import pandas as pd\n",
    "df_new_data = pd.read_parquet('../processed/yelp/reviews_yelp.parquet.gz')\n"
   ]
  },
  {
   "cell_type": "code",
   "execution_count": 5,
   "metadata": {},
   "outputs": [
    {
     "name": "stdout",
     "output_type": "stream",
     "text": [
      "Index(['review_id', 'user_id', 'business_id', 'sentiment', 'date'], dtype='object')\n"
     ]
    }
   ],
   "source": [
    "print(df_new_data.columns)"
   ]
  },
  {
   "cell_type": "code",
   "execution_count": 3,
   "metadata": {},
   "outputs": [
    {
     "data": {
      "text/plain": [
       "0         2016-07-25 07:31:06\n",
       "1         2017-06-28 01:04:59\n",
       "2         2017-01-14 23:31:35\n",
       "3         2016-07-14 23:09:38\n",
       "4         2014-11-30 07:35:54\n",
       "                  ...        \n",
       "1138330   2021-08-19 02:30:16\n",
       "1138331   2021-09-12 05:20:37\n",
       "1138332   2021-04-25 13:44:37\n",
       "1138333   2021-10-06 01:52:41\n",
       "1138334   2021-04-02 13:54:12\n",
       "Name: date, Length: 1138335, dtype: datetime64[ns]"
      ]
     },
     "execution_count": 3,
     "metadata": {},
     "output_type": "execute_result"
    }
   ],
   "source": [
    "df_new_data.groupby('user_id').agg({\n",
    "    'review_id':'count',\n",
    "\n",
    "})"
   ]
  },
  {
   "cell_type": "code",
   "execution_count": 65,
   "metadata": {},
   "outputs": [
    {
     "data": {
      "text/html": [
       "<div>\n",
       "<style scoped>\n",
       "    .dataframe tbody tr th:only-of-type {\n",
       "        vertical-align: middle;\n",
       "    }\n",
       "\n",
       "    .dataframe tbody tr th {\n",
       "        vertical-align: top;\n",
       "    }\n",
       "\n",
       "    .dataframe thead th {\n",
       "        text-align: right;\n",
       "    }\n",
       "</style>\n",
       "<table border=\"1\" class=\"dataframe\">\n",
       "  <thead>\n",
       "    <tr style=\"text-align: right;\">\n",
       "      <th></th>\n",
       "      <th>business_id</th>\n",
       "      <th>categoria</th>\n",
       "    </tr>\n",
       "  </thead>\n",
       "  <tbody>\n",
       "    <tr>\n",
       "      <th>0</th>\n",
       "      <td>eEOYSgkmpB90uNA7lDOMRA</td>\n",
       "      <td>Vietnamese</td>\n",
       "    </tr>\n",
       "    <tr>\n",
       "      <th>1</th>\n",
       "      <td>eEOYSgkmpB90uNA7lDOMRA</td>\n",
       "      <td>Food</td>\n",
       "    </tr>\n",
       "    <tr>\n",
       "      <th>2</th>\n",
       "      <td>eEOYSgkmpB90uNA7lDOMRA</td>\n",
       "      <td>Restaurants</td>\n",
       "    </tr>\n",
       "    <tr>\n",
       "      <th>3</th>\n",
       "      <td>eEOYSgkmpB90uNA7lDOMRA</td>\n",
       "      <td>Food Trucks</td>\n",
       "    </tr>\n",
       "    <tr>\n",
       "      <th>4</th>\n",
       "      <td>0bPLkL0QhhPO5kt1_EXmNQ</td>\n",
       "      <td>Food</td>\n",
       "    </tr>\n",
       "    <tr>\n",
       "      <th>...</th>\n",
       "      <td>...</td>\n",
       "      <td>...</td>\n",
       "    </tr>\n",
       "    <tr>\n",
       "      <th>65142</th>\n",
       "      <td>UBQAksw81m0sMrAd8g-ECg</td>\n",
       "      <td>Restaurants</td>\n",
       "    </tr>\n",
       "    <tr>\n",
       "      <th>65143</th>\n",
       "      <td>UBQAksw81m0sMrAd8g-ECg</td>\n",
       "      <td>Mexican</td>\n",
       "    </tr>\n",
       "    <tr>\n",
       "      <th>65144</th>\n",
       "      <td>FBTKjIHyMk8V4frov04ClQ</td>\n",
       "      <td>Restaurants</td>\n",
       "    </tr>\n",
       "    <tr>\n",
       "      <th>65145</th>\n",
       "      <td>FBTKjIHyMk8V4frov04ClQ</td>\n",
       "      <td>Pizza</td>\n",
       "    </tr>\n",
       "    <tr>\n",
       "      <th>65146</th>\n",
       "      <td>FBTKjIHyMk8V4frov04ClQ</td>\n",
       "      <td>Mexican</td>\n",
       "    </tr>\n",
       "  </tbody>\n",
       "</table>\n",
       "<p>65147 rows × 2 columns</p>\n",
       "</div>"
      ],
      "text/plain": [
       "                  business_id    categoria\n",
       "0      eEOYSgkmpB90uNA7lDOMRA   Vietnamese\n",
       "1      eEOYSgkmpB90uNA7lDOMRA         Food\n",
       "2      eEOYSgkmpB90uNA7lDOMRA  Restaurants\n",
       "3      eEOYSgkmpB90uNA7lDOMRA  Food Trucks\n",
       "4      0bPLkL0QhhPO5kt1_EXmNQ         Food\n",
       "...                       ...          ...\n",
       "65142  UBQAksw81m0sMrAd8g-ECg  Restaurants\n",
       "65143  UBQAksw81m0sMrAd8g-ECg      Mexican\n",
       "65144  FBTKjIHyMk8V4frov04ClQ  Restaurants\n",
       "65145  FBTKjIHyMk8V4frov04ClQ        Pizza\n",
       "65146  FBTKjIHyMk8V4frov04ClQ      Mexican\n",
       "\n",
       "[65147 rows x 2 columns]"
      ]
     },
     "execution_count": 65,
     "metadata": {},
     "output_type": "execute_result"
    }
   ],
   "source": [
    "categories_acualizada = get_table('categories')\n",
    "categorias_yelp_new =  pd.merge(categories_acualizada,categorias_new_data,left_on='name',right_on='categoria',how='inner')\n",
    "categorias_yelp_new = categorias_yelp_new[['business_id','categories_id']]\n",
    "cursor = conexion.cursor()\n",
    "consulta = \"INSERT INTO categories_yelp  VALUES(NULL,%s,%s)\"\n",
    "cursor.executemany(consulta, categorias_yelp_new.to_list())\n",
    "conexion.commit()"
   ]
  },
  {
   "cell_type": "code",
   "execution_count": null,
   "metadata": {},
   "outputs": [],
   "source": [
    "def yelp_ER():\n",
    "    \n",
    "    extract_api = extract_businesses() # Extraigo los datos de la API referentes a los estados seleccionados y restaurantes\n",
    "    yelp_new_data = transform_business(extract_api) # Realizo las trasnformaciones necesarias para que los datos esten limpios\n",
    "    yelp_origen = get_table('yelp') # Cargo de la base de datos la tabla de yelp en un dataframe\n",
    "    \n",
    "    yelp_new_data = yelp_new_data[~(yelp_new_data['business_id'].isin(yelp_origen['bussiness_id']))] #De los restaurantes extraidos tomo solo los que su id NO esta en la DB\n",
    "    \n",
    "    conexion = mysql_get_connection() # Genero una conexion a mysql\n",
    "    cursor = conexion.cursor() \n",
    "    \n",
    "    consulta = \"INSERT INTO yelp  VALUES(%s,%s,%s,%s,%s,%s)\" \n",
    "    cursor.executemany(consulta, yelp_new_data.drop(columns='categories').values.tolist()) # Inserto los nuevos locales, sin insertar las categorias\n",
    "    \n",
    "    conexion.commit()\n",
    "    conexion.close()\n",
    "    \n",
    "    categories_origen = get_table('categories') # Cargo la tabla de categorias de la base de datos.    \n",
    "    \n",
    "    categorias_new_data = get_categoires(yelp_new_data) # Funcion que recibe el DF con las categorias como listas, y devuelve otro con bunisess_id y el nombre de cada categoria.\n",
    "    \n",
    "    categorias_new = categorias_new_data[~(categorias_new_data['categoria'].isin(categories_origen['name']))] # Selecciono las categorias que no estan en la DB\n",
    "    categories = categorias_new.drop_duplicates(subset='categoria')['categoria'].values.tolist() # Elimino las categorias duplicadas y las convierto en lista de listas.\n",
    "    categorias_para_agregar = [(int(indice), valor) for indice, valor in enumerate(categories, start=(categories_origen['categories_id'].max()+1))] # En funcion del id maximo que hay en DB genero lista de tuplas con id y id de categoria\n",
    "    \n",
    "    conexion = mysql_get_connection() \n",
    "    cursor = conexion.cursor()\n",
    "    \n",
    "    # Ingesto las nuevas categorias.\n",
    "    consulta = \"INSERT INTO categories  VALUES(%s,%s)\"\n",
    "    cursor.executemany(consulta, categorias_para_agregar)\n",
    "    \n",
    "    conexion.commit()\n",
    "    conexion.close()\n",
    "    \n",
    "    \n",
    "    categories_acualizada = get_table('categories') # Cargo la tabla de categorias actualizada.\n",
    "    \n",
    "    #Hago un join entre la tabla business_id,categoria creada anteriormente con las categorias de la BD, y me quedo solo con business_id y categoria id\n",
    "    categorias_yelp_new =  pd.merge(categories_acualizada,categorias_new_data,left_on='name',right_on='categoria',how='inner')\n",
    "    \n",
    "    conexion = mysql_get_connection()\n",
    "    \n",
    "    # Como business id ya es unico simplemente agrego las filas a la tabla cateogires_yelp\n",
    "    categorias_yelp_new = categorias_yelp_new[['business_id','categories_id']]\n",
    "    cursor = conexion.cursor()\n",
    "    consulta = \"INSERT INTO categories_yelp  VALUES(NULL,%s,%s)\"\n",
    "    cursor.executemany(consulta, categorias_yelp_new.values.tolist())\n",
    "    conexion.commit()\n",
    "    conexion.close()\n",
    "    "
   ]
  },
  {
   "cell_type": "markdown",
   "metadata": {},
   "source": [
    "[bussiness_id, name, latitude, longitude, stars, state_id]"
   ]
  },
  {
   "cell_type": "code",
   "execution_count": null,
   "metadata": {},
   "outputs": [],
   "source": [
    "def get_categories(df):\n",
    "    #Convierto las categorias de cada fila que estan en listas, a una tabla de id_,categoria.\n",
    "    categories_data = []\n",
    "    for index, row in df.iterrows():\n",
    "        local_id = row['business_id']\n",
    "        categories = row['categories']\n",
    "        for category in categories:\n",
    "            categories_data.append({'business_id': local_id, 'categoria': category})\n",
    "\n",
    "    # Crear un nuevo DataFrame para la tabla de categorías\n",
    "    categorias_new_data = pd.DataFrame(categories_data)"
   ]
  }
 ],
 "metadata": {
  "kernelspec": {
   "display_name": "Python 3",
   "language": "python",
   "name": "python3"
  },
  "language_info": {
   "codemirror_mode": {
    "name": "ipython",
    "version": 3
   },
   "file_extension": ".py",
   "mimetype": "text/x-python",
   "name": "python",
   "nbconvert_exporter": "python",
   "pygments_lexer": "ipython3",
   "version": "3.11.6"
  }
 },
 "nbformat": 4,
 "nbformat_minor": 2
}
