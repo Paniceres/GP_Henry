{
 "cells": [
  {
   "cell_type": "code",
   "execution_count": 136,
   "metadata": {},
   "outputs": [],
   "source": [
    "import pandas as pd\n",
    "import datetime\n",
    "import gzip\n",
    "import io\n",
    "import os"
   ]
  },
  {
   "cell_type": "markdown",
   "metadata": {},
   "source": [
    "---"
   ]
  },
  {
   "cell_type": "markdown",
   "metadata": {},
   "source": [
    "## <center>Funciones</center>"
   ]
  },
  {
   "cell_type": "code",
   "execution_count": 109,
   "metadata": {},
   "outputs": [],
   "source": [
    "def extraer_fecha(time):\n",
    "    time_seconds = time / 1000  # Convertir milisegundos a segundos\n",
    "    fecha_hora = datetime.datetime.utcfromtimestamp(time_seconds)\n",
    "\n",
    "    # Eliminar los milisegundos\n",
    "    fecha_hora = fecha_hora.replace(microsecond=0)\n",
    "\n",
    "    return fecha_hora\n"
   ]
  },
  {
   "cell_type": "code",
   "execution_count": 110,
   "metadata": {},
   "outputs": [],
   "source": [
    "def extraer_fecha_opinion(time):\n",
    "    \n",
    "    time = int(time)\n",
    "    \n",
    "    time_seconds = time / 1000  # Convertir milisegundos a segundos\n",
    "    \n",
    "    fecha_hora = datetime.datetime.utcfromtimestamp(time_seconds)\n",
    "\n",
    "    # Eliminar los milisegundos\n",
    "    fecha_hora = fecha_hora.replace(microsecond=0)\n",
    "\n",
    "    return fecha_hora"
   ]
  },
  {
   "cell_type": "markdown",
   "metadata": {},
   "source": [
    "---"
   ]
  },
  {
   "cell_type": "code",
   "execution_count": 140,
   "metadata": {},
   "outputs": [],
   "source": [
    "dicc = {}\n",
    "\n",
    "for x in range(1,12):\n",
    "    dicc[x] = pd.read_json(f'datasets\\\\Google Maps\\\\reviews-estados\\\\review-Alabama\\\\{x}.json', lines=True)\n",
    "    \n",
    "    \n",
    "# Lista para almacenar los DataFrames\n",
    "lista_dataframes = []\n",
    "\n",
    "# Iterar sobre los valores del diccionario (los DataFrames)\n",
    "for df in dicc.values():\n",
    "    lista_dataframes.append(df)\n",
    "\n",
    "# Concatenar los DataFrames en uno solo\n",
    "json = pd.concat(lista_dataframes, ignore_index=True)\n"
   ]
  },
  {
   "cell_type": "code",
   "execution_count": 141,
   "metadata": {},
   "outputs": [],
   "source": [
    "''' Elimino la columna pics, las imagenes son muy chicas y no tienen relevancia para su proximo analisis, en cualquier caso si es necesario acceder a las mismas, una alternativa mucho mejor es utilizar la api o scraping con su id'''\n",
    "json.drop(columns=['pics'],inplace=True) "
   ]
  },
  {
   "cell_type": "code",
   "execution_count": 142,
   "metadata": {},
   "outputs": [],
   "source": [
    "''' Utilizo la funcion creada anteriormente, para convertir los milisegundos a una fecha entendible, luego lo separo en 2 columnas para poder comparar el tiempo de respuesta con el de la opinion propiamente dicha'''\n",
    "json['time'] = json['time'].apply(extraer_fecha)"
   ]
  },
  {
   "cell_type": "code",
   "execution_count": 143,
   "metadata": {},
   "outputs": [],
   "source": [
    "'''\n",
    "\n",
    "Desanido la columna resp, para luego poder realizar calculos con el tiempo de respuesta y de ser necesario el analisis de sentimiento de la respuesta por separado.\n",
    "\n",
    "'''\n",
    "json['fecha_respuesta'] = None\n",
    "json['respuesta'] = None\n",
    "\n",
    "# Desanidar la columna 'resp' si no es None y asignar valores a las nuevas columnas\n",
    "json.loc[json['resp'].notnull(), 'fecha_respuesta'] = json.loc[json['resp'].notnull(), 'resp'].apply(lambda x: x.get('time') if x else None)\n",
    "json.loc[json['resp'].notnull(), 'respuesta'] = json.loc[json['resp'].notnull(), 'resp'].apply(lambda x: x.get('text') if x else None)\n",
    "\n",
    "# Convertir la columna 'respuesta' a tipo de datos 'object' para permitir listas o strings\n",
    "json['respuesta'] = json['respuesta'].astype('object')\n",
    "\n",
    "# Luego, realizar la asignación de valores a la columna 'respuesta'\n",
    "json.loc[json['resp'].notnull(), 'respuesta'] = json.loc[json['resp'].notnull(), 'resp'].apply(lambda x: x.get('text') if x else None)\n",
    "\n",
    "json.drop(columns=['resp'],inplace=True)"
   ]
  },
  {
   "cell_type": "code",
   "execution_count": 144,
   "metadata": {},
   "outputs": [],
   "source": [
    "json['fecha_respuesta'].fillna(json['time'], inplace=True)"
   ]
  },
  {
   "cell_type": "code",
   "execution_count": 145,
   "metadata": {},
   "outputs": [],
   "source": [
    "json['fecha_respuesta'] = json['fecha_respuesta'].astype(str)"
   ]
  },
  {
   "cell_type": "code",
   "execution_count": 146,
   "metadata": {},
   "outputs": [],
   "source": [
    "# Aplicar la función 'extraer_anio()' a las filas que cumplen con la condición de longitud\n",
    "json.loc[json['fecha_respuesta'].str.len() < 14, 'fecha_respuesta'] = json.loc[json['fecha_respuesta'].str.len() < 14, 'fecha_respuesta'].apply(extraer_fecha_opinion)\n",
    "json['fecha_respuesta'] = pd.to_datetime(json['fecha_respuesta'], format='%Y-%m-%d %H:%M:%S')"
   ]
  },
  {
   "cell_type": "code",
   "execution_count": 147,
   "metadata": {},
   "outputs": [
    {
     "data": {
      "text/plain": [
       "anio\n",
       "2008         8\n",
       "2009        12\n",
       "2010       133\n",
       "2011       524\n",
       "2012       770\n",
       "2013      1346\n",
       "2014      1729\n",
       "2015      6117\n",
       "2016     42198\n",
       "2017    198758\n",
       "2018    385741\n",
       "2019    513182\n",
       "2020    322927\n",
       "2021    176555\n",
       "dtype: int64"
      ]
     },
     "execution_count": 147,
     "metadata": {},
     "output_type": "execute_result"
    }
   ],
   "source": [
    "json2 = json.copy()\n",
    "\n",
    "json2['anio'] = json['fecha_respuesta'].dt.year  # Extraer el año y crear una nueva columna 'anio'\n",
    "\n",
    "resultados = json2.groupby('anio').size()  # Agrupar por año y contar la cantidad de registros\n",
    "\n",
    "resultados"
   ]
  },
  {
   "cell_type": "code",
   "execution_count": 149,
   "metadata": {},
   "outputs": [
    {
     "data": {
      "text/html": [
       "<div>\n",
       "<style scoped>\n",
       "    .dataframe tbody tr th:only-of-type {\n",
       "        vertical-align: middle;\n",
       "    }\n",
       "\n",
       "    .dataframe tbody tr th {\n",
       "        vertical-align: top;\n",
       "    }\n",
       "\n",
       "    .dataframe thead th {\n",
       "        text-align: right;\n",
       "    }\n",
       "</style>\n",
       "<table border=\"1\" class=\"dataframe\">\n",
       "  <thead>\n",
       "    <tr style=\"text-align: right;\">\n",
       "      <th></th>\n",
       "      <th>user_id</th>\n",
       "      <th>name</th>\n",
       "      <th>time</th>\n",
       "      <th>rating</th>\n",
       "      <th>text</th>\n",
       "      <th>gmap_id</th>\n",
       "      <th>fecha_respuesta</th>\n",
       "      <th>respuesta</th>\n",
       "    </tr>\n",
       "  </thead>\n",
       "  <tbody>\n",
       "    <tr>\n",
       "      <th>0</th>\n",
       "      <td>1.140438e+20</td>\n",
       "      <td>Kanisha Mixon</td>\n",
       "      <td>2020-08-11 17:51:12</td>\n",
       "      <td>5</td>\n",
       "      <td>Very Personable staff! Beautiful and clean env...</td>\n",
       "      <td>0x8862134e67ff5c87:0x38b5e2ae99cd1fcf</td>\n",
       "      <td>2020-08-11 17:51:12</td>\n",
       "      <td>None</td>\n",
       "    </tr>\n",
       "    <tr>\n",
       "      <th>1</th>\n",
       "      <td>1.160090e+20</td>\n",
       "      <td>Brandie Hodges</td>\n",
       "      <td>2021-01-06 02:10:39</td>\n",
       "      <td>5</td>\n",
       "      <td>Best clothing intown</td>\n",
       "      <td>0x8862134e67ff5c87:0x38b5e2ae99cd1fcf</td>\n",
       "      <td>2021-01-06 02:10:39</td>\n",
       "      <td>None</td>\n",
       "    </tr>\n",
       "    <tr>\n",
       "      <th>2</th>\n",
       "      <td>1.062399e+20</td>\n",
       "      <td>Sharon King</td>\n",
       "      <td>2019-01-11 19:34:50</td>\n",
       "      <td>4</td>\n",
       "      <td>None</td>\n",
       "      <td>0x8862134e67ff5c87:0x38b5e2ae99cd1fcf</td>\n",
       "      <td>2019-01-11 19:34:50</td>\n",
       "      <td>None</td>\n",
       "    </tr>\n",
       "    <tr>\n",
       "      <th>3</th>\n",
       "      <td>1.049701e+20</td>\n",
       "      <td>Veronica Pierce</td>\n",
       "      <td>2018-02-04 01:56:43</td>\n",
       "      <td>5</td>\n",
       "      <td>None</td>\n",
       "      <td>0x8862134e67ff5c87:0x38b5e2ae99cd1fcf</td>\n",
       "      <td>2018-02-04 01:56:43</td>\n",
       "      <td>None</td>\n",
       "    </tr>\n",
       "    <tr>\n",
       "      <th>4</th>\n",
       "      <td>1.105875e+20</td>\n",
       "      <td>Whitney Waldon Collier</td>\n",
       "      <td>2018-08-26 01:08:38</td>\n",
       "      <td>5</td>\n",
       "      <td>None</td>\n",
       "      <td>0x8862134e67ff5c87:0x38b5e2ae99cd1fcf</td>\n",
       "      <td>2018-08-26 01:08:38</td>\n",
       "      <td>None</td>\n",
       "    </tr>\n",
       "    <tr>\n",
       "      <th>...</th>\n",
       "      <td>...</td>\n",
       "      <td>...</td>\n",
       "      <td>...</td>\n",
       "      <td>...</td>\n",
       "      <td>...</td>\n",
       "      <td>...</td>\n",
       "      <td>...</td>\n",
       "      <td>...</td>\n",
       "    </tr>\n",
       "    <tr>\n",
       "      <th>1649995</th>\n",
       "      <td>1.155007e+20</td>\n",
       "      <td>Tabetha Hall</td>\n",
       "      <td>2020-06-27 19:23:32</td>\n",
       "      <td>5</td>\n",
       "      <td>We really had a great shopping experience! As ...</td>\n",
       "      <td>0x8889b57e39ea437b:0xe1fc31086a8e39a9</td>\n",
       "      <td>2020-06-27 19:23:32</td>\n",
       "      <td>None</td>\n",
       "    </tr>\n",
       "    <tr>\n",
       "      <th>1649996</th>\n",
       "      <td>1.070816e+20</td>\n",
       "      <td>Melissa Johnson</td>\n",
       "      <td>2021-02-12 23:38:19</td>\n",
       "      <td>5</td>\n",
       "      <td>Jessica was super helpful and kind. She led us...</td>\n",
       "      <td>0x8889b57e39ea437b:0xe1fc31086a8e39a9</td>\n",
       "      <td>2021-02-12 23:38:19</td>\n",
       "      <td>None</td>\n",
       "    </tr>\n",
       "    <tr>\n",
       "      <th>1649997</th>\n",
       "      <td>1.112208e+20</td>\n",
       "      <td>Blake Barnwell</td>\n",
       "      <td>2021-03-17 15:44:44</td>\n",
       "      <td>5</td>\n",
       "      <td>Best place to find western boots, cowboy hats,...</td>\n",
       "      <td>0x8889b57e39ea437b:0xe1fc31086a8e39a9</td>\n",
       "      <td>2021-03-17 15:44:44</td>\n",
       "      <td>None</td>\n",
       "    </tr>\n",
       "    <tr>\n",
       "      <th>1649998</th>\n",
       "      <td>1.099382e+20</td>\n",
       "      <td>Danny Cassels</td>\n",
       "      <td>2021-03-23 06:45:24</td>\n",
       "      <td>4</td>\n",
       "      <td>Rediculas selection of boots .my favorite is t...</td>\n",
       "      <td>0x8889b57e39ea437b:0xe1fc31086a8e39a9</td>\n",
       "      <td>2021-03-23 06:45:24</td>\n",
       "      <td>None</td>\n",
       "    </tr>\n",
       "    <tr>\n",
       "      <th>1649999</th>\n",
       "      <td>1.107232e+20</td>\n",
       "      <td>Lisa Taylor Ambrocio</td>\n",
       "      <td>2021-03-17 10:27:32</td>\n",
       "      <td>5</td>\n",
       "      <td>Best western wear and boot store I've ever bee...</td>\n",
       "      <td>0x8889b57e39ea437b:0xe1fc31086a8e39a9</td>\n",
       "      <td>2021-03-17 10:27:32</td>\n",
       "      <td>None</td>\n",
       "    </tr>\n",
       "  </tbody>\n",
       "</table>\n",
       "<p>1650000 rows × 8 columns</p>\n",
       "</div>"
      ],
      "text/plain": [
       "              user_id                    name                time  rating  \\\n",
       "0        1.140438e+20           Kanisha Mixon 2020-08-11 17:51:12       5   \n",
       "1        1.160090e+20          Brandie Hodges 2021-01-06 02:10:39       5   \n",
       "2        1.062399e+20             Sharon King 2019-01-11 19:34:50       4   \n",
       "3        1.049701e+20         Veronica Pierce 2018-02-04 01:56:43       5   \n",
       "4        1.105875e+20  Whitney Waldon Collier 2018-08-26 01:08:38       5   \n",
       "...               ...                     ...                 ...     ...   \n",
       "1649995  1.155007e+20            Tabetha Hall 2020-06-27 19:23:32       5   \n",
       "1649996  1.070816e+20         Melissa Johnson 2021-02-12 23:38:19       5   \n",
       "1649997  1.112208e+20          Blake Barnwell 2021-03-17 15:44:44       5   \n",
       "1649998  1.099382e+20           Danny Cassels 2021-03-23 06:45:24       4   \n",
       "1649999  1.107232e+20    Lisa Taylor Ambrocio 2021-03-17 10:27:32       5   \n",
       "\n",
       "                                                      text  \\\n",
       "0        Very Personable staff! Beautiful and clean env...   \n",
       "1                                     Best clothing intown   \n",
       "2                                                     None   \n",
       "3                                                     None   \n",
       "4                                                     None   \n",
       "...                                                    ...   \n",
       "1649995  We really had a great shopping experience! As ...   \n",
       "1649996  Jessica was super helpful and kind. She led us...   \n",
       "1649997  Best place to find western boots, cowboy hats,...   \n",
       "1649998  Rediculas selection of boots .my favorite is t...   \n",
       "1649999  Best western wear and boot store I've ever bee...   \n",
       "\n",
       "                                       gmap_id     fecha_respuesta respuesta  \n",
       "0        0x8862134e67ff5c87:0x38b5e2ae99cd1fcf 2020-08-11 17:51:12      None  \n",
       "1        0x8862134e67ff5c87:0x38b5e2ae99cd1fcf 2021-01-06 02:10:39      None  \n",
       "2        0x8862134e67ff5c87:0x38b5e2ae99cd1fcf 2019-01-11 19:34:50      None  \n",
       "3        0x8862134e67ff5c87:0x38b5e2ae99cd1fcf 2018-02-04 01:56:43      None  \n",
       "4        0x8862134e67ff5c87:0x38b5e2ae99cd1fcf 2018-08-26 01:08:38      None  \n",
       "...                                        ...                 ...       ...  \n",
       "1649995  0x8889b57e39ea437b:0xe1fc31086a8e39a9 2020-06-27 19:23:32      None  \n",
       "1649996  0x8889b57e39ea437b:0xe1fc31086a8e39a9 2021-02-12 23:38:19      None  \n",
       "1649997  0x8889b57e39ea437b:0xe1fc31086a8e39a9 2021-03-17 15:44:44      None  \n",
       "1649998  0x8889b57e39ea437b:0xe1fc31086a8e39a9 2021-03-23 06:45:24      None  \n",
       "1649999  0x8889b57e39ea437b:0xe1fc31086a8e39a9 2021-03-17 10:27:32      None  \n",
       "\n",
       "[1650000 rows x 8 columns]"
      ]
     },
     "execution_count": 149,
     "metadata": {},
     "output_type": "execute_result"
    }
   ],
   "source": [
    "json"
   ]
  },
  {
   "cell_type": "code",
   "execution_count": null,
   "metadata": {},
   "outputs": [],
   "source": []
  }
 ],
 "metadata": {
  "kernelspec": {
   "display_name": "Python 3",
   "language": "python",
   "name": "python3"
  },
  "language_info": {
   "codemirror_mode": {
    "name": "ipython",
    "version": 3
   },
   "file_extension": ".py",
   "mimetype": "text/x-python",
   "name": "python",
   "nbconvert_exporter": "python",
   "pygments_lexer": "ipython3",
   "version": "3.11.5"
  }
 },
 "nbformat": 4,
 "nbformat_minor": 2
}
