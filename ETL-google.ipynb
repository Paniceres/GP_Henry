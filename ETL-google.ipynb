{
 "cells": [
  {
   "cell_type": "code",
   "execution_count": 43,
   "metadata": {},
   "outputs": [],
   "source": [
    "import pandas as pd\n",
    "import datetime\n",
    "import gzip\n",
    "import io"
   ]
  },
  {
   "cell_type": "markdown",
   "metadata": {},
   "source": [
    "---"
   ]
  },
  {
   "cell_type": "markdown",
   "metadata": {},
   "source": [
    "## <center>Funciones</center>"
   ]
  },
  {
   "cell_type": "code",
   "execution_count": 109,
   "metadata": {},
   "outputs": [],
   "source": [
    "def extraer_fecha(time):\n",
    "    time_seconds = time / 1000  # Convertir milisegundos a segundos\n",
    "    fecha_hora = datetime.datetime.utcfromtimestamp(time_seconds)\n",
    "\n",
    "    # Eliminar los milisegundos\n",
    "    fecha_hora = fecha_hora.replace(microsecond=0)\n",
    "\n",
    "    return fecha_hora\n"
   ]
  },
  {
   "cell_type": "code",
   "execution_count": 110,
   "metadata": {},
   "outputs": [],
   "source": [
    "def extraer_fecha_opinion(time):\n",
    "    \n",
    "    time = int(time)\n",
    "    \n",
    "    time_seconds = time / 1000  # Convertir milisegundos a segundos\n",
    "    \n",
    "    fecha_hora = datetime.datetime.utcfromtimestamp(time_seconds)\n",
    "\n",
    "    # Eliminar los milisegundos\n",
    "    fecha_hora = fecha_hora.replace(microsecond=0)\n",
    "\n",
    "    return fecha_hora"
   ]
  },
  {
   "cell_type": "markdown",
   "metadata": {},
   "source": [
    "---"
   ]
  },
  {
   "cell_type": "code",
   "execution_count": 111,
   "metadata": {},
   "outputs": [],
   "source": [
    "json = pd.read_json(r'datasets\\Google Maps\\reviews-estados\\review-Alabama\\1.json', lines=True)"
   ]
  },
  {
   "cell_type": "code",
   "execution_count": 112,
   "metadata": {},
   "outputs": [],
   "source": [
    "''' Elimino la columna pics, las imagenes son muy chicas y no tienen relevancia para su proximo analisis, en cualquier caso si es necesario acceder a las mismas, una alternativa mucho mejor es utilizar la api o scraping con su id'''\n",
    "json.drop(columns=['pics'],inplace=True) "
   ]
  },
  {
   "cell_type": "code",
   "execution_count": 113,
   "metadata": {},
   "outputs": [],
   "source": [
    "''' Utilizo la funcion creada anteriormente, para convertir los milisegundos a una fecha entendible, luego lo separo en 2 columnas para poder comparar el tiempo de respuesta con el de la opinion propiamente dicha'''\n",
    "json['time'] = json['time'].apply(extraer_fecha)"
   ]
  },
  {
   "cell_type": "code",
   "execution_count": 114,
   "metadata": {},
   "outputs": [],
   "source": [
    "'''\n",
    "\n",
    "Desanido la columna resp, para luego poder realizar calculos con el tiempo de respuesta y de ser necesario el analisis de sentimiento de la respuesta por separado.\n",
    "\n",
    "'''\n",
    "json['fecha_respuesta'] = None\n",
    "json['respuesta'] = None\n",
    "\n",
    "# Desanidar la columna 'resp' si no es None y asignar valores a las nuevas columnas\n",
    "json.loc[json['resp'].notnull(), 'fecha_respuesta'] = json.loc[json['resp'].notnull(), 'resp'].apply(lambda x: x.get('time') if x else None)\n",
    "json.loc[json['resp'].notnull(), 'respuesta'] = json.loc[json['resp'].notnull(), 'resp'].apply(lambda x: x.get('text') if x else None)\n",
    "\n",
    "# Convertir la columna 'respuesta' a tipo de datos 'object' para permitir listas o strings\n",
    "json['respuesta'] = json['respuesta'].astype('object')\n",
    "\n",
    "# Luego, realizar la asignación de valores a la columna 'respuesta'\n",
    "json.loc[json['resp'].notnull(), 'respuesta'] = json.loc[json['resp'].notnull(), 'resp'].apply(lambda x: x.get('text') if x else None)\n",
    "\n",
    "json.drop(columns=['resp'],inplace=True)"
   ]
  },
  {
   "cell_type": "code",
   "execution_count": 116,
   "metadata": {},
   "outputs": [],
   "source": [
    "json['fecha_respuesta'].fillna(json['time'], inplace=True)"
   ]
  },
  {
   "cell_type": "code",
   "execution_count": 117,
   "metadata": {},
   "outputs": [],
   "source": [
    "json['fecha_respuesta'] = json['fecha_respuesta'].astype(str)"
   ]
  },
  {
   "cell_type": "code",
   "execution_count": 118,
   "metadata": {},
   "outputs": [],
   "source": [
    "# Aplicar la función 'extraer_anio()' a las filas que cumplen con la condición de longitud\n",
    "json.loc[json['fecha_respuesta'].str.len() < 14, 'fecha_respuesta'] = json.loc[json['fecha_respuesta'].str.len() < 14, 'fecha_respuesta'].apply(extraer_fecha_opinion)\n",
    "json['fecha_respuesta'] = pd.to_datetime(json['fecha_respuesta'], format='%Y-%m-%d %H:%M:%S')"
   ]
  },
  {
   "cell_type": "code",
   "execution_count": 134,
   "metadata": {},
   "outputs": [
    {
     "data": {
      "text/plain": [
       "anio\n",
       "2008        1\n",
       "2009        2\n",
       "2010       10\n",
       "2011       57\n",
       "2012       95\n",
       "2013      170\n",
       "2014      264\n",
       "2015      802\n",
       "2016     4327\n",
       "2017    18019\n",
       "2018    30822\n",
       "2019    41766\n",
       "2020    29962\n",
       "2021    23703\n",
       "dtype: int64"
      ]
     },
     "execution_count": 134,
     "metadata": {},
     "output_type": "execute_result"
    }
   ],
   "source": [
    "json2 = json.copy()\n",
    "\n",
    "json2['anio'] = json['fecha_respuesta'].dt.year  # Extraer el año y crear una nueva columna 'anio'\n",
    "resultados = json2.groupby('anio').size()  # Agrupar por año y contar la cantidad de registros\n",
    "resultados\n"
   ]
  },
  {
   "cell_type": "code",
   "execution_count": 135,
   "metadata": {},
   "outputs": [
    {
     "data": {
      "text/html": [
       "<div>\n",
       "<style scoped>\n",
       "    .dataframe tbody tr th:only-of-type {\n",
       "        vertical-align: middle;\n",
       "    }\n",
       "\n",
       "    .dataframe tbody tr th {\n",
       "        vertical-align: top;\n",
       "    }\n",
       "\n",
       "    .dataframe thead th {\n",
       "        text-align: right;\n",
       "    }\n",
       "</style>\n",
       "<table border=\"1\" class=\"dataframe\">\n",
       "  <thead>\n",
       "    <tr style=\"text-align: right;\">\n",
       "      <th></th>\n",
       "      <th>user_id</th>\n",
       "      <th>name</th>\n",
       "      <th>time</th>\n",
       "      <th>rating</th>\n",
       "      <th>text</th>\n",
       "      <th>gmap_id</th>\n",
       "      <th>fecha_respuesta</th>\n",
       "      <th>respuesta</th>\n",
       "    </tr>\n",
       "  </thead>\n",
       "  <tbody>\n",
       "    <tr>\n",
       "      <th>0</th>\n",
       "      <td>1.140438e+20</td>\n",
       "      <td>Kanisha Mixon</td>\n",
       "      <td>2020-08-11 17:51:12</td>\n",
       "      <td>5</td>\n",
       "      <td>Very Personable staff! Beautiful and clean env...</td>\n",
       "      <td>0x8862134e67ff5c87:0x38b5e2ae99cd1fcf</td>\n",
       "      <td>2020-08-11 17:51:12</td>\n",
       "      <td>None</td>\n",
       "    </tr>\n",
       "    <tr>\n",
       "      <th>1</th>\n",
       "      <td>1.160090e+20</td>\n",
       "      <td>Brandie Hodges</td>\n",
       "      <td>2021-01-06 02:10:39</td>\n",
       "      <td>5</td>\n",
       "      <td>Best clothing intown</td>\n",
       "      <td>0x8862134e67ff5c87:0x38b5e2ae99cd1fcf</td>\n",
       "      <td>2021-01-06 02:10:39</td>\n",
       "      <td>None</td>\n",
       "    </tr>\n",
       "    <tr>\n",
       "      <th>2</th>\n",
       "      <td>1.062399e+20</td>\n",
       "      <td>Sharon King</td>\n",
       "      <td>2019-01-11 19:34:50</td>\n",
       "      <td>4</td>\n",
       "      <td>None</td>\n",
       "      <td>0x8862134e67ff5c87:0x38b5e2ae99cd1fcf</td>\n",
       "      <td>2019-01-11 19:34:50</td>\n",
       "      <td>None</td>\n",
       "    </tr>\n",
       "    <tr>\n",
       "      <th>3</th>\n",
       "      <td>1.049701e+20</td>\n",
       "      <td>Veronica Pierce</td>\n",
       "      <td>2018-02-04 01:56:43</td>\n",
       "      <td>5</td>\n",
       "      <td>None</td>\n",
       "      <td>0x8862134e67ff5c87:0x38b5e2ae99cd1fcf</td>\n",
       "      <td>2018-02-04 01:56:43</td>\n",
       "      <td>None</td>\n",
       "    </tr>\n",
       "    <tr>\n",
       "      <th>4</th>\n",
       "      <td>1.105875e+20</td>\n",
       "      <td>Whitney Waldon Collier</td>\n",
       "      <td>2018-08-26 01:08:38</td>\n",
       "      <td>5</td>\n",
       "      <td>None</td>\n",
       "      <td>0x8862134e67ff5c87:0x38b5e2ae99cd1fcf</td>\n",
       "      <td>2018-08-26 01:08:38</td>\n",
       "      <td>None</td>\n",
       "    </tr>\n",
       "    <tr>\n",
       "      <th>...</th>\n",
       "      <td>...</td>\n",
       "      <td>...</td>\n",
       "      <td>...</td>\n",
       "      <td>...</td>\n",
       "      <td>...</td>\n",
       "      <td>...</td>\n",
       "      <td>...</td>\n",
       "      <td>...</td>\n",
       "    </tr>\n",
       "    <tr>\n",
       "      <th>149995</th>\n",
       "      <td>1.165082e+20</td>\n",
       "      <td>Lee Lee</td>\n",
       "      <td>2020-10-02 19:21:29</td>\n",
       "      <td>5</td>\n",
       "      <td>Just a good old hardware friendly people</td>\n",
       "      <td>0x889a89fd92d55353:0x78e335f5e98e75b2</td>\n",
       "      <td>2020-10-02 19:21:29</td>\n",
       "      <td>None</td>\n",
       "    </tr>\n",
       "    <tr>\n",
       "      <th>149996</th>\n",
       "      <td>1.080208e+20</td>\n",
       "      <td>Hayward Salter</td>\n",
       "      <td>2021-05-26 02:03:33</td>\n",
       "      <td>5</td>\n",
       "      <td>Good people</td>\n",
       "      <td>0x889a89fd92d55353:0x78e335f5e98e75b2</td>\n",
       "      <td>2021-05-26 02:03:33</td>\n",
       "      <td>None</td>\n",
       "    </tr>\n",
       "    <tr>\n",
       "      <th>149997</th>\n",
       "      <td>1.054646e+20</td>\n",
       "      <td>James McBride</td>\n",
       "      <td>2020-10-05 02:00:28</td>\n",
       "      <td>4</td>\n",
       "      <td>Good for locals needing supplies to fix damage...</td>\n",
       "      <td>0x889a89fd92d55353:0x78e335f5e98e75b2</td>\n",
       "      <td>2020-10-05 02:00:28</td>\n",
       "      <td>None</td>\n",
       "    </tr>\n",
       "    <tr>\n",
       "      <th>149998</th>\n",
       "      <td>1.118869e+20</td>\n",
       "      <td>Karen Sullivan</td>\n",
       "      <td>2020-06-24 15:41:25</td>\n",
       "      <td>1</td>\n",
       "      <td>Very rude female employees at the cash counter...</td>\n",
       "      <td>0x889a89fd92d55353:0x78e335f5e98e75b2</td>\n",
       "      <td>2020-06-24 15:41:25</td>\n",
       "      <td>None</td>\n",
       "    </tr>\n",
       "    <tr>\n",
       "      <th>149999</th>\n",
       "      <td>1.109920e+20</td>\n",
       "      <td>Scott Reid</td>\n",
       "      <td>2019-11-09 16:35:50</td>\n",
       "      <td>4</td>\n",
       "      <td>Good hardware and lumber store. Prices on lumb...</td>\n",
       "      <td>0x889a89fd92d55353:0x78e335f5e98e75b2</td>\n",
       "      <td>2019-11-09 16:35:50</td>\n",
       "      <td>None</td>\n",
       "    </tr>\n",
       "  </tbody>\n",
       "</table>\n",
       "<p>150000 rows × 8 columns</p>\n",
       "</div>"
      ],
      "text/plain": [
       "             user_id                    name                time  rating  \\\n",
       "0       1.140438e+20           Kanisha Mixon 2020-08-11 17:51:12       5   \n",
       "1       1.160090e+20          Brandie Hodges 2021-01-06 02:10:39       5   \n",
       "2       1.062399e+20             Sharon King 2019-01-11 19:34:50       4   \n",
       "3       1.049701e+20         Veronica Pierce 2018-02-04 01:56:43       5   \n",
       "4       1.105875e+20  Whitney Waldon Collier 2018-08-26 01:08:38       5   \n",
       "...              ...                     ...                 ...     ...   \n",
       "149995  1.165082e+20                 Lee Lee 2020-10-02 19:21:29       5   \n",
       "149996  1.080208e+20          Hayward Salter 2021-05-26 02:03:33       5   \n",
       "149997  1.054646e+20           James McBride 2020-10-05 02:00:28       4   \n",
       "149998  1.118869e+20          Karen Sullivan 2020-06-24 15:41:25       1   \n",
       "149999  1.109920e+20              Scott Reid 2019-11-09 16:35:50       4   \n",
       "\n",
       "                                                     text  \\\n",
       "0       Very Personable staff! Beautiful and clean env...   \n",
       "1                                    Best clothing intown   \n",
       "2                                                    None   \n",
       "3                                                    None   \n",
       "4                                                    None   \n",
       "...                                                   ...   \n",
       "149995           Just a good old hardware friendly people   \n",
       "149996                                        Good people   \n",
       "149997  Good for locals needing supplies to fix damage...   \n",
       "149998  Very rude female employees at the cash counter...   \n",
       "149999  Good hardware and lumber store. Prices on lumb...   \n",
       "\n",
       "                                      gmap_id     fecha_respuesta respuesta  \n",
       "0       0x8862134e67ff5c87:0x38b5e2ae99cd1fcf 2020-08-11 17:51:12      None  \n",
       "1       0x8862134e67ff5c87:0x38b5e2ae99cd1fcf 2021-01-06 02:10:39      None  \n",
       "2       0x8862134e67ff5c87:0x38b5e2ae99cd1fcf 2019-01-11 19:34:50      None  \n",
       "3       0x8862134e67ff5c87:0x38b5e2ae99cd1fcf 2018-02-04 01:56:43      None  \n",
       "4       0x8862134e67ff5c87:0x38b5e2ae99cd1fcf 2018-08-26 01:08:38      None  \n",
       "...                                       ...                 ...       ...  \n",
       "149995  0x889a89fd92d55353:0x78e335f5e98e75b2 2020-10-02 19:21:29      None  \n",
       "149996  0x889a89fd92d55353:0x78e335f5e98e75b2 2021-05-26 02:03:33      None  \n",
       "149997  0x889a89fd92d55353:0x78e335f5e98e75b2 2020-10-05 02:00:28      None  \n",
       "149998  0x889a89fd92d55353:0x78e335f5e98e75b2 2020-06-24 15:41:25      None  \n",
       "149999  0x889a89fd92d55353:0x78e335f5e98e75b2 2019-11-09 16:35:50      None  \n",
       "\n",
       "[150000 rows x 8 columns]"
      ]
     },
     "execution_count": 135,
     "metadata": {},
     "output_type": "execute_result"
    }
   ],
   "source": [
    "json"
   ]
  },
  {
   "cell_type": "code",
   "execution_count": null,
   "metadata": {},
   "outputs": [],
   "source": []
  }
 ],
 "metadata": {
  "kernelspec": {
   "display_name": "Python 3",
   "language": "python",
   "name": "python3"
  },
  "language_info": {
   "codemirror_mode": {
    "name": "ipython",
    "version": 3
   },
   "file_extension": ".py",
   "mimetype": "text/x-python",
   "name": "python",
   "nbconvert_exporter": "python",
   "pygments_lexer": "ipython3",
   "version": "3.11.5"
  }
 },
 "nbformat": 4,
 "nbformat_minor": 2
}
