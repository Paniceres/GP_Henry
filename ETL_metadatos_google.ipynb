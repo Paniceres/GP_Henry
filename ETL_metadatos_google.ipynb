{
 "cells": [
  {
   "cell_type": "code",
   "execution_count": 4,
   "metadata": {},
   "outputs": [],
   "source": [
    "import pandas as pd\n",
    "import datetime\n",
    "import gzip\n",
    "import io\n",
    "import os\n",
    "from nltk.sentiment import SentimentIntensityAnalyzer"
   ]
  },
  {
   "cell_type": "markdown",
   "metadata": {},
   "source": [
    "---"
   ]
  },
  {
   "cell_type": "markdown",
   "metadata": {},
   "source": [
    "## <center>Funciones</center>"
   ]
  },
  {
   "cell_type": "code",
   "execution_count": 109,
   "metadata": {},
   "outputs": [],
   "source": [
    "def extraer_fecha(time):\n",
    "    time_seconds = time / 1000  # Convertir milisegundos a segundos\n",
    "    fecha_hora = datetime.datetime.utcfromtimestamp(time_seconds)\n",
    "\n",
    "    # Eliminar los milisegundos\n",
    "    fecha_hora = fecha_hora.replace(microsecond=0)\n",
    "\n",
    "    return fecha_hora\n"
   ]
  },
  {
   "cell_type": "code",
   "execution_count": 110,
   "metadata": {},
   "outputs": [],
   "source": [
    "def extraer_fecha_opinion(time):\n",
    "    \n",
    "    time = int(time)\n",
    "    \n",
    "    time_seconds = time / 1000  # Convertir milisegundos a segundos\n",
    "    \n",
    "    fecha_hora = datetime.datetime.utcfromtimestamp(time_seconds)\n",
    "\n",
    "    # Eliminar los milisegundos\n",
    "    fecha_hora = fecha_hora.replace(microsecond=0)\n",
    "\n",
    "    return fecha_hora"
   ]
  },
  {
   "cell_type": "markdown",
   "metadata": {},
   "source": [
    "---"
   ]
  },
  {
   "cell_type": "code",
   "execution_count": 140,
   "metadata": {},
   "outputs": [],
   "source": [
    "dicc = {}\n",
    "\n",
    "for x in range(1,12):\n",
    "    dicc[x] = pd.read_json(f'datasets\\\\Google Maps\\\\reviews-estados\\\\review-Alabama\\\\{x}.json', lines=True)\n",
    "    \n",
    "    \n",
    "# Lista para almacenar los DataFrames\n",
    "lista_dataframes = []\n",
    "\n",
    "# Iterar sobre los valores del diccionario (los DataFrames)\n",
    "for df in dicc.values():\n",
    "    lista_dataframes.append(df)\n",
    "\n",
    "# Concatenar los DataFrames en uno solo\n",
    "json = pd.concat(lista_dataframes, ignore_index=True)\n"
   ]
  },
  {
   "cell_type": "code",
   "execution_count": 141,
   "metadata": {},
   "outputs": [],
   "source": [
    "''' Elimino la columna pics, las imagenes son muy chicas y no tienen relevancia para su proximo analisis, en cualquier caso si es necesario acceder a las mismas, una alternativa mucho mejor es utilizar la api o scraping con su id'''\n",
    "json.drop(columns=['pics'],inplace=True) "
   ]
  },
  {
   "cell_type": "code",
   "execution_count": 142,
   "metadata": {},
   "outputs": [],
   "source": [
    "''' Utilizo la funcion creada anteriormente, para convertir los milisegundos a una fecha entendible, luego lo separo en 2 columnas para poder comparar el tiempo de respuesta con el de la opinion propiamente dicha'''\n",
    "json['time'] = json['time'].apply(extraer_fecha)"
   ]
  },
  {
   "cell_type": "code",
   "execution_count": 143,
   "metadata": {},
   "outputs": [],
   "source": [
    "'''\n",
    "\n",
    "Desanido la columna resp, para luego poder realizar calculos con el tiempo de respuesta y de ser necesario el analisis de sentimiento de la respuesta por separado.\n",
    "\n",
    "'''\n",
    "json['fecha_respuesta'] = None\n",
    "json['respuesta'] = None\n",
    "\n",
    "# Desanidar la columna 'resp' si no es None y asignar valores a las nuevas columnas\n",
    "json.loc[json['resp'].notnull(), 'fecha_respuesta'] = json.loc[json['resp'].notnull(), 'resp'].apply(lambda x: x.get('time') if x else None)\n",
    "json.loc[json['resp'].notnull(), 'respuesta'] = json.loc[json['resp'].notnull(), 'resp'].apply(lambda x: x.get('text') if x else None)\n",
    "\n",
    "# Convertir la columna 'respuesta' a tipo de datos 'object' para permitir listas o strings\n",
    "json['respuesta'] = json['respuesta'].astype('object')\n",
    "\n",
    "# Luego, realizar la asignación de valores a la columna 'respuesta'\n",
    "json.loc[json['resp'].notnull(), 'respuesta'] = json.loc[json['resp'].notnull(), 'resp'].apply(lambda x: x.get('text') if x else None)\n",
    "\n",
    "json.drop(columns=['resp'],inplace=True)"
   ]
  },
  {
   "cell_type": "code",
   "execution_count": 144,
   "metadata": {},
   "outputs": [],
   "source": [
    "json['fecha_respuesta'].fillna(json['time'], inplace=True)"
   ]
  },
  {
   "cell_type": "code",
   "execution_count": 145,
   "metadata": {},
   "outputs": [],
   "source": [
    "json['fecha_respuesta'] = json['fecha_respuesta'].astype(str)"
   ]
  },
  {
   "cell_type": "code",
   "execution_count": 146,
   "metadata": {},
   "outputs": [],
   "source": [
    "# Aplicar la función 'extraer_anio()' a las filas que cumplen con la condición de longitud\n",
    "json.loc[json['fecha_respuesta'].str.len() < 14, 'fecha_respuesta'] = json.loc[json['fecha_respuesta'].str.len() < 14, 'fecha_respuesta'].apply(extraer_fecha_opinion)\n",
    "json['fecha_respuesta'] = pd.to_datetime(json['fecha_respuesta'], format='%Y-%m-%d %H:%M:%S')"
   ]
  },
  {
   "cell_type": "code",
   "execution_count": 147,
   "metadata": {},
   "outputs": [
    {
     "data": {
      "text/plain": [
       "anio\n",
       "2008         8\n",
       "2009        12\n",
       "2010       133\n",
       "2011       524\n",
       "2012       770\n",
       "2013      1346\n",
       "2014      1729\n",
       "2015      6117\n",
       "2016     42198\n",
       "2017    198758\n",
       "2018    385741\n",
       "2019    513182\n",
       "2020    322927\n",
       "2021    176555\n",
       "dtype: int64"
      ]
     },
     "execution_count": 147,
     "metadata": {},
     "output_type": "execute_result"
    }
   ],
   "source": [
    "json2 = json.copy()\n",
    "\n",
    "json2['anio'] = json['fecha_respuesta'].dt.year  # Extraer el año y crear una nueva columna 'anio'\n",
    "\n",
    "resultados = json2.groupby('anio').size()  # Agrupar por año y contar la cantidad de registros\n",
    "\n",
    "resultados"
   ]
  },
  {
   "cell_type": "code",
   "execution_count": 13,
   "metadata": {},
   "outputs": [
    {
     "data": {
      "text/html": [
       "<div>\n",
       "<style scoped>\n",
       "    .dataframe tbody tr th:only-of-type {\n",
       "        vertical-align: middle;\n",
       "    }\n",
       "\n",
       "    .dataframe tbody tr th {\n",
       "        vertical-align: top;\n",
       "    }\n",
       "\n",
       "    .dataframe thead th {\n",
       "        text-align: right;\n",
       "    }\n",
       "</style>\n",
       "<table border=\"1\" class=\"dataframe\">\n",
       "  <thead>\n",
       "    <tr style=\"text-align: right;\">\n",
       "      <th></th>\n",
       "      <th>gmap_id</th>\n",
       "      <th>latitude</th>\n",
       "      <th>longitude</th>\n",
       "      <th>category</th>\n",
       "      <th>avg_rating</th>\n",
       "    </tr>\n",
       "  </thead>\n",
       "  <tbody>\n",
       "    <tr>\n",
       "      <th>0</th>\n",
       "      <td>0x88f16e41928ff687:0x883dad4fd048e8f8</td>\n",
       "      <td>32.388300</td>\n",
       "      <td>-83.357100</td>\n",
       "      <td>[Pharmacy]</td>\n",
       "      <td>4.9</td>\n",
       "    </tr>\n",
       "    <tr>\n",
       "      <th>1</th>\n",
       "      <td>0x80c2c98c0e3c16fd:0x29ec8a728764fdf9</td>\n",
       "      <td>34.018891</td>\n",
       "      <td>-118.215290</td>\n",
       "      <td>[Textile exporter]</td>\n",
       "      <td>4.5</td>\n",
       "    </tr>\n",
       "    <tr>\n",
       "      <th>2</th>\n",
       "      <td>0x80c2c778e3b73d33:0xbdc58662a4a97d49</td>\n",
       "      <td>34.058092</td>\n",
       "      <td>-118.292130</td>\n",
       "      <td>[Korean restaurant]</td>\n",
       "      <td>4.4</td>\n",
       "    </tr>\n",
       "    <tr>\n",
       "      <th>3</th>\n",
       "      <td>0x80c2c89923b27a41:0x32041559418d447</td>\n",
       "      <td>34.023669</td>\n",
       "      <td>-118.232930</td>\n",
       "      <td>[Fabric store]</td>\n",
       "      <td>3.3</td>\n",
       "    </tr>\n",
       "    <tr>\n",
       "      <th>4</th>\n",
       "      <td>0x80c2c632f933b073:0xc31785961fe826a6</td>\n",
       "      <td>34.036694</td>\n",
       "      <td>-118.249421</td>\n",
       "      <td>[Fabric store]</td>\n",
       "      <td>4.3</td>\n",
       "    </tr>\n",
       "    <tr>\n",
       "      <th>...</th>\n",
       "      <td>...</td>\n",
       "      <td>...</td>\n",
       "      <td>...</td>\n",
       "      <td>...</td>\n",
       "      <td>...</td>\n",
       "    </tr>\n",
       "    <tr>\n",
       "      <th>3025006</th>\n",
       "      <td>0x89c6c74f43a49b55:0x6be6995921c58b12</td>\n",
       "      <td>39.947254</td>\n",
       "      <td>-75.164953</td>\n",
       "      <td>[Steak house, Fine dining restaurant, Seafood ...</td>\n",
       "      <td>4.6</td>\n",
       "    </tr>\n",
       "    <tr>\n",
       "      <th>3025007</th>\n",
       "      <td>0x89da1787d3fdc4a5:0xce92ea6e3cd4d1cc</td>\n",
       "      <td>42.788636</td>\n",
       "      <td>-76.122120</td>\n",
       "      <td>[Chevrolet dealer]</td>\n",
       "      <td>4.4</td>\n",
       "    </tr>\n",
       "    <tr>\n",
       "      <th>3025008</th>\n",
       "      <td>0x89da6b9ce832726f:0xbd0d3630f1e3b42e</td>\n",
       "      <td>42.603831</td>\n",
       "      <td>-76.165286</td>\n",
       "      <td>[Veterinarian]</td>\n",
       "      <td>4.3</td>\n",
       "    </tr>\n",
       "    <tr>\n",
       "      <th>3025009</th>\n",
       "      <td>0x88d9e872a9e39f3d:0x5de29f50507e5d73</td>\n",
       "      <td>25.491641</td>\n",
       "      <td>-80.456076</td>\n",
       "      <td>[Animal feed store]</td>\n",
       "      <td>4.9</td>\n",
       "    </tr>\n",
       "    <tr>\n",
       "      <th>3025010</th>\n",
       "      <td>0x54956b3944b1654d:0x7797cead9a485c22</td>\n",
       "      <td>45.310254</td>\n",
       "      <td>-122.935500</td>\n",
       "      <td>[Lodging]</td>\n",
       "      <td>5.0</td>\n",
       "    </tr>\n",
       "  </tbody>\n",
       "</table>\n",
       "<p>3025011 rows × 5 columns</p>\n",
       "</div>"
      ],
      "text/plain": [
       "                                       gmap_id   latitude   longitude  \\\n",
       "0        0x88f16e41928ff687:0x883dad4fd048e8f8  32.388300  -83.357100   \n",
       "1        0x80c2c98c0e3c16fd:0x29ec8a728764fdf9  34.018891 -118.215290   \n",
       "2        0x80c2c778e3b73d33:0xbdc58662a4a97d49  34.058092 -118.292130   \n",
       "3         0x80c2c89923b27a41:0x32041559418d447  34.023669 -118.232930   \n",
       "4        0x80c2c632f933b073:0xc31785961fe826a6  34.036694 -118.249421   \n",
       "...                                        ...        ...         ...   \n",
       "3025006  0x89c6c74f43a49b55:0x6be6995921c58b12  39.947254  -75.164953   \n",
       "3025007  0x89da1787d3fdc4a5:0xce92ea6e3cd4d1cc  42.788636  -76.122120   \n",
       "3025008  0x89da6b9ce832726f:0xbd0d3630f1e3b42e  42.603831  -76.165286   \n",
       "3025009  0x88d9e872a9e39f3d:0x5de29f50507e5d73  25.491641  -80.456076   \n",
       "3025010  0x54956b3944b1654d:0x7797cead9a485c22  45.310254 -122.935500   \n",
       "\n",
       "                                                  category  avg_rating  \n",
       "0                                               [Pharmacy]         4.9  \n",
       "1                                       [Textile exporter]         4.5  \n",
       "2                                      [Korean restaurant]         4.4  \n",
       "3                                           [Fabric store]         3.3  \n",
       "4                                           [Fabric store]         4.3  \n",
       "...                                                    ...         ...  \n",
       "3025006  [Steak house, Fine dining restaurant, Seafood ...         4.6  \n",
       "3025007                                 [Chevrolet dealer]         4.4  \n",
       "3025008                                     [Veterinarian]         4.3  \n",
       "3025009                                [Animal feed store]         4.9  \n",
       "3025010                                          [Lodging]         5.0  \n",
       "\n",
       "[3025011 rows x 5 columns]"
      ]
     },
     "execution_count": 13,
     "metadata": {},
     "output_type": "execute_result"
    }
   ],
   "source": [
    "json"
   ]
  }
 ],
 "metadata": {
  "kernelspec": {
   "display_name": "Python 3",
   "language": "python",
   "name": "python3"
  },
  "language_info": {
   "codemirror_mode": {
    "name": "ipython",
    "version": 3
   },
   "file_extension": ".py",
   "mimetype": "text/x-python",
   "name": "python",
   "nbconvert_exporter": "python",
   "pygments_lexer": "ipython3",
   "version": "3.11.5"
  }
 },
 "nbformat": 4,
 "nbformat_minor": 2
}
