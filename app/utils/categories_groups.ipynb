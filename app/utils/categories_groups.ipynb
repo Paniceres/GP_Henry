{
 "cells": [
  {
   "cell_type": "code",
   "execution_count": 609,
   "metadata": {},
   "outputs": [],
   "source": [
    "import pandas as pd\n"
   ]
  },
  {
   "cell_type": "code",
   "execution_count": 610,
   "metadata": {},
   "outputs": [],
   "source": [
    "df = pd.read_parquet('../processed/bd/2_categories.parquet.gz')\n",
    "df['name'] = df['name'].apply(lambda x: x.replace('restaurant','') if x!='restaurant' else x)"
   ]
  },
  {
   "cell_type": "markdown",
   "metadata": {},
   "source": [
    "1:General <br>\n",
    "2:Fast Food,<br>\n",
    "3:Internacional<br>\n",
    "4:Coffess y breakfast<br>\n",
    "5:Bares y nocturnos \n"
   ]
  },
  {
   "cell_type": "code",
   "execution_count": 611,
   "metadata": {},
   "outputs": [],
   "source": [
    "df['group'] = 'general'"
   ]
  },
  {
   "cell_type": "code",
   "execution_count": 612,
   "metadata": {},
   "outputs": [],
   "source": [
    "df.loc[(df['name'].str.contains('caf')) | (df['name'].str.contains('cof')) | (df['name'].str.contains('brea'))| (df['name'].str.contains('tea')),'group'] = 'coffess & breakfast'"
   ]
  },
  {
   "cell_type": "code",
   "execution_count": 613,
   "metadata": {},
   "outputs": [
    {
     "data": {
      "text/html": [
       "<div>\n",
       "<style scoped>\n",
       "    .dataframe tbody tr th:only-of-type {\n",
       "        vertical-align: middle;\n",
       "    }\n",
       "\n",
       "    .dataframe tbody tr th {\n",
       "        vertical-align: top;\n",
       "    }\n",
       "\n",
       "    .dataframe thead th {\n",
       "        text-align: right;\n",
       "    }\n",
       "</style>\n",
       "<table border=\"1\" class=\"dataframe\">\n",
       "  <thead>\n",
       "    <tr style=\"text-align: right;\">\n",
       "      <th></th>\n",
       "      <th>categories_id</th>\n",
       "      <th>name</th>\n",
       "      <th>group</th>\n",
       "    </tr>\n",
       "  </thead>\n",
       "  <tbody>\n",
       "    <tr>\n",
       "      <th>1104</th>\n",
       "      <td>1104</td>\n",
       "      <td>cigar bars</td>\n",
       "      <td>general</td>\n",
       "    </tr>\n",
       "    <tr>\n",
       "      <th>962</th>\n",
       "      <td>962</td>\n",
       "      <td>dive bars</td>\n",
       "      <td>general</td>\n",
       "    </tr>\n",
       "    <tr>\n",
       "      <th>106</th>\n",
       "      <td>106</td>\n",
       "      <td>sports bar</td>\n",
       "      <td>general</td>\n",
       "    </tr>\n",
       "    <tr>\n",
       "      <th>184</th>\n",
       "      <td>184</td>\n",
       "      <td>gastropub</td>\n",
       "      <td>general</td>\n",
       "    </tr>\n",
       "    <tr>\n",
       "      <th>16</th>\n",
       "      <td>16</td>\n",
       "      <td>bar</td>\n",
       "      <td>general</td>\n",
       "    </tr>\n",
       "  </tbody>\n",
       "</table>\n",
       "</div>"
      ],
      "text/plain": [
       "      categories_id        name    group\n",
       "1104           1104  cigar bars  general\n",
       "962             962   dive bars  general\n",
       "106             106  sports bar  general\n",
       "184             184   gastropub  general\n",
       "16               16         bar  general"
      ]
     },
     "execution_count": 613,
     "metadata": {},
     "output_type": "execute_result"
    }
   ],
   "source": [
    "df[(df['name'].str.contains('bar')) & (~df['name'].str.contains('barb'))| (df['name'].str.contains('nigh')) | (df['name'].str.contains('pub'))].sample(5)"
   ]
  },
  {
   "cell_type": "code",
   "execution_count": 614,
   "metadata": {},
   "outputs": [],
   "source": [
    "df.loc[(df['name'].str.contains('bar')) | (df['name'].str.contains('nigh')) | (df['name'].str.contains('pub')),'group'] = 'bars & nightlife'"
   ]
  },
  {
   "cell_type": "code",
   "execution_count": 615,
   "metadata": {},
   "outputs": [],
   "source": [
    "df.loc[\n",
    "    (df['name'].str.contains('burg') |\n",
    "     df['name'].str.contains('fast') & ~df['name'].str.contains('break') |\n",
    "     df['name'].str.contains('pizza') |\n",
    "     df['name'].str.contains('sandw') |\n",
    "     df['name'].str.contains('hot dog') |\n",
    "     df['name'].str.contains('takeou')),\n",
    "    'group'] = 'fast food'"
   ]
  },
  {
   "cell_type": "code",
   "execution_count": 616,
   "metadata": {},
   "outputs": [],
   "source": [
    "df.loc[\n",
    "    (df['name'].str.contains('suhi') |\n",
    "     df['name'].str.contains('asian') |\n",
    "     df['name'].str.contains('japa') |\n",
    "     df['name'].str.contains('kore') |\n",
    "     df['name'].str.contains('mexi') |\n",
    "     df['name'].str.contains('eth') |\n",
    "     df['name'].str.contains('falafel') |\n",
    "     df['name'].str.contains('chilean') |\n",
    "     df['name'].str.contains('mongolian') |\n",
    "     df['name'].str.contains('polish') |\n",
    "     df['name'].str.contains('italian') |\n",
    "     df['name'].str.contains('british')),\n",
    "    'group'] = 'foreign'"
   ]
  },
  {
   "cell_type": "code",
   "execution_count": 617,
   "metadata": {},
   "outputs": [],
   "source": [
    "df.loc[(df['name'].str.contains('veg')),'group'] = 'veggie & veggetarian'"
   ]
  },
  {
   "cell_type": "code",
   "execution_count": 618,
   "metadata": {},
   "outputs": [
    {
     "data": {
      "text/html": [
       "<div>\n",
       "<style scoped>\n",
       "    .dataframe tbody tr th:only-of-type {\n",
       "        vertical-align: middle;\n",
       "    }\n",
       "\n",
       "    .dataframe tbody tr th {\n",
       "        vertical-align: top;\n",
       "    }\n",
       "\n",
       "    .dataframe thead th {\n",
       "        text-align: right;\n",
       "    }\n",
       "</style>\n",
       "<table border=\"1\" class=\"dataframe\">\n",
       "  <thead>\n",
       "    <tr style=\"text-align: right;\">\n",
       "      <th></th>\n",
       "      <th>categories_id</th>\n",
       "      <th>name</th>\n",
       "      <th>group</th>\n",
       "    </tr>\n",
       "  </thead>\n",
       "  <tbody>\n",
       "    <tr>\n",
       "      <th>326</th>\n",
       "      <td>326</td>\n",
       "      <td>golf driving range</td>\n",
       "      <td>general</td>\n",
       "    </tr>\n",
       "    <tr>\n",
       "      <th>378</th>\n",
       "      <td>378</td>\n",
       "      <td>russian orthodox church</td>\n",
       "      <td>general</td>\n",
       "    </tr>\n",
       "    <tr>\n",
       "      <th>871</th>\n",
       "      <td>871</td>\n",
       "      <td>gelato</td>\n",
       "      <td>general</td>\n",
       "    </tr>\n",
       "    <tr>\n",
       "      <th>794</th>\n",
       "      <td>794</td>\n",
       "      <td>condominium complex</td>\n",
       "      <td>general</td>\n",
       "    </tr>\n",
       "    <tr>\n",
       "      <th>340</th>\n",
       "      <td>340</td>\n",
       "      <td>kiosk</td>\n",
       "      <td>general</td>\n",
       "    </tr>\n",
       "    <tr>\n",
       "      <th>524</th>\n",
       "      <td>524</td>\n",
       "      <td>armenian</td>\n",
       "      <td>general</td>\n",
       "    </tr>\n",
       "    <tr>\n",
       "      <th>813</th>\n",
       "      <td>813</td>\n",
       "      <td>french</td>\n",
       "      <td>general</td>\n",
       "    </tr>\n",
       "    <tr>\n",
       "      <th>1103</th>\n",
       "      <td>1103</td>\n",
       "      <td>vape shops</td>\n",
       "      <td>general</td>\n",
       "    </tr>\n",
       "    <tr>\n",
       "      <th>687</th>\n",
       "      <td>687</td>\n",
       "      <td>artist</td>\n",
       "      <td>general</td>\n",
       "    </tr>\n",
       "    <tr>\n",
       "      <th>415</th>\n",
       "      <td>415</td>\n",
       "      <td>diesel fuel supplier</td>\n",
       "      <td>general</td>\n",
       "    </tr>\n",
       "  </tbody>\n",
       "</table>\n",
       "</div>"
      ],
      "text/plain": [
       "      categories_id                     name    group\n",
       "326             326       golf driving range  general\n",
       "378             378  russian orthodox church  general\n",
       "871             871                   gelato  general\n",
       "794             794      condominium complex  general\n",
       "340             340                    kiosk  general\n",
       "524             524                armenian   general\n",
       "813             813                   french  general\n",
       "1103           1103               vape shops  general\n",
       "687             687                   artist  general\n",
       "415             415     diesel fuel supplier  general"
      ]
     },
     "execution_count": 618,
     "metadata": {},
     "output_type": "execute_result"
    }
   ],
   "source": [
    "df.sample(10)"
   ]
  },
  {
   "cell_type": "code",
   "execution_count": 619,
   "metadata": {},
   "outputs": [
    {
     "data": {
      "text/plain": [
       "group\n",
       "general                 1120\n",
       "bars & nightlife          65\n",
       "foreign                   52\n",
       "coffess & breakfast       36\n",
       "fast food                 16\n",
       "veggie & veggetarian       8\n",
       "Name: count, dtype: int64"
      ]
     },
     "execution_count": 619,
     "metadata": {},
     "output_type": "execute_result"
    }
   ],
   "source": [
    "df['group'].value_counts()"
   ]
  },
  {
   "cell_type": "code",
   "execution_count": 620,
   "metadata": {},
   "outputs": [
    {
     "data": {
      "text/plain": [
       "name\n",
       "s                         12914\n",
       "restaurant                10500\n",
       "food                       3942\n",
       "fast food                  3738\n",
       "takeout                    3206\n",
       "pizza                      2793\n",
       "sandwich shop              2644\n",
       "mexican                    2458\n",
       "sandwiches                 2268\n",
       "caterer                    2191\n",
       "american (traditional)     2141\n",
       "nightlife                  2030\n",
       "bars                       1956\n",
       "pizza                      1910\n",
       "breakfast                  1904\n",
       "delivery                   1893\n",
       "american                   1885\n",
       "fast food                  1663\n",
       "chinese                    1635\n",
       "breakfast & brunch         1579\n",
       "Name: count, dtype: int64"
      ]
     },
     "execution_count": 620,
     "metadata": {},
     "output_type": "execute_result"
    }
   ],
   "source": [
    "c_g = pd.read_parquet('../processed/bd/7_categories_google.parquet.gz')\n",
    "c_g.rename(columns=({'gmap_id':'business_id'}),inplace=True)\n",
    "c_y = pd.read_parquet('../processed/bd/8_categories_yelp.parquet.gz')\n",
    "categories_business = pd.concat([c_g,c_y])\n",
    "cat = pd.merge(categories_business,df,on='categories_id')\n",
    "cat['name'].value_counts().head(20)"
   ]
  }
 ],
 "metadata": {
  "kernelspec": {
   "display_name": "Python 3",
   "language": "python",
   "name": "python3"
  },
  "language_info": {
   "codemirror_mode": {
    "name": "ipython",
    "version": 3
   },
   "file_extension": ".py",
   "mimetype": "text/x-python",
   "name": "python",
   "nbconvert_exporter": "python",
   "pygments_lexer": "ipython3",
   "version": "3.11.6"
  }
 },
 "nbformat": 4,
 "nbformat_minor": 2
}
