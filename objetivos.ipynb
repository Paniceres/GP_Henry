{
 "cells": [
  {
   "cell_type": "markdown",
   "metadata": {},
   "source": [
    "## Objetivos:"
   ]
  },
  {
   "cell_type": "markdown",
   "metadata": {},
   "source": [
    "- Tipo de comercio  []\n",
    "- 4 KPI’s  []\n",
    "- Documentar alcance del proyecto  []\n",
    "- EDA de los datos  []\n",
    "- Repositorio en Github  [X]\n",
    "- Implementación stack tecnológico  []\n",
    "- Metodología de trabajo  []\n",
    "- Diseño detallado  []\n",
    "- Equipo de trabajo - Roles y responsabilidades  []\n",
    "- Cronograma general - Gantt  []\n",
    "- Análisis preliminar de calidad de datos  []"
   ]
  },
  {
   "cell_type": "markdown",
   "metadata": {},
   "source": [
    "cantidad de resenias por cada local\n"
   ]
  },
  {
   "cell_type": "code",
   "execution_count": null,
   "metadata": {},
   "outputs": [],
   "source": []
  }
 ],
 "metadata": {
  "language_info": {
   "name": "python"
  }
 },
 "nbformat": 4,
 "nbformat_minor": 2
}
