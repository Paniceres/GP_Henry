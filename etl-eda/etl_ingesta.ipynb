{
 "cells": [
  {
   "cell_type": "code",
   "execution_count": null,
   "metadata": {},
   "outputs": [],
   "source": [
    "import pandas as pd\n",
    "import requests\n",
    "import os\n",
    "from dotenv import load_dotenv "
   ]
  },
  {
   "cell_type": "markdown",
   "metadata": {},
   "source": [
    "A partir de la API publica de yelp, puedo realizar ingesta de datos referente a los locales y sus cacacteristicas junto a reviews de estos."
   ]
  },
  {
   "cell_type": "markdown",
   "metadata": {},
   "source": [
    "## Business Yelp"
   ]
  },
  {
   "cell_type": "markdown",
   "metadata": {},
   "source": [
    "Ingesta de de los locales que son restaurantes y pertencen a los estados trabajados.\n"
   ]
  },
  {
   "cell_type": "code",
   "execution_count": null,
   "metadata": {},
   "outputs": [],
   "source": [
    "\n",
    "load_dotenv('../extras/.env') # Cargo ela archivo donde esta la variable de entorno.\n",
    "api_key_yelp =  os.getenv(\"API_KEY_YELP\") # Cargo la variable de entorno"
   ]
  },
  {
   "cell_type": "code",
   "execution_count": 47,
   "metadata": {},
   "outputs": [],
   "source": [
    "def state_normalize(state):\n",
    "    if state == 'CA':\n",
    "        return 'California'\n",
    "    elif state == 'FL':\n",
    "        return 'Florida'\n",
    "    elif state == 'NJ':\n",
    "        return 'New Jersey'\n",
    "    elif state == 'IL':\n",
    "        return 'Illinois'"
   ]
  },
  {
   "cell_type": "code",
   "execution_count": 35,
   "metadata": {},
   "outputs": [],
   "source": [
    "def business(state):\n",
    "    url = f'https://api.yelp.com/v3/businesses/search'\n",
    "\n",
    "    params = {\n",
    "        'location': state,\n",
    "        'categories':','.join(['restaurant','Restaurant','restaurants','Restaurants']),\n",
    "        'limit':50\n",
    "    }\n",
    "\n",
    "    headers = {\n",
    "        'Authorization': f'Bearer {api_key_yelp}',\n",
    "        'accept': 'application/json'\n",
    "    }\n",
    "\n",
    "    response = requests.get(url, headers=headers,params=params)\n",
    "\n",
    "    if response.status_code == 200:\n",
    "        data = response.json()\n",
    "        # Convierte el JSON en un DataFrame de pandas\n",
    "        #df = pd.json_normalize(data)\n",
    "        businesses = pd.json_normalize(data['businesses'])\n",
    "        return businesses\n",
    "    else:\n",
    "        print(f'Error en la solicitud. Código de estado: {response.status_code}')\n",
    "        print(response.text)"
   ]
  },
  {
   "cell_type": "code",
   "execution_count": 36,
   "metadata": {},
   "outputs": [],
   "source": [
    "url = f'https://api.yelp.com/v3/businesses/search'\n",
    "\n",
    "yelp_bussines = pd.DataFrame()\n",
    "for state in ['CA','FL','NJ','IL']:\n",
    "    businesses = business(state)\n",
    "    yelp_bussines = pd.concat([businesses,yelp_bussines])"
   ]
  },
  {
   "cell_type": "code",
   "execution_count": 37,
   "metadata": {},
   "outputs": [
    {
     "data": {
      "text/plain": [
       "200"
      ]
     },
     "execution_count": 37,
     "metadata": {},
     "output_type": "execute_result"
    }
   ],
   "source": [
    "yelp_bussines.shape[0]\n"
   ]
  },
  {
   "cell_type": "markdown",
   "metadata": {},
   "source": [
    "Como puede verse cargue datos de locales para los estados a usar, pero solo se ingestar 200 locales, y se consumieron 4 consultas de las 500"
   ]
  },
  {
   "cell_type": "markdown",
   "metadata": {},
   "source": [
    "Voy a realizar un etl para dejar los datos, igual a los del Data Wherehouse"
   ]
  },
  {
   "cell_type": "code",
   "execution_count": 38,
   "metadata": {},
   "outputs": [
    {
     "data": {
      "text/plain": [
       "Index(['id', 'alias', 'name', 'image_url', 'is_closed', 'url', 'review_count',\n",
       "       'categories', 'rating', 'transactions', 'price', 'phone',\n",
       "       'display_phone', 'distance', 'coordinates.latitude',\n",
       "       'coordinates.longitude', 'location.address1', 'location.address2',\n",
       "       'location.address3', 'location.city', 'location.zip_code',\n",
       "       'location.country', 'location.state', 'location.display_address'],\n",
       "      dtype='object')"
      ]
     },
     "execution_count": 38,
     "metadata": {},
     "output_type": "execute_result"
    }
   ],
   "source": [
    "yelp_bussines.columns"
   ]
  },
  {
   "cell_type": "code",
   "execution_count": 45,
   "metadata": {},
   "outputs": [],
   "source": [
    "yelp_bussines['categories'] = yelp_bussines['categories'].apply(lambda x: [item['alias'] for item in x] if isinstance(x, list) else [])"
   ]
  },
  {
   "cell_type": "code",
   "execution_count": 48,
   "metadata": {},
   "outputs": [],
   "source": [
    "yelp_bussines['state'] = yelp_bussines['state'].apply(state_normalize)"
   ]
  },
  {
   "cell_type": "code",
   "execution_count": 49,
   "metadata": {},
   "outputs": [
    {
     "data": {
      "text/html": [
       "<div>\n",
       "<style scoped>\n",
       "    .dataframe tbody tr th:only-of-type {\n",
       "        vertical-align: middle;\n",
       "    }\n",
       "\n",
       "    .dataframe tbody tr th {\n",
       "        vertical-align: top;\n",
       "    }\n",
       "\n",
       "    .dataframe thead th {\n",
       "        text-align: right;\n",
       "    }\n",
       "</style>\n",
       "<table border=\"1\" class=\"dataframe\">\n",
       "  <thead>\n",
       "    <tr style=\"text-align: right;\">\n",
       "      <th></th>\n",
       "      <th>business_id</th>\n",
       "      <th>name</th>\n",
       "      <th>latitude</th>\n",
       "      <th>longitude</th>\n",
       "      <th>categories</th>\n",
       "      <th>stars</th>\n",
       "      <th>state</th>\n",
       "    </tr>\n",
       "  </thead>\n",
       "  <tbody>\n",
       "    <tr>\n",
       "      <th>0</th>\n",
       "      <td>qjnpkS8yZO8xcyEIy5OU9A</td>\n",
       "      <td>Girl &amp; The Goat</td>\n",
       "      <td>41.884181</td>\n",
       "      <td>-87.647947</td>\n",
       "      <td>[newamerican, bakeries, coffee]</td>\n",
       "      <td>4.5</td>\n",
       "      <td>Illinois</td>\n",
       "    </tr>\n",
       "    <tr>\n",
       "      <th>1</th>\n",
       "      <td>boE4Ahsssqic7o5wQLI04w</td>\n",
       "      <td>The Purple Pig</td>\n",
       "      <td>41.890694</td>\n",
       "      <td>-87.624782</td>\n",
       "      <td>[tapasmallplates, mediterranean, newamerican]</td>\n",
       "      <td>4.5</td>\n",
       "      <td>Illinois</td>\n",
       "    </tr>\n",
       "    <tr>\n",
       "      <th>2</th>\n",
       "      <td>xoi7Cw7FoknAx5p880RtWQ</td>\n",
       "      <td>Au Cheval</td>\n",
       "      <td>41.884660</td>\n",
       "      <td>-87.647668</td>\n",
       "      <td>[bars, tradamerican]</td>\n",
       "      <td>4.5</td>\n",
       "      <td>Illinois</td>\n",
       "    </tr>\n",
       "    <tr>\n",
       "      <th>3</th>\n",
       "      <td>cKZNbMvoqJaUe7n6lf6i7w</td>\n",
       "      <td>Wildberry Pancakes and Cafe</td>\n",
       "      <td>41.884668</td>\n",
       "      <td>-87.622880</td>\n",
       "      <td>[pancakes, waffles, cafes]</td>\n",
       "      <td>4.5</td>\n",
       "      <td>Illinois</td>\n",
       "    </tr>\n",
       "    <tr>\n",
       "      <th>4</th>\n",
       "      <td>riT822EnU7y_5eCuJsd9sA</td>\n",
       "      <td>Cindy's Rooftop</td>\n",
       "      <td>41.881689</td>\n",
       "      <td>-87.625006</td>\n",
       "      <td>[newamerican, seafood, breakfast_brunch]</td>\n",
       "      <td>4.0</td>\n",
       "      <td>Illinois</td>\n",
       "    </tr>\n",
       "    <tr>\n",
       "      <th>...</th>\n",
       "      <td>...</td>\n",
       "      <td>...</td>\n",
       "      <td>...</td>\n",
       "      <td>...</td>\n",
       "      <td>...</td>\n",
       "      <td>...</td>\n",
       "      <td>...</td>\n",
       "    </tr>\n",
       "    <tr>\n",
       "      <th>45</th>\n",
       "      <td>PGUM86R57lXPi4LFHJWhAg</td>\n",
       "      <td>Dish Bistro</td>\n",
       "      <td>37.637530</td>\n",
       "      <td>-118.966839</td>\n",
       "      <td>[burgers, sandwiches, desserts]</td>\n",
       "      <td>5.0</td>\n",
       "      <td>California</td>\n",
       "    </tr>\n",
       "    <tr>\n",
       "      <th>46</th>\n",
       "      <td>RxBjn1XKhSTeTZ7bqMVysA</td>\n",
       "      <td>Sam's Italian Deli &amp; Market</td>\n",
       "      <td>36.772659</td>\n",
       "      <td>-119.772999</td>\n",
       "      <td>[delis, beer_and_wine, intlgrocery]</td>\n",
       "      <td>4.5</td>\n",
       "      <td>California</td>\n",
       "    </tr>\n",
       "    <tr>\n",
       "      <th>47</th>\n",
       "      <td>VvPOfhbH6BH3I-vFG1hALQ</td>\n",
       "      <td>Ramen Hayashi</td>\n",
       "      <td>36.837882</td>\n",
       "      <td>-119.685182</td>\n",
       "      <td>[ramen]</td>\n",
       "      <td>4.5</td>\n",
       "      <td>California</td>\n",
       "    </tr>\n",
       "    <tr>\n",
       "      <th>48</th>\n",
       "      <td>a3mxzNSSW11qjYLFjEbMGA</td>\n",
       "      <td>Rio Acai Bowls - Downtown Fresno</td>\n",
       "      <td>36.742920</td>\n",
       "      <td>-119.800360</td>\n",
       "      <td>[acaibowls, poke, vegan]</td>\n",
       "      <td>4.5</td>\n",
       "      <td>California</td>\n",
       "    </tr>\n",
       "    <tr>\n",
       "      <th>49</th>\n",
       "      <td>DJHm-fYcCpr-OO2h6z1wPQ</td>\n",
       "      <td>George's Bar &amp; Grill</td>\n",
       "      <td>36.835350</td>\n",
       "      <td>-119.789650</td>\n",
       "      <td>[mediterranean, armenian]</td>\n",
       "      <td>4.5</td>\n",
       "      <td>California</td>\n",
       "    </tr>\n",
       "  </tbody>\n",
       "</table>\n",
       "<p>200 rows × 7 columns</p>\n",
       "</div>"
      ],
      "text/plain": [
       "               business_id                              name   latitude  \\\n",
       "0   qjnpkS8yZO8xcyEIy5OU9A                   Girl & The Goat  41.884181   \n",
       "1   boE4Ahsssqic7o5wQLI04w                    The Purple Pig  41.890694   \n",
       "2   xoi7Cw7FoknAx5p880RtWQ                         Au Cheval  41.884660   \n",
       "3   cKZNbMvoqJaUe7n6lf6i7w       Wildberry Pancakes and Cafe  41.884668   \n",
       "4   riT822EnU7y_5eCuJsd9sA                   Cindy's Rooftop  41.881689   \n",
       "..                     ...                               ...        ...   \n",
       "45  PGUM86R57lXPi4LFHJWhAg                       Dish Bistro  37.637530   \n",
       "46  RxBjn1XKhSTeTZ7bqMVysA       Sam's Italian Deli & Market  36.772659   \n",
       "47  VvPOfhbH6BH3I-vFG1hALQ                     Ramen Hayashi  36.837882   \n",
       "48  a3mxzNSSW11qjYLFjEbMGA  Rio Acai Bowls - Downtown Fresno  36.742920   \n",
       "49  DJHm-fYcCpr-OO2h6z1wPQ              George's Bar & Grill  36.835350   \n",
       "\n",
       "     longitude                                     categories  stars  \\\n",
       "0   -87.647947                [newamerican, bakeries, coffee]    4.5   \n",
       "1   -87.624782  [tapasmallplates, mediterranean, newamerican]    4.5   \n",
       "2   -87.647668                           [bars, tradamerican]    4.5   \n",
       "3   -87.622880                     [pancakes, waffles, cafes]    4.5   \n",
       "4   -87.625006       [newamerican, seafood, breakfast_brunch]    4.0   \n",
       "..         ...                                            ...    ...   \n",
       "45 -118.966839                [burgers, sandwiches, desserts]    5.0   \n",
       "46 -119.772999            [delis, beer_and_wine, intlgrocery]    4.5   \n",
       "47 -119.685182                                        [ramen]    4.5   \n",
       "48 -119.800360                       [acaibowls, poke, vegan]    4.5   \n",
       "49 -119.789650                      [mediterranean, armenian]    4.5   \n",
       "\n",
       "         state  \n",
       "0     Illinois  \n",
       "1     Illinois  \n",
       "2     Illinois  \n",
       "3     Illinois  \n",
       "4     Illinois  \n",
       "..         ...  \n",
       "45  California  \n",
       "46  California  \n",
       "47  California  \n",
       "48  California  \n",
       "49  California  \n",
       "\n",
       "[200 rows x 7 columns]"
      ]
     },
     "execution_count": 49,
     "metadata": {},
     "output_type": "execute_result"
    }
   ],
   "source": [
    "yelp_bussines.rename(columns={\n",
    "    'id':'business_id',\n",
    "    'name':'name',\n",
    "    'coordinates.latitude':'latitude',\n",
    "    'coordinates.longitude':'longitude',\n",
    "    'categories':'categories',\n",
    "    'rating':'stars',\n",
    "    'location.state':'state',\n",
    "    \n",
    "},inplace=True)\n",
    "columnas = ['business_id', 'name', 'latitude','longitude','categories','stars','state']\n",
    "yelp_bussines[columnas]"
   ]
  },
  {
   "cell_type": "markdown",
   "metadata": {},
   "source": [
    "## Reviews Yelp\n"
   ]
  },
  {
   "cell_type": "code",
   "execution_count": null,
   "metadata": {},
   "outputs": [],
   "source": [
    "def ingest_reviews_yelp(business_id):\n",
    "    url =f'https://api.yelp.com/v3/businesses/{business_id}/reviews?limit=50&sort_by=yelp_sort\"'\n",
    "\n",
    "    headers = {\n",
    "        'Authorization': f'Bearer {api_key_yelp}',\n",
    "        'accept': 'application/json'\n",
    "    }\n",
    "\n",
    "    response = requests.get(url, headers=headers)\n",
    "\n",
    "    if response.status_code == 200:\n",
    "        data = response.json()\n",
    "        reviews_list = data.get('reviews', [])\n",
    "        return  pd.json_normalize(reviews_list)\n",
    "\n",
    "    else:\n",
    "        print(f'Error en la solicitud. Código de estado: {response.status_code}')\n"
   ]
  },
  {
   "cell_type": "code",
   "execution_count": 51,
   "metadata": {},
   "outputs": [
    {
     "data": {
      "text/plain": [
       "3"
      ]
     },
     "execution_count": 51,
     "metadata": {},
     "output_type": "execute_result"
    }
   ],
   "source": [
    "#funcion que retorna una lista con los id que no existan ya en el DW\n",
    "business_id = 'eEOYSgkmpB90uNA7lDOMRA'\n",
    "reviews_yelp = ingest_reviews_yelp(business_id)\n",
    "reviews_yelp['business_id'] = business_id\n",
    "reviews_yelp.shape[0]"
   ]
  },
  {
   "cell_type": "markdown",
   "metadata": {},
   "source": [
    "Puede verse que cada review se saca a partir de un business id por ende, con 500 consultas que es el limite diario se obtendrian reviews solo para 500 locales."
   ]
  },
  {
   "cell_type": "code",
   "execution_count": 52,
   "metadata": {},
   "outputs": [
    {
     "data": {
      "text/html": [
       "<div>\n",
       "<style scoped>\n",
       "    .dataframe tbody tr th:only-of-type {\n",
       "        vertical-align: middle;\n",
       "    }\n",
       "\n",
       "    .dataframe tbody tr th {\n",
       "        vertical-align: top;\n",
       "    }\n",
       "\n",
       "    .dataframe thead th {\n",
       "        text-align: right;\n",
       "    }\n",
       "</style>\n",
       "<table border=\"1\" class=\"dataframe\">\n",
       "  <thead>\n",
       "    <tr style=\"text-align: right;\">\n",
       "      <th></th>\n",
       "      <th>id</th>\n",
       "      <th>url</th>\n",
       "      <th>text</th>\n",
       "      <th>rating</th>\n",
       "      <th>time_created</th>\n",
       "      <th>user.id</th>\n",
       "      <th>user.profile_url</th>\n",
       "      <th>user.image_url</th>\n",
       "      <th>user.name</th>\n",
       "      <th>business_id</th>\n",
       "    </tr>\n",
       "  </thead>\n",
       "  <tbody>\n",
       "    <tr>\n",
       "      <th>0</th>\n",
       "      <td>CE36Dcxv60ibaHntpm94zg</td>\n",
       "      <td>https://www.yelp.com/biz/vietnamese-food-truck...</td>\n",
       "      <td>Vietnamese Food Truck was a super perfect dinn...</td>\n",
       "      <td>5</td>\n",
       "      <td>2021-11-30 16:06:58</td>\n",
       "      <td>qjfMBIZpQT9DDtw_BWCopQ</td>\n",
       "      <td>https://www.yelp.com/user_details?userid=qjfMB...</td>\n",
       "      <td>https://s3-media2.fl.yelpcdn.com/photo/zo5AHLN...</td>\n",
       "      <td>Rachel M.</td>\n",
       "      <td>eEOYSgkmpB90uNA7lDOMRA</td>\n",
       "    </tr>\n",
       "    <tr>\n",
       "      <th>1</th>\n",
       "      <td>x9Vsx5gGtUi-LZwk-BREKQ</td>\n",
       "      <td>https://www.yelp.com/biz/vietnamese-food-truck...</td>\n",
       "      <td>I have traveled to Vietnam several times, love...</td>\n",
       "      <td>5</td>\n",
       "      <td>2022-01-02 17:18:29</td>\n",
       "      <td>01cQC-PaQb-cqbRAvwJU-A</td>\n",
       "      <td>https://www.yelp.com/user_details?userid=01cQC...</td>\n",
       "      <td>https://s3-media4.fl.yelpcdn.com/photo/yQAoMte...</td>\n",
       "      <td>Art K.</td>\n",
       "      <td>eEOYSgkmpB90uNA7lDOMRA</td>\n",
       "    </tr>\n",
       "    <tr>\n",
       "      <th>2</th>\n",
       "      <td>WidU0v-65L7sEoLI4NuYCw</td>\n",
       "      <td>https://www.yelp.com/biz/vietnamese-food-truck...</td>\n",
       "      <td>don't come to this food truck. the owner (?) a...</td>\n",
       "      <td>1</td>\n",
       "      <td>2023-05-08 09:53:43</td>\n",
       "      <td>GjGcvFTzg3QD35OwewXdvA</td>\n",
       "      <td>https://www.yelp.com/user_details?userid=GjGcv...</td>\n",
       "      <td>None</td>\n",
       "      <td>Alexandria T.</td>\n",
       "      <td>eEOYSgkmpB90uNA7lDOMRA</td>\n",
       "    </tr>\n",
       "  </tbody>\n",
       "</table>\n",
       "</div>"
      ],
      "text/plain": [
       "                       id                                                url  \\\n",
       "0  CE36Dcxv60ibaHntpm94zg  https://www.yelp.com/biz/vietnamese-food-truck...   \n",
       "1  x9Vsx5gGtUi-LZwk-BREKQ  https://www.yelp.com/biz/vietnamese-food-truck...   \n",
       "2  WidU0v-65L7sEoLI4NuYCw  https://www.yelp.com/biz/vietnamese-food-truck...   \n",
       "\n",
       "                                                text  rating  \\\n",
       "0  Vietnamese Food Truck was a super perfect dinn...       5   \n",
       "1  I have traveled to Vietnam several times, love...       5   \n",
       "2  don't come to this food truck. the owner (?) a...       1   \n",
       "\n",
       "          time_created                 user.id  \\\n",
       "0  2021-11-30 16:06:58  qjfMBIZpQT9DDtw_BWCopQ   \n",
       "1  2022-01-02 17:18:29  01cQC-PaQb-cqbRAvwJU-A   \n",
       "2  2023-05-08 09:53:43  GjGcvFTzg3QD35OwewXdvA   \n",
       "\n",
       "                                    user.profile_url  \\\n",
       "0  https://www.yelp.com/user_details?userid=qjfMB...   \n",
       "1  https://www.yelp.com/user_details?userid=01cQC...   \n",
       "2  https://www.yelp.com/user_details?userid=GjGcv...   \n",
       "\n",
       "                                      user.image_url      user.name  \\\n",
       "0  https://s3-media2.fl.yelpcdn.com/photo/zo5AHLN...      Rachel M.   \n",
       "1  https://s3-media4.fl.yelpcdn.com/photo/yQAoMte...         Art K.   \n",
       "2                                               None  Alexandria T.   \n",
       "\n",
       "              business_id  \n",
       "0  eEOYSgkmpB90uNA7lDOMRA  \n",
       "1  eEOYSgkmpB90uNA7lDOMRA  \n",
       "2  eEOYSgkmpB90uNA7lDOMRA  "
      ]
     },
     "execution_count": 52,
     "metadata": {},
     "output_type": "execute_result"
    }
   ],
   "source": [
    "reviews_yelp.rename({\n",
    "    'id\t':'review_id',\n",
    "    'user.id':'user_id',\n",
    "    'business_id':'business_id',\n",
    "    'sentiment':'sentiment',\n",
    "    'time_created':'date'\n",
    "},inplace=True)"
   ]
  },
  {
   "cell_type": "code",
   "execution_count": null,
   "metadata": {},
   "outputs": [],
   "source": [
    "import s3\n",
    "bucket_nombre = 'projectgoogleyelp'\n",
    "objeto_key = 'yelp/bussiness_yelp.parquet.gz'\n",
    "destino_archivo = './asd.parquet.gz'\n",
    "# Llama a la función para descargar el objeto desde S3\n",
    "s3.download_file(bucket_nombre,objeto_key,destino_archivo)\n"
   ]
  }
 ],
 "metadata": {
  "kernelspec": {
   "display_name": "Python 3",
   "language": "python",
   "name": "python3"
  },
  "language_info": {
   "codemirror_mode": {
    "name": "ipython",
    "version": 3
   },
   "file_extension": ".py",
   "mimetype": "text/x-python",
   "name": "python",
   "nbconvert_exporter": "python",
   "pygments_lexer": "ipython3",
   "version": "3.11.6"
  }
 },
 "nbformat": 4,
 "nbformat_minor": 2
}
