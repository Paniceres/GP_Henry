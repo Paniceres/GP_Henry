{
 "cells": [
  {
   "cell_type": "markdown",
   "metadata": {},
   "source": [
    "# ETL reviews Yelp"
   ]
  },
  {
   "cell_type": "markdown",
   "metadata": {},
   "source": [
    "### Optimización de los datasets originales"
   ]
  },
  {
   "cell_type": "markdown",
   "metadata": {},
   "source": [
    "El archivo es muy grande para la tranformacion directa del mismo. Por ende lo dividimos en partes para que seas mas optimo y mas facil de trabajarlo. Lo particionamos sera de 300000 filas, que nos da como resultado 24 archivos."
   ]
  },
  {
   "cell_type": "code",
   "execution_count": 1,
   "metadata": {},
   "outputs": [],
   "source": [
    "# # Generamos partes de un tamaño de chunck 300000, genera 24 partes en json.\n",
    "# def dividir_json_en_partes(archivo_entrada, tamaño_maximo, prefijo_salida):\n",
    "#     with open(archivo_entrada, 'rb') as f_entrada:\n",
    "#         # Inicializa la lista para almacenar cada parte del JSON\n",
    "#         partes = []\n",
    "#         numero_parte = 1\n",
    "\n",
    "#         # Itera sobre cada línea del archivo JSON\n",
    "#         for linea_binaria in f_entrada:\n",
    "#             # Decodifica la línea binaria como UTF-8\n",
    "#             linea = linea_binaria.decode('utf-8')\n",
    "\n",
    "#             # Decodifica la línea como JSON\n",
    "#             dato = json.loads(linea)\n",
    "\n",
    "#             # Agrega el dato a la parte actual\n",
    "#             partes.append(dato)\n",
    "\n",
    "#             # Si la parte alcanza el tamaño máximo, guárdala y reinicia la lista\n",
    "#             if len(partes) >= tamaño_maximo:\n",
    "#                 guardar_parte(prefijo_salida, numero_parte, partes)\n",
    "#                 numero_parte += 1\n",
    "#                 partes = []\n",
    "\n",
    "#         # Si hay datos restantes, guárdalos como la última parte\n",
    "#         if partes:\n",
    "#             guardar_parte(prefijo_salida, numero_parte, partes)\n",
    "\n",
    "# def guardar_parte(prefijo_salida, numero_parte, datos):\n",
    "#     nombre_salida = f\"{prefijo_salida}_{numero_parte}.json\"\n",
    "#     with open(f'../extras/Datasets/Yelp/Pruebas/reviews_{nombre_salida}', 'w') as f_salida:\n",
    "#         json.dump(datos, f_salida, indent=2)  # Puedes ajustar el nivel de indentación según tus preferencias\n",
    "\n",
    "# # Especifica el archivo JSON de entrada, el tamaño máximo por parte y el prefijo para los archivos de salida\n",
    "\n",
    "# # Llama a la función para dividir el JSON en partes\n",
    "# dividir_json_en_partes('../extras/Datasets/Yelp/review.json', 300000, 'parte') "
   ]
  },
  {
   "cell_type": "markdown",
   "metadata": {},
   "source": [
    "Una vez dividido en partes lo guardamos en tipo parquet comprimido con gzip para que reduzca su tamaño."
   ]
  },
  {
   "cell_type": "code",
   "execution_count": 2,
   "metadata": {},
   "outputs": [],
   "source": [
    "# cantidad = list(range(1,25))\n",
    "\n",
    "# def convertir_json_a_parquet(archivo_json, archivo_parquet):\n",
    "#     # Lee el archivo JSON en un DataFrame de pandas\n",
    "#     with open(archivo_json, 'r') as f:\n",
    "#         datos_json = json.load(f)\n",
    "\n",
    "#     # Convierte el JSON a un DataFrame de pandas\n",
    "#     dataframe = pd.DataFrame(datos_json)\n",
    "\n",
    "#     # Convierte el DataFrame de pandas a una tabla de PyArrow\n",
    "#     tabla = pa.Table.from_pandas(dataframe)\n",
    "\n",
    "#     # Escribe la tabla en un archivo Parquet\n",
    "#     pq.write_table(tabla, archivo_parquet, compression='gzip')\n",
    "\n",
    "# for i in cantidad:\n",
    "#     # Especifica el archivo JSON de entrada y el archivo Parquet de salida\n",
    "#     archivo_json = f'Datasets/Yelp/Pruebas/reviews_parte_{i}.json'\n",
    "#     archivo_parquet = f'Datasets/Yelp/reviewsParquet/reviews_parte_{i}.gz.parquet'\n",
    "\n",
    "#     # Llama a la función para convertir el JSON a Parquet\n",
    "#     convertir_json_a_parquet(archivo_json, archivo_parquet)"
   ]
  },
  {
   "cell_type": "markdown",
   "metadata": {},
   "source": [
    "### Tranformacion de los datos"
   ]
  },
  {
   "cell_type": "markdown",
   "metadata": {},
   "source": [
    "#### Analisis de sentimiento"
   ]
  },
  {
   "cell_type": "markdown",
   "metadata": {},
   "source": [
    "Importamos las librerias necesarias, y generamos el modelo de NLP para el analisis de sentimiento de la review."
   ]
  },
  {
   "cell_type": "code",
   "execution_count": null,
   "metadata": {},
   "outputs": [],
   "source": [
    "import pandas as pd\n",
    "from nltk.sentiment import SentimentIntensityAnalyzer\n",
    "import nltk\n",
    "nltk.download(['vader_lexicon', 'stopwords', 'punkt', 'names'])\n",
    "\n",
    "sid = SentimentIntensityAnalyzer()"
   ]
  },
  {
   "cell_type": "markdown",
   "metadata": {},
   "source": [
    "Para saber si un comentario es positivo, negativo o neutro, utilizamos polarity_scores que devuelve un diccionario de 4 claves, neg, neu, pos y compound. Las que nos interesa para clasificar la reseña es el compound, que es una puntuacion compuesta de todo el texto. \n",
    "\n",
    "Para calificarlo ademas de usar esta funcion, utilizamos la clasificacion que da el resto de los usuarios, tomamos como esto a las estrellas que tiene la reseña. Por ende este valor lo dividimos por 5 asi nos quedan valores mas chicos y lo sumamos con el valor del compound previamente calculado.\n",
    "\n",
    "Generamos esta funcion puntajeNLP para poder redondear este valor calculado por la suma antes mencionada, y ahi redondearlo a 2 (positivo), 1 (negativo), 0(neutro)."
   ]
  },
  {
   "cell_type": "code",
   "execution_count": 4,
   "metadata": {},
   "outputs": [],
   "source": [
    "def puntajeNLP(x):\n",
    "    if x > 1.5:\n",
    "        return 2 # Positivo\n",
    "    elif x >= 1:\n",
    "        return 0 # Neutro\n",
    "    else: \n",
    "        return 1 # Negativo"
   ]
  },
  {
   "cell_type": "code",
   "execution_count": null,
   "metadata": {},
   "outputs": [],
   "source": [
    "# Hacemos la tranformacion de todas las partes realizadas anteriormente.\n",
    "\n",
    "for i in range(1,25):\n",
    "    # Leemos el archivo\n",
    "    df = pd.read_parquet(f'../extras/Datasets/Yelp/reviewsParquet/reviews_parte_{i}.gz.parquet')\n",
    "    # Nos quedamos con las columnas que necesitamos\n",
    "    df = df[['review_id', 'user_id', 'business_id','stars', 'text', 'date']]\n",
    "\n",
    "    # Realizamos el analisis de sentimiento, la division de las estrellas y la suma de ambas para la clasificacion de la reseña.\n",
    "    analisis = df['text'].apply(lambda x: sid.polarity_scores(x)[\"compound\"])\n",
    "    valorEstrellas = df['stars'] / 5 \n",
    "    analisis += valorEstrellas\n",
    "    analisis = analisis.apply(lambda x: puntajeNLP(x))\n",
    "\n",
    "    # Reemplazamos la reseña por el analisis de sentimiento ya que son los datos necesarios y además para reducir el peso del archivo.\n",
    "    df['text'] = analisis\n",
    "\n",
    "    # Renombramos las columnas\n",
    "    df.columns = ['review_id', 'user_id', 'business_id', 'stars' ,'sentiment', 'date']\n",
    "\n",
    "    # Cambiamos tipo de dato.\n",
    "    df['sentiment'] = df['sentiment'].astype('int8')\n",
    "\n",
    "    # Exportamos el archivo para su proxima union.\n",
    "    df.to_parquet(f'../extras/Datasets optimizados/Yelp/reviews_parte_{i}_gz.parquet', compression='gzip')"
   ]
  },
  {
   "cell_type": "markdown",
   "metadata": {},
   "source": [
    "Unimos todos los datasets"
   ]
  },
  {
   "cell_type": "code",
   "execution_count": 7,
   "metadata": {},
   "outputs": [],
   "source": [
    "df = pd.read_parquet('../extras/Datasets optimizados/Yelp/reviews procecados particionado/reviews_parte_1_gz.parquet')\n",
    "for i in range(2,25):\n",
    "    # Leemos el archivo\n",
    "    aux = pd.read_parquet(f'../extras/Datasets optimizados/Yelp/reviews procecados particionado/reviews_parte_{i}_gz.parquet')\n",
    "    df = pd.concat([df,aux], axis=0, ignore_index=True)\n",
    "\n",
    "df.to_parquet('../extras/Datasets optimizados/yelp_total_reviews.gz.parquet', compression='gzip')"
   ]
  },
  {
   "cell_type": "markdown",
   "metadata": {},
   "source": [
    "Hacemos el merge con los negocios que vamos a utilizar segun el criterio."
   ]
  },
  {
   "cell_type": "code",
   "execution_count": 72,
   "metadata": {},
   "outputs": [],
   "source": [
    "reviewsDf = pd.read_parquet('../extras/Datasets optimizados/Yelp/yelp_total_reviews.gz.parquet')\n",
    "\n",
    "# Dataset de negocios ya filtrado por estado y tipo de negocio.\n",
    "negociosDf = pd.read_parquet('../datasets/raw/bussiness_yelp_sin_criterio.parquet.gz')\n",
    "# negociosDf = pd.read_parquet('../datasets/processed/yelp/bussiness_yelp.parquet.gz')"
   ]
  },
  {
   "cell_type": "markdown",
   "metadata": {},
   "source": [
    "Generamos el dataset de las reviews que vamos a utilizar, y lo guardamos."
   ]
  },
  {
   "cell_type": "code",
   "execution_count": 76,
   "metadata": {},
   "outputs": [],
   "source": [
    "reviewsDf = reviewsDf.merge(negociosDf['business_id'], how='inner')\n",
    "reviewsDf['date'] = pd.to_datetime(reviewsDf['date'])\n",
    "\n",
    "reviewsDf.to_parquet('../datasets/raw/reviews_yelp_sin_criterio.parquet.gz', compression='gzip') "
   ]
  },
  {
   "cell_type": "markdown",
   "metadata": {},
   "source": [
    "# Analisis de reviews por año"
   ]
  },
  {
   "cell_type": "code",
   "execution_count": 39,
   "metadata": {},
   "outputs": [],
   "source": [
    "reviewsDf = pd.read_parquet('../datasets/raw/reviews_yelp_sin_criterio.parquet.gz')"
   ]
  },
  {
   "cell_type": "code",
   "execution_count": 40,
   "metadata": {},
   "outputs": [
    {
     "data": {
      "text/plain": [
       "date\n",
       "2019    151257\n",
       "2018    150872\n",
       "2017    136635\n",
       "2016    130546\n",
       "2015    117914\n",
       "2021    115990\n",
       "2020    100691\n",
       "2014     81330\n",
       "2013     55464\n",
       "2012     36948\n",
       "2011     25469\n",
       "2010     14733\n",
       "2009      7842\n",
       "2022      6083\n",
       "2008      3941\n",
       "2007      1853\n",
       "2006       690\n",
       "2005        77\n",
       "Name: count, dtype: int64"
      ]
     },
     "execution_count": 40,
     "metadata": {},
     "output_type": "execute_result"
    }
   ],
   "source": [
    "reviewsDf['date'].dt.year.value_counts()"
   ]
  },
  {
   "cell_type": "code",
   "execution_count": 41,
   "metadata": {},
   "outputs": [
    {
     "name": "stderr",
     "output_type": "stream",
     "text": [
      "C:\\Users\\Damian\\AppData\\Local\\Temp\\ipykernel_12968\\3328395629.py:9: FutureWarning: \n",
      "\n",
      "Passing `palette` without assigning `hue` is deprecated and will be removed in v0.14.0. Assign the `x` variable to `hue` and set `legend=False` for the same effect.\n",
      "\n",
      "  sns.barplot(reviewsDf['date'].dt.year.value_counts(), palette='deep')\n"
     ]
    },
    {
     "data": {
      "image/png": "[encoded data removed]",
      "text/plain": [
       "<Figure size 2400x600 with 2 Axes>"
      ]
     },
     "metadata": {},
     "output_type": "display_data"
    }
   ],
   "source": [
    "import seaborn as sns\n",
    "import matplotlib.pyplot as plt\n",
    "\n",
    "plt.figure(figsize=(24,6))\n",
    "plt.subplot(1,2,1)\n",
    "plt.title('Distribucion de reviews por año en Yelp')\n",
    "plt.ylabel('Cantidad de reviews')\n",
    "plt.xlabel('Años')\n",
    "sns.barplot(reviewsDf['date'].dt.year.value_counts(), palette='deep')\n",
    "\n",
    "plt.subplot(1,2,2)\n",
    "plt.title('Reviews de Yelp a travez de los años')\n",
    "plt.ylabel('Cantidad de reviews')\n",
    "plt.xlabel('Años')\n",
    "plt.xticks(list(range(2005,2023)))\n",
    "sns.set(style=\"whitegrid\",  rc={\"grid.linewidth\": 0.7, \"grid.alpha\": 0.7})\n",
    "sns.lineplot(reviewsDf['date'].dt.year.value_counts(), marker='o', markerfacecolor='black', color='red', linestyle='solid', linewidth=2.5).set_axisbelow(True)\n",
    "\n",
    "\n",
    "plt.show()"
   ]
  },
  {
   "cell_type": "code",
   "execution_count": 42,
   "metadata": {},
   "outputs": [],
   "source": [
    "criterio = reviewsDf[reviewsDf['date'].dt.year >= 2015]['date'].dt.year.value_counts() "
   ]
  },
  {
   "cell_type": "code",
   "execution_count": 43,
   "metadata": {},
   "outputs": [
    {
     "data": {
      "text/plain": [
       "<Axes: title={'center': 'Yelp'}, xlabel='date', ylabel='count'>"
      ]
     },
     "execution_count": 43,
     "metadata": {},
     "output_type": "execute_result"
    },
    {
     "data": {
      "image/png": "[encoded data removed]",
      "text/plain": [
       "<Figure size 1200x600 with 1 Axes>"
      ]
     },
     "metadata": {},
     "output_type": "display_data"
    }
   ],
   "source": [
    "plt.figure(figsize=(12,6))\n",
    "plt.title('Yelp')\n",
    "sns.barplot(criterio)"
   ]
  },
  {
   "cell_type": "markdown",
   "metadata": {},
   "source": [
    "### Aplicamos criterio de las reviews: 2015 en adelante"
   ]
  },
  {
   "cell_type": "code",
   "execution_count": 44,
   "metadata": {},
   "outputs": [],
   "source": [
    "reviewsDf = reviewsDf[reviewsDf['date'].dt.year >= 2015]\n",
    "reviewsDf.reset_index(drop=True, inplace=True)"
   ]
  },
  {
   "cell_type": "markdown",
   "metadata": {},
   "source": [
    "Verificamos la informacion de usuarios que tenemos"
   ]
  },
  {
   "cell_type": "code",
   "execution_count": 45,
   "metadata": {},
   "outputs": [],
   "source": [
    "user = pd.read_parquet(r'../extras/Datasets/Yelp/user.parquet')\n",
    "user = user[['user_id']]\n",
    "\n",
    "# Eliminamos duplicados\n",
    "user.drop_duplicates(inplace=True)"
   ]
  },
  {
   "cell_type": "code",
   "execution_count": 46,
   "metadata": {},
   "outputs": [
    {
     "data": {
      "text/html": [
       "<div>\n",
       "<style scoped>\n",
       "    .dataframe tbody tr th:only-of-type {\n",
       "        vertical-align: middle;\n",
       "    }\n",
       "\n",
       "    .dataframe tbody tr th {\n",
       "        vertical-align: top;\n",
       "    }\n",
       "\n",
       "    .dataframe thead th {\n",
       "        text-align: right;\n",
       "    }\n",
       "</style>\n",
       "<table border=\"1\" class=\"dataframe\">\n",
       "  <thead>\n",
       "    <tr style=\"text-align: right;\">\n",
       "      <th></th>\n",
       "      <th>review_id</th>\n",
       "      <th>user_id</th>\n",
       "      <th>business_id</th>\n",
       "      <th>stars</th>\n",
       "      <th>sentiment</th>\n",
       "      <th>date</th>\n",
       "    </tr>\n",
       "  </thead>\n",
       "  <tbody>\n",
       "    <tr>\n",
       "      <th>0</th>\n",
       "      <td>pUycOfUwM8vqX7KjRRhUEA</td>\n",
       "      <td>59MxRhNVhU9MYndMkz0wtw</td>\n",
       "      <td>gebiRewfieSdtt17PTW6Zg</td>\n",
       "      <td>3.0</td>\n",
       "      <td>2</td>\n",
       "      <td>2016-07-25 07:31:06</td>\n",
       "    </tr>\n",
       "    <tr>\n",
       "      <th>1</th>\n",
       "      <td>_Ub20uO1MKy4XOVPOdzpqw</td>\n",
       "      <td>lUYboGI6aFbZ0dX27pijpA</td>\n",
       "      <td>gebiRewfieSdtt17PTW6Zg</td>\n",
       "      <td>1.0</td>\n",
       "      <td>1</td>\n",
       "      <td>2017-06-28 01:04:59</td>\n",
       "    </tr>\n",
       "    <tr>\n",
       "      <th>2</th>\n",
       "      <td>-DjIfoNFAiT5J4kF9hXocQ</td>\n",
       "      <td>SrfDRvGKI8FQq9LCr0dQuQ</td>\n",
       "      <td>gebiRewfieSdtt17PTW6Zg</td>\n",
       "      <td>3.0</td>\n",
       "      <td>1</td>\n",
       "      <td>2017-01-14 23:31:35</td>\n",
       "    </tr>\n",
       "    <tr>\n",
       "      <th>3</th>\n",
       "      <td>URe-2Zlv7RoY4Ycr9JYVWw</td>\n",
       "      <td>SfMf7DEX7xT82OCcbZFsgQ</td>\n",
       "      <td>gebiRewfieSdtt17PTW6Zg</td>\n",
       "      <td>5.0</td>\n",
       "      <td>2</td>\n",
       "      <td>2016-07-14 23:09:38</td>\n",
       "    </tr>\n",
       "    <tr>\n",
       "      <th>4</th>\n",
       "      <td>qG1jG1r8TbCAercYDf_zmA</td>\n",
       "      <td>rrB_8jS1PAfx_kch6C2CBQ</td>\n",
       "      <td>gebiRewfieSdtt17PTW6Zg</td>\n",
       "      <td>1.0</td>\n",
       "      <td>1</td>\n",
       "      <td>2017-07-09 03:51:33</td>\n",
       "    </tr>\n",
       "    <tr>\n",
       "      <th>...</th>\n",
       "      <td>...</td>\n",
       "      <td>...</td>\n",
       "      <td>...</td>\n",
       "      <td>...</td>\n",
       "      <td>...</td>\n",
       "      <td>...</td>\n",
       "    </tr>\n",
       "    <tr>\n",
       "      <th>909983</th>\n",
       "      <td>HVYhSbKGyj2R39fTDY7sGg</td>\n",
       "      <td>7KBaoiKUhdTvOsRFOMGwZw</td>\n",
       "      <td>VnAJnVpXHOIBdg6qFJBc3g</td>\n",
       "      <td>1.0</td>\n",
       "      <td>1</td>\n",
       "      <td>2021-08-19 02:30:16</td>\n",
       "    </tr>\n",
       "    <tr>\n",
       "      <th>909984</th>\n",
       "      <td>CzJMAaOokvASWgVZg8B__w</td>\n",
       "      <td>L-h5y32VWEV60QXuDPW-hg</td>\n",
       "      <td>VnAJnVpXHOIBdg6qFJBc3g</td>\n",
       "      <td>1.0</td>\n",
       "      <td>1</td>\n",
       "      <td>2021-09-12 05:20:37</td>\n",
       "    </tr>\n",
       "    <tr>\n",
       "      <th>909985</th>\n",
       "      <td>9_ztYeoSwdz7S9TW8xkDQA</td>\n",
       "      <td>03q-tEfa2aJtKhf00ZZ-hg</td>\n",
       "      <td>VnAJnVpXHOIBdg6qFJBc3g</td>\n",
       "      <td>1.0</td>\n",
       "      <td>1</td>\n",
       "      <td>2021-04-25 13:44:37</td>\n",
       "    </tr>\n",
       "    <tr>\n",
       "      <th>909986</th>\n",
       "      <td>jDeNxby0ZI5UMsZzrywedA</td>\n",
       "      <td>NIlmQ38hxTR2w6lNSzJEuQ</td>\n",
       "      <td>VnAJnVpXHOIBdg6qFJBc3g</td>\n",
       "      <td>1.0</td>\n",
       "      <td>1</td>\n",
       "      <td>2021-10-06 01:52:41</td>\n",
       "    </tr>\n",
       "    <tr>\n",
       "      <th>909987</th>\n",
       "      <td>rzwxu-a0JjzbGnIimpqBAg</td>\n",
       "      <td>1wx5T2GTopmtdHJZdqvWDQ</td>\n",
       "      <td>VnAJnVpXHOIBdg6qFJBc3g</td>\n",
       "      <td>4.0</td>\n",
       "      <td>0</td>\n",
       "      <td>2021-04-02 13:54:12</td>\n",
       "    </tr>\n",
       "  </tbody>\n",
       "</table>\n",
       "<p>909988 rows × 6 columns</p>\n",
       "</div>"
      ],
      "text/plain": [
       "                     review_id                 user_id  \\\n",
       "0       pUycOfUwM8vqX7KjRRhUEA  59MxRhNVhU9MYndMkz0wtw   \n",
       "1       _Ub20uO1MKy4XOVPOdzpqw  lUYboGI6aFbZ0dX27pijpA   \n",
       "2       -DjIfoNFAiT5J4kF9hXocQ  SrfDRvGKI8FQq9LCr0dQuQ   \n",
       "3       URe-2Zlv7RoY4Ycr9JYVWw  SfMf7DEX7xT82OCcbZFsgQ   \n",
       "4       qG1jG1r8TbCAercYDf_zmA  rrB_8jS1PAfx_kch6C2CBQ   \n",
       "...                        ...                     ...   \n",
       "909983  HVYhSbKGyj2R39fTDY7sGg  7KBaoiKUhdTvOsRFOMGwZw   \n",
       "909984  CzJMAaOokvASWgVZg8B__w  L-h5y32VWEV60QXuDPW-hg   \n",
       "909985  9_ztYeoSwdz7S9TW8xkDQA  03q-tEfa2aJtKhf00ZZ-hg   \n",
       "909986  jDeNxby0ZI5UMsZzrywedA  NIlmQ38hxTR2w6lNSzJEuQ   \n",
       "909987  rzwxu-a0JjzbGnIimpqBAg  1wx5T2GTopmtdHJZdqvWDQ   \n",
       "\n",
       "                   business_id  stars  sentiment                date  \n",
       "0       gebiRewfieSdtt17PTW6Zg    3.0          2 2016-07-25 07:31:06  \n",
       "1       gebiRewfieSdtt17PTW6Zg    1.0          1 2017-06-28 01:04:59  \n",
       "2       gebiRewfieSdtt17PTW6Zg    3.0          1 2017-01-14 23:31:35  \n",
       "3       gebiRewfieSdtt17PTW6Zg    5.0          2 2016-07-14 23:09:38  \n",
       "4       gebiRewfieSdtt17PTW6Zg    1.0          1 2017-07-09 03:51:33  \n",
       "...                        ...    ...        ...                 ...  \n",
       "909983  VnAJnVpXHOIBdg6qFJBc3g    1.0          1 2021-08-19 02:30:16  \n",
       "909984  VnAJnVpXHOIBdg6qFJBc3g    1.0          1 2021-09-12 05:20:37  \n",
       "909985  VnAJnVpXHOIBdg6qFJBc3g    1.0          1 2021-04-25 13:44:37  \n",
       "909986  VnAJnVpXHOIBdg6qFJBc3g    1.0          1 2021-10-06 01:52:41  \n",
       "909987  VnAJnVpXHOIBdg6qFJBc3g    4.0          0 2021-04-02 13:54:12  \n",
       "\n",
       "[909988 rows x 6 columns]"
      ]
     },
     "execution_count": 46,
     "metadata": {},
     "output_type": "execute_result"
    }
   ],
   "source": [
    "reviewsDf"
   ]
  },
  {
   "cell_type": "code",
   "execution_count": 47,
   "metadata": {},
   "outputs": [
    {
     "data": {
      "text/html": [
       "<div>\n",
       "<style scoped>\n",
       "    .dataframe tbody tr th:only-of-type {\n",
       "        vertical-align: middle;\n",
       "    }\n",
       "\n",
       "    .dataframe tbody tr th {\n",
       "        vertical-align: top;\n",
       "    }\n",
       "\n",
       "    .dataframe thead th {\n",
       "        text-align: right;\n",
       "    }\n",
       "</style>\n",
       "<table border=\"1\" class=\"dataframe\">\n",
       "  <thead>\n",
       "    <tr style=\"text-align: right;\">\n",
       "      <th></th>\n",
       "      <th>review_id</th>\n",
       "      <th>user_id</th>\n",
       "      <th>business_id</th>\n",
       "      <th>stars</th>\n",
       "      <th>sentiment</th>\n",
       "      <th>date</th>\n",
       "    </tr>\n",
       "  </thead>\n",
       "  <tbody>\n",
       "    <tr>\n",
       "      <th>0</th>\n",
       "      <td>pUycOfUwM8vqX7KjRRhUEA</td>\n",
       "      <td>59MxRhNVhU9MYndMkz0wtw</td>\n",
       "      <td>gebiRewfieSdtt17PTW6Zg</td>\n",
       "      <td>3.0</td>\n",
       "      <td>2</td>\n",
       "      <td>2016-07-25 07:31:06</td>\n",
       "    </tr>\n",
       "    <tr>\n",
       "      <th>1</th>\n",
       "      <td>qRhOkdYNO1URgn1WJfK1cg</td>\n",
       "      <td>59MxRhNVhU9MYndMkz0wtw</td>\n",
       "      <td>W7gSJz80DywKnPRIGjA2Bw</td>\n",
       "      <td>5.0</td>\n",
       "      <td>2</td>\n",
       "      <td>2016-07-25 07:20:23</td>\n",
       "    </tr>\n",
       "    <tr>\n",
       "      <th>2</th>\n",
       "      <td>ZZbpYMY4s8sVQGEU1jAuVA</td>\n",
       "      <td>59MxRhNVhU9MYndMkz0wtw</td>\n",
       "      <td>l_slvEnh4v3W8BXF1gYlcQ</td>\n",
       "      <td>5.0</td>\n",
       "      <td>2</td>\n",
       "      <td>2016-07-23 00:13:36</td>\n",
       "    </tr>\n",
       "    <tr>\n",
       "      <th>3</th>\n",
       "      <td>_Ub20uO1MKy4XOVPOdzpqw</td>\n",
       "      <td>lUYboGI6aFbZ0dX27pijpA</td>\n",
       "      <td>gebiRewfieSdtt17PTW6Zg</td>\n",
       "      <td>1.0</td>\n",
       "      <td>1</td>\n",
       "      <td>2017-06-28 01:04:59</td>\n",
       "    </tr>\n",
       "    <tr>\n",
       "      <th>4</th>\n",
       "      <td>-DjIfoNFAiT5J4kF9hXocQ</td>\n",
       "      <td>SrfDRvGKI8FQq9LCr0dQuQ</td>\n",
       "      <td>gebiRewfieSdtt17PTW6Zg</td>\n",
       "      <td>3.0</td>\n",
       "      <td>1</td>\n",
       "      <td>2017-01-14 23:31:35</td>\n",
       "    </tr>\n",
       "    <tr>\n",
       "      <th>...</th>\n",
       "      <td>...</td>\n",
       "      <td>...</td>\n",
       "      <td>...</td>\n",
       "      <td>...</td>\n",
       "      <td>...</td>\n",
       "      <td>...</td>\n",
       "    </tr>\n",
       "    <tr>\n",
       "      <th>909981</th>\n",
       "      <td>HVYhSbKGyj2R39fTDY7sGg</td>\n",
       "      <td>7KBaoiKUhdTvOsRFOMGwZw</td>\n",
       "      <td>VnAJnVpXHOIBdg6qFJBc3g</td>\n",
       "      <td>1.0</td>\n",
       "      <td>1</td>\n",
       "      <td>2021-08-19 02:30:16</td>\n",
       "    </tr>\n",
       "    <tr>\n",
       "      <th>909982</th>\n",
       "      <td>CzJMAaOokvASWgVZg8B__w</td>\n",
       "      <td>L-h5y32VWEV60QXuDPW-hg</td>\n",
       "      <td>VnAJnVpXHOIBdg6qFJBc3g</td>\n",
       "      <td>1.0</td>\n",
       "      <td>1</td>\n",
       "      <td>2021-09-12 05:20:37</td>\n",
       "    </tr>\n",
       "    <tr>\n",
       "      <th>909983</th>\n",
       "      <td>9_ztYeoSwdz7S9TW8xkDQA</td>\n",
       "      <td>03q-tEfa2aJtKhf00ZZ-hg</td>\n",
       "      <td>VnAJnVpXHOIBdg6qFJBc3g</td>\n",
       "      <td>1.0</td>\n",
       "      <td>1</td>\n",
       "      <td>2021-04-25 13:44:37</td>\n",
       "    </tr>\n",
       "    <tr>\n",
       "      <th>909984</th>\n",
       "      <td>jDeNxby0ZI5UMsZzrywedA</td>\n",
       "      <td>NIlmQ38hxTR2w6lNSzJEuQ</td>\n",
       "      <td>VnAJnVpXHOIBdg6qFJBc3g</td>\n",
       "      <td>1.0</td>\n",
       "      <td>1</td>\n",
       "      <td>2021-10-06 01:52:41</td>\n",
       "    </tr>\n",
       "    <tr>\n",
       "      <th>909985</th>\n",
       "      <td>rzwxu-a0JjzbGnIimpqBAg</td>\n",
       "      <td>1wx5T2GTopmtdHJZdqvWDQ</td>\n",
       "      <td>VnAJnVpXHOIBdg6qFJBc3g</td>\n",
       "      <td>4.0</td>\n",
       "      <td>0</td>\n",
       "      <td>2021-04-02 13:54:12</td>\n",
       "    </tr>\n",
       "  </tbody>\n",
       "</table>\n",
       "<p>909986 rows × 6 columns</p>\n",
       "</div>"
      ],
      "text/plain": [
       "                     review_id                 user_id  \\\n",
       "0       pUycOfUwM8vqX7KjRRhUEA  59MxRhNVhU9MYndMkz0wtw   \n",
       "1       qRhOkdYNO1URgn1WJfK1cg  59MxRhNVhU9MYndMkz0wtw   \n",
       "2       ZZbpYMY4s8sVQGEU1jAuVA  59MxRhNVhU9MYndMkz0wtw   \n",
       "3       _Ub20uO1MKy4XOVPOdzpqw  lUYboGI6aFbZ0dX27pijpA   \n",
       "4       -DjIfoNFAiT5J4kF9hXocQ  SrfDRvGKI8FQq9LCr0dQuQ   \n",
       "...                        ...                     ...   \n",
       "909981  HVYhSbKGyj2R39fTDY7sGg  7KBaoiKUhdTvOsRFOMGwZw   \n",
       "909982  CzJMAaOokvASWgVZg8B__w  L-h5y32VWEV60QXuDPW-hg   \n",
       "909983  9_ztYeoSwdz7S9TW8xkDQA  03q-tEfa2aJtKhf00ZZ-hg   \n",
       "909984  jDeNxby0ZI5UMsZzrywedA  NIlmQ38hxTR2w6lNSzJEuQ   \n",
       "909985  rzwxu-a0JjzbGnIimpqBAg  1wx5T2GTopmtdHJZdqvWDQ   \n",
       "\n",
       "                   business_id  stars  sentiment                date  \n",
       "0       gebiRewfieSdtt17PTW6Zg    3.0          2 2016-07-25 07:31:06  \n",
       "1       W7gSJz80DywKnPRIGjA2Bw    5.0          2 2016-07-25 07:20:23  \n",
       "2       l_slvEnh4v3W8BXF1gYlcQ    5.0          2 2016-07-23 00:13:36  \n",
       "3       gebiRewfieSdtt17PTW6Zg    1.0          1 2017-06-28 01:04:59  \n",
       "4       gebiRewfieSdtt17PTW6Zg    3.0          1 2017-01-14 23:31:35  \n",
       "...                        ...    ...        ...                 ...  \n",
       "909981  VnAJnVpXHOIBdg6qFJBc3g    1.0          1 2021-08-19 02:30:16  \n",
       "909982  VnAJnVpXHOIBdg6qFJBc3g    1.0          1 2021-09-12 05:20:37  \n",
       "909983  VnAJnVpXHOIBdg6qFJBc3g    1.0          1 2021-04-25 13:44:37  \n",
       "909984  VnAJnVpXHOIBdg6qFJBc3g    1.0          1 2021-10-06 01:52:41  \n",
       "909985  VnAJnVpXHOIBdg6qFJBc3g    4.0          0 2021-04-02 13:54:12  \n",
       "\n",
       "[909986 rows x 6 columns]"
      ]
     },
     "execution_count": 47,
     "metadata": {},
     "output_type": "execute_result"
    }
   ],
   "source": [
    "pd.merge(reviewsDf, user[['user_id']], on='user_id')"
   ]
  },
  {
   "cell_type": "markdown",
   "metadata": {},
   "source": [
    "Como podemos ver tenemos 2 reviews que no tienen información de usuario, las cuales son eliminadas"
   ]
  },
  {
   "cell_type": "code",
   "execution_count": 48,
   "metadata": {},
   "outputs": [],
   "source": [
    "reviewsDf = pd.merge(reviewsDf, user[['user_id']], on='user_id')"
   ]
  },
  {
   "cell_type": "markdown",
   "metadata": {},
   "source": [
    "#### Exportamos"
   ]
  },
  {
   "cell_type": "code",
   "execution_count": 49,
   "metadata": {},
   "outputs": [],
   "source": [
    "reviewsDf.to_parquet('../datasets/processed/yelp/reviews_yelp.parquet.gz')"
   ]
  }
 ],
 "metadata": {
  "kernelspec": {
   "display_name": "Python 3",
   "language": "python",
   "name": "python3"
  },
  "language_info": {
   "codemirror_mode": {
    "name": "ipython",
    "version": 3
   },
   "file_extension": ".py",
   "mimetype": "text/x-python",
   "name": "python",
   "nbconvert_exporter": "python",
   "pygments_lexer": "ipython3",
   "version": "3.11.4"
  }
 },
 "nbformat": 4,
 "nbformat_minor": 2
}
