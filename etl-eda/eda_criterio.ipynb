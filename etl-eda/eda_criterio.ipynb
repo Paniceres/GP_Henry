{
 "cells": [
  {
   "cell_type": "code",
   "execution_count": 2,
   "metadata": {},
   "outputs": [],
   "source": [
    "import pandas as pd\n",
    "import gzip\n",
    "import io\n",
    "\n",
    "import os.path\n"
   ]
  },
  {
   "cell_type": "code",
   "execution_count": 3,
   "metadata": {},
   "outputs": [],
   "source": [
    "# db_route = os.path.join(route, '..', 'datasets', 'processed', 'bd')\n",
    "# Leer archivos parquet\n",
    "db_route = '../datasets/processed/bd/'\n",
    "state = pd.read_parquet(os.path.abspath(os.path.join(db_route, '1_states.parquet.gz')))\n",
    "# user_yelp = pd.read_parquet(os.path.abspath(os.path.join(db_route, '3_user_yelp.parquet.gz')))\n",
    "# categories = pd.read_parquet(os.path.abspath(os.path.join(db_route, '2_categories.parquet.gz')))\n",
    "# user_google = pd.read_parquet(os.path.abspath(os.path.join(db_route, '4_user_google.parquet.gz')))\n",
    "business_google = pd.read_parquet(os.path.abspath(os.path.join(db_route, '5_business_google.parquet.gz')))\n",
    "# business_yelp = pd.read_parquet(os.path.abspath(os.path.join(db_route, '6_business_yelp.parquet.gz')))\n",
    "# categories_google = pd.read_parquet(os.path.abspath(os.path.join(db_route, '7_categories_google.parquet.gz')))\n",
    "# categories_yelp = pd.read_parquet(os.path.abspath(os.path.join(db_route, '8_categories_yelp.parquet.gz')))\n",
    "# reviews_google = pd.read_parquet(os.path.abspath(os.path.join(db_route, '9_reviews_google.parquet.gz')))\n",
    "# reviews_yelp = pd.read_parquet(os.path.abspath(os.path.join(db_route, '10_reviews_yelp.parquet.gz')))\n"
   ]
  },
  {
   "cell_type": "code",
   "execution_count": 4,
   "metadata": {},
   "outputs": [
    {
     "data": {
      "text/html": [
       "<div>\n",
       "<style scoped>\n",
       "    .dataframe tbody tr th:only-of-type {\n",
       "        vertical-align: middle;\n",
       "    }\n",
       "\n",
       "    .dataframe tbody tr th {\n",
       "        vertical-align: top;\n",
       "    }\n",
       "\n",
       "    .dataframe thead th {\n",
       "        text-align: right;\n",
       "    }\n",
       "</style>\n",
       "<table border=\"1\" class=\"dataframe\">\n",
       "  <thead>\n",
       "    <tr style=\"text-align: right;\">\n",
       "      <th></th>\n",
       "      <th>state_id</th>\n",
       "      <th>state</th>\n",
       "    </tr>\n",
       "  </thead>\n",
       "  <tbody>\n",
       "    <tr>\n",
       "      <th>0</th>\n",
       "      <td>1</td>\n",
       "      <td>Florida</td>\n",
       "    </tr>\n",
       "    <tr>\n",
       "      <th>1</th>\n",
       "      <td>2</td>\n",
       "      <td>California</td>\n",
       "    </tr>\n",
       "    <tr>\n",
       "      <th>2</th>\n",
       "      <td>3</td>\n",
       "      <td>Illinois</td>\n",
       "    </tr>\n",
       "    <tr>\n",
       "      <th>3</th>\n",
       "      <td>4</td>\n",
       "      <td>New Jersey</td>\n",
       "    </tr>\n",
       "  </tbody>\n",
       "</table>\n",
       "</div>"
      ],
      "text/plain": [
       "   state_id       state\n",
       "0         1     Florida\n",
       "1         2  California\n",
       "2         3    Illinois\n",
       "3         4  New Jersey"
      ]
     },
     "execution_count": 4,
     "metadata": {},
     "output_type": "execute_result"
    }
   ],
   "source": [
    "state"
   ]
  },
  {
   "cell_type": "code",
   "execution_count": null,
   "metadata": {},
   "outputs": [],
   "source": []
  }
 ],
 "metadata": {
  "kernelspec": {
   "display_name": ".env",
   "language": "python",
   "name": "python3"
  },
  "language_info": {
   "codemirror_mode": {
    "name": "ipython",
    "version": 3
   },
   "file_extension": ".py",
   "mimetype": "text/x-python",
   "name": "python",
   "nbconvert_exporter": "python",
   "pygments_lexer": "ipython3",
   "version": "3.11.6"
  }
 },
 "nbformat": 4,
 "nbformat_minor": 2
}
