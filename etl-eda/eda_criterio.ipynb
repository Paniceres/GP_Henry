{
 "cells": [
  {
   "cell_type": "code",
   "execution_count": null,
   "metadata": {},
   "outputs": [],
   "source": [
    "import pandas as pd\n",
    "import gzip\n",
    "import io\n",
    "import os"
   ]
  },
  {
   "cell_type": "code",
   "execution_count": null,
   "metadata": {},
   "outputs": [],
   "source": [
    "df_bg = pd.read_parquet(r'../datasets/processed/google/business_google.parquet.gz')\n",
    "df_by = pd.read_parquet(r'../datasets/processed/yelp/business_yelp.parquet.gz')\n",
    "df_ug = pd.read_parquet(r'../datasets/processed/google/user_google.parquet.gz')\n",
    "df_uy = pd.read_parquet(r'../datasets/processed/yelp/user_yelp.parquet.gz')\n",
    "df_rg = pd.read_parquet(r'../datasets/processed/google/reviews_google.parquet.gz')\n",
    "df_ry = pd.read_parquet(r'../datasets/processed/yelp/reviews_yelp.parquet.gz')"
   ]
  },
  {
   "cell_type": "code",
   "execution_count": null,
   "metadata": {},
   "outputs": [],
   "source": []
  }
 ],
 "metadata": {
  "language_info": {
   "name": "python"
  }
 },
 "nbformat": 4,
 "nbformat_minor": 2
}
