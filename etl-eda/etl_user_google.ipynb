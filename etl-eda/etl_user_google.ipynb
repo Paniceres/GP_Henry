{
 "cells": [
  {
   "cell_type": "code",
   "execution_count": 15,
   "metadata": {},
   "outputs": [],
   "source": [
    "import pandas as pd"
   ]
  },
  {
   "cell_type": "code",
   "execution_count": 16,
   "metadata": {},
   "outputs": [],
   "source": [
    "df_users = pd.read_parquet('../datasets/processed/google/reviews_google.parquet.gz')"
   ]
  },
  {
   "cell_type": "code",
   "execution_count": 17,
   "metadata": {},
   "outputs": [
    {
     "data": {
      "text/html": [
       "<div>\n",
       "<style scoped>\n",
       "    .dataframe tbody tr th:only-of-type {\n",
       "        vertical-align: middle;\n",
       "    }\n",
       "\n",
       "    .dataframe tbody tr th {\n",
       "        vertical-align: top;\n",
       "    }\n",
       "\n",
       "    .dataframe thead th {\n",
       "        text-align: right;\n",
       "    }\n",
       "</style>\n",
       "<table border=\"1\" class=\"dataframe\">\n",
       "  <thead>\n",
       "    <tr style=\"text-align: right;\">\n",
       "      <th></th>\n",
       "      <th>user_id</th>\n",
       "      <th>name</th>\n",
       "      <th>time</th>\n",
       "      <th>rating</th>\n",
       "      <th>gmap_id</th>\n",
       "      <th>resp_date</th>\n",
       "      <th>state</th>\n",
       "      <th>sentiment_textblob_resp</th>\n",
       "      <th>sentiment</th>\n",
       "    </tr>\n",
       "  </thead>\n",
       "  <tbody>\n",
       "    <tr>\n",
       "      <th>0</th>\n",
       "      <td>1.089912e+20</td>\n",
       "      <td>Song Ro</td>\n",
       "      <td>2021-01-06 05:12:07.056</td>\n",
       "      <td>5</td>\n",
       "      <td>0x80c2c778e3b73d33:0xbdc58662a4a97d49</td>\n",
       "      <td>NaT</td>\n",
       "      <td>California</td>\n",
       "      <td>0.0</td>\n",
       "      <td>2</td>\n",
       "    </tr>\n",
       "  </tbody>\n",
       "</table>\n",
       "</div>"
      ],
      "text/plain": [
       "        user_id     name                    time  rating  \\\n",
       "0  1.089912e+20  Song Ro 2021-01-06 05:12:07.056       5   \n",
       "\n",
       "                                 gmap_id resp_date       state  \\\n",
       "0  0x80c2c778e3b73d33:0xbdc58662a4a97d49       NaT  California   \n",
       "\n",
       "   sentiment_textblob_resp  sentiment  \n",
       "0                      0.0          2  "
      ]
     },
     "execution_count": 17,
     "metadata": {},
     "output_type": "execute_result"
    }
   ],
   "source": [
    "df_users.head(1)"
   ]
  },
  {
   "cell_type": "code",
   "execution_count": 18,
   "metadata": {},
   "outputs": [],
   "source": [
    "# Convertir la columna 'time' a tipo datetime\n",
    "df_users['time'] = pd.to_datetime(df_users['time'])\n",
    "\n",
    "# Agrupar por usuario (user_id) y obtener el valor más antiguo de 'time' en cada grupo\n",
    "df_creation = df_users.groupby('user_id')['time'].min().reset_index(name='creation')\n",
    "\n",
    "# Eliminar las milésimas de segundo de la columna 'time'\n",
    "df_users['time'] = df_users['time'].dt.strftime('%Y-%m-%d %H:%M:%S')"
   ]
  },
  {
   "cell_type": "code",
   "execution_count": 19,
   "metadata": {},
   "outputs": [],
   "source": [
    "# Agrupar por usuario y calcular el promedio de rating\n",
    "df_avg_rating = df_users.groupby('user_id')['rating'].mean().reset_index()\n",
    "\n",
    "# Renombrar la columna resultante como 'stars'\n",
    "df_avg_rating = df_avg_rating.rename(columns={'rating': 'stars'})"
   ]
  },
  {
   "cell_type": "code",
   "execution_count": 20,
   "metadata": {},
   "outputs": [],
   "source": [
    "# Eliminamos usuarios duplicados\n",
    "users = df_users['user_id'].unique()\n",
    "\n",
    "# Unir el resultado con el dataframe original\n",
    "df_users = df_users.merge(df_creation, on='user_id', how='left')\n",
    "df_users = pd.merge(df_users, df_avg_rating, on='user_id', how='left')"
   ]
  },
  {
   "cell_type": "code",
   "execution_count": 21,
   "metadata": {},
   "outputs": [
    {
     "data": {
      "text/html": [
       "<div>\n",
       "<style scoped>\n",
       "    .dataframe tbody tr th:only-of-type {\n",
       "        vertical-align: middle;\n",
       "    }\n",
       "\n",
       "    .dataframe tbody tr th {\n",
       "        vertical-align: top;\n",
       "    }\n",
       "\n",
       "    .dataframe thead th {\n",
       "        text-align: right;\n",
       "    }\n",
       "</style>\n",
       "<table border=\"1\" class=\"dataframe\">\n",
       "  <thead>\n",
       "    <tr style=\"text-align: right;\">\n",
       "      <th></th>\n",
       "      <th>user_id</th>\n",
       "      <th>name</th>\n",
       "      <th>time</th>\n",
       "      <th>rating</th>\n",
       "      <th>gmap_id</th>\n",
       "      <th>resp_date</th>\n",
       "      <th>state</th>\n",
       "      <th>sentiment_textblob_resp</th>\n",
       "      <th>sentiment</th>\n",
       "      <th>creation</th>\n",
       "      <th>stars</th>\n",
       "    </tr>\n",
       "  </thead>\n",
       "  <tbody>\n",
       "    <tr>\n",
       "      <th>0</th>\n",
       "      <td>1.089912e+20</td>\n",
       "      <td>Song Ro</td>\n",
       "      <td>2021-01-06 05:12:07</td>\n",
       "      <td>5</td>\n",
       "      <td>0x80c2c778e3b73d33:0xbdc58662a4a97d49</td>\n",
       "      <td>NaT</td>\n",
       "      <td>California</td>\n",
       "      <td>0.0</td>\n",
       "      <td>2</td>\n",
       "      <td>2016-09-25 22:42:48.535</td>\n",
       "      <td>4.666667</td>\n",
       "    </tr>\n",
       "  </tbody>\n",
       "</table>\n",
       "</div>"
      ],
      "text/plain": [
       "        user_id     name                 time  rating  \\\n",
       "0  1.089912e+20  Song Ro  2021-01-06 05:12:07       5   \n",
       "\n",
       "                                 gmap_id resp_date       state  \\\n",
       "0  0x80c2c778e3b73d33:0xbdc58662a4a97d49       NaT  California   \n",
       "\n",
       "   sentiment_textblob_resp  sentiment                creation     stars  \n",
       "0                      0.0          2 2016-09-25 22:42:48.535  4.666667  "
      ]
     },
     "execution_count": 21,
     "metadata": {},
     "output_type": "execute_result"
    }
   ],
   "source": [
    "df_users.head(1)"
   ]
  },
  {
   "cell_type": "code",
   "execution_count": 22,
   "metadata": {},
   "outputs": [],
   "source": [
    "# Agrupar, contar por usuario\n",
    "df_users_rev = df_users.groupby('user_id').size().reset_index(name='review_count')\n",
    "\n",
    "# Convertir la columna 'review_count' a número entero\n",
    "df_users_rev['review_count'] = df_users_rev['review_count'].astype(int)\n",
    "\n",
    "# Merge para columna 'review_count'\n",
    "df_users = df_users.merge(df_users_rev, on='user_id', how='left')"
   ]
  },
  {
   "cell_type": "code",
   "execution_count": 23,
   "metadata": {},
   "outputs": [],
   "source": [
    "df_users = df_users[['user_id', 'name', 'creation', 'review_count', 'rating']]\n",
    "df_users.rename(columns={'rating': 'stars'}, inplace=True)"
   ]
  },
  {
   "cell_type": "code",
   "execution_count": 24,
   "metadata": {},
   "outputs": [],
   "source": [
    "df_users.to_parquet(r'..\\datasets\\processed\\google\\user_google.parquet.gz', compression = 'gzip', index=False)"
   ]
  },
  {
   "cell_type": "code",
   "execution_count": 25,
   "metadata": {},
   "outputs": [
    {
     "data": {
      "text/html": [
       "<div>\n",
       "<style scoped>\n",
       "    .dataframe tbody tr th:only-of-type {\n",
       "        vertical-align: middle;\n",
       "    }\n",
       "\n",
       "    .dataframe tbody tr th {\n",
       "        vertical-align: top;\n",
       "    }\n",
       "\n",
       "    .dataframe thead th {\n",
       "        text-align: right;\n",
       "    }\n",
       "</style>\n",
       "<table border=\"1\" class=\"dataframe\">\n",
       "  <thead>\n",
       "    <tr style=\"text-align: right;\">\n",
       "      <th></th>\n",
       "      <th>user_id</th>\n",
       "      <th>name</th>\n",
       "      <th>creation</th>\n",
       "      <th>review_count</th>\n",
       "      <th>stars</th>\n",
       "    </tr>\n",
       "  </thead>\n",
       "  <tbody>\n",
       "    <tr>\n",
       "      <th>0</th>\n",
       "      <td>1.089912e+20</td>\n",
       "      <td>Song Ro</td>\n",
       "      <td>2016-09-25 22:42:48.535</td>\n",
       "      <td>3</td>\n",
       "      <td>5</td>\n",
       "    </tr>\n",
       "    <tr>\n",
       "      <th>1</th>\n",
       "      <td>1.112903e+20</td>\n",
       "      <td>Rafa Robles</td>\n",
       "      <td>2021-02-09 05:47:28.663</td>\n",
       "      <td>1</td>\n",
       "      <td>5</td>\n",
       "    </tr>\n",
       "    <tr>\n",
       "      <th>2</th>\n",
       "      <td>1.126404e+20</td>\n",
       "      <td>David Han</td>\n",
       "      <td>2018-09-10 03:52:14.324</td>\n",
       "      <td>7</td>\n",
       "      <td>4</td>\n",
       "    </tr>\n",
       "    <tr>\n",
       "      <th>3</th>\n",
       "      <td>1.174403e+20</td>\n",
       "      <td>Anthony Kim</td>\n",
       "      <td>2019-03-07 05:56:56.355</td>\n",
       "      <td>2</td>\n",
       "      <td>5</td>\n",
       "    </tr>\n",
       "    <tr>\n",
       "      <th>4</th>\n",
       "      <td>1.005808e+20</td>\n",
       "      <td>Mario Marzouk</td>\n",
       "      <td>2017-05-16 05:01:41.933</td>\n",
       "      <td>1</td>\n",
       "      <td>5</td>\n",
       "    </tr>\n",
       "    <tr>\n",
       "      <th>...</th>\n",
       "      <td>...</td>\n",
       "      <td>...</td>\n",
       "      <td>...</td>\n",
       "      <td>...</td>\n",
       "      <td>...</td>\n",
       "    </tr>\n",
       "    <tr>\n",
       "      <th>2452767</th>\n",
       "      <td>1.091054e+20</td>\n",
       "      <td>Rydell Rene</td>\n",
       "      <td>2016-09-01 01:03:33.962</td>\n",
       "      <td>2</td>\n",
       "      <td>4</td>\n",
       "    </tr>\n",
       "    <tr>\n",
       "      <th>2452768</th>\n",
       "      <td>1.159805e+20</td>\n",
       "      <td>Erik Johnson</td>\n",
       "      <td>2015-08-13 18:22:04.871</td>\n",
       "      <td>31</td>\n",
       "      <td>4</td>\n",
       "    </tr>\n",
       "    <tr>\n",
       "      <th>2452769</th>\n",
       "      <td>1.159471e+20</td>\n",
       "      <td>Angad Johar</td>\n",
       "      <td>2014-10-05 17:09:38.598</td>\n",
       "      <td>5</td>\n",
       "      <td>4</td>\n",
       "    </tr>\n",
       "    <tr>\n",
       "      <th>2452770</th>\n",
       "      <td>1.179236e+20</td>\n",
       "      <td>Pedro C</td>\n",
       "      <td>2015-12-01 00:52:27.344</td>\n",
       "      <td>8</td>\n",
       "      <td>3</td>\n",
       "    </tr>\n",
       "    <tr>\n",
       "      <th>2452771</th>\n",
       "      <td>1.170134e+20</td>\n",
       "      <td>Dulce Rodriguez</td>\n",
       "      <td>2015-06-24 18:25:59.411</td>\n",
       "      <td>2</td>\n",
       "      <td>2</td>\n",
       "    </tr>\n",
       "  </tbody>\n",
       "</table>\n",
       "<p>2452772 rows × 5 columns</p>\n",
       "</div>"
      ],
      "text/plain": [
       "              user_id             name                creation  review_count  \\\n",
       "0        1.089912e+20          Song Ro 2016-09-25 22:42:48.535             3   \n",
       "1        1.112903e+20      Rafa Robles 2021-02-09 05:47:28.663             1   \n",
       "2        1.126404e+20        David Han 2018-09-10 03:52:14.324             7   \n",
       "3        1.174403e+20      Anthony Kim 2019-03-07 05:56:56.355             2   \n",
       "4        1.005808e+20    Mario Marzouk 2017-05-16 05:01:41.933             1   \n",
       "...               ...              ...                     ...           ...   \n",
       "2452767  1.091054e+20      Rydell Rene 2016-09-01 01:03:33.962             2   \n",
       "2452768  1.159805e+20     Erik Johnson 2015-08-13 18:22:04.871            31   \n",
       "2452769  1.159471e+20      Angad Johar 2014-10-05 17:09:38.598             5   \n",
       "2452770  1.179236e+20          Pedro C 2015-12-01 00:52:27.344             8   \n",
       "2452771  1.170134e+20  Dulce Rodriguez 2015-06-24 18:25:59.411             2   \n",
       "\n",
       "         stars  \n",
       "0            5  \n",
       "1            5  \n",
       "2            4  \n",
       "3            5  \n",
       "4            5  \n",
       "...        ...  \n",
       "2452767      4  \n",
       "2452768      4  \n",
       "2452769      4  \n",
       "2452770      3  \n",
       "2452771      2  \n",
       "\n",
       "[2452772 rows x 5 columns]"
      ]
     },
     "execution_count": 25,
     "metadata": {},
     "output_type": "execute_result"
    }
   ],
   "source": [
    "df_users"
   ]
  }
 ],
 "metadata": {
  "kernelspec": {
   "display_name": ".env",
   "language": "python",
   "name": "python3"
  },
  "language_info": {
   "codemirror_mode": {
    "name": "ipython",
    "version": 3
   },
   "file_extension": ".py",
   "mimetype": "text/x-python",
   "name": "python",
   "nbconvert_exporter": "python",
   "pygments_lexer": "ipython3",
   "version": "3.11.5"
  }
 },
 "nbformat": 4,
 "nbformat_minor": 2
}
