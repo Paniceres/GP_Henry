{
 "cells": [
  {
   "cell_type": "code",
   "execution_count": 18,
   "metadata": {},
   "outputs": [],
   "source": [
    "import pandas as pd"
   ]
  },
  {
   "cell_type": "code",
   "execution_count": 19,
   "metadata": {},
   "outputs": [],
   "source": [
    "df_users = pd.read_parquet('../datasets/processed/google/reviews_google.parquet.gz')"
   ]
  },
  {
   "cell_type": "code",
   "execution_count": 20,
   "metadata": {},
   "outputs": [],
   "source": [
    "users = df_users['user_id'].unique()"
   ]
  },
  {
   "cell_type": "code",
   "execution_count": 21,
   "metadata": {},
   "outputs": [
    {
     "data": {
      "text/html": [
       "<div>\n",
       "<style scoped>\n",
       "    .dataframe tbody tr th:only-of-type {\n",
       "        vertical-align: middle;\n",
       "    }\n",
       "\n",
       "    .dataframe tbody tr th {\n",
       "        vertical-align: top;\n",
       "    }\n",
       "\n",
       "    .dataframe thead th {\n",
       "        text-align: right;\n",
       "    }\n",
       "</style>\n",
       "<table border=\"1\" class=\"dataframe\">\n",
       "  <thead>\n",
       "    <tr style=\"text-align: right;\">\n",
       "      <th></th>\n",
       "      <th>user_id</th>\n",
       "      <th>name</th>\n",
       "      <th>time</th>\n",
       "      <th>rating</th>\n",
       "      <th>gmap_id</th>\n",
       "      <th>resp_date</th>\n",
       "      <th>state</th>\n",
       "      <th>sentiment_textblob_resp</th>\n",
       "      <th>sentiment</th>\n",
       "    </tr>\n",
       "  </thead>\n",
       "  <tbody>\n",
       "    <tr>\n",
       "      <th>0</th>\n",
       "      <td>1.089912e+20</td>\n",
       "      <td>Song Ro</td>\n",
       "      <td>2021-01-06 05:12:07.056</td>\n",
       "      <td>5</td>\n",
       "      <td>0x80c2c778e3b73d33:0xbdc58662a4a97d49</td>\n",
       "      <td>NaT</td>\n",
       "      <td>California</td>\n",
       "      <td>0.0</td>\n",
       "      <td>2</td>\n",
       "    </tr>\n",
       "  </tbody>\n",
       "</table>\n",
       "</div>"
      ],
      "text/plain": [
       "        user_id     name                    time  rating  \\\n",
       "0  1.089912e+20  Song Ro 2021-01-06 05:12:07.056       5   \n",
       "\n",
       "                                 gmap_id resp_date       state  \\\n",
       "0  0x80c2c778e3b73d33:0xbdc58662a4a97d49       NaT  California   \n",
       "\n",
       "   sentiment_textblob_resp  sentiment  \n",
       "0                      0.0          2  "
      ]
     },
     "execution_count": 21,
     "metadata": {},
     "output_type": "execute_result"
    }
   ],
   "source": [
    "df_users.head(1)"
   ]
  },
  {
   "cell_type": "code",
   "execution_count": null,
   "metadata": {},
   "outputs": [],
   "source": []
  },
  {
   "cell_type": "code",
   "execution_count": 16,
   "metadata": {},
   "outputs": [],
   "source": [
    "df_users.drop(columns=['gmap_id', 'state', 'sentiment_textblob_resp', 'sentiment'], inplace=True)"
   ]
  },
  {
   "cell_type": "code",
   "execution_count": null,
   "metadata": {},
   "outputs": [],
   "source": []
  },
  {
   "cell_type": "code",
   "execution_count": 17,
   "metadata": {},
   "outputs": [
    {
     "data": {
      "text/html": [
       "<div>\n",
       "<style scoped>\n",
       "    .dataframe tbody tr th:only-of-type {\n",
       "        vertical-align: middle;\n",
       "    }\n",
       "\n",
       "    .dataframe tbody tr th {\n",
       "        vertical-align: top;\n",
       "    }\n",
       "\n",
       "    .dataframe thead th {\n",
       "        text-align: right;\n",
       "    }\n",
       "</style>\n",
       "<table border=\"1\" class=\"dataframe\">\n",
       "  <thead>\n",
       "    <tr style=\"text-align: right;\">\n",
       "      <th></th>\n",
       "      <th>user_id</th>\n",
       "      <th>name</th>\n",
       "    </tr>\n",
       "  </thead>\n",
       "  <tbody>\n",
       "    <tr>\n",
       "      <th>0</th>\n",
       "      <td>1.089912e+20</td>\n",
       "      <td>Song Ro</td>\n",
       "    </tr>\n",
       "    <tr>\n",
       "      <th>1</th>\n",
       "      <td>1.112903e+20</td>\n",
       "      <td>Rafa Robles</td>\n",
       "    </tr>\n",
       "    <tr>\n",
       "      <th>2</th>\n",
       "      <td>1.126404e+20</td>\n",
       "      <td>David Han</td>\n",
       "    </tr>\n",
       "    <tr>\n",
       "      <th>3</th>\n",
       "      <td>1.174403e+20</td>\n",
       "      <td>Anthony Kim</td>\n",
       "    </tr>\n",
       "    <tr>\n",
       "      <th>4</th>\n",
       "      <td>1.005808e+20</td>\n",
       "      <td>Mario Marzouk</td>\n",
       "    </tr>\n",
       "    <tr>\n",
       "      <th>...</th>\n",
       "      <td>...</td>\n",
       "      <td>...</td>\n",
       "    </tr>\n",
       "    <tr>\n",
       "      <th>9599884</th>\n",
       "      <td>1.167003e+20</td>\n",
       "      <td>Alpha Imperial</td>\n",
       "    </tr>\n",
       "    <tr>\n",
       "      <th>9599887</th>\n",
       "      <td>1.077358e+20</td>\n",
       "      <td>Mary Judd Nunez</td>\n",
       "    </tr>\n",
       "    <tr>\n",
       "      <th>9599889</th>\n",
       "      <td>1.104871e+20</td>\n",
       "      <td>malu norada</td>\n",
       "    </tr>\n",
       "    <tr>\n",
       "      <th>9599932</th>\n",
       "      <td>1.166060e+20</td>\n",
       "      <td>Gregory Jimenez</td>\n",
       "    </tr>\n",
       "    <tr>\n",
       "      <th>9599933</th>\n",
       "      <td>1.032183e+20</td>\n",
       "      <td>Ikram Khan</td>\n",
       "    </tr>\n",
       "  </tbody>\n",
       "</table>\n",
       "<p>1371954 rows × 2 columns</p>\n",
       "</div>"
      ],
      "text/plain": [
       "              user_id             name\n",
       "0        1.089912e+20          Song Ro\n",
       "1        1.112903e+20      Rafa Robles\n",
       "2        1.126404e+20        David Han\n",
       "3        1.174403e+20      Anthony Kim\n",
       "4        1.005808e+20    Mario Marzouk\n",
       "...               ...              ...\n",
       "9599884  1.167003e+20   Alpha Imperial\n",
       "9599887  1.077358e+20  Mary Judd Nunez\n",
       "9599889  1.104871e+20      malu norada\n",
       "9599932  1.166060e+20  Gregory Jimenez\n",
       "9599933  1.032183e+20       Ikram Khan\n",
       "\n",
       "[1371954 rows x 2 columns]"
      ]
     },
     "execution_count": 17,
     "metadata": {},
     "output_type": "execute_result"
    }
   ],
   "source": [
    "usersG[['user_id','name']].drop_duplicates()"
   ]
  },
  {
   "cell_type": "code",
   "execution_count": null,
   "metadata": {},
   "outputs": [],
   "source": [
    "# Sacar milesimas de segundo\n",
    "usersG['time'] = usersG['time'].astype(str)\n",
    "usersG['time'] = usersG['time'].apply(lambda x: x.split('.')[0])\n",
    "usersG['time'] = pd.to_datetime(usersG['time'])\n",
    "usersG"
   ]
  }
 ],
 "metadata": {
  "kernelspec": {
   "display_name": ".env",
   "language": "python",
   "name": "python3"
  },
  "language_info": {
   "codemirror_mode": {
    "name": "ipython",
    "version": 3
   },
   "file_extension": ".py",
   "mimetype": "text/x-python",
   "name": "python",
   "nbconvert_exporter": "python",
   "pygments_lexer": "ipython3",
   "version": "3.11.5"
  }
 },
 "nbformat": 4,
 "nbformat_minor": 2
}
