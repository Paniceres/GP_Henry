{
 "cells": [
  {
   "cell_type": "code",
   "execution_count": null,
   "metadata": {},
   "outputs": [],
   "source": [
    "import pandas as pd"
   ]
  },
  {
   "cell_type": "code",
   "execution_count": null,
   "metadata": {},
   "outputs": [],
   "source": [
    "googleUsers = pd.read_parquet('../datasets/processed/google/reviews_google.parquet.gz')"
   ]
  },
  {
   "cell_type": "code",
   "execution_count": null,
   "metadata": {},
   "outputs": [],
   "source": [
    "usuarios = googleUsers['user_id'].unique()"
   ]
  },
  {
   "cell_type": "code",
   "execution_count": null,
   "metadata": {},
   "outputs": [],
   "source": [
    "usuariosG = googleUsers.drop(columns=['gmap_id', 'resp_time', 'state', 'sentiment_textblob_resp', 'sentiment'])"
   ]
  },
  {
   "cell_type": "code",
   "execution_count": null,
   "metadata": {},
   "outputs": [],
   "source": [
    "usuariosG[['user_id','name']].drop_duplicates()"
   ]
  },
  {
   "cell_type": "code",
   "execution_count": null,
   "metadata": {},
   "outputs": [],
   "source": [
    "# Sacar milesimas de segundo\n",
    "usuariosG['time'] = usuariosG['time'].astype(str)\n",
    "usuariosG['time'] = usuariosG['time'].apply(lambda x: x.split('.')[0])\n",
    "usuariosG['time'] = pd.to_datetime(usuariosG['time'])\n",
    "usuariosG"
   ]
  }
 ],
 "metadata": {
  "language_info": {
   "name": "python"
  }
 },
 "nbformat": 4,
 "nbformat_minor": 2
}
