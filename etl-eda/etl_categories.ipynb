{
 "cells": [
  {
   "cell_type": "markdown",
   "metadata": {},
   "source": [
    "# Categorias de los restaurantes"
   ]
  },
  {
   "cell_type": "markdown",
   "metadata": {},
   "source": [
    "Todos los datasets usados acá fueron trabajados en \"etl-eda\\etl_bussiness.ipynb\"."
   ]
  },
  {
   "cell_type": "code",
   "execution_count": 2,
   "metadata": {},
   "outputs": [],
   "source": [
    "import pandas as pd"
   ]
  },
  {
   "cell_type": "markdown",
   "metadata": {},
   "source": [
    "## Restaurantes de Google"
   ]
  },
  {
   "cell_type": "code",
   "execution_count": 2,
   "metadata": {},
   "outputs": [
    {
     "data": {
      "text/html": [
       "<div>\n",
       "<style scoped>\n",
       "    .dataframe tbody tr th:only-of-type {\n",
       "        vertical-align: middle;\n",
       "    }\n",
       "\n",
       "    .dataframe tbody tr th {\n",
       "        vertical-align: top;\n",
       "    }\n",
       "\n",
       "    .dataframe thead th {\n",
       "        text-align: right;\n",
       "    }\n",
       "</style>\n",
       "<table border=\"1\" class=\"dataframe\">\n",
       "  <thead>\n",
       "    <tr style=\"text-align: right;\">\n",
       "      <th></th>\n",
       "      <th>gmap_id</th>\n",
       "      <th>name</th>\n",
       "      <th>latitude</th>\n",
       "      <th>longitude</th>\n",
       "      <th>stars</th>\n",
       "      <th>categories</th>\n",
       "      <th>state</th>\n",
       "    </tr>\n",
       "  </thead>\n",
       "  <tbody>\n",
       "    <tr>\n",
       "      <th>0</th>\n",
       "      <td>0x88db4147b1d9e6f3:0x943dbd10a92ba1b1</td>\n",
       "      <td>Cape Seafood Shack</td>\n",
       "      <td>26.641377</td>\n",
       "      <td>-81.940545</td>\n",
       "      <td>5.0</td>\n",
       "      <td>[Restaurant]</td>\n",
       "      <td>Florida</td>\n",
       "    </tr>\n",
       "    <tr>\n",
       "      <th>1</th>\n",
       "      <td>0x88c2e4e34f1ed783:0x76c5da381c499d79</td>\n",
       "      <td>Fresh Point Country Buffet</td>\n",
       "      <td>27.867489</td>\n",
       "      <td>-82.702971</td>\n",
       "      <td>5.0</td>\n",
       "      <td>[Buffet restaurant]</td>\n",
       "      <td>Florida</td>\n",
       "    </tr>\n",
       "    <tr>\n",
       "      <th>2</th>\n",
       "      <td>0x8890b9241e704667:0x3a1e565c17c00993</td>\n",
       "      <td>Hot Box</td>\n",
       "      <td>30.391411</td>\n",
       "      <td>-87.267220</td>\n",
       "      <td>4.2</td>\n",
       "      <td>[Restaurant]</td>\n",
       "      <td>Florida</td>\n",
       "    </tr>\n",
       "    <tr>\n",
       "      <th>3</th>\n",
       "      <td>0x88e635378f43352f:0xa1b53c63436fa428</td>\n",
       "      <td>Shell</td>\n",
       "      <td>29.183272</td>\n",
       "      <td>-81.889965</td>\n",
       "      <td>1.8</td>\n",
       "      <td>[Gas station, ATM, Convenience store, Restaurant]</td>\n",
       "      <td>Florida</td>\n",
       "    </tr>\n",
       "    <tr>\n",
       "      <th>4</th>\n",
       "      <td>0x88d9ab98b5baad79:0x1a2e3f0642a55246</td>\n",
       "      <td>Baby Food Grill &amp; Bar</td>\n",
       "      <td>26.010250</td>\n",
       "      <td>-80.148659</td>\n",
       "      <td>3.0</td>\n",
       "      <td>[Mexican restaurant]</td>\n",
       "      <td>Florida</td>\n",
       "    </tr>\n",
       "    <tr>\n",
       "      <th>...</th>\n",
       "      <td>...</td>\n",
       "      <td>...</td>\n",
       "      <td>...</td>\n",
       "      <td>...</td>\n",
       "      <td>...</td>\n",
       "      <td>...</td>\n",
       "      <td>...</td>\n",
       "    </tr>\n",
       "    <tr>\n",
       "      <th>54901</th>\n",
       "      <td>0x89c3b2b8e9c8c357:0xb1b07826ef85a598</td>\n",
       "      <td>Park View Tavern</td>\n",
       "      <td>40.653743</td>\n",
       "      <td>-74.234148</td>\n",
       "      <td>4.3</td>\n",
       "      <td>[Bar, Italian restaurant, Pub, Restaurant]</td>\n",
       "      <td>New Jersey</td>\n",
       "    </tr>\n",
       "    <tr>\n",
       "      <th>54902</th>\n",
       "      <td>0x89c24d60acc3ffff:0xc8048546518281f6</td>\n",
       "      <td>The Brown Derby Cafe &amp; Rental Hall</td>\n",
       "      <td>40.661250</td>\n",
       "      <td>-74.193971</td>\n",
       "      <td>4.6</td>\n",
       "      <td>[Restaurant, Family restaurant]</td>\n",
       "      <td>New Jersey</td>\n",
       "    </tr>\n",
       "    <tr>\n",
       "      <th>54903</th>\n",
       "      <td>0x89c24d7a198a3541:0x3dcb8f429c053248</td>\n",
       "      <td>George's Lunch</td>\n",
       "      <td>40.654865</td>\n",
       "      <td>-74.177221</td>\n",
       "      <td>4.5</td>\n",
       "      <td>[American restaurant]</td>\n",
       "      <td>New Jersey</td>\n",
       "    </tr>\n",
       "    <tr>\n",
       "      <th>54904</th>\n",
       "      <td>0x89c3b290dcc12d6d:0x34ad59938efed577</td>\n",
       "      <td>Las Brasas Sports Bar and Restaurant</td>\n",
       "      <td>40.661939</td>\n",
       "      <td>-74.248363</td>\n",
       "      <td>3.9</td>\n",
       "      <td>[Latin American restaurant, Mexican restaurant...</td>\n",
       "      <td>New Jersey</td>\n",
       "    </tr>\n",
       "    <tr>\n",
       "      <th>54905</th>\n",
       "      <td>0x89c17b3b65b4680d:0x40a43d960a97a0</td>\n",
       "      <td>Jackson Pizza</td>\n",
       "      <td>40.109785</td>\n",
       "      <td>-74.387818</td>\n",
       "      <td>4.5</td>\n",
       "      <td>[Pizza restaurant, Italian restaurant, Pizza d...</td>\n",
       "      <td>New Jersey</td>\n",
       "    </tr>\n",
       "  </tbody>\n",
       "</table>\n",
       "<p>54906 rows × 7 columns</p>\n",
       "</div>"
      ],
      "text/plain": [
       "                                     gmap_id  \\\n",
       "0      0x88db4147b1d9e6f3:0x943dbd10a92ba1b1   \n",
       "1      0x88c2e4e34f1ed783:0x76c5da381c499d79   \n",
       "2      0x8890b9241e704667:0x3a1e565c17c00993   \n",
       "3      0x88e635378f43352f:0xa1b53c63436fa428   \n",
       "4      0x88d9ab98b5baad79:0x1a2e3f0642a55246   \n",
       "...                                      ...   \n",
       "54901  0x89c3b2b8e9c8c357:0xb1b07826ef85a598   \n",
       "54902  0x89c24d60acc3ffff:0xc8048546518281f6   \n",
       "54903  0x89c24d7a198a3541:0x3dcb8f429c053248   \n",
       "54904  0x89c3b290dcc12d6d:0x34ad59938efed577   \n",
       "54905    0x89c17b3b65b4680d:0x40a43d960a97a0   \n",
       "\n",
       "                                       name   latitude  longitude  stars  \\\n",
       "0                        Cape Seafood Shack  26.641377 -81.940545    5.0   \n",
       "1                Fresh Point Country Buffet  27.867489 -82.702971    5.0   \n",
       "2                                   Hot Box  30.391411 -87.267220    4.2   \n",
       "3                                     Shell  29.183272 -81.889965    1.8   \n",
       "4                     Baby Food Grill & Bar  26.010250 -80.148659    3.0   \n",
       "...                                     ...        ...        ...    ...   \n",
       "54901                      Park View Tavern  40.653743 -74.234148    4.3   \n",
       "54902    The Brown Derby Cafe & Rental Hall  40.661250 -74.193971    4.6   \n",
       "54903                        George's Lunch  40.654865 -74.177221    4.5   \n",
       "54904  Las Brasas Sports Bar and Restaurant  40.661939 -74.248363    3.9   \n",
       "54905                         Jackson Pizza  40.109785 -74.387818    4.5   \n",
       "\n",
       "                                              categories       state  \n",
       "0                                           [Restaurant]     Florida  \n",
       "1                                    [Buffet restaurant]     Florida  \n",
       "2                                           [Restaurant]     Florida  \n",
       "3      [Gas station, ATM, Convenience store, Restaurant]     Florida  \n",
       "4                                   [Mexican restaurant]     Florida  \n",
       "...                                                  ...         ...  \n",
       "54901         [Bar, Italian restaurant, Pub, Restaurant]  New Jersey  \n",
       "54902                    [Restaurant, Family restaurant]  New Jersey  \n",
       "54903                              [American restaurant]  New Jersey  \n",
       "54904  [Latin American restaurant, Mexican restaurant...  New Jersey  \n",
       "54905  [Pizza restaurant, Italian restaurant, Pizza d...  New Jersey  \n",
       "\n",
       "[54906 rows x 7 columns]"
      ]
     },
     "execution_count": 2,
     "metadata": {},
     "output_type": "execute_result"
    }
   ],
   "source": [
    "google = pd.read_parquet(\"../datasets/processed/google/bussiness_google.parquet.gz\")\n",
    "google"
   ]
  },
  {
   "cell_type": "code",
   "execution_count": 3,
   "metadata": {},
   "outputs": [],
   "source": [
    "google = google[['gmap_id', 'categories']]"
   ]
  },
  {
   "cell_type": "code",
   "execution_count": 4,
   "metadata": {},
   "outputs": [],
   "source": [
    "listaCategorias = []\n",
    "for categorias in google['categories']:\n",
    "    for categoria in categorias:\n",
    "        if categoria not in listaCategorias:\n",
    "            listaCategorias.append(categoria)"
   ]
  },
  {
   "cell_type": "code",
   "execution_count": 5,
   "metadata": {},
   "outputs": [
    {
     "data": {
      "text/plain": [
       "1154"
      ]
     },
     "execution_count": 5,
     "metadata": {},
     "output_type": "execute_result"
    }
   ],
   "source": [
    "len(listaCategorias)"
   ]
  },
  {
   "cell_type": "markdown",
   "metadata": {},
   "source": [
    "## Restaurantes de Yelp"
   ]
  },
  {
   "cell_type": "code",
   "execution_count": 6,
   "metadata": {},
   "outputs": [
    {
     "data": {
      "text/html": [
       "<div>\n",
       "<style scoped>\n",
       "    .dataframe tbody tr th:only-of-type {\n",
       "        vertical-align: middle;\n",
       "    }\n",
       "\n",
       "    .dataframe tbody tr th {\n",
       "        vertical-align: top;\n",
       "    }\n",
       "\n",
       "    .dataframe thead th {\n",
       "        text-align: right;\n",
       "    }\n",
       "</style>\n",
       "<table border=\"1\" class=\"dataframe\">\n",
       "  <thead>\n",
       "    <tr style=\"text-align: right;\">\n",
       "      <th></th>\n",
       "      <th>business_id</th>\n",
       "      <th>name</th>\n",
       "      <th>latitude</th>\n",
       "      <th>longitude</th>\n",
       "      <th>stars</th>\n",
       "      <th>categories</th>\n",
       "      <th>state</th>\n",
       "    </tr>\n",
       "  </thead>\n",
       "  <tbody>\n",
       "    <tr>\n",
       "      <th>0</th>\n",
       "      <td>eEOYSgkmpB90uNA7lDOMRA</td>\n",
       "      <td>Vietnamese Food Truck</td>\n",
       "      <td>27.955269</td>\n",
       "      <td>-82.456320</td>\n",
       "      <td>4.0</td>\n",
       "      <td>[Vietnamese, Food, Restaurants, Food Trucks]</td>\n",
       "      <td>Florida</td>\n",
       "    </tr>\n",
       "    <tr>\n",
       "      <th>1</th>\n",
       "      <td>0bPLkL0QhhPO5kt1_EXmNQ</td>\n",
       "      <td>Zio's Italian Market</td>\n",
       "      <td>27.916116</td>\n",
       "      <td>-82.760461</td>\n",
       "      <td>4.5</td>\n",
       "      <td>[Food, Delis, Italian, Bakeries, Restaurants]</td>\n",
       "      <td>Florida</td>\n",
       "    </tr>\n",
       "    <tr>\n",
       "      <th>2</th>\n",
       "      <td>uI9XODGY_2_ieTE6xJ0myw</td>\n",
       "      <td>Roman Forum</td>\n",
       "      <td>28.046203</td>\n",
       "      <td>-82.505053</td>\n",
       "      <td>4.0</td>\n",
       "      <td>[Restaurants, American (New), Italian]</td>\n",
       "      <td>Florida</td>\n",
       "    </tr>\n",
       "    <tr>\n",
       "      <th>3</th>\n",
       "      <td>JgpnXv_0XhV3SfbfB50nxw</td>\n",
       "      <td>Joe's Pizza</td>\n",
       "      <td>27.960514</td>\n",
       "      <td>-82.506127</td>\n",
       "      <td>4.0</td>\n",
       "      <td>[Restaurants, Pizza]</td>\n",
       "      <td>Florida</td>\n",
       "    </tr>\n",
       "    <tr>\n",
       "      <th>4</th>\n",
       "      <td>pJfh3Ct8iL58NZa8ta-a5w</td>\n",
       "      <td>Top Shelf Sports Lounge</td>\n",
       "      <td>28.196252</td>\n",
       "      <td>-82.380615</td>\n",
       "      <td>4.5</td>\n",
       "      <td>[Burgers, Sports Bars, Bars, Lounges, Restaura...</td>\n",
       "      <td>Florida</td>\n",
       "    </tr>\n",
       "  </tbody>\n",
       "</table>\n",
       "</div>"
      ],
      "text/plain": [
       "              business_id                     name   latitude  longitude  \\\n",
       "0  eEOYSgkmpB90uNA7lDOMRA    Vietnamese Food Truck  27.955269 -82.456320   \n",
       "1  0bPLkL0QhhPO5kt1_EXmNQ     Zio's Italian Market  27.916116 -82.760461   \n",
       "2  uI9XODGY_2_ieTE6xJ0myw              Roman Forum  28.046203 -82.505053   \n",
       "3  JgpnXv_0XhV3SfbfB50nxw              Joe's Pizza  27.960514 -82.506127   \n",
       "4  pJfh3Ct8iL58NZa8ta-a5w  Top Shelf Sports Lounge  28.196252 -82.380615   \n",
       "\n",
       "   stars                                         categories    state  \n",
       "0    4.0       [Vietnamese, Food, Restaurants, Food Trucks]  Florida  \n",
       "1    4.5      [Food, Delis, Italian, Bakeries, Restaurants]  Florida  \n",
       "2    4.0             [Restaurants, American (New), Italian]  Florida  \n",
       "3    4.0                               [Restaurants, Pizza]  Florida  \n",
       "4    4.5  [Burgers, Sports Bars, Bars, Lounges, Restaura...  Florida  "
      ]
     },
     "execution_count": 6,
     "metadata": {},
     "output_type": "execute_result"
    }
   ],
   "source": [
    "yelp = pd.read_parquet(\"../datasets/processed/yelp/bussiness_yelp.parquet.gz\")\n",
    "yelp.head()"
   ]
  },
  {
   "cell_type": "code",
   "execution_count": 7,
   "metadata": {},
   "outputs": [],
   "source": [
    "for categorias in yelp['categories']:\n",
    "    for categoria in categorias:\n",
    "        if categoria not in listaCategorias:\n",
    "            listaCategorias.append(categoria)"
   ]
  },
  {
   "cell_type": "code",
   "execution_count": 8,
   "metadata": {},
   "outputs": [
    {
     "data": {
      "text/plain": [
       "1660"
      ]
     },
     "execution_count": 8,
     "metadata": {},
     "output_type": "execute_result"
    }
   ],
   "source": [
    "len(listaCategorias)"
   ]
  },
  {
   "cell_type": "markdown",
   "metadata": {},
   "source": [
    "## Generacion de dummies"
   ]
  },
  {
   "cell_type": "code",
   "execution_count": 9,
   "metadata": {},
   "outputs": [
    {
     "data": {
      "text/html": [
       "<div>\n",
       "<style scoped>\n",
       "    .dataframe tbody tr th:only-of-type {\n",
       "        vertical-align: middle;\n",
       "    }\n",
       "\n",
       "    .dataframe tbody tr th {\n",
       "        vertical-align: top;\n",
       "    }\n",
       "\n",
       "    .dataframe thead th {\n",
       "        text-align: right;\n",
       "    }\n",
       "</style>\n",
       "<table border=\"1\" class=\"dataframe\">\n",
       "  <thead>\n",
       "    <tr style=\"text-align: right;\">\n",
       "      <th></th>\n",
       "      <th>Restaurant</th>\n",
       "      <th>Buffet restaurant</th>\n",
       "      <th>Gas station</th>\n",
       "      <th>ATM</th>\n",
       "      <th>Convenience store</th>\n",
       "      <th>Mexican restaurant</th>\n",
       "      <th>Takeout Restaurant</th>\n",
       "      <th>Sandwich shop</th>\n",
       "      <th>Caterer</th>\n",
       "      <th>Fast food restaurant</th>\n",
       "      <th>...</th>\n",
       "      <th>Tonkatsu</th>\n",
       "      <th>Donburi</th>\n",
       "      <th>Guest Houses</th>\n",
       "      <th>Pita</th>\n",
       "      <th>Vinyl Records</th>\n",
       "      <th>Botanical Gardens</th>\n",
       "      <th>Newspapers &amp; Magazines</th>\n",
       "      <th>Parking</th>\n",
       "      <th>Georgian</th>\n",
       "      <th>Rest Stops</th>\n",
       "    </tr>\n",
       "  </thead>\n",
       "  <tbody>\n",
       "  </tbody>\n",
       "</table>\n",
       "<p>0 rows × 1660 columns</p>\n",
       "</div>"
      ],
      "text/plain": [
       "Empty DataFrame\n",
       "Columns: [Restaurant, Buffet restaurant, Gas station, ATM, Convenience store, Mexican restaurant, Takeout Restaurant, Sandwich shop, Caterer, Fast food restaurant, Indian restaurant, Bakery, Cafe, Cafeteria, Cake shop, Cupcake shop, Kosher grocery store, Kosher restaurant, Pastry shop, Pizza restaurant, Wedding bakery, Bar & grill, Bar, Sports bar, Seafood restaurant, Cajun restaurant, Chicken wings restaurant, Steak house, Puerto Rican restaurant, Nuevo Latino restaurant, Juice shop, Health food restaurant, Delivery Restaurant, American restaurant, Breakfast restaurant, Dinner theater, Wine bar, Colombian restaurant, Hamburger restaurant, Deli, Asian restaurant, Chinese restaurant, Ramen restaurant, Tourist attraction, Parking garage, Shopping mall, Theme park, Italian restaurant, Fine dining restaurant, New American restaurant, Mediterranean restaurant, Pizza delivery, Pizza Takeout, Peruvian restaurant, Health food store, Association or organization, Sushi restaurant, Family restaurant, Taco restaurant, Chicken restaurant, Thai restaurant, Barbecue restaurant, Fish & chips restaurant, Spanish restaurant, Snack bar, Southern restaurant (US), Delivery service, Pasta shop, Salad shop, Latin American restaurant, Mobile caterer, Beer garden, Brewery, Brunch restaurant, Live music bar, Moroccan restaurant, Wine store, Coffee shop, Hot dog restaurant, Cuban restaurant, Down home cooking restaurant, Asian fusion restaurant, Japanese restaurant, Japanese steakhouse, Caribbean restaurant, Live music venue, Night club, Box lunch supplier, Catering, Professional services, Food and beverage consultant, Beer store, Food court, European restaurant, Cheese shop, Lunch restaurant, Vegan restaurant, Vegetarian restaurant, Software company, Accounting software company, ...]\n",
       "Index: []\n",
       "\n",
       "[0 rows x 1660 columns]"
      ]
     },
     "execution_count": 9,
     "metadata": {},
     "output_type": "execute_result"
    }
   ],
   "source": [
    "categorias = pd.DataFrame(columns=listaCategorias)\n",
    "categorias"
   ]
  },
  {
   "cell_type": "code",
   "execution_count": 19,
   "metadata": {},
   "outputs": [
    {
     "data": {
      "text/html": [
       "<div>\n",
       "<style scoped>\n",
       "    .dataframe tbody tr th:only-of-type {\n",
       "        vertical-align: middle;\n",
       "    }\n",
       "\n",
       "    .dataframe tbody tr th {\n",
       "        vertical-align: top;\n",
       "    }\n",
       "\n",
       "    .dataframe thead th {\n",
       "        text-align: right;\n",
       "    }\n",
       "</style>\n",
       "<table border=\"1\" class=\"dataframe\">\n",
       "  <thead>\n",
       "    <tr style=\"text-align: right;\">\n",
       "      <th></th>\n",
       "      <th>gmap_id</th>\n",
       "      <th>categories</th>\n",
       "    </tr>\n",
       "  </thead>\n",
       "  <tbody>\n",
       "    <tr>\n",
       "      <th>0</th>\n",
       "      <td>0x88db4147b1d9e6f3:0x943dbd10a92ba1b1</td>\n",
       "      <td>Restaurant</td>\n",
       "    </tr>\n",
       "    <tr>\n",
       "      <th>1</th>\n",
       "      <td>0x88c2e4e34f1ed783:0x76c5da381c499d79</td>\n",
       "      <td>Buffet restaurant</td>\n",
       "    </tr>\n",
       "    <tr>\n",
       "      <th>2</th>\n",
       "      <td>0x8890b9241e704667:0x3a1e565c17c00993</td>\n",
       "      <td>Restaurant</td>\n",
       "    </tr>\n",
       "    <tr>\n",
       "      <th>3</th>\n",
       "      <td>0x88e635378f43352f:0xa1b53c63436fa428</td>\n",
       "      <td>Gas station</td>\n",
       "    </tr>\n",
       "    <tr>\n",
       "      <th>3</th>\n",
       "      <td>0x88e635378f43352f:0xa1b53c63436fa428</td>\n",
       "      <td>ATM</td>\n",
       "    </tr>\n",
       "    <tr>\n",
       "      <th>3</th>\n",
       "      <td>0x88e635378f43352f:0xa1b53c63436fa428</td>\n",
       "      <td>Convenience store</td>\n",
       "    </tr>\n",
       "    <tr>\n",
       "      <th>3</th>\n",
       "      <td>0x88e635378f43352f:0xa1b53c63436fa428</td>\n",
       "      <td>Restaurant</td>\n",
       "    </tr>\n",
       "    <tr>\n",
       "      <th>4</th>\n",
       "      <td>0x88d9ab98b5baad79:0x1a2e3f0642a55246</td>\n",
       "      <td>Mexican restaurant</td>\n",
       "    </tr>\n",
       "    <tr>\n",
       "      <th>5</th>\n",
       "      <td>0x88d9b86c23bb04eb:0x2a82da546b7feb1b</td>\n",
       "      <td>Restaurant</td>\n",
       "    </tr>\n",
       "    <tr>\n",
       "      <th>6</th>\n",
       "      <td>0x88d9ba5d65937567:0xbc27649cf513cc89</td>\n",
       "      <td>Restaurant</td>\n",
       "    </tr>\n",
       "  </tbody>\n",
       "</table>\n",
       "</div>"
      ],
      "text/plain": [
       "                                 gmap_id          categories\n",
       "0  0x88db4147b1d9e6f3:0x943dbd10a92ba1b1          Restaurant\n",
       "1  0x88c2e4e34f1ed783:0x76c5da381c499d79   Buffet restaurant\n",
       "2  0x8890b9241e704667:0x3a1e565c17c00993          Restaurant\n",
       "3  0x88e635378f43352f:0xa1b53c63436fa428         Gas station\n",
       "3  0x88e635378f43352f:0xa1b53c63436fa428                 ATM\n",
       "3  0x88e635378f43352f:0xa1b53c63436fa428   Convenience store\n",
       "3  0x88e635378f43352f:0xa1b53c63436fa428          Restaurant\n",
       "4  0x88d9ab98b5baad79:0x1a2e3f0642a55246  Mexican restaurant\n",
       "5  0x88d9b86c23bb04eb:0x2a82da546b7feb1b          Restaurant\n",
       "6  0x88d9ba5d65937567:0xbc27649cf513cc89          Restaurant"
      ]
     },
     "execution_count": 19,
     "metadata": {},
     "output_type": "execute_result"
    }
   ],
   "source": [
    "google.explode('categories').head(10)"
   ]
  }
 ],
 "metadata": {
  "kernelspec": {
   "display_name": "Python 3",
   "language": "python",
   "name": "python3"
  },
  "language_info": {
   "codemirror_mode": {
    "name": "ipython",
    "version": 3
   },
   "file_extension": ".py",
   "mimetype": "text/x-python",
   "name": "python",
   "nbconvert_exporter": "python",
   "pygments_lexer": "ipython3",
   "version": "3.11.4"
  }
 },
 "nbformat": 4,
 "nbformat_minor": 2
}
