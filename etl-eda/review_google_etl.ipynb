{
 "cells": [
  {
   "cell_type": "code",
   "execution_count": 2,
   "metadata": {},
   "outputs": [],
   "source": [
    "import pandas as pd\n",
    "import os\n",
    "import matplotlib.pyplot as plt\n",
    "import seaborn as sns"
   ]
  },
  {
   "cell_type": "code",
   "execution_count": 3,
   "metadata": {},
   "outputs": [],
   "source": [
    "estados = ['California','New_Jersey', 'Florida', 'Illinois'] # Datasets usados para el estudio"
   ]
  },
  {
   "cell_type": "code",
   "execution_count": 3,
   "metadata": {},
   "outputs": [],
   "source": [
    "ruta_google = '../datasets/row/Google Maps' # Ruta en maps de Google"
   ]
  },
  {
   "cell_type": "code",
   "execution_count": 4,
   "metadata": {},
   "outputs": [],
   "source": [
    "metadata_google = pd.read_csv('../datasets/row/Google Maps/all_in_one_limpio.csv.gz',compression='gzip') # metadata google"
   ]
  },
  {
   "cell_type": "code",
   "execution_count": 6,
   "metadata": {},
   "outputs": [],
   "source": [
    "\n",
    "review_California = pd.read_parquet(f'{ruta_google}/reviews-estados/review-California/all_California.parquet')\n",
    "review_New_Jersey = pd.read_parquet(f'{ruta_google}/reviews-estados/review-New_Jersey/all_New_Jersey.parquet')\n",
    "review_Florida = pd.read_parquet(f'{ruta_google}/reviews-estados/review-Florida/all_Florida.parquet')\n",
    "review_Illinois = pd.read_parquet(f'{ruta_google}/reviews-estados/review-Illinois/all_Illinois.parquet')"
   ]
  },
  {
   "cell_type": "code",
   "execution_count": 56,
   "metadata": {},
   "outputs": [
    {
     "data": {
      "text/plain": [
       "user_id\n",
       "1.033885e+20    307\n",
       "1.077740e+20    144\n",
       "1.030183e+20    130\n",
       "1.119374e+20    130\n",
       "1.150273e+20    125\n",
       "               ... \n",
       "1.018543e+20      1\n",
       "1.018300e+20      1\n",
       "1.125323e+20      1\n",
       "1.144353e+20      1\n",
       "1.122199e+20      1\n",
       "Name: count, Length: 973518, dtype: int64"
      ]
     },
     "execution_count": 56,
     "metadata": {},
     "output_type": "execute_result"
    }
   ],
   "source": [
    "review_California['user_id'].value_counts()"
   ]
  },
  {
   "cell_type": "markdown",
   "metadata": {},
   "source": [
    "Borro las filas donde user_id time y gmap_id esten duplicados"
   ]
  },
  {
   "cell_type": "code",
   "execution_count": null,
   "metadata": {},
   "outputs": [],
   "source": [
    "review_California.drop_duplicates(subset=['user_id','time','gmap_id'],inplace=True)"
   ]
  },
  {
   "cell_type": "code",
   "execution_count": 14,
   "metadata": {},
   "outputs": [],
   "source": [
    "review_California['year'] = review_California['time'].dt.year\n",
    "userAño_California = review_California.groupby('year')['user_id'].count().reset_index()"
   ]
  },
  {
   "cell_type": "code",
   "execution_count": 58,
   "metadata": {},
   "outputs": [
    {
     "data": {
      "text/plain": [
       "Estado_Perteneciente\n",
       "California    2636131\n",
       "Arizona           699\n",
       "Iowa               14\n",
       "Name: count, dtype: int64"
      ]
     },
     "execution_count": 58,
     "metadata": {},
     "output_type": "execute_result"
    }
   ],
   "source": [
    "df_full = pd.merge(review_California,metadata_google,on='gmap_id',how='inner')\n",
    "df_full['Estado_Perteneciente'].value_counts()"
   ]
  },
  {
   "cell_type": "code",
   "execution_count": 4,
   "metadata": {},
   "outputs": [
    {
     "data": {
      "text/plain": [
       "True"
      ]
     },
     "execution_count": 4,
     "metadata": {},
     "output_type": "execute_result"
    }
   ],
   "source": [
    "'California' in estados"
   ]
  },
  {
   "cell_type": "markdown",
   "metadata": {},
   "source": [
    "Al buscar las corrdenadas en maps de los lugares donde el state no era California, vi que si perecen a los lugares que estan en metadata-sitios, por esto hay que modificar las review, en este caso como estas dos no son usadas simplemente no las tomo.<br>\n",
    "Y en reviews, voy a liminar los que no pertenzcan a ese estado."
   ]
  },
  {
   "cell_type": "code",
   "execution_count": 61,
   "metadata": {},
   "outputs": [],
   "source": [
    "df_full = df_full[df_full['Estado_Perteneciente'] == 'California']"
   ]
  },
  {
   "cell_type": "code",
   "execution_count": 63,
   "metadata": {},
   "outputs": [
    {
     "data": {
      "text/html": [
       "<div>\n",
       "<style scoped>\n",
       "    .dataframe tbody tr th:only-of-type {\n",
       "        vertical-align: middle;\n",
       "    }\n",
       "\n",
       "    .dataframe tbody tr th {\n",
       "        vertical-align: top;\n",
       "    }\n",
       "\n",
       "    .dataframe thead th {\n",
       "        text-align: right;\n",
       "    }\n",
       "</style>\n",
       "<table border=\"1\" class=\"dataframe\">\n",
       "  <thead>\n",
       "    <tr style=\"text-align: right;\">\n",
       "      <th></th>\n",
       "      <th>user_id</th>\n",
       "      <th>name</th>\n",
       "      <th>time</th>\n",
       "      <th>rating</th>\n",
       "      <th>text</th>\n",
       "      <th>pics</th>\n",
       "      <th>gmap_id</th>\n",
       "      <th>resp_time</th>\n",
       "      <th>resp_text</th>\n",
       "      <th>year</th>\n",
       "    </tr>\n",
       "  </thead>\n",
       "  <tbody>\n",
       "    <tr>\n",
       "      <th>0</th>\n",
       "      <td>1.089912e+20</td>\n",
       "      <td>Song Ro</td>\n",
       "      <td>2021-01-06 05:12:07.056</td>\n",
       "      <td>5</td>\n",
       "      <td>Love there korean rice cake.</td>\n",
       "      <td>None</td>\n",
       "      <td>0x80c2c778e3b73d33:0xbdc58662a4a97d49</td>\n",
       "      <td>NaT</td>\n",
       "      <td>None</td>\n",
       "      <td>2021</td>\n",
       "    </tr>\n",
       "    <tr>\n",
       "      <th>1</th>\n",
       "      <td>1.112903e+20</td>\n",
       "      <td>Rafa Robles</td>\n",
       "      <td>2021-02-09 05:47:28.663</td>\n",
       "      <td>5</td>\n",
       "      <td>Good very good</td>\n",
       "      <td>None</td>\n",
       "      <td>0x80c2c778e3b73d33:0xbdc58662a4a97d49</td>\n",
       "      <td>NaT</td>\n",
       "      <td>None</td>\n",
       "      <td>2021</td>\n",
       "    </tr>\n",
       "    <tr>\n",
       "      <th>2</th>\n",
       "      <td>1.126404e+20</td>\n",
       "      <td>David Han</td>\n",
       "      <td>2020-03-08 05:04:42.296</td>\n",
       "      <td>4</td>\n",
       "      <td>They make Korean traditional food very properly.</td>\n",
       "      <td>None</td>\n",
       "      <td>0x80c2c778e3b73d33:0xbdc58662a4a97d49</td>\n",
       "      <td>NaT</td>\n",
       "      <td>None</td>\n",
       "      <td>2020</td>\n",
       "    </tr>\n",
       "    <tr>\n",
       "      <th>3</th>\n",
       "      <td>1.174403e+20</td>\n",
       "      <td>Anthony Kim</td>\n",
       "      <td>2019-03-07 05:56:56.355</td>\n",
       "      <td>5</td>\n",
       "      <td>Short ribs are very delicious.</td>\n",
       "      <td>None</td>\n",
       "      <td>0x80c2c778e3b73d33:0xbdc58662a4a97d49</td>\n",
       "      <td>NaT</td>\n",
       "      <td>None</td>\n",
       "      <td>2019</td>\n",
       "    </tr>\n",
       "    <tr>\n",
       "      <th>4</th>\n",
       "      <td>1.005808e+20</td>\n",
       "      <td>Mario Marzouk</td>\n",
       "      <td>2017-05-16 05:01:41.933</td>\n",
       "      <td>5</td>\n",
       "      <td>Great food and prices the portions are large</td>\n",
       "      <td>None</td>\n",
       "      <td>0x80c2c778e3b73d33:0xbdc58662a4a97d49</td>\n",
       "      <td>NaT</td>\n",
       "      <td>None</td>\n",
       "      <td>2017</td>\n",
       "    </tr>\n",
       "    <tr>\n",
       "      <th>...</th>\n",
       "      <td>...</td>\n",
       "      <td>...</td>\n",
       "      <td>...</td>\n",
       "      <td>...</td>\n",
       "      <td>...</td>\n",
       "      <td>...</td>\n",
       "      <td>...</td>\n",
       "      <td>...</td>\n",
       "      <td>...</td>\n",
       "      <td>...</td>\n",
       "    </tr>\n",
       "    <tr>\n",
       "      <th>2699995</th>\n",
       "      <td>1.113423e+20</td>\n",
       "      <td>Byunguk Kim</td>\n",
       "      <td>2019-11-10 05:11:14.409</td>\n",
       "      <td>5</td>\n",
       "      <td>None</td>\n",
       "      <td>None</td>\n",
       "      <td>0x80c2bea30829f279:0x39aa953ee93734ed</td>\n",
       "      <td>NaT</td>\n",
       "      <td>None</td>\n",
       "      <td>2019</td>\n",
       "    </tr>\n",
       "    <tr>\n",
       "      <th>2699996</th>\n",
       "      <td>1.080818e+20</td>\n",
       "      <td>Ceveda Craytonhooks</td>\n",
       "      <td>2020-02-02 02:00:53.411</td>\n",
       "      <td>5</td>\n",
       "      <td>Beautiful salon. The staff and atmosphere were...</td>\n",
       "      <td>None</td>\n",
       "      <td>0x8094675073616747:0x9f935a9b9046a9ba</td>\n",
       "      <td>NaT</td>\n",
       "      <td>None</td>\n",
       "      <td>2020</td>\n",
       "    </tr>\n",
       "    <tr>\n",
       "      <th>2699997</th>\n",
       "      <td>1.175914e+20</td>\n",
       "      <td>Natacha Thompson</td>\n",
       "      <td>2018-06-10 02:30:06.165</td>\n",
       "      <td>5</td>\n",
       "      <td>Flo is a great beautician.   She is very patie...</td>\n",
       "      <td>[{'url': ['https://lh5.googleusercontent.com/p...</td>\n",
       "      <td>0x8094675073616747:0x9f935a9b9046a9ba</td>\n",
       "      <td>2018-06-10 02:48:52.831000064</td>\n",
       "      <td>Thank you!  It was my pleasure to give you exa...</td>\n",
       "      <td>2018</td>\n",
       "    </tr>\n",
       "    <tr>\n",
       "      <th>2699998</th>\n",
       "      <td>1.124266e+20</td>\n",
       "      <td>Eleanor Aikins</td>\n",
       "      <td>2019-02-26 17:49:39.295</td>\n",
       "      <td>5</td>\n",
       "      <td>I Been going to have a variety of hair style a...</td>\n",
       "      <td>None</td>\n",
       "      <td>0x8094675073616747:0x9f935a9b9046a9ba</td>\n",
       "      <td>NaT</td>\n",
       "      <td>None</td>\n",
       "      <td>2019</td>\n",
       "    </tr>\n",
       "    <tr>\n",
       "      <th>2699999</th>\n",
       "      <td>1.122199e+20</td>\n",
       "      <td>Thai Love</td>\n",
       "      <td>2019-03-29 17:28:05.978</td>\n",
       "      <td>5</td>\n",
       "      <td>Teri is awesome she is a dread loc master. She...</td>\n",
       "      <td>None</td>\n",
       "      <td>0x8094675073616747:0x9f935a9b9046a9ba</td>\n",
       "      <td>NaT</td>\n",
       "      <td>None</td>\n",
       "      <td>2019</td>\n",
       "    </tr>\n",
       "  </tbody>\n",
       "</table>\n",
       "<p>2622434 rows × 10 columns</p>\n",
       "</div>"
      ],
      "text/plain": [
       "              user_id                 name                    time  rating  \\\n",
       "0        1.089912e+20              Song Ro 2021-01-06 05:12:07.056       5   \n",
       "1        1.112903e+20          Rafa Robles 2021-02-09 05:47:28.663       5   \n",
       "2        1.126404e+20            David Han 2020-03-08 05:04:42.296       4   \n",
       "3        1.174403e+20          Anthony Kim 2019-03-07 05:56:56.355       5   \n",
       "4        1.005808e+20        Mario Marzouk 2017-05-16 05:01:41.933       5   \n",
       "...               ...                  ...                     ...     ...   \n",
       "2699995  1.113423e+20          Byunguk Kim 2019-11-10 05:11:14.409       5   \n",
       "2699996  1.080818e+20  Ceveda Craytonhooks 2020-02-02 02:00:53.411       5   \n",
       "2699997  1.175914e+20     Natacha Thompson 2018-06-10 02:30:06.165       5   \n",
       "2699998  1.124266e+20       Eleanor Aikins 2019-02-26 17:49:39.295       5   \n",
       "2699999  1.122199e+20            Thai Love 2019-03-29 17:28:05.978       5   \n",
       "\n",
       "                                                      text  \\\n",
       "0                             Love there korean rice cake.   \n",
       "1                                           Good very good   \n",
       "2         They make Korean traditional food very properly.   \n",
       "3                           Short ribs are very delicious.   \n",
       "4             Great food and prices the portions are large   \n",
       "...                                                    ...   \n",
       "2699995                                               None   \n",
       "2699996  Beautiful salon. The staff and atmosphere were...   \n",
       "2699997  Flo is a great beautician.   She is very patie...   \n",
       "2699998  I Been going to have a variety of hair style a...   \n",
       "2699999  Teri is awesome she is a dread loc master. She...   \n",
       "\n",
       "                                                      pics  \\\n",
       "0                                                     None   \n",
       "1                                                     None   \n",
       "2                                                     None   \n",
       "3                                                     None   \n",
       "4                                                     None   \n",
       "...                                                    ...   \n",
       "2699995                                               None   \n",
       "2699996                                               None   \n",
       "2699997  [{'url': ['https://lh5.googleusercontent.com/p...   \n",
       "2699998                                               None   \n",
       "2699999                                               None   \n",
       "\n",
       "                                       gmap_id                     resp_time  \\\n",
       "0        0x80c2c778e3b73d33:0xbdc58662a4a97d49                           NaT   \n",
       "1        0x80c2c778e3b73d33:0xbdc58662a4a97d49                           NaT   \n",
       "2        0x80c2c778e3b73d33:0xbdc58662a4a97d49                           NaT   \n",
       "3        0x80c2c778e3b73d33:0xbdc58662a4a97d49                           NaT   \n",
       "4        0x80c2c778e3b73d33:0xbdc58662a4a97d49                           NaT   \n",
       "...                                        ...                           ...   \n",
       "2699995  0x80c2bea30829f279:0x39aa953ee93734ed                           NaT   \n",
       "2699996  0x8094675073616747:0x9f935a9b9046a9ba                           NaT   \n",
       "2699997  0x8094675073616747:0x9f935a9b9046a9ba 2018-06-10 02:48:52.831000064   \n",
       "2699998  0x8094675073616747:0x9f935a9b9046a9ba                           NaT   \n",
       "2699999  0x8094675073616747:0x9f935a9b9046a9ba                           NaT   \n",
       "\n",
       "                                                 resp_text  year  \n",
       "0                                                     None  2021  \n",
       "1                                                     None  2021  \n",
       "2                                                     None  2020  \n",
       "3                                                     None  2019  \n",
       "4                                                     None  2017  \n",
       "...                                                    ...   ...  \n",
       "2699995                                               None  2019  \n",
       "2699996                                               None  2020  \n",
       "2699997  Thank you!  It was my pleasure to give you exa...  2018  \n",
       "2699998                                               None  2019  \n",
       "2699999                                               None  2019  \n",
       "\n",
       "[2622434 rows x 10 columns]"
      ]
     },
     "execution_count": 63,
     "metadata": {},
     "output_type": "execute_result"
    }
   ],
   "source": [
    "review_California = review_California[review_California['gmap_id'].isin(df_full['gmap_id'])]"
   ]
  }
 ],
 "metadata": {
  "kernelspec": {
   "display_name": "Python 3",
   "language": "python",
   "name": "python3"
  },
  "language_info": {
   "codemirror_mode": {
    "name": "ipython",
    "version": 3
   },
   "file_extension": ".py",
   "mimetype": "text/x-python",
   "name": "python",
   "nbconvert_exporter": "python",
   "pygments_lexer": "ipython3",
   "version": "3.11.6"
  }
 },
 "nbformat": 4,
 "nbformat_minor": 2
}
