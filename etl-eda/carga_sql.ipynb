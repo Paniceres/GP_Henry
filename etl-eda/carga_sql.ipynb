{
 "cells": [
  {
   "cell_type": "code",
   "execution_count": 2,
   "metadata": {},
   "outputs": [],
   "source": [
    "import mysql.connector\n",
    "import pandas as pd\n",
    "import unicodedata\n"
   ]
  },
  {
   "cell_type": "markdown",
   "metadata": {},
   "source": [
    "---"
   ]
  },
  {
   "cell_type": "markdown",
   "metadata": {},
   "source": [
    "<h3><center>Funciones</center></h3>"
   ]
  },
  {
   "cell_type": "code",
   "execution_count": 6,
   "metadata": {},
   "outputs": [],
   "source": [
    "def conectar_mysql():\n",
    "    try:\n",
    "        conexion = mysql.connector.connect(\n",
    "            host='localhost',\n",
    "            user='root',\n",
    "            password='1533542415',\n",
    "            database='quantyle_analitics'\n",
    "        )\n",
    "        print(\"¡Conexión establecida correctamente!\")\n",
    "        return conexion\n",
    "    except mysql.connector.Error as error:\n",
    "        print(\"Error al conectarse a MySQL:\", error)\n",
    "        return None\n",
    "    "
   ]
  },
  {
   "cell_type": "markdown",
   "metadata": {},
   "source": [
    "---"
   ]
  },
  {
   "cell_type": "code",
   "execution_count": 4,
   "metadata": {},
   "outputs": [
    {
     "name": "stdout",
     "output_type": "stream",
     "text": [
      "¡Conexión establecida correctamente!\n",
      "Conexión exitosa\n"
     ]
    }
   ],
   "source": [
    "# Establecer la conexión con la base de datos\n",
    "conexion = conectar_mysql()\n",
    "\n",
    "# Verificar si la conexión se realizó con éxito\n",
    "if conexion.is_connected():\n",
    "    print(\"Conexión exitosa\")\n",
    "\n",
    "# Realizar operaciones en la base de datos, por ejemplo, ejecutar una consulta SQL\n",
    "cursor = conexion.cursor()\n",
    "\n",
    "# Ejemplo de consulta SQL\n",
    "consulta = \"SELECT * FROM categories_yelp\"\n",
    "\n",
    "# Ejecutar la consulta\n",
    "cursor.execute(consulta)\n",
    "\n",
    "# Obtener los resultados\n",
    "resultados = cursor.fetchall()\n",
    "\n",
    "# Mostrar los resultados\n",
    "for fila in resultados:\n",
    "    print(fila)\n",
    "\n",
    "# Cerrar el cursor y la conexión\n",
    "cursor.close()\n",
    "conexion.close()\n"
   ]
  },
  {
   "cell_type": "markdown",
   "metadata": {},
   "source": [
    "# 1) State"
   ]
  },
  {
   "cell_type": "code",
   "execution_count": 5,
   "metadata": {},
   "outputs": [
    {
     "name": "stdout",
     "output_type": "stream",
     "text": [
      "¡Conexión establecida correctamente!\n"
     ]
    }
   ],
   "source": [
    "state = pd.read_parquet(r'..\\datasets\\processed\\bd\\1_states.parquet.gz')\n",
    "\n",
    "conexion = conectar_mysql()\n",
    "\n",
    "# Insertar filas en la tabla state\n",
    "cursor = conexion.cursor()\n",
    "for index, row in state.iterrows():\n",
    "    cursor.execute(\"INSERT INTO state (state) VALUES (%s)\", (row['state'],))  # Asegúrate de tener la coma al final\n",
    "\n",
    "# Hacer commit de los cambios\n",
    "conexion.commit()\n",
    "\n",
    "# Cerrar la conexión\n",
    "conexion.close()\n"
   ]
  },
  {
   "cell_type": "markdown",
   "metadata": {},
   "source": [
    "# 2) Categories"
   ]
  },
  {
   "cell_type": "code",
   "execution_count": 6,
   "metadata": {},
   "outputs": [
    {
     "name": "stdout",
     "output_type": "stream",
     "text": [
      "¡Conexión establecida correctamente!\n"
     ]
    }
   ],
   "source": [
    "categories = pd.read_parquet(r'..\\datasets\\processed\\bd\\2_categories.parquet.gz')\n",
    "\n",
    "# Aplicar strip() a la columna 'name' para eliminar espacios en blanco adicionales\n",
    "categories['name'] = categories['name'].str.strip()\n",
    "\n",
    "# Convertir la columna 'name' a minúsculas para uniformizar los datos\n",
    "categories['name'] = categories['name'].str.lower()\n",
    "\n",
    "# Eliminar las filas duplicadas basadas en la columna 'name'\n",
    "categories.drop_duplicates(subset=['name'], keep='first', inplace=True)\n",
    "\n",
    "conexion = conectar_mysql()\n",
    "\n",
    "# Insertar filas en la tabla categories\n",
    "cursor = conexion.cursor()\n",
    "for index, row in categories.iterrows():\n",
    "    cursor.execute(\"INSERT INTO categories (categories_id , name) VALUES (%s, %s)\", (row['categories_id'], row['name'],))\n",
    "\n",
    "# Hacer commit de los cambios\n",
    "conexion.commit()\n",
    "\n",
    "# Cerrar la conexión\n",
    "conexion.close()\n"
   ]
  },
  {
   "cell_type": "markdown",
   "metadata": {},
   "source": [
    "# 3) User yelp"
   ]
  },
  {
   "cell_type": "code",
   "execution_count": 7,
   "metadata": {},
   "outputs": [
    {
     "name": "stdout",
     "output_type": "stream",
     "text": [
      "¡Conexión establecida correctamente!\n"
     ]
    },
    {
     "ename": "KeyboardInterrupt",
     "evalue": "",
     "output_type": "error",
     "traceback": [
      "\u001b[1;31m---------------------------------------------------------------------------\u001b[0m",
      "\u001b[1;31mKeyboardInterrupt\u001b[0m                         Traceback (most recent call last)",
      "\u001b[1;32mc:\\Users\\jonat\\Desktop\\grupal\\GP_Henry\\etl-eda\\carga_sql.ipynb Celda 13\u001b[0m line \u001b[0;36m9\n\u001b[0;32m      <a href='vscode-notebook-cell:/c%3A/Users/jonat/Desktop/grupal/GP_Henry/etl-eda/carga_sql.ipynb#X15sZmlsZQ%3D%3D?line=6'>7</a>\u001b[0m cursor \u001b[39m=\u001b[39m conexion\u001b[39m.\u001b[39mcursor()\n\u001b[0;32m      <a href='vscode-notebook-cell:/c%3A/Users/jonat/Desktop/grupal/GP_Henry/etl-eda/carga_sql.ipynb#X15sZmlsZQ%3D%3D?line=7'>8</a>\u001b[0m \u001b[39mfor\u001b[39;00m index, row \u001b[39min\u001b[39;00m user_yelp\u001b[39m.\u001b[39miterrows():\n\u001b[1;32m----> <a href='vscode-notebook-cell:/c%3A/Users/jonat/Desktop/grupal/GP_Henry/etl-eda/carga_sql.ipynb#X15sZmlsZQ%3D%3D?line=8'>9</a>\u001b[0m     cursor\u001b[39m.\u001b[39;49mexecute(\u001b[39m\"\u001b[39;49m\u001b[39mINSERT INTO user_yelp (user_id, name, creation, review_count, influence, stars) VALUES (\u001b[39;49m\u001b[39m%s\u001b[39;49;00m\u001b[39m, \u001b[39;49m\u001b[39m%s\u001b[39;49;00m\u001b[39m, \u001b[39;49m\u001b[39m%s\u001b[39;49;00m\u001b[39m, \u001b[39;49m\u001b[39m%s\u001b[39;49;00m\u001b[39m, \u001b[39;49m\u001b[39m%s\u001b[39;49;00m\u001b[39m, \u001b[39;49m\u001b[39m%s\u001b[39;49;00m\u001b[39m)\u001b[39;49m\u001b[39m\"\u001b[39;49m,\n\u001b[0;32m     <a href='vscode-notebook-cell:/c%3A/Users/jonat/Desktop/grupal/GP_Henry/etl-eda/carga_sql.ipynb#X15sZmlsZQ%3D%3D?line=9'>10</a>\u001b[0m                 (row[\u001b[39m'\u001b[39;49m\u001b[39muser_id\u001b[39;49m\u001b[39m'\u001b[39;49m], row[\u001b[39m'\u001b[39;49m\u001b[39mname\u001b[39;49m\u001b[39m'\u001b[39;49m], row[\u001b[39m'\u001b[39;49m\u001b[39mcreation\u001b[39;49m\u001b[39m'\u001b[39;49m], row[\u001b[39m'\u001b[39;49m\u001b[39mreview_count\u001b[39;49m\u001b[39m'\u001b[39;49m], row[\u001b[39m'\u001b[39;49m\u001b[39minfluence\u001b[39;49m\u001b[39m'\u001b[39;49m], row[\u001b[39m'\u001b[39;49m\u001b[39mstars\u001b[39;49m\u001b[39m'\u001b[39;49m]))\n\u001b[0;32m     <a href='vscode-notebook-cell:/c%3A/Users/jonat/Desktop/grupal/GP_Henry/etl-eda/carga_sql.ipynb#X15sZmlsZQ%3D%3D?line=11'>12</a>\u001b[0m \u001b[39m# Hacer commit de los cambios\u001b[39;00m\n\u001b[0;32m     <a href='vscode-notebook-cell:/c%3A/Users/jonat/Desktop/grupal/GP_Henry/etl-eda/carga_sql.ipynb#X15sZmlsZQ%3D%3D?line=12'>13</a>\u001b[0m conexion\u001b[39m.\u001b[39mcommit()\n",
      "File \u001b[1;32m~\\AppData\\Local\\Packages\\PythonSoftwareFoundation.Python.3.11_qbz5n2kfra8p0\\LocalCache\\local-packages\\Python311\\site-packages\\mysql\\connector\\cursor.py:617\u001b[0m, in \u001b[0;36mMySQLCursor.execute\u001b[1;34m(self, operation, params, multi)\u001b[0m\n\u001b[0;32m    614\u001b[0m     \u001b[39mreturn\u001b[39;00m \u001b[39mself\u001b[39m\u001b[39m.\u001b[39m_execute_iter(\u001b[39mself\u001b[39m\u001b[39m.\u001b[39m_connection\u001b[39m.\u001b[39mcmd_query_iter(stmt))\n\u001b[0;32m    616\u001b[0m \u001b[39mtry\u001b[39;00m:\n\u001b[1;32m--> 617\u001b[0m     \u001b[39mself\u001b[39m\u001b[39m.\u001b[39m_handle_result(\u001b[39mself\u001b[39;49m\u001b[39m.\u001b[39;49m_connection\u001b[39m.\u001b[39;49mcmd_query(stmt))\n\u001b[0;32m    618\u001b[0m \u001b[39mexcept\u001b[39;00m InterfaceError \u001b[39mas\u001b[39;00m err:\n\u001b[0;32m    619\u001b[0m     \u001b[39mif\u001b[39;00m \u001b[39mself\u001b[39m\u001b[39m.\u001b[39m_connection\u001b[39m.\u001b[39mhave_next_result:\n",
      "File \u001b[1;32m~\\AppData\\Local\\Packages\\PythonSoftwareFoundation.Python.3.11_qbz5n2kfra8p0\\LocalCache\\local-packages\\Python311\\site-packages\\mysql\\connector\\opentelemetry\\context_propagation.py:77\u001b[0m, in \u001b[0;36mwith_context_propagation.<locals>.wrapper\u001b[1;34m(cnx, *args, **kwargs)\u001b[0m\n\u001b[0;32m     75\u001b[0m \u001b[39m\u001b[39m\u001b[39m\"\"\"Context propagation decorator.\"\"\"\u001b[39;00m\n\u001b[0;32m     76\u001b[0m \u001b[39mif\u001b[39;00m \u001b[39mnot\u001b[39;00m OTEL_ENABLED \u001b[39mor\u001b[39;00m \u001b[39mnot\u001b[39;00m cnx\u001b[39m.\u001b[39motel_context_propagation:\n\u001b[1;32m---> 77\u001b[0m     \u001b[39mreturn\u001b[39;00m method(cnx, \u001b[39m*\u001b[39;49margs, \u001b[39m*\u001b[39;49m\u001b[39m*\u001b[39;49mkwargs)\n\u001b[0;32m     79\u001b[0m current_span \u001b[39m=\u001b[39m trace\u001b[39m.\u001b[39mget_current_span()\n\u001b[0;32m     80\u001b[0m tp_header \u001b[39m=\u001b[39m \u001b[39mNone\u001b[39;00m\n",
      "File \u001b[1;32m~\\AppData\\Local\\Packages\\PythonSoftwareFoundation.Python.3.11_qbz5n2kfra8p0\\LocalCache\\local-packages\\Python311\\site-packages\\mysql\\connector\\connection.py:843\u001b[0m, in \u001b[0;36mMySQLConnection.cmd_query\u001b[1;34m(self, query, raw, buffered, raw_as_string)\u001b[0m\n\u001b[0;32m    841\u001b[0m query \u001b[39m=\u001b[39m \u001b[39mbytes\u001b[39m(packet)\n\u001b[0;32m    842\u001b[0m \u001b[39mtry\u001b[39;00m:\n\u001b[1;32m--> 843\u001b[0m     result \u001b[39m=\u001b[39m \u001b[39mself\u001b[39m\u001b[39m.\u001b[39m_handle_result(\u001b[39mself\u001b[39;49m\u001b[39m.\u001b[39;49m_send_cmd(ServerCmd\u001b[39m.\u001b[39;49mQUERY, query))\n\u001b[0;32m    844\u001b[0m \u001b[39mexcept\u001b[39;00m ProgrammingError \u001b[39mas\u001b[39;00m err:\n\u001b[0;32m    845\u001b[0m     \u001b[39mif\u001b[39;00m err\u001b[39m.\u001b[39merrno \u001b[39m==\u001b[39m \u001b[39m3948\u001b[39m \u001b[39mand\u001b[39;00m \u001b[39m\"\u001b[39m\u001b[39mLoading local data is disabled\u001b[39m\u001b[39m\"\u001b[39m \u001b[39min\u001b[39;00m err\u001b[39m.\u001b[39mmsg:\n",
      "File \u001b[1;32m~\\AppData\\Local\\Packages\\PythonSoftwareFoundation.Python.3.11_qbz5n2kfra8p0\\LocalCache\\local-packages\\Python311\\site-packages\\mysql\\connector\\connection.py:455\u001b[0m, in \u001b[0;36mMySQLConnection._send_cmd\u001b[1;34m(self, command, argument, packet_number, packet, expect_response, compressed_packet_number)\u001b[0m\n\u001b[0;32m    452\u001b[0m \u001b[39mself\u001b[39m\u001b[39m.\u001b[39mhandle_unread_result()\n\u001b[0;32m    454\u001b[0m \u001b[39mtry\u001b[39;00m:\n\u001b[1;32m--> 455\u001b[0m     \u001b[39mself\u001b[39;49m\u001b[39m.\u001b[39;49m_socket\u001b[39m.\u001b[39;49msend(\n\u001b[0;32m    456\u001b[0m         \u001b[39mself\u001b[39;49m\u001b[39m.\u001b[39;49m_protocol\u001b[39m.\u001b[39;49mmake_command(command, packet \u001b[39mor\u001b[39;49;00m argument),\n\u001b[0;32m    457\u001b[0m         packet_number,\n\u001b[0;32m    458\u001b[0m         compressed_packet_number,\n\u001b[0;32m    459\u001b[0m     )\n\u001b[0;32m    460\u001b[0m \u001b[39mexcept\u001b[39;00m \u001b[39mAttributeError\u001b[39;00m \u001b[39mas\u001b[39;00m err:\n\u001b[0;32m    461\u001b[0m     \u001b[39mraise\u001b[39;00m OperationalError(\u001b[39m\"\u001b[39m\u001b[39mMySQL Connection not available\u001b[39m\u001b[39m\"\u001b[39m) \u001b[39mfrom\u001b[39;00m \u001b[39merr\u001b[39;00m\n",
      "File \u001b[1;32m~\\AppData\\Local\\Packages\\PythonSoftwareFoundation.Python.3.11_qbz5n2kfra8p0\\LocalCache\\local-packages\\Python311\\site-packages\\mysql\\connector\\network.py:621\u001b[0m, in \u001b[0;36mMySQLSocket.send\u001b[1;34m(self, payload, packet_number, compressed_packet_number)\u001b[0m\n\u001b[0;32m    614\u001b[0m \u001b[39mdef\u001b[39;00m \u001b[39msend\u001b[39m(\n\u001b[0;32m    615\u001b[0m     \u001b[39mself\u001b[39m,\n\u001b[0;32m    616\u001b[0m     payload: \u001b[39mbytes\u001b[39m,\n\u001b[0;32m    617\u001b[0m     packet_number: Optional[\u001b[39mint\u001b[39m] \u001b[39m=\u001b[39m \u001b[39mNone\u001b[39;00m,\n\u001b[0;32m    618\u001b[0m     compressed_packet_number: Optional[\u001b[39mint\u001b[39m] \u001b[39m=\u001b[39m \u001b[39mNone\u001b[39;00m,\n\u001b[0;32m    619\u001b[0m ) \u001b[39m-\u001b[39m\u001b[39m>\u001b[39m \u001b[39mNone\u001b[39;00m:\n\u001b[0;32m    620\u001b[0m \u001b[39m    \u001b[39m\u001b[39m\"\"\"Send `payload` to the MySQL server.\"\"\"\u001b[39;00m\n\u001b[1;32m--> 621\u001b[0m     \u001b[39mreturn\u001b[39;00m \u001b[39mself\u001b[39;49m\u001b[39m.\u001b[39;49m_netbroker\u001b[39m.\u001b[39;49msend(\n\u001b[0;32m    622\u001b[0m         \u001b[39mself\u001b[39;49m\u001b[39m.\u001b[39;49msock,\n\u001b[0;32m    623\u001b[0m         \u001b[39mself\u001b[39;49m\u001b[39m.\u001b[39;49maddress,\n\u001b[0;32m    624\u001b[0m         payload,\n\u001b[0;32m    625\u001b[0m         packet_number\u001b[39m=\u001b[39;49mpacket_number,\n\u001b[0;32m    626\u001b[0m         compressed_packet_number\u001b[39m=\u001b[39;49mcompressed_packet_number,\n\u001b[0;32m    627\u001b[0m     )\n",
      "File \u001b[1;32m~\\AppData\\Local\\Packages\\PythonSoftwareFoundation.Python.3.11_qbz5n2kfra8p0\\LocalCache\\local-packages\\Python311\\site-packages\\mysql\\connector\\network.py:219\u001b[0m, in \u001b[0;36mNetworkBrokerPlain.send\u001b[1;34m(self, sock, address, payload, packet_number, compressed_packet_number)\u001b[0m\n\u001b[0;32m    217\u001b[0m         offset \u001b[39m+\u001b[39m\u001b[39m=\u001b[39m MAX_PAYLOAD_LENGTH\n\u001b[0;32m    218\u001b[0m     payload \u001b[39m=\u001b[39m payload[offset:]\n\u001b[1;32m--> 219\u001b[0m \u001b[39mself\u001b[39;49m\u001b[39m.\u001b[39;49m_send_pkt(\n\u001b[0;32m    220\u001b[0m     sock,\n\u001b[0;32m    221\u001b[0m     address,\n\u001b[0;32m    222\u001b[0m     struct\u001b[39m.\u001b[39;49mpack(\u001b[39m\"\u001b[39;49m\u001b[39m<I\u001b[39;49m\u001b[39m\"\u001b[39;49m, \u001b[39mlen\u001b[39;49m(payload))[\u001b[39m0\u001b[39;49m:\u001b[39m3\u001b[39;49m]\n\u001b[0;32m    223\u001b[0m     \u001b[39m+\u001b[39;49m struct\u001b[39m.\u001b[39;49mpack(\u001b[39m\"\u001b[39;49m\u001b[39m<B\u001b[39;49m\u001b[39m\"\u001b[39;49m, \u001b[39mself\u001b[39;49m\u001b[39m.\u001b[39;49m_pktnr)\n\u001b[0;32m    224\u001b[0m     \u001b[39m+\u001b[39;49m payload,\n\u001b[0;32m    225\u001b[0m )\n",
      "File \u001b[1;32m~\\AppData\\Local\\Packages\\PythonSoftwareFoundation.Python.3.11_qbz5n2kfra8p0\\LocalCache\\local-packages\\Python311\\site-packages\\mysql\\connector\\network.py:163\u001b[0m, in \u001b[0;36mNetworkBrokerPlain._send_pkt\u001b[1;34m(self, sock, address, pkt)\u001b[0m\n\u001b[0;32m    161\u001b[0m \u001b[39m\u001b[39m\u001b[39m\"\"\"Write packet to the comm channel.\"\"\"\u001b[39;00m\n\u001b[0;32m    162\u001b[0m \u001b[39mtry\u001b[39;00m:\n\u001b[1;32m--> 163\u001b[0m     sock\u001b[39m.\u001b[39;49msendall(pkt)\n\u001b[0;32m    164\u001b[0m \u001b[39mexcept\u001b[39;00m \u001b[39mIOError\u001b[39;00m \u001b[39mas\u001b[39;00m err:\n\u001b[0;32m    165\u001b[0m     \u001b[39mraise\u001b[39;00m OperationalError(\n\u001b[0;32m    166\u001b[0m         errno\u001b[39m=\u001b[39m\u001b[39m2055\u001b[39m, values\u001b[39m=\u001b[39m(address, _strioerror(err))\n\u001b[0;32m    167\u001b[0m     ) \u001b[39mfrom\u001b[39;00m \u001b[39merr\u001b[39;00m\n",
      "File \u001b[1;32mC:\\Program Files\\WindowsApps\\PythonSoftwareFoundation.Python.3.11_3.11.1520.0_x64__qbz5n2kfra8p0\\Lib\\ssl.py:1274\u001b[0m, in \u001b[0;36mSSLSocket.sendall\u001b[1;34m(self, data, flags)\u001b[0m\n\u001b[0;32m   1272\u001b[0m         amount \u001b[39m=\u001b[39m \u001b[39mlen\u001b[39m(byte_view)\n\u001b[0;32m   1273\u001b[0m         \u001b[39mwhile\u001b[39;00m count \u001b[39m<\u001b[39m amount:\n\u001b[1;32m-> 1274\u001b[0m             v \u001b[39m=\u001b[39m \u001b[39mself\u001b[39;49m\u001b[39m.\u001b[39;49msend(byte_view[count:])\n\u001b[0;32m   1275\u001b[0m             count \u001b[39m+\u001b[39m\u001b[39m=\u001b[39m v\n\u001b[0;32m   1276\u001b[0m \u001b[39melse\u001b[39;00m:\n",
      "File \u001b[1;32mC:\\Program Files\\WindowsApps\\PythonSoftwareFoundation.Python.3.11_3.11.1520.0_x64__qbz5n2kfra8p0\\Lib\\ssl.py:1243\u001b[0m, in \u001b[0;36mSSLSocket.send\u001b[1;34m(self, data, flags)\u001b[0m\n\u001b[0;32m   1239\u001b[0m     \u001b[39mif\u001b[39;00m flags \u001b[39m!=\u001b[39m \u001b[39m0\u001b[39m:\n\u001b[0;32m   1240\u001b[0m         \u001b[39mraise\u001b[39;00m \u001b[39mValueError\u001b[39;00m(\n\u001b[0;32m   1241\u001b[0m             \u001b[39m\"\u001b[39m\u001b[39mnon-zero flags not allowed in calls to send() on \u001b[39m\u001b[39m%s\u001b[39;00m\u001b[39m\"\u001b[39m \u001b[39m%\u001b[39m\n\u001b[0;32m   1242\u001b[0m             \u001b[39mself\u001b[39m\u001b[39m.\u001b[39m\u001b[39m__class__\u001b[39m)\n\u001b[1;32m-> 1243\u001b[0m     \u001b[39mreturn\u001b[39;00m \u001b[39mself\u001b[39m\u001b[39m.\u001b[39m_sslobj\u001b[39m.\u001b[39mwrite(data)\n\u001b[0;32m   1244\u001b[0m \u001b[39melse\u001b[39;00m:\n\u001b[0;32m   1245\u001b[0m     \u001b[39mreturn\u001b[39;00m \u001b[39msuper\u001b[39m()\u001b[39m.\u001b[39msend(data, flags)\n",
      "\u001b[1;31mKeyboardInterrupt\u001b[0m: "
     ]
    }
   ],
   "source": [
    "user_yelp = pd.read_parquet(r'..\\datasets\\processed\\bd\\3_user_yelp.parquet.gz')\n",
    "user_yelp['creation'] = user_yelp['creation'].dt.strftime('%Y-%m-%d %H:%M:%S')\n",
    "\n",
    "conexion = conectar_mysql()\n",
    "\n",
    "# Insertar filas en la tabla bussiness_yelp\n",
    "cursor = conexion.cursor()\n",
    "for index, row in user_yelp.iterrows():\n",
    "    cursor.execute(\"INSERT INTO user_yelp (user_id, name, creation, review_count, influence, stars) VALUES (%s, %s, %s, %s, %s, %s)\",\n",
    "                (row['user_id'], row['name'], row['creation'], row['review_count'], row['influence'], row['stars']))\n",
    "\n",
    "# Hacer commit de los cambios\n",
    "conexion.commit()\n",
    "\n",
    "# Cerrar la conexión\n",
    "conexion.close()\n",
    "\n"
   ]
  },
  {
   "cell_type": "markdown",
   "metadata": {},
   "source": [
    "# 4) User google"
   ]
  },
  {
   "cell_type": "code",
   "execution_count": null,
   "metadata": {},
   "outputs": [
    {
     "name": "stdout",
     "output_type": "stream",
     "text": [
      "¡Conexión establecida correctamente!\n"
     ]
    },
    {
     "ename": "KeyboardInterrupt",
     "evalue": "",
     "output_type": "error",
     "traceback": [
      "\u001b[1;31m---------------------------------------------------------------------------\u001b[0m",
      "\u001b[1;31mKeyboardInterrupt\u001b[0m                         Traceback (most recent call last)",
      "\u001b[1;32mc:\\Users\\jonat\\Desktop\\grupal\\GP_Henry\\etl-eda\\carga_sql.ipynb Celda 15\u001b[0m line \u001b[0;36m2\n\u001b[0;32m     <a href='vscode-notebook-cell:/c%3A/Users/jonat/Desktop/grupal/GP_Henry/etl-eda/carga_sql.ipynb#X20sZmlsZQ%3D%3D?line=26'>27</a>\u001b[0m cursor \u001b[39m=\u001b[39m conexion\u001b[39m.\u001b[39mcursor()\n\u001b[0;32m     <a href='vscode-notebook-cell:/c%3A/Users/jonat/Desktop/grupal/GP_Henry/etl-eda/carga_sql.ipynb#X20sZmlsZQ%3D%3D?line=27'>28</a>\u001b[0m \u001b[39mfor\u001b[39;00m index, row \u001b[39min\u001b[39;00m user_google\u001b[39m.\u001b[39miterrows():\n\u001b[1;32m---> <a href='vscode-notebook-cell:/c%3A/Users/jonat/Desktop/grupal/GP_Henry/etl-eda/carga_sql.ipynb#X20sZmlsZQ%3D%3D?line=28'>29</a>\u001b[0m     cursor\u001b[39m.\u001b[39;49mexecute(\u001b[39m\"\u001b[39;49m\u001b[39mINSERT INTO user_google (user_id, name, creation, review_count, stars) VALUES (\u001b[39;49m\u001b[39m%s\u001b[39;49;00m\u001b[39m, \u001b[39;49m\u001b[39m%s\u001b[39;49;00m\u001b[39m, \u001b[39;49m\u001b[39m%s\u001b[39;49;00m\u001b[39m, \u001b[39;49m\u001b[39m%s\u001b[39;49;00m\u001b[39m, \u001b[39;49m\u001b[39m%s\u001b[39;49;00m\u001b[39m)\u001b[39;49m\u001b[39m\"\u001b[39;49m,\n\u001b[0;32m     <a href='vscode-notebook-cell:/c%3A/Users/jonat/Desktop/grupal/GP_Henry/etl-eda/carga_sql.ipynb#X20sZmlsZQ%3D%3D?line=29'>30</a>\u001b[0m                 (row[\u001b[39m'\u001b[39;49m\u001b[39muser_id\u001b[39;49m\u001b[39m'\u001b[39;49m], row[\u001b[39m'\u001b[39;49m\u001b[39mname\u001b[39;49m\u001b[39m'\u001b[39;49m], row[\u001b[39m'\u001b[39;49m\u001b[39mcreation\u001b[39;49m\u001b[39m'\u001b[39;49m], row[\u001b[39m'\u001b[39;49m\u001b[39mreview_count\u001b[39;49m\u001b[39m'\u001b[39;49m], row[\u001b[39m'\u001b[39;49m\u001b[39mstars\u001b[39;49m\u001b[39m'\u001b[39;49m]))\n\u001b[0;32m     <a href='vscode-notebook-cell:/c%3A/Users/jonat/Desktop/grupal/GP_Henry/etl-eda/carga_sql.ipynb#X20sZmlsZQ%3D%3D?line=31'>32</a>\u001b[0m \u001b[39m# Hacer commit de los cambios\u001b[39;00m\n\u001b[0;32m     <a href='vscode-notebook-cell:/c%3A/Users/jonat/Desktop/grupal/GP_Henry/etl-eda/carga_sql.ipynb#X20sZmlsZQ%3D%3D?line=32'>33</a>\u001b[0m conexion\u001b[39m.\u001b[39mcommit()\n",
      "File \u001b[1;32m~\\AppData\\Local\\Packages\\PythonSoftwareFoundation.Python.3.11_qbz5n2kfra8p0\\LocalCache\\local-packages\\Python311\\site-packages\\mysql\\connector\\cursor.py:617\u001b[0m, in \u001b[0;36mMySQLCursor.execute\u001b[1;34m(self, operation, params, multi)\u001b[0m\n\u001b[0;32m    614\u001b[0m     \u001b[39mreturn\u001b[39;00m \u001b[39mself\u001b[39m\u001b[39m.\u001b[39m_execute_iter(\u001b[39mself\u001b[39m\u001b[39m.\u001b[39m_connection\u001b[39m.\u001b[39mcmd_query_iter(stmt))\n\u001b[0;32m    616\u001b[0m \u001b[39mtry\u001b[39;00m:\n\u001b[1;32m--> 617\u001b[0m     \u001b[39mself\u001b[39m\u001b[39m.\u001b[39m_handle_result(\u001b[39mself\u001b[39;49m\u001b[39m.\u001b[39;49m_connection\u001b[39m.\u001b[39;49mcmd_query(stmt))\n\u001b[0;32m    618\u001b[0m \u001b[39mexcept\u001b[39;00m InterfaceError \u001b[39mas\u001b[39;00m err:\n\u001b[0;32m    619\u001b[0m     \u001b[39mif\u001b[39;00m \u001b[39mself\u001b[39m\u001b[39m.\u001b[39m_connection\u001b[39m.\u001b[39mhave_next_result:\n",
      "File \u001b[1;32m~\\AppData\\Local\\Packages\\PythonSoftwareFoundation.Python.3.11_qbz5n2kfra8p0\\LocalCache\\local-packages\\Python311\\site-packages\\mysql\\connector\\opentelemetry\\context_propagation.py:77\u001b[0m, in \u001b[0;36mwith_context_propagation.<locals>.wrapper\u001b[1;34m(cnx, *args, **kwargs)\u001b[0m\n\u001b[0;32m     75\u001b[0m \u001b[39m\u001b[39m\u001b[39m\"\"\"Context propagation decorator.\"\"\"\u001b[39;00m\n\u001b[0;32m     76\u001b[0m \u001b[39mif\u001b[39;00m \u001b[39mnot\u001b[39;00m OTEL_ENABLED \u001b[39mor\u001b[39;00m \u001b[39mnot\u001b[39;00m cnx\u001b[39m.\u001b[39motel_context_propagation:\n\u001b[1;32m---> 77\u001b[0m     \u001b[39mreturn\u001b[39;00m method(cnx, \u001b[39m*\u001b[39;49margs, \u001b[39m*\u001b[39;49m\u001b[39m*\u001b[39;49mkwargs)\n\u001b[0;32m     79\u001b[0m current_span \u001b[39m=\u001b[39m trace\u001b[39m.\u001b[39mget_current_span()\n\u001b[0;32m     80\u001b[0m tp_header \u001b[39m=\u001b[39m \u001b[39mNone\u001b[39;00m\n",
      "File \u001b[1;32m~\\AppData\\Local\\Packages\\PythonSoftwareFoundation.Python.3.11_qbz5n2kfra8p0\\LocalCache\\local-packages\\Python311\\site-packages\\mysql\\connector\\connection.py:843\u001b[0m, in \u001b[0;36mMySQLConnection.cmd_query\u001b[1;34m(self, query, raw, buffered, raw_as_string)\u001b[0m\n\u001b[0;32m    841\u001b[0m query \u001b[39m=\u001b[39m \u001b[39mbytes\u001b[39m(packet)\n\u001b[0;32m    842\u001b[0m \u001b[39mtry\u001b[39;00m:\n\u001b[1;32m--> 843\u001b[0m     result \u001b[39m=\u001b[39m \u001b[39mself\u001b[39m\u001b[39m.\u001b[39m_handle_result(\u001b[39mself\u001b[39;49m\u001b[39m.\u001b[39;49m_send_cmd(ServerCmd\u001b[39m.\u001b[39;49mQUERY, query))\n\u001b[0;32m    844\u001b[0m \u001b[39mexcept\u001b[39;00m ProgrammingError \u001b[39mas\u001b[39;00m err:\n\u001b[0;32m    845\u001b[0m     \u001b[39mif\u001b[39;00m err\u001b[39m.\u001b[39merrno \u001b[39m==\u001b[39m \u001b[39m3948\u001b[39m \u001b[39mand\u001b[39;00m \u001b[39m\"\u001b[39m\u001b[39mLoading local data is disabled\u001b[39m\u001b[39m\"\u001b[39m \u001b[39min\u001b[39;00m err\u001b[39m.\u001b[39mmsg:\n",
      "File \u001b[1;32m~\\AppData\\Local\\Packages\\PythonSoftwareFoundation.Python.3.11_qbz5n2kfra8p0\\LocalCache\\local-packages\\Python311\\site-packages\\mysql\\connector\\connection.py:465\u001b[0m, in \u001b[0;36mMySQLConnection._send_cmd\u001b[1;34m(self, command, argument, packet_number, packet, expect_response, compressed_packet_number)\u001b[0m\n\u001b[0;32m    463\u001b[0m \u001b[39mif\u001b[39;00m \u001b[39mnot\u001b[39;00m expect_response:\n\u001b[0;32m    464\u001b[0m     \u001b[39mreturn\u001b[39;00m \u001b[39mNone\u001b[39;00m\n\u001b[1;32m--> 465\u001b[0m \u001b[39mreturn\u001b[39;00m \u001b[39mself\u001b[39;49m\u001b[39m.\u001b[39;49m_socket\u001b[39m.\u001b[39;49mrecv()\n",
      "File \u001b[1;32m~\\AppData\\Local\\Packages\\PythonSoftwareFoundation.Python.3.11_qbz5n2kfra8p0\\LocalCache\\local-packages\\Python311\\site-packages\\mysql\\connector\\network.py:631\u001b[0m, in \u001b[0;36mMySQLSocket.recv\u001b[1;34m(self)\u001b[0m\n\u001b[0;32m    629\u001b[0m \u001b[39mdef\u001b[39;00m \u001b[39mrecv\u001b[39m(\u001b[39mself\u001b[39m) \u001b[39m-\u001b[39m\u001b[39m>\u001b[39m \u001b[39mbytearray\u001b[39m:\n\u001b[0;32m    630\u001b[0m \u001b[39m    \u001b[39m\u001b[39m\"\"\"Get packet from the MySQL server comm channel.\"\"\"\u001b[39;00m\n\u001b[1;32m--> 631\u001b[0m     \u001b[39mreturn\u001b[39;00m \u001b[39mself\u001b[39;49m\u001b[39m.\u001b[39;49m_netbroker\u001b[39m.\u001b[39;49mrecv(\u001b[39mself\u001b[39;49m\u001b[39m.\u001b[39;49msock, \u001b[39mself\u001b[39;49m\u001b[39m.\u001b[39;49maddress)\n",
      "File \u001b[1;32m~\\AppData\\Local\\Packages\\PythonSoftwareFoundation.Python.3.11_qbz5n2kfra8p0\\LocalCache\\local-packages\\Python311\\site-packages\\mysql\\connector\\network.py:231\u001b[0m, in \u001b[0;36mNetworkBrokerPlain.recv\u001b[1;34m(self, sock, address)\u001b[0m\n\u001b[0;32m    228\u001b[0m \u001b[39m\u001b[39m\u001b[39m\"\"\"Receive `one` packet from the MySQL server.\"\"\"\u001b[39;00m\n\u001b[0;32m    229\u001b[0m \u001b[39mtry\u001b[39;00m:\n\u001b[0;32m    230\u001b[0m     \u001b[39m# Read the header of the MySQL packet\u001b[39;00m\n\u001b[1;32m--> 231\u001b[0m     header \u001b[39m=\u001b[39m \u001b[39mself\u001b[39;49m\u001b[39m.\u001b[39;49m_recv_chunk(sock, size\u001b[39m=\u001b[39;49mPACKET_HEADER_LENGTH)\n\u001b[0;32m    233\u001b[0m     \u001b[39m# Pull the payload length and sequence id\u001b[39;00m\n\u001b[0;32m    234\u001b[0m     payload_len, \u001b[39mself\u001b[39m\u001b[39m.\u001b[39m_pktnr \u001b[39m=\u001b[39m (\n\u001b[0;32m    235\u001b[0m         struct\u001b[39m.\u001b[39munpack(\u001b[39m\"\u001b[39m\u001b[39m<I\u001b[39m\u001b[39m\"\u001b[39m, header[\u001b[39m0\u001b[39m:\u001b[39m3\u001b[39m] \u001b[39m+\u001b[39m \u001b[39mb\u001b[39m\u001b[39m\"\u001b[39m\u001b[39m\\x00\u001b[39;00m\u001b[39m\"\u001b[39m)[\u001b[39m0\u001b[39m],\n\u001b[0;32m    236\u001b[0m         header[\u001b[39m3\u001b[39m],\n\u001b[0;32m    237\u001b[0m     )\n",
      "File \u001b[1;32m~\\AppData\\Local\\Packages\\PythonSoftwareFoundation.Python.3.11_qbz5n2kfra8p0\\LocalCache\\local-packages\\Python311\\site-packages\\mysql\\connector\\network.py:176\u001b[0m, in \u001b[0;36mNetworkBrokerPlain._recv_chunk\u001b[1;34m(self, sock, size)\u001b[0m\n\u001b[0;32m    174\u001b[0m pkt_view \u001b[39m=\u001b[39m \u001b[39mmemoryview\u001b[39m(pkt)\n\u001b[0;32m    175\u001b[0m \u001b[39mwhile\u001b[39;00m size:\n\u001b[1;32m--> 176\u001b[0m     read \u001b[39m=\u001b[39m sock\u001b[39m.\u001b[39;49mrecv_into(pkt_view, size)\n\u001b[0;32m    177\u001b[0m     \u001b[39mif\u001b[39;00m read \u001b[39m==\u001b[39m \u001b[39m0\u001b[39m \u001b[39mand\u001b[39;00m size \u001b[39m>\u001b[39m \u001b[39m0\u001b[39m:\n\u001b[0;32m    178\u001b[0m         \u001b[39mraise\u001b[39;00m InterfaceError(errno\u001b[39m=\u001b[39m\u001b[39m2013\u001b[39m)\n",
      "File \u001b[1;32mC:\\Program Files\\WindowsApps\\PythonSoftwareFoundation.Python.3.11_3.11.1520.0_x64__qbz5n2kfra8p0\\Lib\\ssl.py:1311\u001b[0m, in \u001b[0;36mSSLSocket.recv_into\u001b[1;34m(self, buffer, nbytes, flags)\u001b[0m\n\u001b[0;32m   1307\u001b[0m     \u001b[39mif\u001b[39;00m flags \u001b[39m!=\u001b[39m \u001b[39m0\u001b[39m:\n\u001b[0;32m   1308\u001b[0m         \u001b[39mraise\u001b[39;00m \u001b[39mValueError\u001b[39;00m(\n\u001b[0;32m   1309\u001b[0m           \u001b[39m\"\u001b[39m\u001b[39mnon-zero flags not allowed in calls to recv_into() on \u001b[39m\u001b[39m%s\u001b[39;00m\u001b[39m\"\u001b[39m \u001b[39m%\u001b[39m\n\u001b[0;32m   1310\u001b[0m           \u001b[39mself\u001b[39m\u001b[39m.\u001b[39m\u001b[39m__class__\u001b[39m)\n\u001b[1;32m-> 1311\u001b[0m     \u001b[39mreturn\u001b[39;00m \u001b[39mself\u001b[39;49m\u001b[39m.\u001b[39;49mread(nbytes, buffer)\n\u001b[0;32m   1312\u001b[0m \u001b[39melse\u001b[39;00m:\n\u001b[0;32m   1313\u001b[0m     \u001b[39mreturn\u001b[39;00m \u001b[39msuper\u001b[39m()\u001b[39m.\u001b[39mrecv_into(buffer, nbytes, flags)\n",
      "File \u001b[1;32mC:\\Program Files\\WindowsApps\\PythonSoftwareFoundation.Python.3.11_3.11.1520.0_x64__qbz5n2kfra8p0\\Lib\\ssl.py:1167\u001b[0m, in \u001b[0;36mSSLSocket.read\u001b[1;34m(self, len, buffer)\u001b[0m\n\u001b[0;32m   1165\u001b[0m \u001b[39mtry\u001b[39;00m:\n\u001b[0;32m   1166\u001b[0m     \u001b[39mif\u001b[39;00m buffer \u001b[39mis\u001b[39;00m \u001b[39mnot\u001b[39;00m \u001b[39mNone\u001b[39;00m:\n\u001b[1;32m-> 1167\u001b[0m         \u001b[39mreturn\u001b[39;00m \u001b[39mself\u001b[39;49m\u001b[39m.\u001b[39;49m_sslobj\u001b[39m.\u001b[39;49mread(\u001b[39mlen\u001b[39;49m, buffer)\n\u001b[0;32m   1168\u001b[0m     \u001b[39melse\u001b[39;00m:\n\u001b[0;32m   1169\u001b[0m         \u001b[39mreturn\u001b[39;00m \u001b[39mself\u001b[39m\u001b[39m.\u001b[39m_sslobj\u001b[39m.\u001b[39mread(\u001b[39mlen\u001b[39m)\n",
      "\u001b[1;31mKeyboardInterrupt\u001b[0m: "
     ]
    }
   ],
   "source": [
    "user_google = pd.read_parquet(r'..\\datasets\\processed\\bd\\4_user_google.parquet.gz')\n",
    "user_google['creation'] = user_google['creation'].dt.strftime('%Y-%m-%d %H:%M:%S')\n",
    "user_google.drop_duplicates(inplace=True)\n",
    "user_google['user_id'] = user_google['user_id'].astype(str)\n",
    "user_google['name'] = user_google['name'].replace(r'[^a-zA-Z\\s]', '', regex=True)\n",
    "user_google.drop(2023700,inplace=True)\n",
    "user_google.dropna(inplace=True)\n",
    "user_google = user_google.groupby(['user_id','name','creation','review_count'])['stars'].mean().reset_index()\n",
    "user_google = user_google.drop_duplicates(subset=['user_id'], keep='first')\n",
    "\n",
    "\n",
    "def corregir_codificacion(texto):\n",
    "    try:\n",
    "        return texto.encode('latin-1').decode('utf-8', 'ignore')\n",
    "    except Exception:\n",
    "        return unicodedata.normalize('NFKD', texto).encode('latin-1', 'ignore').decode('utf-8', 'ignore')\n",
    "\n",
    "\n",
    "# Recorre todas las columnas del DataFrame\n",
    "for column in user_google.columns:\n",
    "    # Intenta corregir los caracteres no codificados como UTF-8 en cada celda\n",
    "    user_google[column] = user_google[column].apply(lambda x: corregir_codificacion(str(x)) if isinstance(x, str) else x)\n",
    "\n",
    "conexion = conectar_mysql()\n",
    "\n",
    "# Insertar filas en la tabla bussiness_yelp\n",
    "cursor = conexion.cursor()\n",
    "for index, row in user_google.iterrows():\n",
    "    cursor.execute(\"INSERT INTO user_google (user_id, name, creation, review_count, stars) VALUES (%s, %s, %s, %s, %s)\",\n",
    "                (row['user_id'], row['name'], row['creation'], row['review_count'], row['stars']))\n",
    "\n",
    "# Hacer commit de los cambios\n",
    "conexion.commit()\n",
    "\n",
    "# Cerrar la conexión\n",
    "conexion.close()\n"
   ]
  },
  {
   "cell_type": "markdown",
   "metadata": {},
   "source": [
    "# 5) Bussiness google"
   ]
  },
  {
   "cell_type": "code",
   "execution_count": null,
   "metadata": {},
   "outputs": [
    {
     "name": "stdout",
     "output_type": "stream",
     "text": [
      "¡Conexión establecida correctamente!\n"
     ]
    }
   ],
   "source": [
    "categories_google = pd.read_parquet(r'..\\datasets\\processed\\bd\\7_categories_google.parquet.gz')\n",
    "business_google = pd.read_parquet(r'..\\datasets\\processed\\bd\\5_bussiness_google.parquet.gz')\n",
    "\n",
    "\n",
    "business_google.rename(columns={'state': 'state_id'}, inplace=True)\n",
    "business_google[\"state_id\"] = business_google[\"state_id\"].replace(\"Florida\", 1)\n",
    "business_google[\"state_id\"] = business_google[\"state_id\"].replace(\"California\", 2)\n",
    "business_google[\"state_id\"] = business_google[\"state_id\"].replace(\"Illinois\", 3)\n",
    "business_google[\"state_id\"] = business_google[\"state_id\"].replace(\"New Jersey\", 4)\n",
    "business_google['name'] = business_google['name'].replace(r'[^a-zA-Z\\s]', '', regex=True)\n",
    "business_google.dropna(inplace=True)\n",
    "business_google = business_google.drop_duplicates(subset=['gmap_id'], keep='first')\n",
    "business_google.drop(22003,inplace=True)\n",
    "business_google['avg_stars'] = business_google['avg_stars'].round(2)\n",
    "\n",
    "business_google = business_google[business_google['gmap_id'].isin(categories_google['gmap_id'].unique())]\n",
    "\n",
    "\n",
    "def corregir_codificacion(texto):\n",
    "    try:\n",
    "        return texto.encode('latin-1').decode('utf-8', 'ignore')\n",
    "    except Exception:\n",
    "        return unicodedata.normalize('NFKD', texto).encode('latin-1', 'ignore').decode('utf-8', 'ignore')\n",
    "\n",
    "\n",
    "# Recorre todas las columnas del DataFrame\n",
    "for column in business_google.columns:\n",
    "    # Intenta corregir los caracteres no codificados como UTF-8 en cada celda\n",
    "    business_google[column] = business_google[column].apply(lambda x: corregir_codificacion(str(x)) if isinstance(x, str) else x)\n",
    "\n",
    "conexion = conectar_mysql()\n",
    "\n",
    "# Insertar filas en la tabla business_yelp por lotes\n",
    "cursor = conexion.cursor()\n",
    "\n",
    "# Convertir el DataFrame a una lista de tuplas para la inserción en lotes\n",
    "data_to_insert = [tuple(row) for row in business_google[['gmap_id', 'name', 'latitude', 'longitude', 'avg_stars', 'state_id']].to_numpy()]\n",
    "\n",
    "# Consulta de inserción\n",
    "insert_query = \"INSERT INTO business_google (gmap_id, name, latitude, longitude, avg_stars, state_id) VALUES (%s, %s, %s, %s, %s, %s)\"\n",
    "\n",
    "# Insertar en lotes utilizando executemany()\n",
    "cursor.executemany(insert_query, data_to_insert)\n",
    "\n",
    "# Hacer commit de los cambios\n",
    "conexion.commit()\n",
    "\n",
    "# Cerrar la conexión\n",
    "conexion.close()\n"
   ]
  },
  {
   "cell_type": "markdown",
   "metadata": {},
   "source": [
    "# 6) Business yelp"
   ]
  },
  {
   "cell_type": "code",
   "execution_count": null,
   "metadata": {},
   "outputs": [
    {
     "name": "stdout",
     "output_type": "stream",
     "text": [
      "¡Conexión establecida correctamente!\n"
     ]
    }
   ],
   "source": [
    "business_yelp = pd.read_parquet(r'..\\datasets\\processed\\bd\\6_bussiness_yelp.parquet.gz')\n",
    "\n",
    "business_yelp.rename(columns={'state': 'state_id'}, inplace=True)\n",
    "business_yelp.rename(columns={'stars': 'avg_stars'}, inplace=True)\n",
    "business_yelp[\"state_id\"] = business_yelp[\"state_id\"].replace(\"Florida\", 1)\n",
    "business_yelp[\"state_id\"] = business_yelp[\"state_id\"].replace(\"California\", 2)\n",
    "business_yelp[\"state_id\"] = business_yelp[\"state_id\"].replace(\"Illinois\", 3)\n",
    "business_yelp[\"state_id\"] = business_yelp[\"state_id\"].replace(\"New Jersey\", 4)\n",
    "business_yelp['name'] = business_yelp['name'].replace(r'[^a-zA-Z\\s]', '', regex=True)\n",
    "business_yelp.dropna(inplace=True)\n",
    "business_yelp = business_yelp.drop_duplicates(subset=['business_id'], keep='first')\n",
    "business_yelp['avg_stars'] = business_yelp['avg_stars'].round(2)\n",
    "\n",
    "def corregir_codificacion(texto):\n",
    "    try:\n",
    "        return texto.encode('latin-1').decode('utf-8', 'ignore')\n",
    "    except Exception:\n",
    "        return unicodedata.normalize('NFKD', texto).encode('latin-1', 'ignore').decode('utf-8', 'ignore')\n",
    "\n",
    "\n",
    "# Recorre todas las columnas del DataFrame\n",
    "for column in business_yelp.columns:\n",
    "    # Intenta corregir los caracteres no codificados como UTF-8 en cada celda\n",
    "    business_yelp[column] = business_yelp[column].apply(lambda x: corregir_codificacion(str(x)) if isinstance(x, str) else x)\n",
    "\n",
    "conexion = conectar_mysql()\n",
    "\n",
    "# Insertar filas en la tabla business_yelp por lotes\n",
    "cursor = conexion.cursor()\n",
    "\n",
    "# Convertir el DataFrame a una lista de tuplas para la inserción en lotes\n",
    "data_to_insert = [tuple(row) for row in business_yelp[['business_id', 'name', 'latitude', 'longitude', 'avg_stars', 'state_id']].to_numpy()]\n",
    "\n",
    "# Consulta de inserción\n",
    "insert_query = \"INSERT INTO business_yelp (business_id, name, latitude, longitude, avg_stars, state_id) VALUES (%s, %s, %s, %s, %s, %s)\"\n",
    "\n",
    "# Insertar en lotes utilizando executemany()\n",
    "cursor.executemany(insert_query, data_to_insert)\n",
    "\n",
    "# Hacer commit de los cambios\n",
    "conexion.commit()\n",
    "\n",
    "# Cerrar la conexión\n",
    "conexion.close()\n"
   ]
  },
  {
   "cell_type": "markdown",
   "metadata": {},
   "source": [
    "# 7) Categories google"
   ]
  },
  {
   "cell_type": "code",
   "execution_count": null,
   "metadata": {},
   "outputs": [
    {
     "name": "stdout",
     "output_type": "stream",
     "text": [
      "¡Conexión establecida correctamente!\n"
     ]
    }
   ],
   "source": [
    "categories_google = pd.read_parquet(r'..\\datasets\\processed\\bd\\7_categories_google.parquet.gz')\n",
    "\n",
    "categories_google = categories_google[categories_google['categories_id'].isin(categories['categories_id'])]\n",
    "\n",
    "categories_google = categories_google[categories_google['gmap_id'].isin(business_google['gmap_id'])]\n",
    "\n",
    "def corregir_codificacion(texto):\n",
    "    try:\n",
    "        return texto.encode('latin-1').decode('utf-8', 'ignore')\n",
    "    except Exception:\n",
    "        return unicodedata.normalize('NFKD', texto).encode('latin-1', 'ignore').decode('utf-8', 'ignore')\n",
    "\n",
    "\n",
    "# Recorre todas las columnas del DataFrame\n",
    "for column in categories_google.columns:\n",
    "    # Intenta corregir los caracteres no codificados como UTF-8 en cada celda\n",
    "    categories_google[column] = categories_google[column].apply(lambda x: corregir_codificacion(str(x)) if isinstance(x, str) else x)\n",
    "    \n",
    "conexion = conectar_mysql()\n",
    "\n",
    "# Insertar filas en la tabla business_yelp por lotes\n",
    "cursor = conexion.cursor()\n",
    "\n",
    "# Convertir el DataFrame a una lista de tuplas para la inserción en lotes\n",
    "data_to_insert = [tuple(row) for row in categories_google[['gmap_id', 'categories_id']].to_numpy()]\n",
    "\n",
    "# Consulta de inserción\n",
    "insert_query = \"INSERT INTO categories_google (gmap_id, categories_id) VALUES (%s, %s)\"\n",
    "\n",
    "# Insertar en lotes utilizando executemany()\n",
    "cursor.executemany(insert_query, data_to_insert)\n",
    "\n",
    "# Hacer commit de los cambios\n",
    "conexion.commit()\n",
    "\n",
    "# Cerrar la conexión\n",
    "conexion.close()\n"
   ]
  },
  {
   "cell_type": "markdown",
   "metadata": {},
   "source": [
    "# 8) Categories yelp"
   ]
  },
  {
   "cell_type": "code",
   "execution_count": null,
   "metadata": {},
   "outputs": [
    {
     "name": "stdout",
     "output_type": "stream",
     "text": [
      "¡Conexión establecida correctamente!\n"
     ]
    }
   ],
   "source": [
    "categories_yelp = pd.read_parquet(r'..\\datasets\\processed\\bd\\8_categories_yelp.parquet.gz')\n",
    "\n",
    "categories_yelp = categories_yelp[categories_yelp['categories_id'].isin(categories['categories_id'])]\n",
    "\n",
    "categories_yelp = categories_yelp[categories_yelp['business_id'].isin(business_yelp['business_id'])]\n",
    "\n",
    "def corregir_codificacion(texto):\n",
    "    try:\n",
    "        return texto.encode('latin-1').decode('utf-8', 'ignore')\n",
    "    except Exception:\n",
    "        return unicodedata.normalize('NFKD', texto).encode('latin-1', 'ignore').decode('utf-8', 'ignore')\n",
    "\n",
    "\n",
    "# Recorre todas las columnas del DataFrame\n",
    "for column in categories_yelp.columns:\n",
    "    # Intenta corregir los caracteres no codificados como UTF-8 en cada celda\n",
    "    categories_yelp[column] = categories_yelp[column].apply(lambda x: corregir_codificacion(str(x)) if isinstance(x, str) else x)\n",
    "\n",
    "conexion = conectar_mysql()\n",
    "\n",
    "# Insertar filas en la tabla business_yelp por lotes\n",
    "cursor = conexion.cursor()\n",
    "\n",
    "# Convertir el DataFrame a una lista de tuplas para la inserción en lotes\n",
    "data_to_insert = [tuple(row) for row in categories_yelp[['business_id', 'categories_id']].to_numpy()]\n",
    "\n",
    "# Consulta de inserción\n",
    "insert_query = \"INSERT INTO categories_yelp (business_id, categories_id) VALUES (%s, %s)\"\n",
    "\n",
    "# Insertar en lotes utilizando executemany()\n",
    "cursor.executemany(insert_query, data_to_insert)\n",
    "\n",
    "# Hacer commit de los cambios\n",
    "conexion.commit()\n",
    "\n",
    "# Cerrar la conexión\n",
    "conexion.close()\n"
   ]
  },
  {
   "cell_type": "markdown",
   "metadata": {},
   "source": [
    "# 9) Reviews google"
   ]
  },
  {
   "cell_type": "code",
   "execution_count": 10,
   "metadata": {},
   "outputs": [
    {
     "name": "stdout",
     "output_type": "stream",
     "text": [
      "¡Conexión establecida correctamente!\n"
     ]
    },
    {
     "ename": "OperationalError",
     "evalue": "2055: Lost connection to MySQL server at 'localhost:3306', system error: 8 EOF occurred in violation of protocol (_ssl.c:2427)",
     "output_type": "error",
     "traceback": [
      "\u001b[1;31m---------------------------------------------------------------------------\u001b[0m",
      "\u001b[1;31mSSLEOFError\u001b[0m                               Traceback (most recent call last)",
      "File \u001b[1;32m~\\AppData\\Local\\Packages\\PythonSoftwareFoundation.Python.3.11_qbz5n2kfra8p0\\LocalCache\\local-packages\\Python311\\site-packages\\mysql\\connector\\network.py:163\u001b[0m, in \u001b[0;36mNetworkBrokerPlain._send_pkt\u001b[1;34m(self, sock, address, pkt)\u001b[0m\n\u001b[0;32m    162\u001b[0m \u001b[39mtry\u001b[39;00m:\n\u001b[1;32m--> 163\u001b[0m     sock\u001b[39m.\u001b[39;49msendall(pkt)\n\u001b[0;32m    164\u001b[0m \u001b[39mexcept\u001b[39;00m \u001b[39mIOError\u001b[39;00m \u001b[39mas\u001b[39;00m err:\n",
      "File \u001b[1;32mC:\\Program Files\\WindowsApps\\PythonSoftwareFoundation.Python.3.11_3.11.1520.0_x64__qbz5n2kfra8p0\\Lib\\ssl.py:1274\u001b[0m, in \u001b[0;36mSSLSocket.sendall\u001b[1;34m(self, data, flags)\u001b[0m\n\u001b[0;32m   1273\u001b[0m \u001b[39mwhile\u001b[39;00m count \u001b[39m<\u001b[39m amount:\n\u001b[1;32m-> 1274\u001b[0m     v \u001b[39m=\u001b[39m \u001b[39mself\u001b[39;49m\u001b[39m.\u001b[39;49msend(byte_view[count:])\n\u001b[0;32m   1275\u001b[0m     count \u001b[39m+\u001b[39m\u001b[39m=\u001b[39m v\n",
      "File \u001b[1;32mC:\\Program Files\\WindowsApps\\PythonSoftwareFoundation.Python.3.11_3.11.1520.0_x64__qbz5n2kfra8p0\\Lib\\ssl.py:1243\u001b[0m, in \u001b[0;36mSSLSocket.send\u001b[1;34m(self, data, flags)\u001b[0m\n\u001b[0;32m   1240\u001b[0m         \u001b[39mraise\u001b[39;00m \u001b[39mValueError\u001b[39;00m(\n\u001b[0;32m   1241\u001b[0m             \u001b[39m\"\u001b[39m\u001b[39mnon-zero flags not allowed in calls to send() on \u001b[39m\u001b[39m%s\u001b[39;00m\u001b[39m\"\u001b[39m \u001b[39m%\u001b[39m\n\u001b[0;32m   1242\u001b[0m             \u001b[39mself\u001b[39m\u001b[39m.\u001b[39m\u001b[39m__class__\u001b[39m)\n\u001b[1;32m-> 1243\u001b[0m     \u001b[39mreturn\u001b[39;00m \u001b[39mself\u001b[39m\u001b[39m.\u001b[39m_sslobj\u001b[39m.\u001b[39mwrite(data)\n\u001b[0;32m   1244\u001b[0m \u001b[39melse\u001b[39;00m:\n",
      "\u001b[1;31mSSLEOFError\u001b[0m: EOF occurred in violation of protocol (_ssl.c:2427)",
      "\nThe above exception was the direct cause of the following exception:\n",
      "\u001b[1;31mOperationalError\u001b[0m                          Traceback (most recent call last)",
      "\u001b[1;32mc:\\Users\\jonat\\Desktop\\grupal\\GP_Henry\\etl-eda\\carga_sql.ipynb Celda 24\u001b[0m line \u001b[0;36m1\n\u001b[0;32m     <a href='vscode-notebook-cell:/c%3A/Users/jonat/Desktop/grupal/GP_Henry/etl-eda/carga_sql.ipynb#Y206sZmlsZQ%3D%3D?line=14'>15</a>\u001b[0m insert_query \u001b[39m=\u001b[39m \u001b[39m\"\u001b[39m\u001b[39mINSERT INTO reviews_google (user_id, gmap_id, stars, sentiment, date, sentiment, resp_sentiment, resp_date) VALUES (\u001b[39m\u001b[39m%s\u001b[39;00m\u001b[39m, \u001b[39m\u001b[39m%s\u001b[39;00m\u001b[39m, \u001b[39m\u001b[39m%s\u001b[39;00m\u001b[39m, \u001b[39m\u001b[39m%s\u001b[39;00m\u001b[39m, \u001b[39m\u001b[39m%s\u001b[39;00m\u001b[39m, \u001b[39m\u001b[39m%s\u001b[39;00m\u001b[39m, \u001b[39m\u001b[39m%s\u001b[39;00m\u001b[39m, \u001b[39m\u001b[39m%s\u001b[39;00m\u001b[39m)\u001b[39m\u001b[39m\"\u001b[39m\n\u001b[0;32m     <a href='vscode-notebook-cell:/c%3A/Users/jonat/Desktop/grupal/GP_Henry/etl-eda/carga_sql.ipynb#Y206sZmlsZQ%3D%3D?line=16'>17</a>\u001b[0m \u001b[39m# Insertar en lotes utilizando executemany()\u001b[39;00m\n\u001b[1;32m---> <a href='vscode-notebook-cell:/c%3A/Users/jonat/Desktop/grupal/GP_Henry/etl-eda/carga_sql.ipynb#Y206sZmlsZQ%3D%3D?line=17'>18</a>\u001b[0m cursor\u001b[39m.\u001b[39;49mexecutemany(insert_query, data_to_insert)\n\u001b[0;32m     <a href='vscode-notebook-cell:/c%3A/Users/jonat/Desktop/grupal/GP_Henry/etl-eda/carga_sql.ipynb#Y206sZmlsZQ%3D%3D?line=19'>20</a>\u001b[0m \u001b[39m# Hacer commit de los cambios\u001b[39;00m\n\u001b[0;32m     <a href='vscode-notebook-cell:/c%3A/Users/jonat/Desktop/grupal/GP_Henry/etl-eda/carga_sql.ipynb#Y206sZmlsZQ%3D%3D?line=20'>21</a>\u001b[0m conexion\u001b[39m.\u001b[39mcommit()\n",
      "File \u001b[1;32m~\\AppData\\Local\\Packages\\PythonSoftwareFoundation.Python.3.11_qbz5n2kfra8p0\\LocalCache\\local-packages\\Python311\\site-packages\\mysql\\connector\\cursor.py:723\u001b[0m, in \u001b[0;36mMySQLCursor.executemany\u001b[1;34m(self, operation, seq_params)\u001b[0m\n\u001b[0;32m    721\u001b[0m     \u001b[39mif\u001b[39;00m stmt \u001b[39mis\u001b[39;00m \u001b[39mnot\u001b[39;00m \u001b[39mNone\u001b[39;00m:\n\u001b[0;32m    722\u001b[0m         \u001b[39mself\u001b[39m\u001b[39m.\u001b[39m_executed \u001b[39m=\u001b[39m stmt\n\u001b[1;32m--> 723\u001b[0m         \u001b[39mreturn\u001b[39;00m \u001b[39mself\u001b[39;49m\u001b[39m.\u001b[39;49mexecute(stmt)\n\u001b[0;32m    725\u001b[0m rowcnt \u001b[39m=\u001b[39m \u001b[39m0\u001b[39m\n\u001b[0;32m    726\u001b[0m \u001b[39mtry\u001b[39;00m:\n",
      "File \u001b[1;32m~\\AppData\\Local\\Packages\\PythonSoftwareFoundation.Python.3.11_qbz5n2kfra8p0\\LocalCache\\local-packages\\Python311\\site-packages\\mysql\\connector\\cursor.py:617\u001b[0m, in \u001b[0;36mMySQLCursor.execute\u001b[1;34m(self, operation, params, multi)\u001b[0m\n\u001b[0;32m    614\u001b[0m     \u001b[39mreturn\u001b[39;00m \u001b[39mself\u001b[39m\u001b[39m.\u001b[39m_execute_iter(\u001b[39mself\u001b[39m\u001b[39m.\u001b[39m_connection\u001b[39m.\u001b[39mcmd_query_iter(stmt))\n\u001b[0;32m    616\u001b[0m \u001b[39mtry\u001b[39;00m:\n\u001b[1;32m--> 617\u001b[0m     \u001b[39mself\u001b[39m\u001b[39m.\u001b[39m_handle_result(\u001b[39mself\u001b[39;49m\u001b[39m.\u001b[39;49m_connection\u001b[39m.\u001b[39;49mcmd_query(stmt))\n\u001b[0;32m    618\u001b[0m \u001b[39mexcept\u001b[39;00m InterfaceError \u001b[39mas\u001b[39;00m err:\n\u001b[0;32m    619\u001b[0m     \u001b[39mif\u001b[39;00m \u001b[39mself\u001b[39m\u001b[39m.\u001b[39m_connection\u001b[39m.\u001b[39mhave_next_result:\n",
      "File \u001b[1;32m~\\AppData\\Local\\Packages\\PythonSoftwareFoundation.Python.3.11_qbz5n2kfra8p0\\LocalCache\\local-packages\\Python311\\site-packages\\mysql\\connector\\opentelemetry\\context_propagation.py:77\u001b[0m, in \u001b[0;36mwith_context_propagation.<locals>.wrapper\u001b[1;34m(cnx, *args, **kwargs)\u001b[0m\n\u001b[0;32m     75\u001b[0m \u001b[39m\u001b[39m\u001b[39m\"\"\"Context propagation decorator.\"\"\"\u001b[39;00m\n\u001b[0;32m     76\u001b[0m \u001b[39mif\u001b[39;00m \u001b[39mnot\u001b[39;00m OTEL_ENABLED \u001b[39mor\u001b[39;00m \u001b[39mnot\u001b[39;00m cnx\u001b[39m.\u001b[39motel_context_propagation:\n\u001b[1;32m---> 77\u001b[0m     \u001b[39mreturn\u001b[39;00m method(cnx, \u001b[39m*\u001b[39;49margs, \u001b[39m*\u001b[39;49m\u001b[39m*\u001b[39;49mkwargs)\n\u001b[0;32m     79\u001b[0m current_span \u001b[39m=\u001b[39m trace\u001b[39m.\u001b[39mget_current_span()\n\u001b[0;32m     80\u001b[0m tp_header \u001b[39m=\u001b[39m \u001b[39mNone\u001b[39;00m\n",
      "File \u001b[1;32m~\\AppData\\Local\\Packages\\PythonSoftwareFoundation.Python.3.11_qbz5n2kfra8p0\\LocalCache\\local-packages\\Python311\\site-packages\\mysql\\connector\\connection.py:843\u001b[0m, in \u001b[0;36mMySQLConnection.cmd_query\u001b[1;34m(self, query, raw, buffered, raw_as_string)\u001b[0m\n\u001b[0;32m    841\u001b[0m query \u001b[39m=\u001b[39m \u001b[39mbytes\u001b[39m(packet)\n\u001b[0;32m    842\u001b[0m \u001b[39mtry\u001b[39;00m:\n\u001b[1;32m--> 843\u001b[0m     result \u001b[39m=\u001b[39m \u001b[39mself\u001b[39m\u001b[39m.\u001b[39m_handle_result(\u001b[39mself\u001b[39;49m\u001b[39m.\u001b[39;49m_send_cmd(ServerCmd\u001b[39m.\u001b[39;49mQUERY, query))\n\u001b[0;32m    844\u001b[0m \u001b[39mexcept\u001b[39;00m ProgrammingError \u001b[39mas\u001b[39;00m err:\n\u001b[0;32m    845\u001b[0m     \u001b[39mif\u001b[39;00m err\u001b[39m.\u001b[39merrno \u001b[39m==\u001b[39m \u001b[39m3948\u001b[39m \u001b[39mand\u001b[39;00m \u001b[39m\"\u001b[39m\u001b[39mLoading local data is disabled\u001b[39m\u001b[39m\"\u001b[39m \u001b[39min\u001b[39;00m err\u001b[39m.\u001b[39mmsg:\n",
      "File \u001b[1;32m~\\AppData\\Local\\Packages\\PythonSoftwareFoundation.Python.3.11_qbz5n2kfra8p0\\LocalCache\\local-packages\\Python311\\site-packages\\mysql\\connector\\connection.py:455\u001b[0m, in \u001b[0;36mMySQLConnection._send_cmd\u001b[1;34m(self, command, argument, packet_number, packet, expect_response, compressed_packet_number)\u001b[0m\n\u001b[0;32m    452\u001b[0m \u001b[39mself\u001b[39m\u001b[39m.\u001b[39mhandle_unread_result()\n\u001b[0;32m    454\u001b[0m \u001b[39mtry\u001b[39;00m:\n\u001b[1;32m--> 455\u001b[0m     \u001b[39mself\u001b[39;49m\u001b[39m.\u001b[39;49m_socket\u001b[39m.\u001b[39;49msend(\n\u001b[0;32m    456\u001b[0m         \u001b[39mself\u001b[39;49m\u001b[39m.\u001b[39;49m_protocol\u001b[39m.\u001b[39;49mmake_command(command, packet \u001b[39mor\u001b[39;49;00m argument),\n\u001b[0;32m    457\u001b[0m         packet_number,\n\u001b[0;32m    458\u001b[0m         compressed_packet_number,\n\u001b[0;32m    459\u001b[0m     )\n\u001b[0;32m    460\u001b[0m \u001b[39mexcept\u001b[39;00m \u001b[39mAttributeError\u001b[39;00m \u001b[39mas\u001b[39;00m err:\n\u001b[0;32m    461\u001b[0m     \u001b[39mraise\u001b[39;00m OperationalError(\u001b[39m\"\u001b[39m\u001b[39mMySQL Connection not available\u001b[39m\u001b[39m\"\u001b[39m) \u001b[39mfrom\u001b[39;00m \u001b[39merr\u001b[39;00m\n",
      "File \u001b[1;32m~\\AppData\\Local\\Packages\\PythonSoftwareFoundation.Python.3.11_qbz5n2kfra8p0\\LocalCache\\local-packages\\Python311\\site-packages\\mysql\\connector\\network.py:621\u001b[0m, in \u001b[0;36mMySQLSocket.send\u001b[1;34m(self, payload, packet_number, compressed_packet_number)\u001b[0m\n\u001b[0;32m    614\u001b[0m \u001b[39mdef\u001b[39;00m \u001b[39msend\u001b[39m(\n\u001b[0;32m    615\u001b[0m     \u001b[39mself\u001b[39m,\n\u001b[0;32m    616\u001b[0m     payload: \u001b[39mbytes\u001b[39m,\n\u001b[0;32m    617\u001b[0m     packet_number: Optional[\u001b[39mint\u001b[39m] \u001b[39m=\u001b[39m \u001b[39mNone\u001b[39;00m,\n\u001b[0;32m    618\u001b[0m     compressed_packet_number: Optional[\u001b[39mint\u001b[39m] \u001b[39m=\u001b[39m \u001b[39mNone\u001b[39;00m,\n\u001b[0;32m    619\u001b[0m ) \u001b[39m-\u001b[39m\u001b[39m>\u001b[39m \u001b[39mNone\u001b[39;00m:\n\u001b[0;32m    620\u001b[0m \u001b[39m    \u001b[39m\u001b[39m\"\"\"Send `payload` to the MySQL server.\"\"\"\u001b[39;00m\n\u001b[1;32m--> 621\u001b[0m     \u001b[39mreturn\u001b[39;00m \u001b[39mself\u001b[39;49m\u001b[39m.\u001b[39;49m_netbroker\u001b[39m.\u001b[39;49msend(\n\u001b[0;32m    622\u001b[0m         \u001b[39mself\u001b[39;49m\u001b[39m.\u001b[39;49msock,\n\u001b[0;32m    623\u001b[0m         \u001b[39mself\u001b[39;49m\u001b[39m.\u001b[39;49maddress,\n\u001b[0;32m    624\u001b[0m         payload,\n\u001b[0;32m    625\u001b[0m         packet_number\u001b[39m=\u001b[39;49mpacket_number,\n\u001b[0;32m    626\u001b[0m         compressed_packet_number\u001b[39m=\u001b[39;49mcompressed_packet_number,\n\u001b[0;32m    627\u001b[0m     )\n",
      "File \u001b[1;32m~\\AppData\\Local\\Packages\\PythonSoftwareFoundation.Python.3.11_qbz5n2kfra8p0\\LocalCache\\local-packages\\Python311\\site-packages\\mysql\\connector\\network.py:209\u001b[0m, in \u001b[0;36mNetworkBrokerPlain.send\u001b[1;34m(self, sock, address, payload, packet_number, compressed_packet_number)\u001b[0m\n\u001b[0;32m    206\u001b[0m offset \u001b[39m=\u001b[39m \u001b[39m0\u001b[39m\n\u001b[0;32m    207\u001b[0m \u001b[39mfor\u001b[39;00m _ \u001b[39min\u001b[39;00m \u001b[39mrange\u001b[39m(\u001b[39mlen\u001b[39m(payload) \u001b[39m/\u001b[39m\u001b[39m/\u001b[39m MAX_PAYLOAD_LENGTH):\n\u001b[0;32m    208\u001b[0m     \u001b[39m# payload_len, sequence_id, payload\u001b[39;00m\n\u001b[1;32m--> 209\u001b[0m     \u001b[39mself\u001b[39;49m\u001b[39m.\u001b[39;49m_send_pkt(\n\u001b[0;32m    210\u001b[0m         sock,\n\u001b[0;32m    211\u001b[0m         address,\n\u001b[0;32m    212\u001b[0m         \u001b[39mb\u001b[39;49m\u001b[39m\"\u001b[39;49m\u001b[39m\\xff\u001b[39;49;00m\u001b[39m\\xff\u001b[39;49;00m\u001b[39m\\xff\u001b[39;49;00m\u001b[39m\"\u001b[39;49m\n\u001b[0;32m    213\u001b[0m         \u001b[39m+\u001b[39;49m struct\u001b[39m.\u001b[39;49mpack(\u001b[39m\"\u001b[39;49m\u001b[39m<B\u001b[39;49m\u001b[39m\"\u001b[39;49m, \u001b[39mself\u001b[39;49m\u001b[39m.\u001b[39;49m_pktnr)\n\u001b[0;32m    214\u001b[0m         \u001b[39m+\u001b[39;49m payload[offset : offset \u001b[39m+\u001b[39;49m MAX_PAYLOAD_LENGTH],\n\u001b[0;32m    215\u001b[0m     )\n\u001b[0;32m    216\u001b[0m     \u001b[39mself\u001b[39m\u001b[39m.\u001b[39m_set_next_pktnr()\n\u001b[0;32m    217\u001b[0m     offset \u001b[39m+\u001b[39m\u001b[39m=\u001b[39m MAX_PAYLOAD_LENGTH\n",
      "File \u001b[1;32m~\\AppData\\Local\\Packages\\PythonSoftwareFoundation.Python.3.11_qbz5n2kfra8p0\\LocalCache\\local-packages\\Python311\\site-packages\\mysql\\connector\\network.py:165\u001b[0m, in \u001b[0;36mNetworkBrokerPlain._send_pkt\u001b[1;34m(self, sock, address, pkt)\u001b[0m\n\u001b[0;32m    163\u001b[0m     sock\u001b[39m.\u001b[39msendall(pkt)\n\u001b[0;32m    164\u001b[0m \u001b[39mexcept\u001b[39;00m \u001b[39mIOError\u001b[39;00m \u001b[39mas\u001b[39;00m err:\n\u001b[1;32m--> 165\u001b[0m     \u001b[39mraise\u001b[39;00m OperationalError(\n\u001b[0;32m    166\u001b[0m         errno\u001b[39m=\u001b[39m\u001b[39m2055\u001b[39m, values\u001b[39m=\u001b[39m(address, _strioerror(err))\n\u001b[0;32m    167\u001b[0m     ) \u001b[39mfrom\u001b[39;00m \u001b[39merr\u001b[39;00m\n\u001b[0;32m    168\u001b[0m \u001b[39mexcept\u001b[39;00m \u001b[39mAttributeError\u001b[39;00m \u001b[39mas\u001b[39;00m err:\n\u001b[0;32m    169\u001b[0m     \u001b[39mraise\u001b[39;00m OperationalError(errno\u001b[39m=\u001b[39m\u001b[39m2006\u001b[39m) \u001b[39mfrom\u001b[39;00m \u001b[39merr\u001b[39;00m\n",
      "\u001b[1;31mOperationalError\u001b[0m: 2055: Lost connection to MySQL server at 'localhost:3306', system error: 8 EOF occurred in violation of protocol (_ssl.c:2427)"
     ]
    }
   ],
   "source": [
    "reviews_google = pd.read_parquet(r'..\\datasets\\processed\\bd\\9_reviews_google.parquet.gz')\n",
    "\n",
    "reviews_google['date'] = reviews_google['date'].dt.strftime('%Y-%m-%d %H:%M:%S')\n",
    "reviews_google['resp_date'] = reviews_google['resp_date'].dt.strftime('%Y-%m-%d %H:%M:%S')\n",
    "\n",
    "conexion = conectar_mysql()\n",
    "\n",
    "# Insertar filas en la tabla business_yelp por lotes\n",
    "cursor = conexion.cursor()\n",
    "\n",
    "# Convertir el DataFrame a una lista de tuplas para la inserción en lotes\n",
    "data_to_insert = [tuple(row) for row in reviews_google[['user_id', 'gmap_id','stars','sentiment','date','sentiment','resp_sentiment','resp_date']].to_numpy()]\n",
    "\n",
    "# Consulta de inserción\n",
    "insert_query = \"INSERT INTO reviews_google (user_id, gmap_id, stars, sentiment, date, sentiment, resp_sentiment, resp_date) VALUES (%s, %s, %s, %s, %s, %s, %s, %s)\"\n",
    "\n",
    "# Insertar en lotes utilizando executemany()\n",
    "cursor.executemany(insert_query, data_to_insert)\n",
    "\n",
    "# Hacer commit de los cambios\n",
    "conexion.commit()\n",
    "\n",
    "# Cerrar la conexión\n",
    "conexion.close()"
   ]
  },
  {
   "cell_type": "code",
   "execution_count": 9,
   "metadata": {},
   "outputs": [
    {
     "data": {
      "text/html": [
       "<div>\n",
       "<style scoped>\n",
       "    .dataframe tbody tr th:only-of-type {\n",
       "        vertical-align: middle;\n",
       "    }\n",
       "\n",
       "    .dataframe tbody tr th {\n",
       "        vertical-align: top;\n",
       "    }\n",
       "\n",
       "    .dataframe thead th {\n",
       "        text-align: right;\n",
       "    }\n",
       "</style>\n",
       "<table border=\"1\" class=\"dataframe\">\n",
       "  <thead>\n",
       "    <tr style=\"text-align: right;\">\n",
       "      <th></th>\n",
       "      <th>user_id</th>\n",
       "      <th>gmap_id</th>\n",
       "      <th>stars</th>\n",
       "      <th>sentiment</th>\n",
       "      <th>date</th>\n",
       "      <th>resp_sentiment</th>\n",
       "      <th>resp_date</th>\n",
       "    </tr>\n",
       "  </thead>\n",
       "  <tbody>\n",
       "    <tr>\n",
       "      <th>0</th>\n",
       "      <td>1.089912e+20</td>\n",
       "      <td>0x80c2c778e3b73d33:0xbdc58662a4a97d49</td>\n",
       "      <td>5</td>\n",
       "      <td>2</td>\n",
       "      <td>2021-01-06 05:12:07</td>\n",
       "      <td>0.0</td>\n",
       "      <td>NaN</td>\n",
       "    </tr>\n",
       "    <tr>\n",
       "      <th>1</th>\n",
       "      <td>1.112903e+20</td>\n",
       "      <td>0x80c2c778e3b73d33:0xbdc58662a4a97d49</td>\n",
       "      <td>5</td>\n",
       "      <td>2</td>\n",
       "      <td>2021-02-09 05:47:28</td>\n",
       "      <td>0.0</td>\n",
       "      <td>NaN</td>\n",
       "    </tr>\n",
       "    <tr>\n",
       "      <th>2</th>\n",
       "      <td>1.126404e+20</td>\n",
       "      <td>0x80c2c778e3b73d33:0xbdc58662a4a97d49</td>\n",
       "      <td>4</td>\n",
       "      <td>0</td>\n",
       "      <td>2020-03-08 05:04:42</td>\n",
       "      <td>0.0</td>\n",
       "      <td>NaN</td>\n",
       "    </tr>\n",
       "    <tr>\n",
       "      <th>3</th>\n",
       "      <td>1.174403e+20</td>\n",
       "      <td>0x80c2c778e3b73d33:0xbdc58662a4a97d49</td>\n",
       "      <td>5</td>\n",
       "      <td>2</td>\n",
       "      <td>2019-03-07 05:56:56</td>\n",
       "      <td>0.0</td>\n",
       "      <td>NaN</td>\n",
       "    </tr>\n",
       "    <tr>\n",
       "      <th>4</th>\n",
       "      <td>1.005808e+20</td>\n",
       "      <td>0x80c2c778e3b73d33:0xbdc58662a4a97d49</td>\n",
       "      <td>5</td>\n",
       "      <td>2</td>\n",
       "      <td>2017-05-16 05:01:41</td>\n",
       "      <td>0.0</td>\n",
       "      <td>NaN</td>\n",
       "    </tr>\n",
       "    <tr>\n",
       "      <th>...</th>\n",
       "      <td>...</td>\n",
       "      <td>...</td>\n",
       "      <td>...</td>\n",
       "      <td>...</td>\n",
       "      <td>...</td>\n",
       "      <td>...</td>\n",
       "      <td>...</td>\n",
       "    </tr>\n",
       "    <tr>\n",
       "      <th>2452767</th>\n",
       "      <td>1.091054e+20</td>\n",
       "      <td>0x880fce33edd16c7b:0x44e066027b82ad8d</td>\n",
       "      <td>4</td>\n",
       "      <td>0</td>\n",
       "      <td>2016-09-01 01:03:33</td>\n",
       "      <td>0.0</td>\n",
       "      <td>NaN</td>\n",
       "    </tr>\n",
       "    <tr>\n",
       "      <th>2452768</th>\n",
       "      <td>1.159805e+20</td>\n",
       "      <td>0x880fce33edd16c7b:0x44e066027b82ad8d</td>\n",
       "      <td>4</td>\n",
       "      <td>0</td>\n",
       "      <td>2017-07-26 19:09:52</td>\n",
       "      <td>0.0</td>\n",
       "      <td>NaN</td>\n",
       "    </tr>\n",
       "    <tr>\n",
       "      <th>2452769</th>\n",
       "      <td>1.159471e+20</td>\n",
       "      <td>0x880fce33edd16c7b:0x44e066027b82ad8d</td>\n",
       "      <td>4</td>\n",
       "      <td>0</td>\n",
       "      <td>2015-11-16 17:06:38</td>\n",
       "      <td>0.0</td>\n",
       "      <td>NaN</td>\n",
       "    </tr>\n",
       "    <tr>\n",
       "      <th>2452770</th>\n",
       "      <td>1.179236e+20</td>\n",
       "      <td>0x880fce33edd16c7b:0x44e066027b82ad8d</td>\n",
       "      <td>3</td>\n",
       "      <td>0</td>\n",
       "      <td>2016-10-06 10:41:33</td>\n",
       "      <td>0.0</td>\n",
       "      <td>NaN</td>\n",
       "    </tr>\n",
       "    <tr>\n",
       "      <th>2452771</th>\n",
       "      <td>1.170134e+20</td>\n",
       "      <td>0x880fce33edd16c7b:0x44e066027b82ad8d</td>\n",
       "      <td>2</td>\n",
       "      <td>0</td>\n",
       "      <td>2015-06-24 18:25:59</td>\n",
       "      <td>0.0</td>\n",
       "      <td>NaN</td>\n",
       "    </tr>\n",
       "  </tbody>\n",
       "</table>\n",
       "<p>2452772 rows × 7 columns</p>\n",
       "</div>"
      ],
      "text/plain": [
       "              user_id                                gmap_id  stars  \\\n",
       "0        1.089912e+20  0x80c2c778e3b73d33:0xbdc58662a4a97d49      5   \n",
       "1        1.112903e+20  0x80c2c778e3b73d33:0xbdc58662a4a97d49      5   \n",
       "2        1.126404e+20  0x80c2c778e3b73d33:0xbdc58662a4a97d49      4   \n",
       "3        1.174403e+20  0x80c2c778e3b73d33:0xbdc58662a4a97d49      5   \n",
       "4        1.005808e+20  0x80c2c778e3b73d33:0xbdc58662a4a97d49      5   \n",
       "...               ...                                    ...    ...   \n",
       "2452767  1.091054e+20  0x880fce33edd16c7b:0x44e066027b82ad8d      4   \n",
       "2452768  1.159805e+20  0x880fce33edd16c7b:0x44e066027b82ad8d      4   \n",
       "2452769  1.159471e+20  0x880fce33edd16c7b:0x44e066027b82ad8d      4   \n",
       "2452770  1.179236e+20  0x880fce33edd16c7b:0x44e066027b82ad8d      3   \n",
       "2452771  1.170134e+20  0x880fce33edd16c7b:0x44e066027b82ad8d      2   \n",
       "\n",
       "         sentiment                 date  resp_sentiment resp_date  \n",
       "0                2  2021-01-06 05:12:07             0.0       NaN  \n",
       "1                2  2021-02-09 05:47:28             0.0       NaN  \n",
       "2                0  2020-03-08 05:04:42             0.0       NaN  \n",
       "3                2  2019-03-07 05:56:56             0.0       NaN  \n",
       "4                2  2017-05-16 05:01:41             0.0       NaN  \n",
       "...            ...                  ...             ...       ...  \n",
       "2452767          0  2016-09-01 01:03:33             0.0       NaN  \n",
       "2452768          0  2017-07-26 19:09:52             0.0       NaN  \n",
       "2452769          0  2015-11-16 17:06:38             0.0       NaN  \n",
       "2452770          0  2016-10-06 10:41:33             0.0       NaN  \n",
       "2452771          0  2015-06-24 18:25:59             0.0       NaN  \n",
       "\n",
       "[2452772 rows x 7 columns]"
      ]
     },
     "execution_count": 9,
     "metadata": {},
     "output_type": "execute_result"
    }
   ],
   "source": [
    "reviews_google = pd.read_parquet(r'..\\datasets\\processed\\bd\\9_reviews_google.parquet.gz')\n",
    "\n",
    "reviews_google['date'] = reviews_google['date'].dt.strftime('%Y-%m-%d %H:%M:%S')\n",
    "reviews_google['resp_date'] = reviews_google['resp_date'].dt.strftime('%Y-%m-%d %H:%M:%S')\n",
    "reviews_google"
   ]
  }
 ],
 "metadata": {
  "kernelspec": {
   "display_name": "Python 3",
   "language": "python",
   "name": "python3"
  },
  "language_info": {
   "codemirror_mode": {
    "name": "ipython",
    "version": 3
   },
   "file_extension": ".py",
   "mimetype": "text/x-python",
   "name": "python",
   "nbconvert_exporter": "python",
   "pygments_lexer": "ipython3",
   "version": "3.11.5"
  }
 },
 "nbformat": 4,
 "nbformat_minor": 2
}
