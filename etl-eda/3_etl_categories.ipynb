{
 "cells": [
  {
   "cell_type": "markdown",
   "metadata": {},
   "source": [
    "# Categorias de los restaurantes"
   ]
  },
  {
   "cell_type": "markdown",
   "metadata": {},
   "source": [
    "Todos los datasets usados acá fueron trabajados en \"etl-eda\\1_etl_bussiness.ipynb\"."
   ]
  },
  {
   "cell_type": "code",
   "execution_count": 57,
   "metadata": {},
   "outputs": [],
   "source": [
    "import pandas as pd"
   ]
  },
  {
   "cell_type": "markdown",
   "metadata": {},
   "source": [
    "## Restaurantes de Google"
   ]
  },
  {
   "cell_type": "code",
   "execution_count": 58,
   "metadata": {},
   "outputs": [
    {
     "data": {
      "text/html": [
       "<div>\n",
       "<style scoped>\n",
       "    .dataframe tbody tr th:only-of-type {\n",
       "        vertical-align: middle;\n",
       "    }\n",
       "\n",
       "    .dataframe tbody tr th {\n",
       "        vertical-align: top;\n",
       "    }\n",
       "\n",
       "    .dataframe thead th {\n",
       "        text-align: right;\n",
       "    }\n",
       "</style>\n",
       "<table border=\"1\" class=\"dataframe\">\n",
       "  <thead>\n",
       "    <tr style=\"text-align: right;\">\n",
       "      <th></th>\n",
       "      <th>gmap_id</th>\n",
       "      <th>name</th>\n",
       "      <th>latitude</th>\n",
       "      <th>longitude</th>\n",
       "      <th>stars</th>\n",
       "      <th>categories</th>\n",
       "      <th>state</th>\n",
       "    </tr>\n",
       "  </thead>\n",
       "  <tbody>\n",
       "    <tr>\n",
       "      <th>0</th>\n",
       "      <td>0x88db4147b1d9e6f3:0x943dbd10a92ba1b1</td>\n",
       "      <td>Cape Seafood Shack</td>\n",
       "      <td>26.641377</td>\n",
       "      <td>-81.940545</td>\n",
       "      <td>5.0</td>\n",
       "      <td>[Restaurant]</td>\n",
       "      <td>Florida</td>\n",
       "    </tr>\n",
       "    <tr>\n",
       "      <th>1</th>\n",
       "      <td>0x88c2e4e34f1ed783:0x76c5da381c499d79</td>\n",
       "      <td>Fresh Point Country Buffet</td>\n",
       "      <td>27.867489</td>\n",
       "      <td>-82.702971</td>\n",
       "      <td>5.0</td>\n",
       "      <td>[Buffet restaurant]</td>\n",
       "      <td>Florida</td>\n",
       "    </tr>\n",
       "    <tr>\n",
       "      <th>2</th>\n",
       "      <td>0x8890b9241e704667:0x3a1e565c17c00993</td>\n",
       "      <td>Hot Box</td>\n",
       "      <td>30.391411</td>\n",
       "      <td>-87.267220</td>\n",
       "      <td>4.2</td>\n",
       "      <td>[Restaurant]</td>\n",
       "      <td>Florida</td>\n",
       "    </tr>\n",
       "    <tr>\n",
       "      <th>3</th>\n",
       "      <td>0x88e635378f43352f:0xa1b53c63436fa428</td>\n",
       "      <td>Shell</td>\n",
       "      <td>29.183272</td>\n",
       "      <td>-81.889965</td>\n",
       "      <td>1.8</td>\n",
       "      <td>[Gas station, ATM, Convenience store, Restaurant]</td>\n",
       "      <td>Florida</td>\n",
       "    </tr>\n",
       "    <tr>\n",
       "      <th>4</th>\n",
       "      <td>0x88d9ab98b5baad79:0x1a2e3f0642a55246</td>\n",
       "      <td>Baby Food Grill &amp; Bar</td>\n",
       "      <td>26.010250</td>\n",
       "      <td>-80.148659</td>\n",
       "      <td>3.0</td>\n",
       "      <td>[Mexican restaurant]</td>\n",
       "      <td>Florida</td>\n",
       "    </tr>\n",
       "  </tbody>\n",
       "</table>\n",
       "</div>"
      ],
      "text/plain": [
       "                                 gmap_id                        name  \\\n",
       "0  0x88db4147b1d9e6f3:0x943dbd10a92ba1b1          Cape Seafood Shack   \n",
       "1  0x88c2e4e34f1ed783:0x76c5da381c499d79  Fresh Point Country Buffet   \n",
       "2  0x8890b9241e704667:0x3a1e565c17c00993                     Hot Box   \n",
       "3  0x88e635378f43352f:0xa1b53c63436fa428                       Shell   \n",
       "4  0x88d9ab98b5baad79:0x1a2e3f0642a55246       Baby Food Grill & Bar   \n",
       "\n",
       "    latitude  longitude  stars  \\\n",
       "0  26.641377 -81.940545    5.0   \n",
       "1  27.867489 -82.702971    5.0   \n",
       "2  30.391411 -87.267220    4.2   \n",
       "3  29.183272 -81.889965    1.8   \n",
       "4  26.010250 -80.148659    3.0   \n",
       "\n",
       "                                          categories    state  \n",
       "0                                       [Restaurant]  Florida  \n",
       "1                                [Buffet restaurant]  Florida  \n",
       "2                                       [Restaurant]  Florida  \n",
       "3  [Gas station, ATM, Convenience store, Restaurant]  Florida  \n",
       "4                               [Mexican restaurant]  Florida  "
      ]
     },
     "execution_count": 58,
     "metadata": {},
     "output_type": "execute_result"
    }
   ],
   "source": [
    "google = pd.read_parquet(\"../datasets/processed/google/bussiness_google.parquet.gz\")\n",
    "google.head()"
   ]
  },
  {
   "cell_type": "markdown",
   "metadata": {},
   "source": [
    "## Restaurantes de Yelp"
   ]
  },
  {
   "cell_type": "code",
   "execution_count": 59,
   "metadata": {},
   "outputs": [
    {
     "data": {
      "text/html": [
       "<div>\n",
       "<style scoped>\n",
       "    .dataframe tbody tr th:only-of-type {\n",
       "        vertical-align: middle;\n",
       "    }\n",
       "\n",
       "    .dataframe tbody tr th {\n",
       "        vertical-align: top;\n",
       "    }\n",
       "\n",
       "    .dataframe thead th {\n",
       "        text-align: right;\n",
       "    }\n",
       "</style>\n",
       "<table border=\"1\" class=\"dataframe\">\n",
       "  <thead>\n",
       "    <tr style=\"text-align: right;\">\n",
       "      <th></th>\n",
       "      <th>business_id</th>\n",
       "      <th>name</th>\n",
       "      <th>latitude</th>\n",
       "      <th>longitude</th>\n",
       "      <th>stars</th>\n",
       "      <th>categories</th>\n",
       "      <th>state</th>\n",
       "    </tr>\n",
       "  </thead>\n",
       "  <tbody>\n",
       "    <tr>\n",
       "      <th>0</th>\n",
       "      <td>eEOYSgkmpB90uNA7lDOMRA</td>\n",
       "      <td>Vietnamese Food Truck</td>\n",
       "      <td>27.955269</td>\n",
       "      <td>-82.456320</td>\n",
       "      <td>4.0</td>\n",
       "      <td>[Vietnamese, Food, Restaurants, Food Trucks]</td>\n",
       "      <td>Florida</td>\n",
       "    </tr>\n",
       "    <tr>\n",
       "      <th>1</th>\n",
       "      <td>0bPLkL0QhhPO5kt1_EXmNQ</td>\n",
       "      <td>Zio's Italian Market</td>\n",
       "      <td>27.916116</td>\n",
       "      <td>-82.760461</td>\n",
       "      <td>4.5</td>\n",
       "      <td>[Food, Delis, Italian, Bakeries, Restaurants]</td>\n",
       "      <td>Florida</td>\n",
       "    </tr>\n",
       "    <tr>\n",
       "      <th>2</th>\n",
       "      <td>uI9XODGY_2_ieTE6xJ0myw</td>\n",
       "      <td>Roman Forum</td>\n",
       "      <td>28.046203</td>\n",
       "      <td>-82.505053</td>\n",
       "      <td>4.0</td>\n",
       "      <td>[Restaurants, American (New), Italian]</td>\n",
       "      <td>Florida</td>\n",
       "    </tr>\n",
       "    <tr>\n",
       "      <th>3</th>\n",
       "      <td>JgpnXv_0XhV3SfbfB50nxw</td>\n",
       "      <td>Joe's Pizza</td>\n",
       "      <td>27.960514</td>\n",
       "      <td>-82.506127</td>\n",
       "      <td>4.0</td>\n",
       "      <td>[Restaurants, Pizza]</td>\n",
       "      <td>Florida</td>\n",
       "    </tr>\n",
       "    <tr>\n",
       "      <th>4</th>\n",
       "      <td>pJfh3Ct8iL58NZa8ta-a5w</td>\n",
       "      <td>Top Shelf Sports Lounge</td>\n",
       "      <td>28.196252</td>\n",
       "      <td>-82.380615</td>\n",
       "      <td>4.5</td>\n",
       "      <td>[Burgers, Sports Bars, Bars, Lounges, Restaura...</td>\n",
       "      <td>Florida</td>\n",
       "    </tr>\n",
       "  </tbody>\n",
       "</table>\n",
       "</div>"
      ],
      "text/plain": [
       "              business_id                     name   latitude  longitude  \\\n",
       "0  eEOYSgkmpB90uNA7lDOMRA    Vietnamese Food Truck  27.955269 -82.456320   \n",
       "1  0bPLkL0QhhPO5kt1_EXmNQ     Zio's Italian Market  27.916116 -82.760461   \n",
       "2  uI9XODGY_2_ieTE6xJ0myw              Roman Forum  28.046203 -82.505053   \n",
       "3  JgpnXv_0XhV3SfbfB50nxw              Joe's Pizza  27.960514 -82.506127   \n",
       "4  pJfh3Ct8iL58NZa8ta-a5w  Top Shelf Sports Lounge  28.196252 -82.380615   \n",
       "\n",
       "   stars                                         categories    state  \n",
       "0    4.0       [Vietnamese, Food, Restaurants, Food Trucks]  Florida  \n",
       "1    4.5      [Food, Delis, Italian, Bakeries, Restaurants]  Florida  \n",
       "2    4.0             [Restaurants, American (New), Italian]  Florida  \n",
       "3    4.0                               [Restaurants, Pizza]  Florida  \n",
       "4    4.5  [Burgers, Sports Bars, Bars, Lounges, Restaura...  Florida  "
      ]
     },
     "execution_count": 59,
     "metadata": {},
     "output_type": "execute_result"
    }
   ],
   "source": [
    "yelp = pd.read_parquet(\"../datasets/processed/yelp/bussiness_yelp.parquet.gz\")\n",
    "yelp.head()"
   ]
  }
 ],
 "metadata": {
  "kernelspec": {
   "display_name": "Python 3",
   "language": "python",
   "name": "python3"
  },
  "language_info": {
   "codemirror_mode": {
    "name": "ipython",
    "version": 3
   },
   "file_extension": ".py",
   "mimetype": "text/x-python",
   "name": "python",
   "nbconvert_exporter": "python",
   "pygments_lexer": "ipython3",
   "version": "3.11.4"
  }
 },
 "nbformat": 4,
 "nbformat_minor": 2
}
