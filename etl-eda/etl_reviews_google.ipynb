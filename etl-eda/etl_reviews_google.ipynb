{
  "cells": [
    {
      "cell_type": "code",
      "execution_count": 2,
      "metadata": {
        "id": "dy9Kk6PVk7Kl"
      },
      "outputs": [],
      "source": [
        "import pandas as pd\n",
        "import os\n",
        "import matplotlib.pyplot as plt\n",
        "import seaborn as sns\n",
        "import numpy as np\n"
      ]
    },
    {
      "cell_type": "markdown",
      "metadata": {},
      "source": [
        "## Cargar estados"
      ]
    },
    {
      "cell_type": "code",
      "execution_count": 2,
      "metadata": {},
      "outputs": [],
      "source": [
        "## Lista con nombre de los estados\n",
        "# estados = []\n",
        "# ruta = '../datasets/raw/Google Maps/reviews-estados'\n",
        "# for estado in os.listdir(ruta):\n",
        "#         estado_path = os.path.join(ruta, estado)\n",
        "        \n",
        "#         if os.path.isdir(estado_path) and estado.startswith('review-'):\n",
        "#             nombre_estado = estado[len('review-'):]\n",
        "#             estados.append(nombre_estado)"
      ]
    },
    {
      "cell_type": "code",
      "execution_count": 3,
      "metadata": {},
      "outputs": [],
      "source": [
        "# # Funcion para leer todos los json de una carpeta y unirlos en un datafram\n",
        "# def read_all_json(folder_ruth):\n",
        "#     dataframes = []\n",
        "#     for archivo_json in os.listdir(folder_ruth):\n",
        "#         if archivo_json.endswith('.json'):\n",
        "#             # Construye la ruta completa del archivo JSON\n",
        "#             ruta_archivo_json = os.path.join(folder_ruth, archivo_json)\n",
        "            \n",
        "#             # Lee el archivo JSON en un DataFrame\n",
        "#             df = pd.read_json(ruta_archivo_json,lines=True)\n",
        "            \n",
        "#             # Agrega el DataFrame a la lista\n",
        "#             dataframes.append(df)\n",
        "\n",
        "#     # Concatena todos los DataFrames en uno solo\n",
        "#     return pd.concat(dataframes, ignore_index=True)"
      ]
    },
    {
      "cell_type": "code",
      "execution_count": 4,
      "metadata": {},
      "outputs": [],
      "source": [
        "# # Extraer la fecha del diccionario\n",
        "# def extraer_resp_time(diccionario):\n",
        "#     if diccionario is not None:\n",
        "#         return diccionario['time']\n",
        "#     else:\n",
        "#         return None\n",
        "\n",
        "# # Función para extraer 'resp_text'\n",
        "# def extraer_resp_text(diccionario):\n",
        "#     if diccionario is not None:\n",
        "#         return diccionario['text']\n",
        "#     else:\n",
        "#         return None\n",
        "    \n",
        "# #Transformo los formatos de time, extraigo time y texto de respuesta\n",
        "# def format_time(df):\n",
        "#     df['time'] =  pd.to_datetime(df['time'], unit='ms')\n",
        "#     df['resp_time'] = df['resp'].apply(extraer_resp_time)\n",
        "#     df['resp_time'] = pd.to_datetime(df['resp_time'], unit='ms')\n",
        "#     df['resp_text'] = df['resp'].apply(extraer_resp_text)\n",
        "#     df['resp_text'] = df['resp'].apply(extraer_resp_text)\n",
        "#     df.drop(columns=['resp'],inplace=True)"
      ]
    },
    {
      "cell_type": "code",
      "execution_count": 5,
      "metadata": {},
      "outputs": [],
      "source": [
        "# for estado in estados:\n",
        "#     rutas = f'{ruta}/review-{estado}'\n",
        "#     df = read_all_json(rutas)\n",
        "#     format_time(df)\n",
        "#     df.to_parquet(f'./{rutas}/all_{estado}.parquet',index=False)"
      ]
    },
    {
      "cell_type": "markdown",
      "metadata": {},
      "source": [
        "## Reviews"
      ]
    },
    {
      "cell_type": "code",
      "execution_count": 6,
      "metadata": {},
      "outputs": [],
      "source": [
        "ruta ='../datasets/extras/Google Maps/reviews-estados'"
      ]
    },
    {
      "cell_type": "code",
      "execution_count": 7,
      "metadata": {
        "id": "QDWDr3R7-D-7"
      },
      "outputs": [],
      "source": [
        "metadata_google = pd.read_json('../datasets/extras/Google Maps/bussiness_google.json.gz', compression='gzip')\n"
      ]
    },
    {
      "cell_type": "markdown",
      "metadata": {},
      "source": [
        "## Carga de datos por criterio"
      ]
    },
    {
      "cell_type": "markdown",
      "metadata": {},
      "source": [
        "### Criterio: Lugar"
      ]
    },
    {
      "cell_type": "code",
      "execution_count": 8,
      "metadata": {
        "id": "gg3yKAmQlOmm"
      },
      "outputs": [],
      "source": [
        "# Discriminar por estado\n",
        "estados = ['California', 'New_Jersey', 'Florida', 'Illinois'] \n",
        "\n",
        "df_states = pd.DataFrame()\n",
        "\n",
        "for estado in estados:\n",
        "    ruta_archivo = f'{ruta}/review-{estado}/all_{estado}.parquet'\n",
        "    review_estado = pd.read_parquet(ruta_archivo)\n",
        "\n",
        "    # Agrega la columna 'state' con el valor del estado actual\n",
        "    review_estado['state'] = estado\n",
        "\n",
        "    df_states = pd.concat([df_states, review_estado], ignore_index=True)\n",
        "    \n",
        "\n",
        "# df_states ahora contiene la concatenación de todos los DataFrames de los diferentes estados, con la columna 'state' agregada\n"
      ]
    },
    {
      "cell_type": "markdown",
      "metadata": {},
      "source": [
        "Normalizo un estado"
      ]
    },
    {
      "cell_type": "code",
      "execution_count": 9,
      "metadata": {},
      "outputs": [],
      "source": [
        "df_states['state'].replace('New_Jersey','New Jersey',inplace=True)"
      ]
    },
    {
      "cell_type": "code",
      "execution_count": 10,
      "metadata": {
        "colab": {
          "base_uri": "https://localhost:8080/",
          "height": 650
        },
        "id": "flRXjJX0-bJ8",
        "outputId": "6b756db3-991d-430e-e4f9-889ba2d0159e"
      },
      "outputs": [
        {
          "data": {
            "text/html": [
              "<div>\n",
              "<style scoped>\n",
              "    .dataframe tbody tr th:only-of-type {\n",
              "        vertical-align: middle;\n",
              "    }\n",
              "\n",
              "    .dataframe tbody tr th {\n",
              "        vertical-align: top;\n",
              "    }\n",
              "\n",
              "    .dataframe thead th {\n",
              "        text-align: right;\n",
              "    }\n",
              "</style>\n",
              "<table border=\"1\" class=\"dataframe\">\n",
              "  <thead>\n",
              "    <tr style=\"text-align: right;\">\n",
              "      <th></th>\n",
              "      <th>user_id</th>\n",
              "      <th>name</th>\n",
              "      <th>time</th>\n",
              "      <th>rating</th>\n",
              "      <th>text</th>\n",
              "      <th>pics</th>\n",
              "      <th>gmap_id</th>\n",
              "      <th>resp_time</th>\n",
              "      <th>resp_text</th>\n",
              "      <th>state</th>\n",
              "    </tr>\n",
              "  </thead>\n",
              "  <tbody>\n",
              "    <tr>\n",
              "      <th>0</th>\n",
              "      <td>1.089912e+20</td>\n",
              "      <td>Song Ro</td>\n",
              "      <td>2021-01-06 05:12:07.056</td>\n",
              "      <td>5</td>\n",
              "      <td>Love there korean rice cake.</td>\n",
              "      <td>None</td>\n",
              "      <td>0x80c2c778e3b73d33:0xbdc58662a4a97d49</td>\n",
              "      <td>NaT</td>\n",
              "      <td>None</td>\n",
              "      <td>California</td>\n",
              "    </tr>\n",
              "    <tr>\n",
              "      <th>1</th>\n",
              "      <td>1.112903e+20</td>\n",
              "      <td>Rafa Robles</td>\n",
              "      <td>2021-02-09 05:47:28.663</td>\n",
              "      <td>5</td>\n",
              "      <td>Good very good</td>\n",
              "      <td>None</td>\n",
              "      <td>0x80c2c778e3b73d33:0xbdc58662a4a97d49</td>\n",
              "      <td>NaT</td>\n",
              "      <td>None</td>\n",
              "      <td>California</td>\n",
              "    </tr>\n",
              "    <tr>\n",
              "      <th>2</th>\n",
              "      <td>1.126404e+20</td>\n",
              "      <td>David Han</td>\n",
              "      <td>2020-03-08 05:04:42.296</td>\n",
              "      <td>4</td>\n",
              "      <td>They make Korean traditional food very properly.</td>\n",
              "      <td>None</td>\n",
              "      <td>0x80c2c778e3b73d33:0xbdc58662a4a97d49</td>\n",
              "      <td>NaT</td>\n",
              "      <td>None</td>\n",
              "      <td>California</td>\n",
              "    </tr>\n",
              "    <tr>\n",
              "      <th>3</th>\n",
              "      <td>1.174403e+20</td>\n",
              "      <td>Anthony Kim</td>\n",
              "      <td>2019-03-07 05:56:56.355</td>\n",
              "      <td>5</td>\n",
              "      <td>Short ribs are very delicious.</td>\n",
              "      <td>None</td>\n",
              "      <td>0x80c2c778e3b73d33:0xbdc58662a4a97d49</td>\n",
              "      <td>NaT</td>\n",
              "      <td>None</td>\n",
              "      <td>California</td>\n",
              "    </tr>\n",
              "    <tr>\n",
              "      <th>4</th>\n",
              "      <td>1.005808e+20</td>\n",
              "      <td>Mario Marzouk</td>\n",
              "      <td>2017-05-16 05:01:41.933</td>\n",
              "      <td>5</td>\n",
              "      <td>Great food and prices the portions are large</td>\n",
              "      <td>None</td>\n",
              "      <td>0x80c2c778e3b73d33:0xbdc58662a4a97d49</td>\n",
              "      <td>NaT</td>\n",
              "      <td>None</td>\n",
              "      <td>California</td>\n",
              "    </tr>\n",
              "  </tbody>\n",
              "</table>\n",
              "</div>"
            ],
            "text/plain": [
              "        user_id           name                    time  rating  \\\n",
              "0  1.089912e+20        Song Ro 2021-01-06 05:12:07.056       5   \n",
              "1  1.112903e+20    Rafa Robles 2021-02-09 05:47:28.663       5   \n",
              "2  1.126404e+20      David Han 2020-03-08 05:04:42.296       4   \n",
              "3  1.174403e+20    Anthony Kim 2019-03-07 05:56:56.355       5   \n",
              "4  1.005808e+20  Mario Marzouk 2017-05-16 05:01:41.933       5   \n",
              "\n",
              "                                               text  pics  \\\n",
              "0                      Love there korean rice cake.  None   \n",
              "1                                    Good very good  None   \n",
              "2  They make Korean traditional food very properly.  None   \n",
              "3                    Short ribs are very delicious.  None   \n",
              "4      Great food and prices the portions are large  None   \n",
              "\n",
              "                                 gmap_id resp_time resp_text       state  \n",
              "0  0x80c2c778e3b73d33:0xbdc58662a4a97d49       NaT      None  California  \n",
              "1  0x80c2c778e3b73d33:0xbdc58662a4a97d49       NaT      None  California  \n",
              "2  0x80c2c778e3b73d33:0xbdc58662a4a97d49       NaT      None  California  \n",
              "3  0x80c2c778e3b73d33:0xbdc58662a4a97d49       NaT      None  California  \n",
              "4  0x80c2c778e3b73d33:0xbdc58662a4a97d49       NaT      None  California  "
            ]
          },
          "execution_count": 10,
          "metadata": {},
          "output_type": "execute_result"
        }
      ],
      "source": [
        "df_states.head()"
      ]
    },
    {
      "cell_type": "code",
      "execution_count": 11,
      "metadata": {
        "id": "S15KWUOLmXxl"
      },
      "outputs": [],
      "source": [
        "# Elimino duplicados en user_id time y gmap_id en conjunto\n",
        "df_states.drop_duplicates(subset=['user_id','time','gmap_id'],inplace=True)"
      ]
    },
    {
      "cell_type": "code",
      "execution_count": 12,
      "metadata": {
        "id": "zpnTTBQlmZFd"
      },
      "outputs": [],
      "source": [
        "# Elimino la columna pics que no sera usada\n",
        "df_states.drop(columns='pics',inplace=True)\n"
      ]
    },
    {
      "cell_type": "code",
      "execution_count": 13,
      "metadata": {
        "colab": {
          "base_uri": "https://localhost:8080/",
          "height": 397
        },
        "id": "4WO-Tu9Gmah1",
        "outputId": "1da8c361-b29c-41e4-80eb-4be510dc1f52"
      },
      "outputs": [
        {
          "data": {
            "text/html": [
              "<div>\n",
              "<style scoped>\n",
              "    .dataframe tbody tr th:only-of-type {\n",
              "        vertical-align: middle;\n",
              "    }\n",
              "\n",
              "    .dataframe tbody tr th {\n",
              "        vertical-align: top;\n",
              "    }\n",
              "\n",
              "    .dataframe thead th {\n",
              "        text-align: right;\n",
              "    }\n",
              "</style>\n",
              "<table border=\"1\" class=\"dataframe\">\n",
              "  <thead>\n",
              "    <tr style=\"text-align: right;\">\n",
              "      <th></th>\n",
              "      <th>user_id</th>\n",
              "      <th>name</th>\n",
              "      <th>time</th>\n",
              "      <th>rating</th>\n",
              "      <th>text</th>\n",
              "      <th>gmap_id</th>\n",
              "      <th>resp_time</th>\n",
              "      <th>resp_text</th>\n",
              "      <th>state</th>\n",
              "    </tr>\n",
              "  </thead>\n",
              "  <tbody>\n",
              "    <tr>\n",
              "      <th>8894681</th>\n",
              "      <td>1.041933e+20</td>\n",
              "      <td>Dan Hartman</td>\n",
              "      <td>2016-01-08 19:44:35.168</td>\n",
              "      <td>3</td>\n",
              "      <td>a home depot like any other.  if you're lookin...</td>\n",
              "      <td>0x880e33b6db6fb3d7:0x68c5093d624c4835</td>\n",
              "      <td>NaT</td>\n",
              "      <td>None</td>\n",
              "      <td>Illinois</td>\n",
              "    </tr>\n",
              "    <tr>\n",
              "      <th>6978114</th>\n",
              "      <td>1.010128e+20</td>\n",
              "      <td>Kike GARCIA</td>\n",
              "      <td>2017-01-06 12:28:55.176</td>\n",
              "      <td>5</td>\n",
              "      <td>None</td>\n",
              "      <td>0x88c36a74e7033c2b:0x992d8b23263b20c3</td>\n",
              "      <td>NaT</td>\n",
              "      <td>None</td>\n",
              "      <td>Florida</td>\n",
              "    </tr>\n",
              "    <tr>\n",
              "      <th>4269074</th>\n",
              "      <td>1.166992e+20</td>\n",
              "      <td>Matthew Gutkin</td>\n",
              "      <td>2019-04-05 00:55:29.449</td>\n",
              "      <td>5</td>\n",
              "      <td>Absolutely fantastic food. Service could be a ...</td>\n",
              "      <td>0x89c1007ea50d351b:0xe1f674abbdc4d175</td>\n",
              "      <td>2019-07-01 18:28:47.315000064</td>\n",
              "      <td>We are glad you enjoy it!</td>\n",
              "      <td>New Jersey</td>\n",
              "    </tr>\n",
              "    <tr>\n",
              "      <th>1758859</th>\n",
              "      <td>1.166640e+20</td>\n",
              "      <td>CLAUDIA AVINA</td>\n",
              "      <td>2016-07-12 14:55:36.525</td>\n",
              "      <td>5</td>\n",
              "      <td>None</td>\n",
              "      <td>0x808522ccdfd570c5:0x890344eaca8919ae</td>\n",
              "      <td>NaT</td>\n",
              "      <td>None</td>\n",
              "      <td>California</td>\n",
              "    </tr>\n",
              "    <tr>\n",
              "      <th>5346093</th>\n",
              "      <td>1.078917e+20</td>\n",
              "      <td>Carrie Johnson (Seajay;p)</td>\n",
              "      <td>2019-02-14 07:23:58.871</td>\n",
              "      <td>3</td>\n",
              "      <td>None</td>\n",
              "      <td>0x88e5b491e364d2d7:0x6f3be668d9114fc1</td>\n",
              "      <td>NaT</td>\n",
              "      <td>None</td>\n",
              "      <td>Florida</td>\n",
              "    </tr>\n",
              "  </tbody>\n",
              "</table>\n",
              "</div>"
            ],
            "text/plain": [
              "              user_id                       name                    time  \\\n",
              "8894681  1.041933e+20                Dan Hartman 2016-01-08 19:44:35.168   \n",
              "6978114  1.010128e+20                Kike GARCIA 2017-01-06 12:28:55.176   \n",
              "4269074  1.166992e+20             Matthew Gutkin 2019-04-05 00:55:29.449   \n",
              "1758859  1.166640e+20              CLAUDIA AVINA 2016-07-12 14:55:36.525   \n",
              "5346093  1.078917e+20  Carrie Johnson (Seajay;p) 2019-02-14 07:23:58.871   \n",
              "\n",
              "         rating                                               text  \\\n",
              "8894681       3  a home depot like any other.  if you're lookin...   \n",
              "6978114       5                                               None   \n",
              "4269074       5  Absolutely fantastic food. Service could be a ...   \n",
              "1758859       5                                               None   \n",
              "5346093       3                                               None   \n",
              "\n",
              "                                       gmap_id                     resp_time  \\\n",
              "8894681  0x880e33b6db6fb3d7:0x68c5093d624c4835                           NaT   \n",
              "6978114  0x88c36a74e7033c2b:0x992d8b23263b20c3                           NaT   \n",
              "4269074  0x89c1007ea50d351b:0xe1f674abbdc4d175 2019-07-01 18:28:47.315000064   \n",
              "1758859  0x808522ccdfd570c5:0x890344eaca8919ae                           NaT   \n",
              "5346093  0x88e5b491e364d2d7:0x6f3be668d9114fc1                           NaT   \n",
              "\n",
              "                         resp_text       state  \n",
              "8894681                       None    Illinois  \n",
              "6978114                       None     Florida  \n",
              "4269074  We are glad you enjoy it!  New Jersey  \n",
              "1758859                       None  California  \n",
              "5346093                       None     Florida  "
            ]
          },
          "execution_count": 13,
          "metadata": {},
          "output_type": "execute_result"
        }
      ],
      "source": [
        "df_states.sample(5)"
      ]
    },
    {
      "cell_type": "markdown",
      "metadata": {},
      "source": [
        "### Criterio: Tiempo"
      ]
    },
    {
      "cell_type": "code",
      "execution_count": null,
      "metadata": {},
      "outputs": [],
      "source": [
        "# Convertir la columna 'time' a tipo datetime\n",
        "df_states['time'] = pd.to_datetime(df_states['time'])\n",
        "\n",
        "# Filtrar los datos por año desde 2015 inclusive en adelante\n",
        "df_filtered = df_states[df_states['time'].dt.year >= 2015]\n",
        "\n",
        "# Eliminar las milésimas de segundo de la columna 'time'\n",
        "df_filtered['time'] = df_filtered['time'].dt.strftime('%Y-%m-%d %H:%M:%S')"
      ]
    },
    {
      "cell_type": "code",
      "execution_count": 15,
      "metadata": {},
      "outputs": [],
      "source": [
        "# Renombrar columna de tiempo de respuesta\n",
        "df_states.rename(columns={'resp_time':'resp_date'},inplace=True)\n",
        "df_states.rename(columns={'stars':'rating'},inplace=True)"
      ]
    },
    {
      "cell_type": "markdown",
      "metadata": {
        "id": "ahxs9UOnEe1I"
      },
      "source": [
        "### Criterio: Rubro"
      ]
    },
    {
      "cell_type": "code",
      "execution_count": 16,
      "metadata": {
        "colab": {
          "base_uri": "https://localhost:8080/",
          "height": 424
        },
        "id": "AlY8UMJaJlo6",
        "outputId": "bd6fc81b-f4ea-4bb3-ef94-e542de457c81"
      },
      "outputs": [
        {
          "data": {
            "text/html": [
              "<div>\n",
              "<style scoped>\n",
              "    .dataframe tbody tr th:only-of-type {\n",
              "        vertical-align: middle;\n",
              "    }\n",
              "\n",
              "    .dataframe tbody tr th {\n",
              "        vertical-align: top;\n",
              "    }\n",
              "\n",
              "    .dataframe thead th {\n",
              "        text-align: right;\n",
              "    }\n",
              "</style>\n",
              "<table border=\"1\" class=\"dataframe\">\n",
              "  <thead>\n",
              "    <tr style=\"text-align: right;\">\n",
              "      <th></th>\n",
              "      <th>gmap_id</th>\n",
              "      <th>category</th>\n",
              "    </tr>\n",
              "  </thead>\n",
              "  <tbody>\n",
              "    <tr>\n",
              "      <th>4</th>\n",
              "      <td>0x88db4147b1d9e6f3:0x943dbd10a92ba1b1</td>\n",
              "      <td>['Restaurant']</td>\n",
              "    </tr>\n",
              "    <tr>\n",
              "      <th>5</th>\n",
              "      <td>0x88c2e4e34f1ed783:0x76c5da381c499d79</td>\n",
              "      <td>['Buffet restaurant']</td>\n",
              "    </tr>\n",
              "    <tr>\n",
              "      <th>46</th>\n",
              "      <td>0x8890b9241e704667:0x3a1e565c17c00993</td>\n",
              "      <td>['Restaurant']</td>\n",
              "    </tr>\n",
              "    <tr>\n",
              "      <th>81</th>\n",
              "      <td>0x88e635378f43352f:0xa1b53c63436fa428</td>\n",
              "      <td>['Gas station' 'ATM' 'Convenience store' 'Rest...</td>\n",
              "    </tr>\n",
              "    <tr>\n",
              "      <th>156</th>\n",
              "      <td>0x88d9ab98b5baad79:0x1a2e3f0642a55246</td>\n",
              "      <td>['Mexican restaurant']</td>\n",
              "    </tr>\n",
              "    <tr>\n",
              "      <th>...</th>\n",
              "      <td>...</td>\n",
              "      <td>...</td>\n",
              "    </tr>\n",
              "    <tr>\n",
              "      <th>693466</th>\n",
              "      <td>0x89c3b2b8e9c8c357:0xb1b07826ef85a598</td>\n",
              "      <td>['Bar' 'Italian restaurant' 'Pub' 'Restaurant']</td>\n",
              "    </tr>\n",
              "    <tr>\n",
              "      <th>693471</th>\n",
              "      <td>0x89c24d60acc3ffff:0xc8048546518281f6</td>\n",
              "      <td>['Restaurant' 'Family restaurant']</td>\n",
              "    </tr>\n",
              "    <tr>\n",
              "      <th>693475</th>\n",
              "      <td>0x89c24d7a198a3541:0x3dcb8f429c053248</td>\n",
              "      <td>['American restaurant']</td>\n",
              "    </tr>\n",
              "    <tr>\n",
              "      <th>693478</th>\n",
              "      <td>0x89c3b290dcc12d6d:0x34ad59938efed577</td>\n",
              "      <td>['Latin American restaurant' 'Mexican restaura...</td>\n",
              "    </tr>\n",
              "    <tr>\n",
              "      <th>693485</th>\n",
              "      <td>0x89c17b3b65b4680d:0x40a43d960a97a0</td>\n",
              "      <td>['Pizza restaurant' 'Italian restaurant' 'Pizz...</td>\n",
              "    </tr>\n",
              "  </tbody>\n",
              "</table>\n",
              "<p>54906 rows × 2 columns</p>\n",
              "</div>"
            ],
            "text/plain": [
              "                                      gmap_id  \\\n",
              "4       0x88db4147b1d9e6f3:0x943dbd10a92ba1b1   \n",
              "5       0x88c2e4e34f1ed783:0x76c5da381c499d79   \n",
              "46      0x8890b9241e704667:0x3a1e565c17c00993   \n",
              "81      0x88e635378f43352f:0xa1b53c63436fa428   \n",
              "156     0x88d9ab98b5baad79:0x1a2e3f0642a55246   \n",
              "...                                       ...   \n",
              "693466  0x89c3b2b8e9c8c357:0xb1b07826ef85a598   \n",
              "693471  0x89c24d60acc3ffff:0xc8048546518281f6   \n",
              "693475  0x89c24d7a198a3541:0x3dcb8f429c053248   \n",
              "693478  0x89c3b290dcc12d6d:0x34ad59938efed577   \n",
              "693485    0x89c17b3b65b4680d:0x40a43d960a97a0   \n",
              "\n",
              "                                                 category  \n",
              "4                                          ['Restaurant']  \n",
              "5                                   ['Buffet restaurant']  \n",
              "46                                         ['Restaurant']  \n",
              "81      ['Gas station' 'ATM' 'Convenience store' 'Rest...  \n",
              "156                                ['Mexican restaurant']  \n",
              "...                                                   ...  \n",
              "693466    ['Bar' 'Italian restaurant' 'Pub' 'Restaurant']  \n",
              "693471                 ['Restaurant' 'Family restaurant']  \n",
              "693475                            ['American restaurant']  \n",
              "693478  ['Latin American restaurant' 'Mexican restaura...  \n",
              "693485  ['Pizza restaurant' 'Italian restaurant' 'Pizz...  \n",
              "\n",
              "[54906 rows x 2 columns]"
            ]
          },
          "execution_count": 16,
          "metadata": {},
          "output_type": "execute_result"
        }
      ],
      "source": [
        "metadata_google[['gmap_id','category']]"
      ]
    },
    {
      "cell_type": "markdown",
      "metadata": {},
      "source": [
        "Encuentro las review que por gmap_id pertenezcan a los locales de restaurante."
      ]
    },
    {
      "cell_type": "code",
      "execution_count": 17,
      "metadata": {
        "id": "aVr3ptyBJvra"
      },
      "outputs": [],
      "source": [
        "df_states = df_states[df_states['gmap_id'].isin(metadata_google['gmap_id'])]"
      ]
    },
    {
      "cell_type": "markdown",
      "metadata": {},
      "source": [
        "## Analisis de sentimiento usando TextBlob"
      ]
    },
    {
      "cell_type": "code",
      "execution_count": 18,
      "metadata": {
        "id": "AUu6cCxDRun0"
      },
      "outputs": [],
      "source": [
        "from textblob import TextBlob"
      ]
    },
    {
      "cell_type": "code",
      "execution_count": 19,
      "metadata": {
        "id": "5CF_M6_nqgqq"
      },
      "outputs": [],
      "source": [
        "df_states['sentiment_textblob'] = df_states['text'].apply(lambda x:0 if x is None else TextBlob(x).sentiment.polarity)\n",
        "df_states['sentiment_textblob_resp'] = df_states['resp_text'].apply(lambda x:0 if x is None else TextBlob(x).sentiment.polarity)"
      ]
    },
    {
      "cell_type": "markdown",
      "metadata": {},
      "source": [
        "Exploro y comparo ratings con score del sentimiento"
      ]
    },
    {
      "cell_type": "code",
      "execution_count": 20,
      "metadata": {
        "colab": {
          "base_uri": "https://localhost:8080/",
          "height": 643
        },
        "id": "JxGs2xrm3eQv",
        "outputId": "143b9896-9765-4360-f206-c7adc7b29f7a"
      },
      "outputs": [
        {
          "data": {
            "text/html": [
              "<div>\n",
              "<style scoped>\n",
              "    .dataframe tbody tr th:only-of-type {\n",
              "        vertical-align: middle;\n",
              "    }\n",
              "\n",
              "    .dataframe tbody tr th {\n",
              "        vertical-align: top;\n",
              "    }\n",
              "\n",
              "    .dataframe thead th {\n",
              "        text-align: right;\n",
              "    }\n",
              "</style>\n",
              "<table border=\"1\" class=\"dataframe\">\n",
              "  <thead>\n",
              "    <tr style=\"text-align: right;\">\n",
              "      <th></th>\n",
              "      <th>user_id</th>\n",
              "      <th>name</th>\n",
              "      <th>time</th>\n",
              "      <th>rating</th>\n",
              "      <th>text</th>\n",
              "      <th>gmap_id</th>\n",
              "      <th>resp_date</th>\n",
              "      <th>resp_text</th>\n",
              "      <th>state</th>\n",
              "      <th>sentiment_textblob</th>\n",
              "      <th>sentiment_textblob_resp</th>\n",
              "    </tr>\n",
              "  </thead>\n",
              "  <tbody>\n",
              "    <tr>\n",
              "      <th>7717942</th>\n",
              "      <td>1.126497e+20</td>\n",
              "      <td>Pat Thompson</td>\n",
              "      <td>2020-06-27 18:24:54.709</td>\n",
              "      <td>1</td>\n",
              "      <td>Very slow</td>\n",
              "      <td>0x880c7389ae2404c5:0x4589781db842a1e1</td>\n",
              "      <td>2020-07-03 04:56:20.616999936</td>\n",
              "      <td>Ouch, so sorry! We didn’t build the biz this w...</td>\n",
              "      <td>Illinois</td>\n",
              "      <td>-0.390000</td>\n",
              "      <td>-0.247768</td>\n",
              "    </tr>\n",
              "    <tr>\n",
              "      <th>5671330</th>\n",
              "      <td>1.022309e+20</td>\n",
              "      <td>Sol Ivette Cabrera</td>\n",
              "      <td>2018-06-10 18:22:58.812</td>\n",
              "      <td>2</td>\n",
              "      <td>Bad</td>\n",
              "      <td>0x88c2e48f2e525a21:0xe915850e0b764fa0</td>\n",
              "      <td>NaT</td>\n",
              "      <td>None</td>\n",
              "      <td>Florida</td>\n",
              "      <td>-0.700000</td>\n",
              "      <td>0.000000</td>\n",
              "    </tr>\n",
              "    <tr>\n",
              "      <th>3554082</th>\n",
              "      <td>1.085843e+20</td>\n",
              "      <td>Sebas Tangarife (Tanga)</td>\n",
              "      <td>2021-03-30 09:13:39.645</td>\n",
              "      <td>1</td>\n",
              "      <td>I really don't like the food. Creless  chefs, ...</td>\n",
              "      <td>0x89c30a8f865a2c01:0xd7861df217e0bab9</td>\n",
              "      <td>NaT</td>\n",
              "      <td>None</td>\n",
              "      <td>New Jersey</td>\n",
              "      <td>-0.200000</td>\n",
              "      <td>0.000000</td>\n",
              "    </tr>\n",
              "    <tr>\n",
              "      <th>5282587</th>\n",
              "      <td>1.119970e+20</td>\n",
              "      <td>Mitchell Sweetz</td>\n",
              "      <td>2018-07-10 07:53:18.762</td>\n",
              "      <td>1</td>\n",
              "      <td>The \"system [was] down\" indefinitely so I coul...</td>\n",
              "      <td>0x88d9290dc2a43deb:0xa36db6cff89a621c</td>\n",
              "      <td>NaT</td>\n",
              "      <td>None</td>\n",
              "      <td>Florida</td>\n",
              "      <td>-0.155556</td>\n",
              "      <td>0.000000</td>\n",
              "    </tr>\n",
              "    <tr>\n",
              "      <th>6147976</th>\n",
              "      <td>1.169251e+20</td>\n",
              "      <td>A Gooogle User</td>\n",
              "      <td>2019-08-26 17:32:53.360</td>\n",
              "      <td>1</td>\n",
              "      <td>Horrible customer service..owner is rude and u...</td>\n",
              "      <td>0x88e0a9bb63305873:0xc55048a8acf3c4f8</td>\n",
              "      <td>NaT</td>\n",
              "      <td>None</td>\n",
              "      <td>Florida</td>\n",
              "      <td>-0.040000</td>\n",
              "      <td>0.000000</td>\n",
              "    </tr>\n",
              "  </tbody>\n",
              "</table>\n",
              "</div>"
            ],
            "text/plain": [
              "              user_id                     name                    time  \\\n",
              "7717942  1.126497e+20             Pat Thompson 2020-06-27 18:24:54.709   \n",
              "5671330  1.022309e+20       Sol Ivette Cabrera 2018-06-10 18:22:58.812   \n",
              "3554082  1.085843e+20  Sebas Tangarife (Tanga) 2021-03-30 09:13:39.645   \n",
              "5282587  1.119970e+20          Mitchell Sweetz 2018-07-10 07:53:18.762   \n",
              "6147976  1.169251e+20           A Gooogle User 2019-08-26 17:32:53.360   \n",
              "\n",
              "         rating                                               text  \\\n",
              "7717942       1                                          Very slow   \n",
              "5671330       2                                                Bad   \n",
              "3554082       1  I really don't like the food. Creless  chefs, ...   \n",
              "5282587       1  The \"system [was] down\" indefinitely so I coul...   \n",
              "6147976       1  Horrible customer service..owner is rude and u...   \n",
              "\n",
              "                                       gmap_id                     resp_date  \\\n",
              "7717942  0x880c7389ae2404c5:0x4589781db842a1e1 2020-07-03 04:56:20.616999936   \n",
              "5671330  0x88c2e48f2e525a21:0xe915850e0b764fa0                           NaT   \n",
              "3554082  0x89c30a8f865a2c01:0xd7861df217e0bab9                           NaT   \n",
              "5282587  0x88d9290dc2a43deb:0xa36db6cff89a621c                           NaT   \n",
              "6147976  0x88e0a9bb63305873:0xc55048a8acf3c4f8                           NaT   \n",
              "\n",
              "                                                 resp_text       state  \\\n",
              "7717942  Ouch, so sorry! We didn’t build the biz this w...    Illinois   \n",
              "5671330                                               None     Florida   \n",
              "3554082                                               None  New Jersey   \n",
              "5282587                                               None     Florida   \n",
              "6147976                                               None     Florida   \n",
              "\n",
              "         sentiment_textblob  sentiment_textblob_resp  \n",
              "7717942           -0.390000                -0.247768  \n",
              "5671330           -0.700000                 0.000000  \n",
              "3554082           -0.200000                 0.000000  \n",
              "5282587           -0.155556                 0.000000  \n",
              "6147976           -0.040000                 0.000000  "
            ]
          },
          "execution_count": 20,
          "metadata": {},
          "output_type": "execute_result"
        }
      ],
      "source": [
        "df_states[df_states['sentiment_textblob']<0].sample(5)"
      ]
    },
    {
      "cell_type": "markdown",
      "metadata": {},
      "source": [
        "### Criterio de sentiment\n",
        "\n",
        "Voy a generar el criterio que en el sentimiento se obtenga un valor cuantificable mas real, normalizando el ranting y sumandole al socre"
      ]
    },
    {
      "cell_type": "code",
      "execution_count": 21,
      "metadata": {
        "id": "xmoijqRaU2X_"
      },
      "outputs": [],
      "source": [
        "df_states['sentiment'] = df_states['rating'] / 5. + df_states['sentiment_textblob']"
      ]
    },
    {
      "cell_type": "markdown",
      "metadata": {},
      "source": [
        "### En base al valor obtenido defino el criterio para score ponderado <br>\n",
        " mayor a 1.5 en un sentimiento muy bueno y asigno 2, <br>\n",
        " mayor a 1 y menor a 1.5 en un sentimiento bueno y asigno 1,<br>\n",
        " menor a 0.3 es un score negativo y asigno -1,<br>\n",
        " entre 1 y 0.3 es un score neutro y asigno 0"
      ]
    },
    {
      "cell_type": "code",
      "execution_count": 22,
      "metadata": {
        "id": "o2ihqdv-WtTZ"
      },
      "outputs": [],
      "source": [
        "df_states['sentiment'] = df_states['sentiment'].apply(lambda x: 2 if x >= 1.5 else (1 if x >= 1 else (-1 if x <= 0.3 else 0)))\n"
      ]
    },
    {
      "cell_type": "code",
      "execution_count": 23,
      "metadata": {
        "id": "31VEMULkX7E3"
      },
      "outputs": [],
      "source": [
        "# Elimino las columnas que ya no se usan debido al analisis de sentimiento\n",
        "df_states.drop(columns=['sentiment_textblob','text','resp_text', 'state'],inplace=True)"
      ]
    },
    {
      "cell_type": "code",
      "execution_count": 29,
      "metadata": {},
      "outputs": [
        {
          "name": "stderr",
          "output_type": "stream",
          "text": [
            "C:\\Users\\bruno\\AppData\\Local\\Temp\\ipykernel_2044\\3925477376.py:6: SettingWithCopyWarning: \n",
            "A value is trying to be set on a copy of a slice from a DataFrame\n",
            "\n",
            "See the caveats in the documentation: https://pandas.pydata.org/pandas-docs/stable/user_guide/indexing.html#returning-a-view-versus-a-copy\n",
            "  df_states.rename(columns=({\n"
          ]
        }
      ],
      "source": [
        "# Crear la columna 'review_id'\n",
        "df_states['review_id'] = range(len(df_states))\n",
        "\n",
        "# Reorganizar las columnas\n",
        "df_states = df_states[['review_id', 'user_id', 'gmap_id', 'rating', 'sentiment', 'time', 'sentiment_textblob_resp', 'resp_date']]\n",
        "df_states.rename(columns=({\n",
        "    'sentiment_textblob_resp':'sentiment_resp',\n",
        "    'rating':'stars'\n",
        "    }),inplace=True)"
      ]
    },
    {
      "cell_type": "code",
      "execution_count": 32,
      "metadata": {
        "colab": {
          "base_uri": "https://localhost:8080/",
          "height": 293
        },
        "id": "TlqzP_Gdblc3",
        "outputId": "d9d28cec-7e1c-4dce-9890-1251b59719ea"
      },
      "outputs": [
        {
          "data": {
            "text/html": [
              "<div>\n",
              "<style scoped>\n",
              "    .dataframe tbody tr th:only-of-type {\n",
              "        vertical-align: middle;\n",
              "    }\n",
              "\n",
              "    .dataframe tbody tr th {\n",
              "        vertical-align: top;\n",
              "    }\n",
              "\n",
              "    .dataframe thead th {\n",
              "        text-align: right;\n",
              "    }\n",
              "</style>\n",
              "<table border=\"1\" class=\"dataframe\">\n",
              "  <thead>\n",
              "    <tr style=\"text-align: right;\">\n",
              "      <th></th>\n",
              "      <th>review_id</th>\n",
              "      <th>user_id</th>\n",
              "      <th>gmap_id</th>\n",
              "      <th>stars</th>\n",
              "      <th>sentiment</th>\n",
              "      <th>time</th>\n",
              "      <th>sentiment_resp</th>\n",
              "      <th>resp_date</th>\n",
              "    </tr>\n",
              "  </thead>\n",
              "  <tbody>\n",
              "    <tr>\n",
              "      <th>0</th>\n",
              "      <td>0</td>\n",
              "      <td>1.089912e+20</td>\n",
              "      <td>0x80c2c778e3b73d33:0xbdc58662a4a97d49</td>\n",
              "      <td>5</td>\n",
              "      <td>2</td>\n",
              "      <td>2021-01-06 05:12:07.056</td>\n",
              "      <td>0.0</td>\n",
              "      <td>NaT</td>\n",
              "    </tr>\n",
              "  </tbody>\n",
              "</table>\n",
              "</div>"
            ],
            "text/plain": [
              "   review_id       user_id                                gmap_id  stars  \\\n",
              "0          0  1.089912e+20  0x80c2c778e3b73d33:0xbdc58662a4a97d49      5   \n",
              "\n",
              "   sentiment                    time  sentiment_resp resp_date  \n",
              "0          2 2021-01-06 05:12:07.056             0.0       NaT  "
            ]
          },
          "execution_count": 32,
          "metadata": {},
          "output_type": "execute_result"
        }
      ],
      "source": [
        "df_states.head(1)"
      ]
    },
    {
      "cell_type": "markdown",
      "metadata": {},
      "source": [
        "### Por último exporto el dataset a parquet particionado por estados"
      ]
    },
    {
      "cell_type": "code",
      "execution_count": 33,
      "metadata": {
        "id": "5AJ7VHPeXXg4"
      },
      "outputs": [],
      "source": [
        "df_states.to_parquet('../datasets/processed/google/reviews_google.parquet.gz', compression='gzip')"
      ]
    },
    {
      "cell_type": "markdown",
      "metadata": {},
      "source": [
        "---"
      ]
    },
    {
      "cell_type": "code",
      "execution_count": 23,
      "metadata": {},
      "outputs": [],
      "source": [
        "revi_google = pd.read_parquet(r'..\\datasets\\processed\\google\\reviews_google.parquet.gz')"
      ]
    },
    {
      "cell_type": "code",
      "execution_count": 24,
      "metadata": {},
      "outputs": [
        {
          "data": {
            "text/html": [
              "<div>\n",
              "<style scoped>\n",
              "    .dataframe tbody tr th:only-of-type {\n",
              "        vertical-align: middle;\n",
              "    }\n",
              "\n",
              "    .dataframe tbody tr th {\n",
              "        vertical-align: top;\n",
              "    }\n",
              "\n",
              "    .dataframe thead th {\n",
              "        text-align: right;\n",
              "    }\n",
              "</style>\n",
              "<table border=\"1\" class=\"dataframe\">\n",
              "  <thead>\n",
              "    <tr style=\"text-align: right;\">\n",
              "      <th></th>\n",
              "      <th>user_id</th>\n",
              "      <th>gmap_id</th>\n",
              "      <th>stars</th>\n",
              "      <th>sentiment</th>\n",
              "      <th>date</th>\n",
              "      <th>resp_sentiment</th>\n",
              "      <th>resp_date</th>\n",
              "    </tr>\n",
              "  </thead>\n",
              "  <tbody>\n",
              "    <tr>\n",
              "      <th>0</th>\n",
              "      <td>1.089912e+20</td>\n",
              "      <td>0x80c2c778e3b73d33:0xbdc58662a4a97d49</td>\n",
              "      <td>5</td>\n",
              "      <td>2</td>\n",
              "      <td>2021-01-06 05:12:07.056</td>\n",
              "      <td>0.0</td>\n",
              "      <td>NaT</td>\n",
              "    </tr>\n",
              "    <tr>\n",
              "      <th>1</th>\n",
              "      <td>1.112903e+20</td>\n",
              "      <td>0x80c2c778e3b73d33:0xbdc58662a4a97d49</td>\n",
              "      <td>5</td>\n",
              "      <td>2</td>\n",
              "      <td>2021-02-09 05:47:28.663</td>\n",
              "      <td>0.0</td>\n",
              "      <td>NaT</td>\n",
              "    </tr>\n",
              "    <tr>\n",
              "      <th>2</th>\n",
              "      <td>1.126404e+20</td>\n",
              "      <td>0x80c2c778e3b73d33:0xbdc58662a4a97d49</td>\n",
              "      <td>4</td>\n",
              "      <td>0</td>\n",
              "      <td>2020-03-08 05:04:42.296</td>\n",
              "      <td>0.0</td>\n",
              "      <td>NaT</td>\n",
              "    </tr>\n",
              "    <tr>\n",
              "      <th>3</th>\n",
              "      <td>1.174403e+20</td>\n",
              "      <td>0x80c2c778e3b73d33:0xbdc58662a4a97d49</td>\n",
              "      <td>5</td>\n",
              "      <td>2</td>\n",
              "      <td>2019-03-07 05:56:56.355</td>\n",
              "      <td>0.0</td>\n",
              "      <td>NaT</td>\n",
              "    </tr>\n",
              "    <tr>\n",
              "      <th>4</th>\n",
              "      <td>1.005808e+20</td>\n",
              "      <td>0x80c2c778e3b73d33:0xbdc58662a4a97d49</td>\n",
              "      <td>5</td>\n",
              "      <td>2</td>\n",
              "      <td>2017-05-16 05:01:41.933</td>\n",
              "      <td>0.0</td>\n",
              "      <td>NaT</td>\n",
              "    </tr>\n",
              "    <tr>\n",
              "      <th>...</th>\n",
              "      <td>...</td>\n",
              "      <td>...</td>\n",
              "      <td>...</td>\n",
              "      <td>...</td>\n",
              "      <td>...</td>\n",
              "      <td>...</td>\n",
              "      <td>...</td>\n",
              "    </tr>\n",
              "    <tr>\n",
              "      <th>2452767</th>\n",
              "      <td>1.091054e+20</td>\n",
              "      <td>0x880fce33edd16c7b:0x44e066027b82ad8d</td>\n",
              "      <td>4</td>\n",
              "      <td>0</td>\n",
              "      <td>2016-09-01 01:03:33.962</td>\n",
              "      <td>0.0</td>\n",
              "      <td>NaT</td>\n",
              "    </tr>\n",
              "    <tr>\n",
              "      <th>2452768</th>\n",
              "      <td>1.159805e+20</td>\n",
              "      <td>0x880fce33edd16c7b:0x44e066027b82ad8d</td>\n",
              "      <td>4</td>\n",
              "      <td>0</td>\n",
              "      <td>2017-07-26 19:09:52.414</td>\n",
              "      <td>0.0</td>\n",
              "      <td>NaT</td>\n",
              "    </tr>\n",
              "    <tr>\n",
              "      <th>2452769</th>\n",
              "      <td>1.159471e+20</td>\n",
              "      <td>0x880fce33edd16c7b:0x44e066027b82ad8d</td>\n",
              "      <td>4</td>\n",
              "      <td>0</td>\n",
              "      <td>2015-11-16 17:06:38.468</td>\n",
              "      <td>0.0</td>\n",
              "      <td>NaT</td>\n",
              "    </tr>\n",
              "    <tr>\n",
              "      <th>2452770</th>\n",
              "      <td>1.179236e+20</td>\n",
              "      <td>0x880fce33edd16c7b:0x44e066027b82ad8d</td>\n",
              "      <td>3</td>\n",
              "      <td>0</td>\n",
              "      <td>2016-10-06 10:41:33.492</td>\n",
              "      <td>0.0</td>\n",
              "      <td>NaT</td>\n",
              "    </tr>\n",
              "    <tr>\n",
              "      <th>2452771</th>\n",
              "      <td>1.170134e+20</td>\n",
              "      <td>0x880fce33edd16c7b:0x44e066027b82ad8d</td>\n",
              "      <td>2</td>\n",
              "      <td>0</td>\n",
              "      <td>2015-06-24 18:25:59.411</td>\n",
              "      <td>0.0</td>\n",
              "      <td>NaT</td>\n",
              "    </tr>\n",
              "  </tbody>\n",
              "</table>\n",
              "<p>2452772 rows × 7 columns</p>\n",
              "</div>"
            ],
            "text/plain": [
              "              user_id                                gmap_id  stars  \\\n",
              "0        1.089912e+20  0x80c2c778e3b73d33:0xbdc58662a4a97d49      5   \n",
              "1        1.112903e+20  0x80c2c778e3b73d33:0xbdc58662a4a97d49      5   \n",
              "2        1.126404e+20  0x80c2c778e3b73d33:0xbdc58662a4a97d49      4   \n",
              "3        1.174403e+20  0x80c2c778e3b73d33:0xbdc58662a4a97d49      5   \n",
              "4        1.005808e+20  0x80c2c778e3b73d33:0xbdc58662a4a97d49      5   \n",
              "...               ...                                    ...    ...   \n",
              "2452767  1.091054e+20  0x880fce33edd16c7b:0x44e066027b82ad8d      4   \n",
              "2452768  1.159805e+20  0x880fce33edd16c7b:0x44e066027b82ad8d      4   \n",
              "2452769  1.159471e+20  0x880fce33edd16c7b:0x44e066027b82ad8d      4   \n",
              "2452770  1.179236e+20  0x880fce33edd16c7b:0x44e066027b82ad8d      3   \n",
              "2452771  1.170134e+20  0x880fce33edd16c7b:0x44e066027b82ad8d      2   \n",
              "\n",
              "         sentiment                    date  resp_sentiment resp_date  \n",
              "0                2 2021-01-06 05:12:07.056             0.0       NaT  \n",
              "1                2 2021-02-09 05:47:28.663             0.0       NaT  \n",
              "2                0 2020-03-08 05:04:42.296             0.0       NaT  \n",
              "3                2 2019-03-07 05:56:56.355             0.0       NaT  \n",
              "4                2 2017-05-16 05:01:41.933             0.0       NaT  \n",
              "...            ...                     ...             ...       ...  \n",
              "2452767          0 2016-09-01 01:03:33.962             0.0       NaT  \n",
              "2452768          0 2017-07-26 19:09:52.414             0.0       NaT  \n",
              "2452769          0 2015-11-16 17:06:38.468             0.0       NaT  \n",
              "2452770          0 2016-10-06 10:41:33.492             0.0       NaT  \n",
              "2452771          0 2015-06-24 18:25:59.411             0.0       NaT  \n",
              "\n",
              "[2452772 rows x 7 columns]"
            ]
          },
          "execution_count": 24,
          "metadata": {},
          "output_type": "execute_result"
        }
      ],
      "source": [
        "revi_google.rename(columns={'resp_date': 'resp_date'}, inplace=True)\n",
        "revi_google.rename(columns={'sentiment_textblob_resp': 'resp_sentiment'}, inplace=True)\n",
        "revi_google.rename(columns={'time': 'date'}, inplace=True)\n",
        "revi_google.rename(columns={'rating': 'stars'}, inplace=True)\n",
        "revi_google = revi_google[['user_id','gmap_id','stars','sentiment','date','resp_sentiment','resp_date']]\n",
        "revi_google.reset_index(inplace=True)\n",
        "revi_google.drop(columns = ['index'], inplace= True)\n",
        "revi_google"
      ]
    },
    {
      "cell_type": "code",
      "execution_count": 25,
      "metadata": {},
      "outputs": [],
      "source": [
        "revi_google.to_parquet(r'..\\datasets\\processed\\bd\\reviews_google.parquet.gz')"
      ]
    }
  ],
  "metadata": {
    "colab": {
      "provenance": []
    },
    "kernelspec": {
      "display_name": "Python 3",
      "name": "python3"
    },
    "language_info": {
      "codemirror_mode": {
        "name": "ipython",
        "version": 3
      },
      "file_extension": ".py",
      "mimetype": "text/x-python",
      "name": "python",
      "nbconvert_exporter": "python",
      "pygments_lexer": "ipython3",
      "version": "3.11.6"
    }
  },
  "nbformat": 4,
  "nbformat_minor": 0
}
