{
  "cells": [
    {
      "cell_type": "code",
      "execution_count": 2,
      "metadata": {
        "id": "dy9Kk6PVk7Kl"
      },
      "outputs": [],
      "source": [
        "import pandas as pd\n",
        "import os\n",
        "import matplotlib.pyplot as plt\n",
        "import seaborn as sns\n",
        "import numpy as np\n"
      ]
    },
    {
      "cell_type": "markdown",
      "metadata": {},
      "source": [
        "## Cargar estados"
      ]
    },
    {
      "cell_type": "code",
      "execution_count": null,
      "metadata": {},
      "outputs": [],
      "source": [
        "## Lista con nombre de los estados\n",
        "# estados = []\n",
        "# ruta = '../datasets/raw/Google Maps/reviews-estados'\n",
        "# for estado in os.listdir(ruta):\n",
        "#         estado_path = os.path.join(ruta, estado)\n",
        "        \n",
        "#         if os.path.isdir(estado_path) and estado.startswith('review-'):\n",
        "#             nombre_estado = estado[len('review-'):]\n",
        "#             estados.append(nombre_estado)"
      ]
    },
    {
      "cell_type": "code",
      "execution_count": null,
      "metadata": {},
      "outputs": [],
      "source": [
        "# # Funcion para leer todos los json de una carpeta y unirlos en un datafram\n",
        "# def read_all_json(folder_ruth):\n",
        "#     dataframes = []\n",
        "#     for archivo_json in os.listdir(folder_ruth):\n",
        "#         if archivo_json.endswith('.json'):\n",
        "#             # Construye la ruta completa del archivo JSON\n",
        "#             ruta_archivo_json = os.path.join(folder_ruth, archivo_json)\n",
        "            \n",
        "#             # Lee el archivo JSON en un DataFrame\n",
        "#             df = pd.read_json(ruta_archivo_json,lines=True)\n",
        "            \n",
        "#             # Agrega el DataFrame a la lista\n",
        "#             dataframes.append(df)\n",
        "\n",
        "#     # Concatena todos los DataFrames en uno solo\n",
        "#     return pd.concat(dataframes, ignore_index=True)"
      ]
    },
    {
      "cell_type": "code",
      "execution_count": null,
      "metadata": {},
      "outputs": [],
      "source": [
        "# # Extraer la fecha del diccionario\n",
        "# def extraer_resp_time(diccionario):\n",
        "#     if diccionario is not None:\n",
        "#         return diccionario['time']\n",
        "#     else:\n",
        "#         return None\n",
        "\n",
        "# # Función para extraer 'resp_text'\n",
        "# def extraer_resp_text(diccionario):\n",
        "#     if diccionario is not None:\n",
        "#         return diccionario['text']\n",
        "#     else:\n",
        "#         return None\n",
        "    \n",
        "# #Transformo los formatos de time, extraigo time y texto de respuesta\n",
        "# def format_time(df):\n",
        "#     df['time'] =  pd.to_datetime(df['time'], unit='ms')\n",
        "#     df['resp_time'] = df['resp'].apply(extraer_resp_time)\n",
        "#     df['resp_time'] = pd.to_datetime(df['resp_time'], unit='ms')\n",
        "#     df['resp_text'] = df['resp'].apply(extraer_resp_text)\n",
        "#     df['resp_text'] = df['resp'].apply(extraer_resp_text)\n",
        "#     df.drop(columns=['resp'],inplace=True)"
      ]
    },
    {
      "cell_type": "code",
      "execution_count": null,
      "metadata": {},
      "outputs": [],
      "source": [
        "# for estado in estados:\n",
        "#     rutas = f'{ruta}/review-{estado}'\n",
        "#     df = read_all_json(rutas)\n",
        "#     format_time(df)\n",
        "#     df.to_parquet(f'./{rutas}/all_{estado}.parquet',index=False)"
      ]
    },
    {
      "cell_type": "markdown",
      "metadata": {},
      "source": [
        "## Reviews"
      ]
    },
    {
      "cell_type": "code",
      "execution_count": 2,
      "metadata": {},
      "outputs": [],
      "source": [
        "ruta ='../datasets/extras/Google Maps/reviews-estados'"
      ]
    },
    {
      "cell_type": "code",
      "execution_count": 4,
      "metadata": {
        "id": "QDWDr3R7-D-7"
      },
      "outputs": [],
      "source": [
        "metadata_google = pd.read_json('../datasets/extras/Google Maps/bussiness_google.json.gz', compression='gzip')\n"
      ]
    },
    {
      "cell_type": "markdown",
      "metadata": {},
      "source": [
        "## Carga de datos por criterio"
      ]
    },
    {
      "cell_type": "markdown",
      "metadata": {},
      "source": [
        "### Criterio: Lugar"
      ]
    },
    {
      "cell_type": "code",
      "execution_count": 5,
      "metadata": {
        "id": "gg3yKAmQlOmm"
      },
      "outputs": [],
      "source": [
        "# Discriminar por estado\n",
        "estados = ['California', 'New_Jersey', 'Florida', 'Illinois'] \n",
        "\n",
        "df_states = pd.DataFrame()\n",
        "\n",
        "for estado in estados:\n",
        "    ruta_archivo = f'{ruta}/review-{estado}/all_{estado}.parquet'\n",
        "    review_estado = pd.read_parquet(ruta_archivo)\n",
        "\n",
        "    # Agrega la columna 'state' con el valor del estado actual\n",
        "    review_estado['state'] = estado\n",
        "\n",
        "    df_states = pd.concat([df_states, review_estado], ignore_index=True)\n",
        "    \n",
        "# df_states ahora contiene la concatenación de todos los DataFrames de los diferentes estados, con la columna 'state' agregada\n"
      ]
    },
    {
      "cell_type": "markdown",
      "metadata": {},
      "source": [
        "Normalizo un estado"
      ]
    },
    {
      "cell_type": "code",
      "execution_count": 6,
      "metadata": {},
      "outputs": [],
      "source": [
        "df_states['state'].replace('New_Jersey','New Jersey',inplace=True)"
      ]
    },
    {
      "cell_type": "code",
      "execution_count": 7,
      "metadata": {
        "colab": {
          "base_uri": "https://localhost:8080/",
          "height": 650
        },
        "id": "flRXjJX0-bJ8",
        "outputId": "6b756db3-991d-430e-e4f9-889ba2d0159e"
      },
      "outputs": [
        {
          "data": {
            "text/html": [
              "<div>\n",
              "<style scoped>\n",
              "    .dataframe tbody tr th:only-of-type {\n",
              "        vertical-align: middle;\n",
              "    }\n",
              "\n",
              "    .dataframe tbody tr th {\n",
              "        vertical-align: top;\n",
              "    }\n",
              "\n",
              "    .dataframe thead th {\n",
              "        text-align: right;\n",
              "    }\n",
              "</style>\n",
              "<table border=\"1\" class=\"dataframe\">\n",
              "  <thead>\n",
              "    <tr style=\"text-align: right;\">\n",
              "      <th></th>\n",
              "      <th>user_id</th>\n",
              "      <th>name</th>\n",
              "      <th>time</th>\n",
              "      <th>rating</th>\n",
              "      <th>text</th>\n",
              "      <th>pics</th>\n",
              "      <th>gmap_id</th>\n",
              "      <th>resp_time</th>\n",
              "      <th>resp_text</th>\n",
              "      <th>state</th>\n",
              "    </tr>\n",
              "  </thead>\n",
              "  <tbody>\n",
              "    <tr>\n",
              "      <th>0</th>\n",
              "      <td>1.089912e+20</td>\n",
              "      <td>Song Ro</td>\n",
              "      <td>2021-01-06 05:12:07.056</td>\n",
              "      <td>5</td>\n",
              "      <td>Love there korean rice cake.</td>\n",
              "      <td>None</td>\n",
              "      <td>0x80c2c778e3b73d33:0xbdc58662a4a97d49</td>\n",
              "      <td>NaT</td>\n",
              "      <td>None</td>\n",
              "      <td>California</td>\n",
              "    </tr>\n",
              "    <tr>\n",
              "      <th>1</th>\n",
              "      <td>1.112903e+20</td>\n",
              "      <td>Rafa Robles</td>\n",
              "      <td>2021-02-09 05:47:28.663</td>\n",
              "      <td>5</td>\n",
              "      <td>Good very good</td>\n",
              "      <td>None</td>\n",
              "      <td>0x80c2c778e3b73d33:0xbdc58662a4a97d49</td>\n",
              "      <td>NaT</td>\n",
              "      <td>None</td>\n",
              "      <td>California</td>\n",
              "    </tr>\n",
              "    <tr>\n",
              "      <th>2</th>\n",
              "      <td>1.126404e+20</td>\n",
              "      <td>David Han</td>\n",
              "      <td>2020-03-08 05:04:42.296</td>\n",
              "      <td>4</td>\n",
              "      <td>They make Korean traditional food very properly.</td>\n",
              "      <td>None</td>\n",
              "      <td>0x80c2c778e3b73d33:0xbdc58662a4a97d49</td>\n",
              "      <td>NaT</td>\n",
              "      <td>None</td>\n",
              "      <td>California</td>\n",
              "    </tr>\n",
              "    <tr>\n",
              "      <th>3</th>\n",
              "      <td>1.174403e+20</td>\n",
              "      <td>Anthony Kim</td>\n",
              "      <td>2019-03-07 05:56:56.355</td>\n",
              "      <td>5</td>\n",
              "      <td>Short ribs are very delicious.</td>\n",
              "      <td>None</td>\n",
              "      <td>0x80c2c778e3b73d33:0xbdc58662a4a97d49</td>\n",
              "      <td>NaT</td>\n",
              "      <td>None</td>\n",
              "      <td>California</td>\n",
              "    </tr>\n",
              "    <tr>\n",
              "      <th>4</th>\n",
              "      <td>1.005808e+20</td>\n",
              "      <td>Mario Marzouk</td>\n",
              "      <td>2017-05-16 05:01:41.933</td>\n",
              "      <td>5</td>\n",
              "      <td>Great food and prices the portions are large</td>\n",
              "      <td>None</td>\n",
              "      <td>0x80c2c778e3b73d33:0xbdc58662a4a97d49</td>\n",
              "      <td>NaT</td>\n",
              "      <td>None</td>\n",
              "      <td>California</td>\n",
              "    </tr>\n",
              "  </tbody>\n",
              "</table>\n",
              "</div>"
            ],
            "text/plain": [
              "        user_id           name                    time  rating  \\\n",
              "0  1.089912e+20        Song Ro 2021-01-06 05:12:07.056       5   \n",
              "1  1.112903e+20    Rafa Robles 2021-02-09 05:47:28.663       5   \n",
              "2  1.126404e+20      David Han 2020-03-08 05:04:42.296       4   \n",
              "3  1.174403e+20    Anthony Kim 2019-03-07 05:56:56.355       5   \n",
              "4  1.005808e+20  Mario Marzouk 2017-05-16 05:01:41.933       5   \n",
              "\n",
              "                                               text  pics  \\\n",
              "0                      Love there korean rice cake.  None   \n",
              "1                                    Good very good  None   \n",
              "2  They make Korean traditional food very properly.  None   \n",
              "3                    Short ribs are very delicious.  None   \n",
              "4      Great food and prices the portions are large  None   \n",
              "\n",
              "                                 gmap_id resp_time resp_text       state  \n",
              "0  0x80c2c778e3b73d33:0xbdc58662a4a97d49       NaT      None  California  \n",
              "1  0x80c2c778e3b73d33:0xbdc58662a4a97d49       NaT      None  California  \n",
              "2  0x80c2c778e3b73d33:0xbdc58662a4a97d49       NaT      None  California  \n",
              "3  0x80c2c778e3b73d33:0xbdc58662a4a97d49       NaT      None  California  \n",
              "4  0x80c2c778e3b73d33:0xbdc58662a4a97d49       NaT      None  California  "
            ]
          },
          "execution_count": 7,
          "metadata": {},
          "output_type": "execute_result"
        }
      ],
      "source": [
        "df_states.head()"
      ]
    },
    {
      "cell_type": "code",
      "execution_count": 8,
      "metadata": {
        "id": "S15KWUOLmXxl"
      },
      "outputs": [],
      "source": [
        "# Elimino duplicados en user_id time y gmap_id en conjunto\n",
        "df_states.drop_duplicates(subset=['user_id','time','gmap_id'],inplace=True)"
      ]
    },
    {
      "cell_type": "code",
      "execution_count": 9,
      "metadata": {
        "id": "zpnTTBQlmZFd"
      },
      "outputs": [],
      "source": [
        "# Elimino la columna pics que no sera usada\n",
        "df_states.drop(columns='pics',inplace=True)\n"
      ]
    },
    {
      "cell_type": "code",
      "execution_count": 10,
      "metadata": {
        "colab": {
          "base_uri": "https://localhost:8080/",
          "height": 397
        },
        "id": "4WO-Tu9Gmah1",
        "outputId": "1da8c361-b29c-41e4-80eb-4be510dc1f52"
      },
      "outputs": [
        {
          "data": {
            "text/html": [
              "<div>\n",
              "<style scoped>\n",
              "    .dataframe tbody tr th:only-of-type {\n",
              "        vertical-align: middle;\n",
              "    }\n",
              "\n",
              "    .dataframe tbody tr th {\n",
              "        vertical-align: top;\n",
              "    }\n",
              "\n",
              "    .dataframe thead th {\n",
              "        text-align: right;\n",
              "    }\n",
              "</style>\n",
              "<table border=\"1\" class=\"dataframe\">\n",
              "  <thead>\n",
              "    <tr style=\"text-align: right;\">\n",
              "      <th></th>\n",
              "      <th>user_id</th>\n",
              "      <th>name</th>\n",
              "      <th>time</th>\n",
              "      <th>rating</th>\n",
              "      <th>text</th>\n",
              "      <th>gmap_id</th>\n",
              "      <th>resp_time</th>\n",
              "      <th>resp_text</th>\n",
              "      <th>state</th>\n",
              "    </tr>\n",
              "  </thead>\n",
              "  <tbody>\n",
              "    <tr>\n",
              "      <th>2459354</th>\n",
              "      <td>1.034779e+20</td>\n",
              "      <td>Ana Valle</td>\n",
              "      <td>2019-10-10 23:59:40.769</td>\n",
              "      <td>5</td>\n",
              "      <td>(Translated by Google) I like this place have ...</td>\n",
              "      <td>0x80e82ec37754481b:0x66c5961ba0625ea7</td>\n",
              "      <td>NaT</td>\n",
              "      <td>None</td>\n",
              "      <td>California</td>\n",
              "    </tr>\n",
              "    <tr>\n",
              "      <th>7984741</th>\n",
              "      <td>1.094072e+20</td>\n",
              "      <td>Odis Smith</td>\n",
              "      <td>2018-10-04 11:01:59.665</td>\n",
              "      <td>4</td>\n",
              "      <td>None</td>\n",
              "      <td>0x880a593e42498265:0xe49c910a373455e8</td>\n",
              "      <td>NaT</td>\n",
              "      <td>None</td>\n",
              "      <td>Illinois</td>\n",
              "    </tr>\n",
              "    <tr>\n",
              "      <th>5810281</th>\n",
              "      <td>1.093965e+20</td>\n",
              "      <td>Josefina Henselin</td>\n",
              "      <td>2017-06-09 17:53:28.812</td>\n",
              "      <td>4</td>\n",
              "      <td>None</td>\n",
              "      <td>0x88c346b0c5072b23:0xa1a95257aa500860</td>\n",
              "      <td>NaT</td>\n",
              "      <td>None</td>\n",
              "      <td>Florida</td>\n",
              "    </tr>\n",
              "    <tr>\n",
              "      <th>813297</th>\n",
              "      <td>1.174488e+20</td>\n",
              "      <td>Srikanth G</td>\n",
              "      <td>2018-11-10 07:24:30.755</td>\n",
              "      <td>3</td>\n",
              "      <td>None</td>\n",
              "      <td>0x80c2d908d8426e4f:0x73be050fc7c64ee0</td>\n",
              "      <td>NaT</td>\n",
              "      <td>None</td>\n",
              "      <td>California</td>\n",
              "    </tr>\n",
              "    <tr>\n",
              "      <th>3592396</th>\n",
              "      <td>1.171429e+20</td>\n",
              "      <td>Amanda Yuan</td>\n",
              "      <td>2018-02-11 18:00:12.984</td>\n",
              "      <td>2</td>\n",
              "      <td>2 star rating for willful ignorance of their c...</td>\n",
              "      <td>0x89c3c80ca0f247fb:0x2b41241bafa7df44</td>\n",
              "      <td>NaT</td>\n",
              "      <td>None</td>\n",
              "      <td>New Jersey</td>\n",
              "    </tr>\n",
              "  </tbody>\n",
              "</table>\n",
              "</div>"
            ],
            "text/plain": [
              "              user_id               name                    time  rating  \\\n",
              "2459354  1.034779e+20          Ana Valle 2019-10-10 23:59:40.769       5   \n",
              "7984741  1.094072e+20         Odis Smith 2018-10-04 11:01:59.665       4   \n",
              "5810281  1.093965e+20  Josefina Henselin 2017-06-09 17:53:28.812       4   \n",
              "813297   1.174488e+20         Srikanth G 2018-11-10 07:24:30.755       3   \n",
              "3592396  1.171429e+20        Amanda Yuan 2018-02-11 18:00:12.984       2   \n",
              "\n",
              "                                                      text  \\\n",
              "2459354  (Translated by Google) I like this place have ...   \n",
              "7984741                                               None   \n",
              "5810281                                               None   \n",
              "813297                                                None   \n",
              "3592396  2 star rating for willful ignorance of their c...   \n",
              "\n",
              "                                       gmap_id resp_time resp_text       state  \n",
              "2459354  0x80e82ec37754481b:0x66c5961ba0625ea7       NaT      None  California  \n",
              "7984741  0x880a593e42498265:0xe49c910a373455e8       NaT      None    Illinois  \n",
              "5810281  0x88c346b0c5072b23:0xa1a95257aa500860       NaT      None     Florida  \n",
              "813297   0x80c2d908d8426e4f:0x73be050fc7c64ee0       NaT      None  California  \n",
              "3592396  0x89c3c80ca0f247fb:0x2b41241bafa7df44       NaT      None  New Jersey  "
            ]
          },
          "execution_count": 10,
          "metadata": {},
          "output_type": "execute_result"
        }
      ],
      "source": [
        "df_states.sample(5)"
      ]
    },
    {
      "cell_type": "markdown",
      "metadata": {},
      "source": [
        "### Criterio: Tiempo"
      ]
    },
    {
      "cell_type": "code",
      "execution_count": null,
      "metadata": {},
      "outputs": [],
      "source": [
        "# Convertir la columna 'time' a tipo datetime\n",
        "df_states['time'] = pd.to_datetime(df_states['time'])\n",
        "\n",
        "# Filtrar los datos por año desde 2015 inclusive en adelante\n",
        "df_filtered = df_states[df_states['time'].dt.year >= 2015]\n",
        "\n",
        "# Eliminar las milésimas de segundo de la columna 'time'\n",
        "df_filtered['time'] = df_filtered['time'].dt.strftime('%Y-%m-%d %H:%M:%S')"
      ]
    },
    {
      "cell_type": "code",
      "execution_count": null,
      "metadata": {},
      "outputs": [],
      "source": [
        "# Renombrar columna de tiempo de respuesta\n",
        "df_states.rename(columns={'resp_time':'resp_date'},inplace=True)\n",
        "df_states.rename(columns={'stars':'rating'},inplace=True)"
      ]
    },
    {
      "cell_type": "markdown",
      "metadata": {
        "id": "ahxs9UOnEe1I"
      },
      "source": [
        "### Criterio: Rubro"
      ]
    },
    {
      "cell_type": "code",
      "execution_count": 13,
      "metadata": {
        "colab": {
          "base_uri": "https://localhost:8080/",
          "height": 424
        },
        "id": "AlY8UMJaJlo6",
        "outputId": "bd6fc81b-f4ea-4bb3-ef94-e542de457c81"
      },
      "outputs": [
        {
          "data": {
            "text/html": [
              "<div>\n",
              "<style scoped>\n",
              "    .dataframe tbody tr th:only-of-type {\n",
              "        vertical-align: middle;\n",
              "    }\n",
              "\n",
              "    .dataframe tbody tr th {\n",
              "        vertical-align: top;\n",
              "    }\n",
              "\n",
              "    .dataframe thead th {\n",
              "        text-align: right;\n",
              "    }\n",
              "</style>\n",
              "<table border=\"1\" class=\"dataframe\">\n",
              "  <thead>\n",
              "    <tr style=\"text-align: right;\">\n",
              "      <th></th>\n",
              "      <th>gmap_id</th>\n",
              "      <th>category</th>\n",
              "    </tr>\n",
              "  </thead>\n",
              "  <tbody>\n",
              "    <tr>\n",
              "      <th>4</th>\n",
              "      <td>0x88db4147b1d9e6f3:0x943dbd10a92ba1b1</td>\n",
              "      <td>['Restaurant']</td>\n",
              "    </tr>\n",
              "    <tr>\n",
              "      <th>5</th>\n",
              "      <td>0x88c2e4e34f1ed783:0x76c5da381c499d79</td>\n",
              "      <td>['Buffet restaurant']</td>\n",
              "    </tr>\n",
              "    <tr>\n",
              "      <th>46</th>\n",
              "      <td>0x8890b9241e704667:0x3a1e565c17c00993</td>\n",
              "      <td>['Restaurant']</td>\n",
              "    </tr>\n",
              "    <tr>\n",
              "      <th>81</th>\n",
              "      <td>0x88e635378f43352f:0xa1b53c63436fa428</td>\n",
              "      <td>['Gas station' 'ATM' 'Convenience store' 'Rest...</td>\n",
              "    </tr>\n",
              "    <tr>\n",
              "      <th>156</th>\n",
              "      <td>0x88d9ab98b5baad79:0x1a2e3f0642a55246</td>\n",
              "      <td>['Mexican restaurant']</td>\n",
              "    </tr>\n",
              "    <tr>\n",
              "      <th>...</th>\n",
              "      <td>...</td>\n",
              "      <td>...</td>\n",
              "    </tr>\n",
              "    <tr>\n",
              "      <th>693466</th>\n",
              "      <td>0x89c3b2b8e9c8c357:0xb1b07826ef85a598</td>\n",
              "      <td>['Bar' 'Italian restaurant' 'Pub' 'Restaurant']</td>\n",
              "    </tr>\n",
              "    <tr>\n",
              "      <th>693471</th>\n",
              "      <td>0x89c24d60acc3ffff:0xc8048546518281f6</td>\n",
              "      <td>['Restaurant' 'Family restaurant']</td>\n",
              "    </tr>\n",
              "    <tr>\n",
              "      <th>693475</th>\n",
              "      <td>0x89c24d7a198a3541:0x3dcb8f429c053248</td>\n",
              "      <td>['American restaurant']</td>\n",
              "    </tr>\n",
              "    <tr>\n",
              "      <th>693478</th>\n",
              "      <td>0x89c3b290dcc12d6d:0x34ad59938efed577</td>\n",
              "      <td>['Latin American restaurant' 'Mexican restaura...</td>\n",
              "    </tr>\n",
              "    <tr>\n",
              "      <th>693485</th>\n",
              "      <td>0x89c17b3b65b4680d:0x40a43d960a97a0</td>\n",
              "      <td>['Pizza restaurant' 'Italian restaurant' 'Pizz...</td>\n",
              "    </tr>\n",
              "  </tbody>\n",
              "</table>\n",
              "<p>54906 rows × 2 columns</p>\n",
              "</div>"
            ],
            "text/plain": [
              "                                      gmap_id  \\\n",
              "4       0x88db4147b1d9e6f3:0x943dbd10a92ba1b1   \n",
              "5       0x88c2e4e34f1ed783:0x76c5da381c499d79   \n",
              "46      0x8890b9241e704667:0x3a1e565c17c00993   \n",
              "81      0x88e635378f43352f:0xa1b53c63436fa428   \n",
              "156     0x88d9ab98b5baad79:0x1a2e3f0642a55246   \n",
              "...                                       ...   \n",
              "693466  0x89c3b2b8e9c8c357:0xb1b07826ef85a598   \n",
              "693471  0x89c24d60acc3ffff:0xc8048546518281f6   \n",
              "693475  0x89c24d7a198a3541:0x3dcb8f429c053248   \n",
              "693478  0x89c3b290dcc12d6d:0x34ad59938efed577   \n",
              "693485    0x89c17b3b65b4680d:0x40a43d960a97a0   \n",
              "\n",
              "                                                 category  \n",
              "4                                          ['Restaurant']  \n",
              "5                                   ['Buffet restaurant']  \n",
              "46                                         ['Restaurant']  \n",
              "81      ['Gas station' 'ATM' 'Convenience store' 'Rest...  \n",
              "156                                ['Mexican restaurant']  \n",
              "...                                                   ...  \n",
              "693466    ['Bar' 'Italian restaurant' 'Pub' 'Restaurant']  \n",
              "693471                 ['Restaurant' 'Family restaurant']  \n",
              "693475                            ['American restaurant']  \n",
              "693478  ['Latin American restaurant' 'Mexican restaura...  \n",
              "693485  ['Pizza restaurant' 'Italian restaurant' 'Pizz...  \n",
              "\n",
              "[54906 rows x 2 columns]"
            ]
          },
          "execution_count": 13,
          "metadata": {},
          "output_type": "execute_result"
        }
      ],
      "source": [
        "metadata_google[['gmap_id','category']]"
      ]
    },
    {
      "cell_type": "markdown",
      "metadata": {},
      "source": [
        "Encuentro las review que por gmap_id pertenezcan a los locales de restaurante."
      ]
    },
    {
      "cell_type": "code",
      "execution_count": 14,
      "metadata": {
        "id": "aVr3ptyBJvra"
      },
      "outputs": [],
      "source": [
        "df_states = df_states[df_states['gmap_id'].isin(metadata_google['gmap_id'])]"
      ]
    },
    {
      "cell_type": "markdown",
      "metadata": {},
      "source": [
        "## Analisis de sentimiento usando TextBlob"
      ]
    },
    {
      "cell_type": "code",
      "execution_count": 15,
      "metadata": {
        "id": "AUu6cCxDRun0"
      },
      "outputs": [],
      "source": [
        "from textblob import TextBlob"
      ]
    },
    {
      "cell_type": "code",
      "execution_count": 20,
      "metadata": {
        "id": "5CF_M6_nqgqq"
      },
      "outputs": [],
      "source": [
        "df_states['sentiment_textblob'] = df_states['text'].apply(lambda x:0 if x is None else TextBlob(x).sentiment.polarity)\n",
        "df_states['sentiment_textblob_resp'] = df_states['resp_text'].apply(lambda x:0 if x is None else TextBlob(x).sentiment.polarity)"
      ]
    },
    {
      "cell_type": "markdown",
      "metadata": {},
      "source": [
        "Exploro y comparo ratings con score del sentimiento"
      ]
    },
    {
      "cell_type": "code",
      "execution_count": 22,
      "metadata": {
        "colab": {
          "base_uri": "https://localhost:8080/",
          "height": 643
        },
        "id": "JxGs2xrm3eQv",
        "outputId": "143b9896-9765-4360-f206-c7adc7b29f7a"
      },
      "outputs": [
        {
          "data": {
            "text/html": [
              "<div>\n",
              "<style scoped>\n",
              "    .dataframe tbody tr th:only-of-type {\n",
              "        vertical-align: middle;\n",
              "    }\n",
              "\n",
              "    .dataframe tbody tr th {\n",
              "        vertical-align: top;\n",
              "    }\n",
              "\n",
              "    .dataframe thead th {\n",
              "        text-align: right;\n",
              "    }\n",
              "</style>\n",
              "<table border=\"1\" class=\"dataframe\">\n",
              "  <thead>\n",
              "    <tr style=\"text-align: right;\">\n",
              "      <th></th>\n",
              "      <th>user_id</th>\n",
              "      <th>name</th>\n",
              "      <th>time</th>\n",
              "      <th>rating</th>\n",
              "      <th>text</th>\n",
              "      <th>gmap_id</th>\n",
              "      <th>resp_date</th>\n",
              "      <th>resp_text</th>\n",
              "      <th>state</th>\n",
              "      <th>sentiment_textblob</th>\n",
              "      <th>sentiment_textblob_resp</th>\n",
              "    </tr>\n",
              "  </thead>\n",
              "  <tbody>\n",
              "    <tr>\n",
              "      <th>8678323</th>\n",
              "      <td>1.101953e+20</td>\n",
              "      <td>Helene Davis</td>\n",
              "      <td>2017-07-02 17:58:48.378</td>\n",
              "      <td>3</td>\n",
              "      <td>The service was fine, but the ladies washroom ...</td>\n",
              "      <td>0x880e2ca33bc9165f:0xf896be6b8d2ff3cd</td>\n",
              "      <td>NaT</td>\n",
              "      <td>None</td>\n",
              "      <td>Illinois</td>\n",
              "      <td>-0.291667</td>\n",
              "      <td>0.000000</td>\n",
              "    </tr>\n",
              "    <tr>\n",
              "      <th>5300582</th>\n",
              "      <td>1.145666e+20</td>\n",
              "      <td>Shaunna Echols</td>\n",
              "      <td>2019-09-08 22:00:23.408</td>\n",
              "      <td>1</td>\n",
              "      <td>These are some rude people</td>\n",
              "      <td>0x88dd369955ca35eb:0x6420c3f954070ee6</td>\n",
              "      <td>NaT</td>\n",
              "      <td>None</td>\n",
              "      <td>Florida</td>\n",
              "      <td>-0.300000</td>\n",
              "      <td>0.000000</td>\n",
              "    </tr>\n",
              "    <tr>\n",
              "      <th>7079223</th>\n",
              "      <td>1.052100e+20</td>\n",
              "      <td>Isabel Aponte</td>\n",
              "      <td>2021-01-05 23:13:49.795</td>\n",
              "      <td>3</td>\n",
              "      <td>It's ok but pricey. The empanadas were horribl...</td>\n",
              "      <td>0x88d9e93dda20de97:0x58e6173111978897</td>\n",
              "      <td>2021-01-13 17:07:15.694000128</td>\n",
              "      <td>Isabel, we are sorry that you are not satisfie...</td>\n",
              "      <td>Florida</td>\n",
              "      <td>-0.250000</td>\n",
              "      <td>-0.116667</td>\n",
              "    </tr>\n",
              "    <tr>\n",
              "      <th>91967</th>\n",
              "      <td>1.039254e+20</td>\n",
              "      <td>Angel Aguilar</td>\n",
              "      <td>2018-05-07 19:41:48.395</td>\n",
              "      <td>1</td>\n",
              "      <td>Terrible food, no exaggerations, the worst foo...</td>\n",
              "      <td>0x80dd2ca341325461:0x5e8239729c81365d</td>\n",
              "      <td>NaT</td>\n",
              "      <td>None</td>\n",
              "      <td>California</td>\n",
              "      <td>-1.000000</td>\n",
              "      <td>0.000000</td>\n",
              "    </tr>\n",
              "    <tr>\n",
              "      <th>9339379</th>\n",
              "      <td>1.016224e+20</td>\n",
              "      <td>Robert Ryan</td>\n",
              "      <td>2019-10-07 20:57:33.755</td>\n",
              "      <td>3</td>\n",
              "      <td>Kijnd of disappointed but friendly very busy</td>\n",
              "      <td>0x87d8a9e0e7e57579:0xbe266890af621b96</td>\n",
              "      <td>NaT</td>\n",
              "      <td>None</td>\n",
              "      <td>Illinois</td>\n",
              "      <td>-0.081667</td>\n",
              "      <td>0.000000</td>\n",
              "    </tr>\n",
              "  </tbody>\n",
              "</table>\n",
              "</div>"
            ],
            "text/plain": [
              "              user_id            name                    time  rating  \\\n",
              "8678323  1.101953e+20    Helene Davis 2017-07-02 17:58:48.378       3   \n",
              "5300582  1.145666e+20  Shaunna Echols 2019-09-08 22:00:23.408       1   \n",
              "7079223  1.052100e+20   Isabel Aponte 2021-01-05 23:13:49.795       3   \n",
              "91967    1.039254e+20   Angel Aguilar 2018-05-07 19:41:48.395       1   \n",
              "9339379  1.016224e+20     Robert Ryan 2019-10-07 20:57:33.755       3   \n",
              "\n",
              "                                                      text  \\\n",
              "8678323  The service was fine, but the ladies washroom ...   \n",
              "5300582                         These are some rude people   \n",
              "7079223  It's ok but pricey. The empanadas were horribl...   \n",
              "91967    Terrible food, no exaggerations, the worst foo...   \n",
              "9339379       Kijnd of disappointed but friendly very busy   \n",
              "\n",
              "                                       gmap_id                     resp_date  \\\n",
              "8678323  0x880e2ca33bc9165f:0xf896be6b8d2ff3cd                           NaT   \n",
              "5300582  0x88dd369955ca35eb:0x6420c3f954070ee6                           NaT   \n",
              "7079223  0x88d9e93dda20de97:0x58e6173111978897 2021-01-13 17:07:15.694000128   \n",
              "91967    0x80dd2ca341325461:0x5e8239729c81365d                           NaT   \n",
              "9339379  0x87d8a9e0e7e57579:0xbe266890af621b96                           NaT   \n",
              "\n",
              "                                                 resp_text       state  \\\n",
              "8678323                                               None    Illinois   \n",
              "5300582                                               None     Florida   \n",
              "7079223  Isabel, we are sorry that you are not satisfie...     Florida   \n",
              "91967                                                 None  California   \n",
              "9339379                                               None    Illinois   \n",
              "\n",
              "         sentiment_textblob  sentiment_textblob_resp  \n",
              "8678323           -0.291667                 0.000000  \n",
              "5300582           -0.300000                 0.000000  \n",
              "7079223           -0.250000                -0.116667  \n",
              "91967             -1.000000                 0.000000  \n",
              "9339379           -0.081667                 0.000000  "
            ]
          },
          "execution_count": 22,
          "metadata": {},
          "output_type": "execute_result"
        }
      ],
      "source": [
        "df_states[df_states['sentiment_textblob']<0].sample(5)"
      ]
    },
    {
      "cell_type": "markdown",
      "metadata": {},
      "source": [
        "### Criterio de sentiment\n",
        "\n",
        "Voy a generar el criterio que en el sentimiento se obtenga un valor cuantificable mas real, normalizando el ranting y sumandole al socre"
      ]
    },
    {
      "cell_type": "code",
      "execution_count": 23,
      "metadata": {
        "id": "xmoijqRaU2X_"
      },
      "outputs": [],
      "source": [
        "df_states['sentiment'] = df_states['rating'] / 5. + df_states['sentiment_textblob']"
      ]
    },
    {
      "cell_type": "markdown",
      "metadata": {},
      "source": [
        "### En base al valor obtenido defino el criterio para score ponderado <br>\n",
        " mayor a 1.5 en un sentimiento muy bueno y asigno 2, <br>\n",
        " mayor a 1 y menor a 1.5 en un sentimiento bueno y asigno 1,<br>\n",
        " menor a 0.3 es un score negativo y asigno -1,<br>\n",
        " entre 1 y 0.3 es un score neutro y asigno 0"
      ]
    },
    {
      "cell_type": "code",
      "execution_count": 25,
      "metadata": {
        "id": "o2ihqdv-WtTZ"
      },
      "outputs": [],
      "source": [
        "df_states['sentiment'] = df_states['sentiment'].apply(lambda x: 2 if x >= 1.5 else (1 if x >= 1 else (-1 if x <= 0.3 else 0)))\n"
      ]
    },
    {
      "cell_type": "code",
      "execution_count": 27,
      "metadata": {
        "id": "31VEMULkX7E3"
      },
      "outputs": [],
      "source": [
        "# Elimino las columnas que ya no se usan debido al analisis de sentimiento\n",
        "df_states.drop(columns=['sentiment_textblob','text','resp_text', 'state'],inplace=True)"
      ]
    },
    {
      "cell_type": "code",
      "execution_count": null,
      "metadata": {},
      "outputs": [],
      "source": [
        "# Crear la columna 'review_id'\n",
        "df_states['review_id'] = range(len(df_filtered))\n",
        "\n",
        "# Reorganizar las columnas\n",
        "df_states = df_states[['review_id', 'user_id', 'gmap_id', 'stars', 'sentiment', 'time', 'sentiment_resp', 'resp_time']]"
      ]
    },
    {
      "cell_type": "code",
      "execution_count": 28,
      "metadata": {
        "colab": {
          "base_uri": "https://localhost:8080/",
          "height": 293
        },
        "id": "TlqzP_Gdblc3",
        "outputId": "d9d28cec-7e1c-4dce-9890-1251b59719ea"
      },
      "outputs": [
        {
          "data": {
            "text/html": [
              "<div>\n",
              "<style scoped>\n",
              "    .dataframe tbody tr th:only-of-type {\n",
              "        vertical-align: middle;\n",
              "    }\n",
              "\n",
              "    .dataframe tbody tr th {\n",
              "        vertical-align: top;\n",
              "    }\n",
              "\n",
              "    .dataframe thead th {\n",
              "        text-align: right;\n",
              "    }\n",
              "</style>\n",
              "<table border=\"1\" class=\"dataframe\">\n",
              "  <thead>\n",
              "    <tr style=\"text-align: right;\">\n",
              "      <th></th>\n",
              "      <th>user_id</th>\n",
              "      <th>name</th>\n",
              "      <th>time</th>\n",
              "      <th>rating</th>\n",
              "      <th>gmap_id</th>\n",
              "      <th>resp_date</th>\n",
              "      <th>state</th>\n",
              "      <th>sentiment_textblob_resp</th>\n",
              "      <th>sentiment</th>\n",
              "    </tr>\n",
              "  </thead>\n",
              "  <tbody>\n",
              "    <tr>\n",
              "      <th>0</th>\n",
              "      <td>1.089912e+20</td>\n",
              "      <td>Song Ro</td>\n",
              "      <td>2021-01-06 05:12:07.056</td>\n",
              "      <td>5</td>\n",
              "      <td>0x80c2c778e3b73d33:0xbdc58662a4a97d49</td>\n",
              "      <td>NaT</td>\n",
              "      <td>California</td>\n",
              "      <td>0.0</td>\n",
              "      <td>2</td>\n",
              "    </tr>\n",
              "    <tr>\n",
              "      <th>1</th>\n",
              "      <td>1.112903e+20</td>\n",
              "      <td>Rafa Robles</td>\n",
              "      <td>2021-02-09 05:47:28.663</td>\n",
              "      <td>5</td>\n",
              "      <td>0x80c2c778e3b73d33:0xbdc58662a4a97d49</td>\n",
              "      <td>NaT</td>\n",
              "      <td>California</td>\n",
              "      <td>0.0</td>\n",
              "      <td>2</td>\n",
              "    </tr>\n",
              "    <tr>\n",
              "      <th>2</th>\n",
              "      <td>1.126404e+20</td>\n",
              "      <td>David Han</td>\n",
              "      <td>2020-03-08 05:04:42.296</td>\n",
              "      <td>4</td>\n",
              "      <td>0x80c2c778e3b73d33:0xbdc58662a4a97d49</td>\n",
              "      <td>NaT</td>\n",
              "      <td>California</td>\n",
              "      <td>0.0</td>\n",
              "      <td>0</td>\n",
              "    </tr>\n",
              "    <tr>\n",
              "      <th>3</th>\n",
              "      <td>1.174403e+20</td>\n",
              "      <td>Anthony Kim</td>\n",
              "      <td>2019-03-07 05:56:56.355</td>\n",
              "      <td>5</td>\n",
              "      <td>0x80c2c778e3b73d33:0xbdc58662a4a97d49</td>\n",
              "      <td>NaT</td>\n",
              "      <td>California</td>\n",
              "      <td>0.0</td>\n",
              "      <td>2</td>\n",
              "    </tr>\n",
              "    <tr>\n",
              "      <th>4</th>\n",
              "      <td>1.005808e+20</td>\n",
              "      <td>Mario Marzouk</td>\n",
              "      <td>2017-05-16 05:01:41.933</td>\n",
              "      <td>5</td>\n",
              "      <td>0x80c2c778e3b73d33:0xbdc58662a4a97d49</td>\n",
              "      <td>NaT</td>\n",
              "      <td>California</td>\n",
              "      <td>0.0</td>\n",
              "      <td>2</td>\n",
              "    </tr>\n",
              "  </tbody>\n",
              "</table>\n",
              "</div>"
            ],
            "text/plain": [
              "        user_id           name                    time  rating  \\\n",
              "0  1.089912e+20        Song Ro 2021-01-06 05:12:07.056       5   \n",
              "1  1.112903e+20    Rafa Robles 2021-02-09 05:47:28.663       5   \n",
              "2  1.126404e+20      David Han 2020-03-08 05:04:42.296       4   \n",
              "3  1.174403e+20    Anthony Kim 2019-03-07 05:56:56.355       5   \n",
              "4  1.005808e+20  Mario Marzouk 2017-05-16 05:01:41.933       5   \n",
              "\n",
              "                                 gmap_id resp_date       state  \\\n",
              "0  0x80c2c778e3b73d33:0xbdc58662a4a97d49       NaT  California   \n",
              "1  0x80c2c778e3b73d33:0xbdc58662a4a97d49       NaT  California   \n",
              "2  0x80c2c778e3b73d33:0xbdc58662a4a97d49       NaT  California   \n",
              "3  0x80c2c778e3b73d33:0xbdc58662a4a97d49       NaT  California   \n",
              "4  0x80c2c778e3b73d33:0xbdc58662a4a97d49       NaT  California   \n",
              "\n",
              "   sentiment_textblob_resp  sentiment  \n",
              "0                      0.0          2  \n",
              "1                      0.0          2  \n",
              "2                      0.0          0  \n",
              "3                      0.0          2  \n",
              "4                      0.0          2  "
            ]
          },
          "execution_count": 28,
          "metadata": {},
          "output_type": "execute_result"
        }
      ],
      "source": [
        "df_states.head(1)"
      ]
    },
    {
      "cell_type": "markdown",
      "metadata": {},
      "source": [
        "### Por último exporto el dataset a parquet particionado por estados"
      ]
    },
    {
      "cell_type": "code",
      "execution_count": 29,
      "metadata": {
        "id": "5AJ7VHPeXXg4"
      },
      "outputs": [],
      "source": [
        "df_states.to_parquet('../datasets/processed/google/reviews_google.parquet.gz', compression='gzip')"
      ]
    },
    {
      "cell_type": "markdown",
      "metadata": {},
      "source": [
        "---"
      ]
    },
    {
      "cell_type": "code",
      "execution_count": 23,
      "metadata": {},
      "outputs": [],
      "source": [
        "revi_google = pd.read_parquet(r'..\\datasets\\processed\\google\\reviews_google.parquet.gz')"
      ]
    },
    {
      "cell_type": "code",
      "execution_count": 24,
      "metadata": {},
      "outputs": [
        {
          "data": {
            "text/html": [
              "<div>\n",
              "<style scoped>\n",
              "    .dataframe tbody tr th:only-of-type {\n",
              "        vertical-align: middle;\n",
              "    }\n",
              "\n",
              "    .dataframe tbody tr th {\n",
              "        vertical-align: top;\n",
              "    }\n",
              "\n",
              "    .dataframe thead th {\n",
              "        text-align: right;\n",
              "    }\n",
              "</style>\n",
              "<table border=\"1\" class=\"dataframe\">\n",
              "  <thead>\n",
              "    <tr style=\"text-align: right;\">\n",
              "      <th></th>\n",
              "      <th>user_id</th>\n",
              "      <th>gmap_id</th>\n",
              "      <th>stars</th>\n",
              "      <th>sentiment</th>\n",
              "      <th>date</th>\n",
              "      <th>resp_sentiment</th>\n",
              "      <th>resp_date</th>\n",
              "    </tr>\n",
              "  </thead>\n",
              "  <tbody>\n",
              "    <tr>\n",
              "      <th>0</th>\n",
              "      <td>1.089912e+20</td>\n",
              "      <td>0x80c2c778e3b73d33:0xbdc58662a4a97d49</td>\n",
              "      <td>5</td>\n",
              "      <td>2</td>\n",
              "      <td>2021-01-06 05:12:07.056</td>\n",
              "      <td>0.0</td>\n",
              "      <td>NaT</td>\n",
              "    </tr>\n",
              "    <tr>\n",
              "      <th>1</th>\n",
              "      <td>1.112903e+20</td>\n",
              "      <td>0x80c2c778e3b73d33:0xbdc58662a4a97d49</td>\n",
              "      <td>5</td>\n",
              "      <td>2</td>\n",
              "      <td>2021-02-09 05:47:28.663</td>\n",
              "      <td>0.0</td>\n",
              "      <td>NaT</td>\n",
              "    </tr>\n",
              "    <tr>\n",
              "      <th>2</th>\n",
              "      <td>1.126404e+20</td>\n",
              "      <td>0x80c2c778e3b73d33:0xbdc58662a4a97d49</td>\n",
              "      <td>4</td>\n",
              "      <td>0</td>\n",
              "      <td>2020-03-08 05:04:42.296</td>\n",
              "      <td>0.0</td>\n",
              "      <td>NaT</td>\n",
              "    </tr>\n",
              "    <tr>\n",
              "      <th>3</th>\n",
              "      <td>1.174403e+20</td>\n",
              "      <td>0x80c2c778e3b73d33:0xbdc58662a4a97d49</td>\n",
              "      <td>5</td>\n",
              "      <td>2</td>\n",
              "      <td>2019-03-07 05:56:56.355</td>\n",
              "      <td>0.0</td>\n",
              "      <td>NaT</td>\n",
              "    </tr>\n",
              "    <tr>\n",
              "      <th>4</th>\n",
              "      <td>1.005808e+20</td>\n",
              "      <td>0x80c2c778e3b73d33:0xbdc58662a4a97d49</td>\n",
              "      <td>5</td>\n",
              "      <td>2</td>\n",
              "      <td>2017-05-16 05:01:41.933</td>\n",
              "      <td>0.0</td>\n",
              "      <td>NaT</td>\n",
              "    </tr>\n",
              "    <tr>\n",
              "      <th>...</th>\n",
              "      <td>...</td>\n",
              "      <td>...</td>\n",
              "      <td>...</td>\n",
              "      <td>...</td>\n",
              "      <td>...</td>\n",
              "      <td>...</td>\n",
              "      <td>...</td>\n",
              "    </tr>\n",
              "    <tr>\n",
              "      <th>2452767</th>\n",
              "      <td>1.091054e+20</td>\n",
              "      <td>0x880fce33edd16c7b:0x44e066027b82ad8d</td>\n",
              "      <td>4</td>\n",
              "      <td>0</td>\n",
              "      <td>2016-09-01 01:03:33.962</td>\n",
              "      <td>0.0</td>\n",
              "      <td>NaT</td>\n",
              "    </tr>\n",
              "    <tr>\n",
              "      <th>2452768</th>\n",
              "      <td>1.159805e+20</td>\n",
              "      <td>0x880fce33edd16c7b:0x44e066027b82ad8d</td>\n",
              "      <td>4</td>\n",
              "      <td>0</td>\n",
              "      <td>2017-07-26 19:09:52.414</td>\n",
              "      <td>0.0</td>\n",
              "      <td>NaT</td>\n",
              "    </tr>\n",
              "    <tr>\n",
              "      <th>2452769</th>\n",
              "      <td>1.159471e+20</td>\n",
              "      <td>0x880fce33edd16c7b:0x44e066027b82ad8d</td>\n",
              "      <td>4</td>\n",
              "      <td>0</td>\n",
              "      <td>2015-11-16 17:06:38.468</td>\n",
              "      <td>0.0</td>\n",
              "      <td>NaT</td>\n",
              "    </tr>\n",
              "    <tr>\n",
              "      <th>2452770</th>\n",
              "      <td>1.179236e+20</td>\n",
              "      <td>0x880fce33edd16c7b:0x44e066027b82ad8d</td>\n",
              "      <td>3</td>\n",
              "      <td>0</td>\n",
              "      <td>2016-10-06 10:41:33.492</td>\n",
              "      <td>0.0</td>\n",
              "      <td>NaT</td>\n",
              "    </tr>\n",
              "    <tr>\n",
              "      <th>2452771</th>\n",
              "      <td>1.170134e+20</td>\n",
              "      <td>0x880fce33edd16c7b:0x44e066027b82ad8d</td>\n",
              "      <td>2</td>\n",
              "      <td>0</td>\n",
              "      <td>2015-06-24 18:25:59.411</td>\n",
              "      <td>0.0</td>\n",
              "      <td>NaT</td>\n",
              "    </tr>\n",
              "  </tbody>\n",
              "</table>\n",
              "<p>2452772 rows × 7 columns</p>\n",
              "</div>"
            ],
            "text/plain": [
              "              user_id                                gmap_id  stars  \\\n",
              "0        1.089912e+20  0x80c2c778e3b73d33:0xbdc58662a4a97d49      5   \n",
              "1        1.112903e+20  0x80c2c778e3b73d33:0xbdc58662a4a97d49      5   \n",
              "2        1.126404e+20  0x80c2c778e3b73d33:0xbdc58662a4a97d49      4   \n",
              "3        1.174403e+20  0x80c2c778e3b73d33:0xbdc58662a4a97d49      5   \n",
              "4        1.005808e+20  0x80c2c778e3b73d33:0xbdc58662a4a97d49      5   \n",
              "...               ...                                    ...    ...   \n",
              "2452767  1.091054e+20  0x880fce33edd16c7b:0x44e066027b82ad8d      4   \n",
              "2452768  1.159805e+20  0x880fce33edd16c7b:0x44e066027b82ad8d      4   \n",
              "2452769  1.159471e+20  0x880fce33edd16c7b:0x44e066027b82ad8d      4   \n",
              "2452770  1.179236e+20  0x880fce33edd16c7b:0x44e066027b82ad8d      3   \n",
              "2452771  1.170134e+20  0x880fce33edd16c7b:0x44e066027b82ad8d      2   \n",
              "\n",
              "         sentiment                    date  resp_sentiment resp_date  \n",
              "0                2 2021-01-06 05:12:07.056             0.0       NaT  \n",
              "1                2 2021-02-09 05:47:28.663             0.0       NaT  \n",
              "2                0 2020-03-08 05:04:42.296             0.0       NaT  \n",
              "3                2 2019-03-07 05:56:56.355             0.0       NaT  \n",
              "4                2 2017-05-16 05:01:41.933             0.0       NaT  \n",
              "...            ...                     ...             ...       ...  \n",
              "2452767          0 2016-09-01 01:03:33.962             0.0       NaT  \n",
              "2452768          0 2017-07-26 19:09:52.414             0.0       NaT  \n",
              "2452769          0 2015-11-16 17:06:38.468             0.0       NaT  \n",
              "2452770          0 2016-10-06 10:41:33.492             0.0       NaT  \n",
              "2452771          0 2015-06-24 18:25:59.411             0.0       NaT  \n",
              "\n",
              "[2452772 rows x 7 columns]"
            ]
          },
          "execution_count": 24,
          "metadata": {},
          "output_type": "execute_result"
        }
      ],
      "source": [
        "revi_google.rename(columns={'resp_date': 'resp_date'}, inplace=True)\n",
        "revi_google.rename(columns={'sentiment_textblob_resp': 'resp_sentiment'}, inplace=True)\n",
        "revi_google.rename(columns={'time': 'date'}, inplace=True)\n",
        "revi_google.rename(columns={'rating': 'stars'}, inplace=True)\n",
        "revi_google = revi_google[['user_id','gmap_id','stars','sentiment','date','resp_sentiment','resp_date']]\n",
        "revi_google.reset_index(inplace=True)\n",
        "revi_google.drop(columns = ['index'], inplace= True)\n",
        "revi_google"
      ]
    },
    {
      "cell_type": "code",
      "execution_count": 25,
      "metadata": {},
      "outputs": [],
      "source": [
        "revi_google.to_parquet(r'..\\datasets\\processed\\bd\\reviews_google.parquet.gz')"
      ]
    }
  ],
  "metadata": {
    "colab": {
      "provenance": []
    },
    "kernelspec": {
      "display_name": "Python 3",
      "name": "python3"
    },
    "language_info": {
      "codemirror_mode": {
        "name": "ipython",
        "version": 3
      },
      "file_extension": ".py",
      "mimetype": "text/x-python",
      "name": "python",
      "nbconvert_exporter": "python",
      "pygments_lexer": "ipython3",
      "version": "3.11.5"
    }
  },
  "nbformat": 4,
  "nbformat_minor": 0
}
