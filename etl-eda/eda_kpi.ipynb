{
 "cells": [
  {
   "cell_type": "code",
   "execution_count": 3,
   "metadata": {},
   "outputs": [],
   "source": [
    "import pandas as pd\n",
    "import datetime\n",
    "import gzip\n",
    "import io\n",
    "import os"
   ]
  },
  {
   "cell_type": "markdown",
   "metadata": {},
   "source": [
    "KPIs:\n",
    "\n",
    "Enfoque técnico: Optimización del alcance y calidad del servicio        \n",
    "Mejorar un 10% la accesibilidad de los restaurantes en Florida      \n",
    "    Cantidad de restaurantes por estado cada 1000 habitantes        \n",
    "    business_google.json.gz         \n",
    "Evaluar calidad media de productos por categoría de restaurantes            \n",
    "    Correlación entre las estrellas y las 20 categorías con mayor frecuencia        \n",
    "    business_yelp.json.gz           \n",
    "\n",
    "\n",
    "Enfoque orgánico: Networking            \n",
    "Mejorar la tasa de diferencia entre reviews y respuestas \n",
    "\"Aumentar la calidad de la comunicación a través de un mejor ratio respuestas por comentarios y  disminuir el tiempo promedio de respuestas\"               \n",
    "    Ratio: respuestas / reviews, respuestas tiempo promedio\n",
    "    business_id, resp time != 0, sentiment_score !=0, date             \n",
    "    reviews_google.parquet.gz           \n",
    "\n",
    "Promover la tasa de retención de cliente            \n",
    "    Cantidad de meses distintos con review para usuario         \n",
    "    reviews_google.parquet.gz           \n",
    "\n",
    "Aumentar 10% reviews de usuarios influyentes            \n",
    "    Cantidad de amigos por usuario          \n",
    "    \n",
    "\n",
    "    \n",
    "metricas        \n",
    "ratio useful/review-count       \n",
    "\n",
    "esperar dataset de dami     "
   ]
  },
  {
   "cell_type": "markdown",
   "metadata": {},
   "source": [
    "Sistema de recomendación para empresas: Análisis de ubicación \n",
    "    Por cantidad competencia en la zona\n",
    "    Por calidad competencia en la zona\n",
    "    Por horario por atributo\n",
    "Sistema de recomendación para empresas: Publicidad\n",
    "    Promoción por gustos del usuario\n",
    "    Por gustos de usuarios similares\n",
    "    Por gustos de amigos del usuario\n"
   ]
  }
 ],
 "metadata": {
  "kernelspec": {
   "display_name": ".venv",
   "language": "python",
   "name": "python3"
  },
  "language_info": {
   "codemirror_mode": {
    "name": "ipython",
    "version": 3
   },
   "file_extension": ".py",
   "mimetype": "text/x-python",
   "name": "python",
   "nbconvert_exporter": "python",
   "pygments_lexer": "ipython3",
   "version": "3.11.5"
  }
 },
 "nbformat": 4,
 "nbformat_minor": 2
}
