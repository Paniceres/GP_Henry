{
 "cells": [
  {
   "cell_type": "code",
   "execution_count": 9,
   "metadata": {},
   "outputs": [],
   "source": [
    "import pandas as pd\n",
    "import numpy as np\n",
    "import seaborn as sns\n",
    "import matplotlib.pyplot as plt\n",
    "import gzip\n",
    "import io\n",
    "import os"
   ]
  },
  {
   "cell_type": "code",
   "execution_count": 10,
   "metadata": {},
   "outputs": [],
   "source": [
    "df_bg = pd.read_parquet(r'../datasets/processed/bd/5_business_google.parquet.gz')\n",
    "df_by = pd.read_parquet(r'../datasets/processed/bd/6_business_yelp.parquet.gz')\n",
    "df_ug = pd.read_parquet(r'../datasets/processed/bd/4_user_google.parquet.gz')\n",
    "df_uy = pd.read_parquet(r'../datasets/processed/bd/3_user_yelp.parquet.gz')\n",
    "df_rg = pd.read_parquet(r'../datasets/processed/bd/9_reviews_google.parquet.gz')\n",
    "df_ry = pd.read_parquet(r'../datasets/processed/bd/10_reviews_yelp.parquet.gz')"
   ]
  },
  {
   "cell_type": "markdown",
   "metadata": {},
   "source": [
    "### KPI 1: Mejorar un 10% la accesibilidad de los restaurantes en Florida "
   ]
  },
  {
   "cell_type": "markdown",
   "metadata": {},
   "source": [
    "Criterio: Según el ratio de la relación de cantidad de restaurantes sobre cantidad de habitantes por estado, Florida es del menor ratio.\n",
    "\n",
    "count business_id / habitantes "
   ]
  },
  {
   "cell_type": "code",
   "execution_count": 11,
   "metadata": {},
   "outputs": [],
   "source": [
    "# Diccionario con la población de California, Florida, Illinois y New Jersey desde 2015 hasta 2023\n",
    "population_data = {\n",
    "    'California': {\n",
    "        2015: 39144818,\n",
    "        2016: 39250017,\n",
    "        2017: 39399349,\n",
    "        2018: 39538223,\n",
    "        2019: 39613506,\n",
    "        2020: 39538223,\n",
    "        2021: 39296476,\n",
    "        2022: 39056079,\n",
    "        2023: 38982847\n",
    "    },\n",
    "    'Florida': {\n",
    "        2015: 20271272,\n",
    "        2016: 20656589,\n",
    "        2017: 20984400,\n",
    "        2018: 21299325,\n",
    "        2019: 21477737,\n",
    "        2020: 21538187,\n",
    "        2021: 21733312,\n",
    "        2022: 22244823,\n",
    "        2023: 22733312\n",
    "    },\n",
    "    'Illinois': {\n",
    "        2015: 12859995,\n",
    "        2016: 12802503,\n",
    "        2017: 12778828,\n",
    "        2018: 12741080,\n",
    "        2019: 12671821,\n",
    "        2020: 12812508,\n",
    "        2021: 12671869,\n",
    "        2022: 12518144,\n",
    "        2023: 12470000\n",
    "    },\n",
    "    'New Jersey': {\n",
    "        2015: 8958013,\n",
    "        2016: 9005644,\n",
    "        2017: 9032872,\n",
    "        2018: 8908520,\n",
    "        2019: 8882190,\n",
    "        2020: 9288994,\n",
    "        2021: 9261692,\n",
    "        2022: 9288994,\n",
    "        2023: 9290000\n",
    "    }\n",
    "}\n",
    "\n",
    "# https://en.wikipedia.org/wiki/List_of_U.S._states_and_territories_by_population"
   ]
  },
  {
   "cell_type": "code",
   "execution_count": 12,
   "metadata": {},
   "outputs": [
    {
     "data": {
      "text/plain": [
       "{'California': 6.668830524358572,\n",
       " 'Florida': 5.845166775523074,\n",
       " 'Illinois': 6.493985565356856,\n",
       " 'New Jersey': 8.097954790096878}"
      ]
     },
     "execution_count": 12,
     "metadata": {},
     "output_type": "execute_result"
    }
   ],
   "source": [
    "# Calcular el número de negocios únicos por habitante por año\n",
    "businesses_per_capita = {}\n",
    "for state, population in population_data.items():\n",
    "    # Filtrar los datos del DataFrame por estado\n",
    "    df_filtered = df_bg[df_bg['state_id'] == state]\n",
    "    # Calcular el número de negocios únicos\n",
    "    unique_businesses = df_filtered['gmap_id'].nunique()\n",
    "    # Calcular el número de negocios únicos cada 10000 habitantes en 2023\n",
    "    businesses_per_capita[state] = unique_businesses / population[2023] * 10000\n",
    "\n",
    "# Mostrar el diccionario resultante\n",
    "businesses_per_capita"
   ]
  },
  {
   "cell_type": "code",
   "execution_count": 13,
   "metadata": {},
   "outputs": [
    {
     "name": "stderr",
     "output_type": "stream",
     "text": [
      "/tmp/ipykernel_100869/3408633973.py:6: FutureWarning: \n",
      "\n",
      "Passing `palette` without assigning `hue` is deprecated and will be removed in v0.14.0. Assign the `y` variable to `hue` and set `legend=False` for the same effect.\n",
      "\n",
      "  sns.barplot(x='Negocios por 10,000 habitantes', y='Estado', data=df_businesses_per_capita, palette='viridis')\n"
     ]
    },
    {
     "data": {
      "image/png": "[encoded data removed]",
      "text/plain": [
       "<Figure size 1000x600 with 1 Axes>"
      ]
     },
     "metadata": {},
     "output_type": "display_data"
    }
   ],
   "source": [
    "# Convertir el diccionario a un DataFrame para Seaborn\n",
    "df_businesses_per_capita = pd.DataFrame(list(businesses_per_capita.items()), columns=['Estado', 'Negocios por 10,000 habitantes'])\n",
    "\n",
    "# Crear un gráfico de barras con Seaborn\n",
    "plt.figure(figsize=(10, 6))\n",
    "sns.barplot(x='Negocios por 10,000 habitantes', y='Estado', data=df_businesses_per_capita, palette='viridis')\n",
    "\n",
    "# Añadir título y etiquetas de los ejes\n",
    "plt.title('Número de Negocios Únicos por Habitante por Estado (2023)')\n",
    "plt.xlabel('Negocios por 10,000 habitantes')\n",
    "plt.ylabel('Estado')\n",
    "\n",
    "# Mostrar el gráfico\n",
    "plt.show()"
   ]
  },
  {
   "cell_type": "markdown",
   "metadata": {},
   "source": [
    "### KPI 2: Aumento 5% rating promedio por grupo de categorías\n",
    "    correlación entre group y stars a través del tiempo\n",
    "    business_yelp.json.gz           \n",
    "\n",
    "top 20 categorias ->  5 grupos\n",
    "correlación entre grupos y stars\n",
    "group \n",
    "\n",
    "output: diccionario metrica por estado por año\n",
    "kpi: aumento anual metrica \n"
   ]
  },
  {
   "cell_type": "code",
   "execution_count": 14,
   "metadata": {},
   "outputs": [
    {
     "data": {
      "text/html": [
       "<div>\n",
       "<style scoped>\n",
       "    .dataframe tbody tr th:only-of-type {\n",
       "        vertical-align: middle;\n",
       "    }\n",
       "\n",
       "    .dataframe tbody tr th {\n",
       "        vertical-align: top;\n",
       "    }\n",
       "\n",
       "    .dataframe thead th {\n",
       "        text-align: right;\n",
       "    }\n",
       "</style>\n",
       "<table border=\"1\" class=\"dataframe\">\n",
       "  <thead>\n",
       "    <tr style=\"text-align: right;\">\n",
       "      <th></th>\n",
       "      <th>user_id</th>\n",
       "      <th>gmap_id</th>\n",
       "      <th>stars</th>\n",
       "      <th>sentiment</th>\n",
       "      <th>date</th>\n",
       "      <th>resp_sentiment</th>\n",
       "      <th>resp_date</th>\n",
       "    </tr>\n",
       "  </thead>\n",
       "  <tbody>\n",
       "    <tr>\n",
       "      <th>0</th>\n",
       "      <td>1.089912e+20</td>\n",
       "      <td>0x80c2c778e3b73d33:0xbdc58662a4a97d49</td>\n",
       "      <td>5</td>\n",
       "      <td>2</td>\n",
       "      <td>2021-01-06 05:12:07.056</td>\n",
       "      <td>0.0</td>\n",
       "      <td>NaT</td>\n",
       "    </tr>\n",
       "  </tbody>\n",
       "</table>\n",
       "</div>"
      ],
      "text/plain": [
       "        user_id                                gmap_id  stars  sentiment  \\\n",
       "0  1.089912e+20  0x80c2c778e3b73d33:0xbdc58662a4a97d49      5          2   \n",
       "\n",
       "                     date  resp_sentiment resp_date  \n",
       "0 2021-01-06 05:12:07.056             0.0       NaT  "
      ]
     },
     "execution_count": 14,
     "metadata": {},
     "output_type": "execute_result"
    }
   ],
   "source": [
    "df_rg.head(1)"
   ]
  },
  {
   "cell_type": "code",
   "execution_count": 15,
   "metadata": {},
   "outputs": [],
   "source": [
    "# Merge\n",
    "merged_df = df_ry.merge(df_by, on='business_id', how='inner')"
   ]
  },
  {
   "cell_type": "code",
   "execution_count": 16,
   "metadata": {},
   "outputs": [],
   "source": [
    "# contamos categorias\n",
    "category_counts = merged_df['categories'].apply(pd.Series).stack().value_counts()\n",
    "\n",
    "# nos quedamos con las 20 más comunes\n",
    "top_20_categories = category_counts.nlargest(20)\n",
    "#1.20s"
   ]
  },
  {
   "cell_type": "code",
   "execution_count": null,
   "metadata": {},
   "outputs": [
    {
     "data": {
      "text/html": [
       "<div>\n",
       "<style scoped>\n",
       "    .dataframe tbody tr th:only-of-type {\n",
       "        vertical-align: middle;\n",
       "    }\n",
       "\n",
       "    .dataframe tbody tr th {\n",
       "        vertical-align: top;\n",
       "    }\n",
       "\n",
       "    .dataframe thead th {\n",
       "        text-align: right;\n",
       "    }\n",
       "</style>\n",
       "<table border=\"1\" class=\"dataframe\">\n",
       "  <thead>\n",
       "    <tr style=\"text-align: right;\">\n",
       "      <th></th>\n",
       "      <th>review_id</th>\n",
       "      <th>user_id</th>\n",
       "      <th>business_id</th>\n",
       "      <th>stars_x</th>\n",
       "      <th>sentiment</th>\n",
       "      <th>date</th>\n",
       "      <th>name</th>\n",
       "      <th>latitude</th>\n",
       "      <th>longitude</th>\n",
       "      <th>stars_y</th>\n",
       "      <th>categories</th>\n",
       "      <th>state</th>\n",
       "    </tr>\n",
       "  </thead>\n",
       "  <tbody>\n",
       "    <tr>\n",
       "      <th>0</th>\n",
       "      <td>pUycOfUwM8vqX7KjRRhUEA</td>\n",
       "      <td>59MxRhNVhU9MYndMkz0wtw</td>\n",
       "      <td>gebiRewfieSdtt17PTW6Zg</td>\n",
       "      <td>3.0</td>\n",
       "      <td>2</td>\n",
       "      <td>2016-07-25 07:31:06</td>\n",
       "      <td>Hibachi Steak House &amp; Sushi Bar</td>\n",
       "      <td>34.416984</td>\n",
       "      <td>-119.695556</td>\n",
       "      <td>3.51</td>\n",
       "      <td>[Steakhouses, Sushi Bars, Restaurants, Japanese]</td>\n",
       "      <td>California</td>\n",
       "    </tr>\n",
       "  </tbody>\n",
       "</table>\n",
       "</div>"
      ],
      "text/plain": [
       "                review_id                 user_id             business_id  \\\n",
       "0  pUycOfUwM8vqX7KjRRhUEA  59MxRhNVhU9MYndMkz0wtw  gebiRewfieSdtt17PTW6Zg   \n",
       "\n",
       "   stars_x  sentiment                date                             name  \\\n",
       "0      3.0          2 2016-07-25 07:31:06  Hibachi Steak House & Sushi Bar   \n",
       "\n",
       "    latitude   longitude  stars_y  \\\n",
       "0  34.416984 -119.695556     3.51   \n",
       "\n",
       "                                         categories       state  \n",
       "0  [Steakhouses, Sushi Bars, Restaurants, Japanese]  California  "
      ]
     },
     "execution_count": 29,
     "metadata": {},
     "output_type": "execute_result"
    }
   ],
   "source": [
    "merged_df.head(1)"
   ]
  },
  {
   "cell_type": "code",
   "execution_count": null,
   "metadata": {},
   "outputs": [
    {
     "ename": "KeyError",
     "evalue": "\"['stars'] not in index\"",
     "output_type": "error",
     "traceback": [
      "\u001b[0;31m---------------------------------------------------------------------------\u001b[0m",
      "\u001b[0;31mKeyError\u001b[0m                                  Traceback (most recent call last)",
      "\u001b[1;32m/home/p/Code/Henry/GP_Henry/etl-eda/eda_kpi.ipynb Cell 13\u001b[0m line \u001b[0;36m2\n\u001b[1;32m     <a href='vscode-notebook-cell:/home/p/Code/Henry/GP_Henry/etl-eda/eda_kpi.ipynb#Y111sZmlsZQ%3D%3D?line=18'>19</a>\u001b[0m df_filtered \u001b[39m=\u001b[39m df_categories[df_categories[\u001b[39m'\u001b[39m\u001b[39mgroup\u001b[39m\u001b[39m'\u001b[39m]\u001b[39m.\u001b[39misin(group_categories)]\n\u001b[1;32m     <a href='vscode-notebook-cell:/home/p/Code/Henry/GP_Henry/etl-eda/eda_kpi.ipynb#Y111sZmlsZQ%3D%3D?line=20'>21</a>\u001b[0m \u001b[39m# Análisis de correlación entre 'stars' y 'group'\u001b[39;00m\n\u001b[0;32m---> <a href='vscode-notebook-cell:/home/p/Code/Henry/GP_Henry/etl-eda/eda_kpi.ipynb#Y111sZmlsZQ%3D%3D?line=21'>22</a>\u001b[0m correlation_matrix \u001b[39m=\u001b[39m df_filtered[[\u001b[39m'\u001b[39;49m\u001b[39mstars\u001b[39;49m\u001b[39m'\u001b[39;49m, \u001b[39m'\u001b[39;49m\u001b[39mgroup\u001b[39;49m\u001b[39m'\u001b[39;49m]]\u001b[39m.\u001b[39mcorr()\n\u001b[1;32m     <a href='vscode-notebook-cell:/home/p/Code/Henry/GP_Henry/etl-eda/eda_kpi.ipynb#Y111sZmlsZQ%3D%3D?line=23'>24</a>\u001b[0m correlation_matrix\n",
      "File \u001b[0;32m~/Code/Henry/PI_DA/.env/lib/python3.11/site-packages/pandas/core/frame.py:3899\u001b[0m, in \u001b[0;36mDataFrame.__getitem__\u001b[0;34m(self, key)\u001b[0m\n\u001b[1;32m   3897\u001b[0m     \u001b[39mif\u001b[39;00m is_iterator(key):\n\u001b[1;32m   3898\u001b[0m         key \u001b[39m=\u001b[39m \u001b[39mlist\u001b[39m(key)\n\u001b[0;32m-> 3899\u001b[0m     indexer \u001b[39m=\u001b[39m \u001b[39mself\u001b[39;49m\u001b[39m.\u001b[39;49mcolumns\u001b[39m.\u001b[39;49m_get_indexer_strict(key, \u001b[39m\"\u001b[39;49m\u001b[39mcolumns\u001b[39;49m\u001b[39m\"\u001b[39;49m)[\u001b[39m1\u001b[39m]\n\u001b[1;32m   3901\u001b[0m \u001b[39m# take() does not accept boolean indexers\u001b[39;00m\n\u001b[1;32m   3902\u001b[0m \u001b[39mif\u001b[39;00m \u001b[39mgetattr\u001b[39m(indexer, \u001b[39m\"\u001b[39m\u001b[39mdtype\u001b[39m\u001b[39m\"\u001b[39m, \u001b[39mNone\u001b[39;00m) \u001b[39m==\u001b[39m \u001b[39mbool\u001b[39m:\n",
      "File \u001b[0;32m~/Code/Henry/PI_DA/.env/lib/python3.11/site-packages/pandas/core/indexes/base.py:6114\u001b[0m, in \u001b[0;36mIndex._get_indexer_strict\u001b[0;34m(self, key, axis_name)\u001b[0m\n\u001b[1;32m   6111\u001b[0m \u001b[39melse\u001b[39;00m:\n\u001b[1;32m   6112\u001b[0m     keyarr, indexer, new_indexer \u001b[39m=\u001b[39m \u001b[39mself\u001b[39m\u001b[39m.\u001b[39m_reindex_non_unique(keyarr)\n\u001b[0;32m-> 6114\u001b[0m \u001b[39mself\u001b[39;49m\u001b[39m.\u001b[39;49m_raise_if_missing(keyarr, indexer, axis_name)\n\u001b[1;32m   6116\u001b[0m keyarr \u001b[39m=\u001b[39m \u001b[39mself\u001b[39m\u001b[39m.\u001b[39mtake(indexer)\n\u001b[1;32m   6117\u001b[0m \u001b[39mif\u001b[39;00m \u001b[39misinstance\u001b[39m(key, Index):\n\u001b[1;32m   6118\u001b[0m     \u001b[39m# GH 42790 - Preserve name from an Index\u001b[39;00m\n",
      "File \u001b[0;32m~/Code/Henry/PI_DA/.env/lib/python3.11/site-packages/pandas/core/indexes/base.py:6178\u001b[0m, in \u001b[0;36mIndex._raise_if_missing\u001b[0;34m(self, key, indexer, axis_name)\u001b[0m\n\u001b[1;32m   6175\u001b[0m     \u001b[39mraise\u001b[39;00m \u001b[39mKeyError\u001b[39;00m(\u001b[39mf\u001b[39m\u001b[39m\"\u001b[39m\u001b[39mNone of [\u001b[39m\u001b[39m{\u001b[39;00mkey\u001b[39m}\u001b[39;00m\u001b[39m] are in the [\u001b[39m\u001b[39m{\u001b[39;00maxis_name\u001b[39m}\u001b[39;00m\u001b[39m]\u001b[39m\u001b[39m\"\u001b[39m)\n\u001b[1;32m   6177\u001b[0m not_found \u001b[39m=\u001b[39m \u001b[39mlist\u001b[39m(ensure_index(key)[missing_mask\u001b[39m.\u001b[39mnonzero()[\u001b[39m0\u001b[39m]]\u001b[39m.\u001b[39munique())\n\u001b[0;32m-> 6178\u001b[0m \u001b[39mraise\u001b[39;00m \u001b[39mKeyError\u001b[39;00m(\u001b[39mf\u001b[39m\u001b[39m\"\u001b[39m\u001b[39m{\u001b[39;00mnot_found\u001b[39m}\u001b[39;00m\u001b[39m not in index\u001b[39m\u001b[39m\"\u001b[39m)\n",
      "\u001b[0;31mKeyError\u001b[0m: \"['stars'] not in index\""
     ]
    }
   ],
   "source": [
    "# dataframe para las top 20\n",
    "df_categories = top_20_categories.reset_index()\n",
    "df_categories.columns = ['categories', 'appears']\n",
    "\n",
    "# Definir grupos de categorías\n",
    "groups = {\n",
    "    'fast_food': ['Pizza', 'Burgers', 'Sandwiches'],\n",
    "    'breakfast': ['Breakfast & Brunch', 'Coffee & Tea', 'Cafes', 'Desserts'],\n",
    "    'country': ['American (Traditional)', 'American (New)', 'Mexican', 'Italian'],\n",
    "    'night_events': ['Nightlife', 'Bars', 'Cocktail Bars', 'Event Planning & Services'],\n",
    "    'Generalist': ['Restaurants', 'Food', 'Seafood', 'Salad', 'Steakhouses']\n",
    "}\n",
    "\n",
    "# Crear una nueva columna 'group' en el DataFrame\n",
    "df_categories['group'] = df_categories['categories'].apply(lambda x: next((group for group, categories in groups.items() if x in categories), None))\n",
    "\n",
    "# Filter the DataFrame to only include necessary categories\n",
    "group_categories = ['fast_food', 'breakfast', 'country', 'night_events', 'Generalist', 'stars']\n",
    "df_filtered = df_categories[df_categories['group'].isin(group_categories)]\n",
    "\n",
    "# Análisis de correlación entre 'stars' y 'group'\n",
    "correlation_matrix = df_filtered[['stars', 'group']].corr()\n",
    "\n",
    "correlation_matrix\n"
   ]
  },
  {
   "cell_type": "code",
   "execution_count": null,
   "metadata": {},
   "outputs": [
    {
     "name": "stderr",
     "output_type": "stream",
     "text": [
      "/tmp/ipykernel_7556/3737035431.py:9: FutureWarning: unique with argument that is not not a Series, Index, ExtensionArray, or np.ndarray is deprecated and will raise in a future version.\n",
      "  generalist_categories = pd.unique([category for sublist in generalist_rows['categories'] for category in sublist])\n"
     ]
    },
    {
     "data": {
      "text/plain": [
       "array(['Vietnamese', 'Food', 'Restaurants', 'Food Trucks', 'French',\n",
       "       'Moroccan', 'Seafood', 'Mediterranean', 'Barbeque', 'Hawaiian',\n",
       "       'Street Vendors', 'Sushi Bars', 'Japanese', 'Ethnic Food',\n",
       "       'Specialty Food', 'Thai', 'Puerto Rican', 'Caribbean',\n",
       "       'Latin American', 'Festivals', 'Arts & Entertainment',\n",
       "       'Local Flavor', 'Food Stands', 'Kebab', 'Middle Eastern',\n",
       "       'Lebanese', 'Greek', 'Asian Fusion', 'Chinese', 'Poke',\n",
       "       'Acai Bowls', 'Pretzels', 'Bakeries', 'Delis', 'Peruvian', 'Vegan',\n",
       "       'Wraps', 'Salad', 'Steakhouses', 'Gluten-Free', 'Fast Food',\n",
       "       'Chicken Shop', 'Chicken Wings', 'Teppanyaki', 'Szechuan',\n",
       "       'Noodles', 'Diners', 'Falafel', 'Halal', 'Grocery',\n",
       "       'Do-It-Yourself Food', 'Seafood Markets', 'Turkish', 'German',\n",
       "       'Korean', 'Hot Pot', 'Indian', 'Pakistani', 'Vegetarian',\n",
       "       'Custom Cakes', 'Meat Shops', 'Buffets', 'International Grocery',\n",
       "       'Arabic', 'Bagels', 'Hot Dogs', 'Active Life', 'Golf',\n",
       "       'Fish & Chips', 'Golf Equipment', 'Shopping', 'Sporting Goods',\n",
       "       'Salvadoran', 'Juice Bars & Smoothies', 'Cuban', 'Food Tours',\n",
       "       'Yelp Events', 'Tours', 'Educational Services', 'Hotels & Travel',\n",
       "       'Education', 'Wineries', 'Ethiopian', 'Fruits & Veggies',\n",
       "       'Soul Food', 'Pan Asian', 'Photography Stores & Services',\n",
       "       'Southern', 'Soup', 'Food Delivery Services', 'Comfort Food',\n",
       "       'Cajun/Creole', 'Health Markets', 'Grilling Equipment',\n",
       "       'Home & Garden', 'Spanish', 'Filipino', 'Bubble Tea',\n",
       "       'Live/Raw Food', 'Imported Food', 'Tapas/Small Plates', 'Beer',\n",
       "       'Wine & Spirits', 'Organic Stores', 'Brazilian', 'Colombian',\n",
       "       'Ice Cream & Frozen Yogurt', 'Butcher', 'Venezuelan', 'Laotian',\n",
       "       'Waffles', \"Women's Clothing\", \"Men's Clothing\", 'Fashion',\n",
       "       'Shopping Centers', 'Cheesesteaks', 'Dominican', 'Japanese Curry',\n",
       "       'Ramen', 'Donuts', 'Flowers & Gifts', 'Florists',\n",
       "       'Convenience Stores', 'Russian', 'Haitian', 'Automotive',\n",
       "       'Gas Stations', 'Farmers Market', 'Pharmacy', 'Health & Medical',\n",
       "       'Dinner Theater', 'Cantonese', 'Drugstores', 'Dim Sum',\n",
       "       'Religious Organizations', 'Buddhist Temples', 'Churches',\n",
       "       'Syrian', 'Food Court', 'Outlet Stores', 'Rafting/Kayaking',\n",
       "       'Bike Rentals', 'Fitness & Instruction', 'Yoga', 'Paddleboarding',\n",
       "       'Empanadas', 'Kosher', 'Auto Customization', 'Polish',\n",
       "       'Tobacco Shops', 'Cooking Classes', 'Ethnic Grocery',\n",
       "       'Arts & Crafts', 'Department Stores', 'Shaved Ice', 'Senegalese',\n",
       "       'African', 'Egyptian', 'Flea Markets', 'Breweries', 'Beer Tours',\n",
       "       'Wine Tours', 'Izakaya', 'Accountants', 'Professional Services',\n",
       "       'Wholesale Stores', 'Pop-up Shops', 'Smokehouse', 'Basque',\n",
       "       'Tapas Bars', 'Pop-Up Restaurants', 'Books', 'Mags',\n",
       "       'Music & Video', 'Pets', 'Pet Stores', 'Beauty & Spas',\n",
       "       'Hair Salons', 'Nutritionists', 'Tex-Mex', 'Modern European',\n",
       "       'Mongolian', 'Boating', 'Fishing', 'Cheese Shops',\n",
       "       'Local Services', 'Public Services & Government',\n",
       "       'Community Service/Non-Profit', 'Cinema', 'Home Services',\n",
       "       'Real Estate', 'Homeowner Association', 'Shanghainese',\n",
       "       'Gastropubs', 'Malaysian', 'Taiwanese', 'Tree Services', 'British',\n",
       "       'Portuguese', 'Nail Salons', 'Cultural Center', 'Fondue',\n",
       "       'Day Spas', 'Resorts', 'Mobile Phones', 'Electronics',\n",
       "       'Discount Store', 'Art Museums', 'Museums', 'Shaved Snow',\n",
       "       'Coffee Roasteries', 'Vitamins & Supplements', 'Cupcakes',\n",
       "       'Bangladeshi', 'Austrian', 'Persian/Iranian', 'Personal Shopping',\n",
       "       'Pet Sitting', 'Pet Services', 'Pet Boarding', 'Pet Groomers',\n",
       "       'Beverage Store', 'Barbers', \"Men's Hair Salons\",\n",
       "       'Bed & Breakfast', 'Cafeteria', 'Creperies', 'Airports',\n",
       "       'Tutoring Centers', 'Airport Terminals', 'Massage',\n",
       "       'Massage Therapy', 'Ukrainian', 'Trinidadian', 'Honduran',\n",
       "       'Gelato', 'Personal Injury Law', 'Business Law', 'Contract Law',\n",
       "       'Real Estate Law', 'Lawyers', 'Employment Law', 'Legal Services',\n",
       "       'Divorce & Family Law', 'General Litigation', 'Medical Spas',\n",
       "       'Scandinavian', 'Home Decor', 'Furniture Stores', 'Appliances',\n",
       "       'Mattresses', 'New Mexican Cuisine', 'Wholesalers',\n",
       "       'Nurseries & Gardening', 'Water Stores', 'Argentine', 'Investing',\n",
       "       'Financial Services', 'Banks & Credit Unions',\n",
       "       'Auto Loan Providers', 'Child Care & Day Care', 'Irish',\n",
       "       'Scottish', 'Contractors', 'Countertop Installation',\n",
       "       'Building Supplies', 'Kitchen & Bath', 'Security Systems',\n",
       "       'Souvenir Shops', 'Jewelry', 'Gift Shops', 'Brewpubs',\n",
       "       'Himalayan/Nepalese', 'Hunting & Fishing Supplies', 'Car Wash',\n",
       "       'Herbal Shops', 'Public Markets', 'Motorcycle Dealers', 'Arcades',\n",
       "       'Mini Golf', 'Laser Tag', 'Hobby Shops',\n",
       "       'Departments of Motor Vehicles', 'Olive Oil', 'Tea Rooms',\n",
       "       'Country Clubs', 'Patisserie/Cake Shop', 'Herbs & Spices',\n",
       "       'Singaporean', 'Home Theatre Installation', 'TV Mounting',\n",
       "       'Preschools', 'Elementary Schools', 'Lahmacun', 'Art Galleries',\n",
       "       'Oriental', 'Delicatessen', 'Afghan', 'Pasta Shops',\n",
       "       'Adult Education', 'Specialty Schools', 'Cooking Schools',\n",
       "       'International', 'Candy Stores', 'Pest Control',\n",
       "       'Billing Services', 'Sports Wear', 'Cosmetics & Beauty Supply',\n",
       "       'Skin Care', 'Art Classes', 'Perfume', 'Tonkatsu', 'Donburi',\n",
       "       'CSA', 'Hungarian', 'Georgian', 'Amusement Parks', 'Farms'],\n",
       "      dtype=object)"
      ]
     },
     "execution_count": 23,
     "metadata": {},
     "output_type": "execute_result"
    }
   ],
   "source": [
    "\n",
    "# generalist_categories = df_by[df_by['group'] == 'Generalist']['categories'].unique()\n",
    "# generalist_categories = df_by[df_by['group'].apply(lambda x: 'Generalist' in x)]['categories'].unique()\n",
    "# generalist_categories = df_by[df_by['group'].apply(lambda x: 'Generalist' in x if x is not None else False)]['categories'].unique()\n",
    "\n",
    "# Filter rows where 'group' is 'Generalist'\n",
    "generalist_rows = df_by[df_by['group'].apply(lambda x: 'Generalist' in x if x is not None else False)]\n",
    "\n",
    "# Flatten the lists of categories and get unique categories\n",
    "generalist_categories = pd.unique([category for sublist in generalist_rows['categories'] for category in sublist])\n",
    "generalist_categories"
   ]
  },
  {
   "cell_type": "markdown",
   "metadata": {},
   "source": [
    "# KPI 3: Mejorar la tasa de diferencia entre reviews y respuestas \n",
    "\"Aumentar la calidad de la comunicación a través de un mejor ratio respuestas por comentarios y  disminuir el tiempo promedio de respuestas\"\n",
    "\n",
    "kpi = (ratio respuestas/review * rango tiempo) + sentiment_resp promedio\n",
    "\n",
    "Métricas: respuesta/review, tiempo promedio y sentiment_resp promedio           \n",
    "    se puede hacer con: business_id, resp time != 0 o != NaT, resp_sentiment !=0, date con formato H M S            \n",
    "    reviews_google.parquet.gz         "
   ]
  },
  {
   "cell_type": "code",
   "execution_count": null,
   "metadata": {},
   "outputs": [
    {
     "name": "stderr",
     "output_type": "stream",
     "text": [
      "/tmp/ipykernel_65112/434147560.py:15: SettingWithCopyWarning: \n",
      "A value is trying to be set on a copy of a slice from a DataFrame.\n",
      "Try using .loc[row_indexer,col_indexer] = value instead\n",
      "\n",
      "See the caveats in the documentation: https://pandas.pydata.org/pandas-docs/stable/user_guide/indexing.html#returning-a-view-versus-a-copy\n",
      "  filtered_df['tiempo_diff'] = (filtered_df['resp_date'] - filtered_df['date']).dt.total_seconds() / 3600\n"
     ]
    },
    {
     "data": {
      "text/html": [
       "<div>\n",
       "<style scoped>\n",
       "    .dataframe tbody tr th:only-of-type {\n",
       "        vertical-align: middle;\n",
       "    }\n",
       "\n",
       "    .dataframe tbody tr th {\n",
       "        vertical-align: top;\n",
       "    }\n",
       "\n",
       "    .dataframe thead th {\n",
       "        text-align: right;\n",
       "    }\n",
       "</style>\n",
       "<table border=\"1\" class=\"dataframe\">\n",
       "  <thead>\n",
       "    <tr style=\"text-align: right;\">\n",
       "      <th></th>\n",
       "      <th>ratio_resp</th>\n",
       "      <th>tiempo_resp</th>\n",
       "      <th>sentiment_resp</th>\n",
       "    </tr>\n",
       "    <tr>\n",
       "      <th>name</th>\n",
       "      <th></th>\n",
       "      <th></th>\n",
       "      <th></th>\n",
       "    </tr>\n",
       "  </thead>\n",
       "  <tbody>\n",
       "    <tr>\n",
       "      <th>\"SAVE ME SOME\"</th>\n",
       "      <td>1.0</td>\n",
       "      <td>659.478385</td>\n",
       "      <td>0.036506</td>\n",
       "    </tr>\n",
       "    <tr>\n",
       "      <th>$</th>\n",
       "      <td>1.0</td>\n",
       "      <td>5.233475</td>\n",
       "      <td>0.260000</td>\n",
       "    </tr>\n",
       "    <tr>\n",
       "      <th>&amp;pizza - Union</th>\n",
       "      <td>1.0</td>\n",
       "      <td>145.870820</td>\n",
       "      <td>0.322729</td>\n",
       "    </tr>\n",
       "    <tr>\n",
       "      <th>1-800-Lucky</th>\n",
       "      <td>1.0</td>\n",
       "      <td>485.512549</td>\n",
       "      <td>0.262305</td>\n",
       "    </tr>\n",
       "    <tr>\n",
       "      <th>1000 Degrees Pizza Salad Wings</th>\n",
       "      <td>1.0</td>\n",
       "      <td>60.364812</td>\n",
       "      <td>0.356418</td>\n",
       "    </tr>\n",
       "    <tr>\n",
       "      <th>...</th>\n",
       "      <td>...</td>\n",
       "      <td>...</td>\n",
       "      <td>...</td>\n",
       "    </tr>\n",
       "    <tr>\n",
       "      <th>zpizza</th>\n",
       "      <td>1.0</td>\n",
       "      <td>9851.357478</td>\n",
       "      <td>0.483540</td>\n",
       "    </tr>\n",
       "    <tr>\n",
       "      <th>“Tacos El Patrón” Mexican Food Truck</th>\n",
       "      <td>1.0</td>\n",
       "      <td>343.280732</td>\n",
       "      <td>0.387500</td>\n",
       "    </tr>\n",
       "    <tr>\n",
       "      <th>关东大院</th>\n",
       "      <td>1.0</td>\n",
       "      <td>112.172740</td>\n",
       "      <td>0.312500</td>\n",
       "    </tr>\n",
       "    <tr>\n",
       "      <th>짬뽕나라&amp;명가맛집</th>\n",
       "      <td>1.0</td>\n",
       "      <td>10.487150</td>\n",
       "      <td>0.392424</td>\n",
       "    </tr>\n",
       "    <tr>\n",
       "      <th>🥇 Nectar Lab Kava Bar</th>\n",
       "      <td>1.0</td>\n",
       "      <td>1279.970027</td>\n",
       "      <td>0.239198</td>\n",
       "    </tr>\n",
       "  </tbody>\n",
       "</table>\n",
       "<p>6196 rows × 3 columns</p>\n",
       "</div>"
      ],
      "text/plain": [
       "                                      ratio_resp  tiempo_resp  sentiment_resp\n",
       "name                                                                         \n",
       "\"SAVE ME SOME\"                               1.0   659.478385        0.036506\n",
       "$                                            1.0     5.233475        0.260000\n",
       "&pizza - Union                               1.0   145.870820        0.322729\n",
       "1-800-Lucky                                  1.0   485.512549        0.262305\n",
       "1000 Degrees Pizza Salad Wings               1.0    60.364812        0.356418\n",
       "...                                          ...          ...             ...\n",
       "zpizza                                       1.0  9851.357478        0.483540\n",
       "“Tacos El Patrón” Mexican Food Truck         1.0   343.280732        0.387500\n",
       "关东大院                                         1.0   112.172740        0.312500\n",
       "짬뽕나라&명가맛집                                    1.0    10.487150        0.392424\n",
       "🥇 Nectar Lab Kava Bar                        1.0  1279.970027        0.239198\n",
       "\n",
       "[6196 rows x 3 columns]"
      ]
     },
     "execution_count": 74,
     "metadata": {},
     "output_type": "execute_result"
    }
   ],
   "source": [
    "# Convertir 'date' y 'resp_date' al formato datetime\n",
    "df_rg['date'] = pd.to_datetime(df_rg['date'], format='%Y-%m-%d %H:%M:%S.%f', errors='coerce')\n",
    "df_rg['resp_date'] = pd.to_datetime(df_rg['resp_date'], format='%Y-%m-%d %H:%M:%S.%f', errors='coerce')\n",
    "\n",
    "# Fusionar los dataframes en 'gmap_id'\n",
    "merged_df = pd.merge(df_rg, df_bg, on='gmap_id', how='inner')\n",
    "\n",
    "# Filtrar las filas donde 'resp_time' no es NaT\n",
    "filtered_df = merged_df[~pd.isna(merged_df['resp_date'])]\n",
    "\n",
    "# Calcular la ratio de respuesta/review\n",
    "ratio_resp_review = filtered_df.groupby('name').size()\n",
    "\n",
    "# Calcular la diferencia de tiempo en horas\n",
    "filtered_df['tiempo_diff'] = (filtered_df['resp_date'] - filtered_df['date']).dt.total_seconds() / 3600\n",
    "\n",
    "# Calcular el sentiment_resp promedio\n",
    "sentiment_resp_promedio = filtered_df.groupby('name')['resp_sentiment'].mean()\n",
    "\n",
    "# Mostrar los resultados en un nuevo DataFrame\n",
    "result_df = pd.DataFrame({\n",
    "    'ratio_resp': ratio_resp_review.values / filtered_df.groupby('name').size().values,\n",
    "    'tiempo_resp': filtered_df.groupby('name')['tiempo_diff'].mean(),\n",
    "    'sentiment_resp': sentiment_resp_promedio.values\n",
    "})\n",
    "result_df"
   ]
  },
  {
   "cell_type": "code",
   "execution_count": null,
   "metadata": {},
   "outputs": [],
   "source": [
    "import matplotlib.pyplot as plt\n",
    "import seaborn as sns\n",
    "\n",
    "# Establecer el estilo de Seaborn\n",
    "sns.set(style=\"whitegrid\")\n",
    "\n",
    "# Crear un gráfico de barras múltiples para cada métrica\n",
    "plt.figure(figsize=(12, 8))\n",
    "sns.barplot(x=result_df.index, y='ratio_resp', data=result_df, color='blue', label='Ratio Respuesta/Review')\n",
    "sns.barplot(x=result_df.index, y='tiempo_resp', data=result_df, color='orange', label='Tiempo Respuesta (horas)')\n",
    "sns.barplot(x=result_df.index, y='sentiment_resp', data=result_df, color='green', label='Sentimiento Respuesta')\n",
    "\n",
    "# Añadir título y etiquetas de los ejes\n",
    "plt.title('Métricas por Negocio')\n",
    "plt.xlabel('Negocio')\n",
    "plt.ylabel('Valor')\n",
    "\n",
    "# Rotar los nombres de los negocios para mejorar la legibilidad\n",
    "plt.xticks(rotation=90)\n",
    "\n",
    "# Añadir leyenda\n",
    "plt.legend()\n",
    "\n",
    "# Mostrar el gráfico\n",
    "plt.show()\n"
   ]
  },
  {
   "cell_type": "markdown",
   "metadata": {},
   "source": [
    "# KPI 4: Aumentar 5% la tasa de retención de cliente            \n",
    "Métricas: count distinct usuario con reviews > 1\n",
    "    reviews_google.parquet.gz           \n",
    "segun distribucion de datos, x > 1 es valido para decir que es cliente habitual          \n",
    "establecer rangos"
   ]
  },
  {
   "cell_type": "code",
   "execution_count": null,
   "metadata": {},
   "outputs": [
    {
     "name": "stdout",
     "output_type": "stream",
     "text": [
      "Tasa de retención: 39.86%\n",
      "Objetivo: 41.85%\n",
      "Usuarios repetidos necesarios: 27275\n"
     ]
    }
   ],
   "source": [
    "# Convertir 'date' al formato datetime\n",
    "df_rg['date'] = pd.to_datetime(df_rg['date'], format='%Y-%m-%d %H:%M:%S.%f', errors='coerce')\n",
    "\n",
    "# Filtrar usuarios con más de 1 review\n",
    "usuarios_repetidos = df_rg['user_id'][df_rg.groupby('user_id')['date'].transform('count') > 1].nunique()\n",
    "\n",
    "# Número total de usuarios distintos\n",
    "usuarios_totales = df_rg['user_id'].nunique()\n",
    "\n",
    "# Calcular la tasa de retención actual\n",
    "tasa_retencion_actual = usuarios_repetidos / usuarios_totales\n",
    "\n",
    "# Calcular la tasa de retención objetivo (aumento del 5%)\n",
    "tasa_retencion_objetivo = tasa_retencion_actual * 1.05\n",
    "\n",
    "# Calcular el número adicional de usuarios repetidos necesarios para alcanzar el objetivo\n",
    "usuarios_repetidos_necesarios = int(usuarios_totales * tasa_retencion_objetivo) - usuarios_repetidos\n",
    "\n",
    "# Mostrar los resultados\n",
    "print(f\"Tasa de retención: {tasa_retencion_actual:.2%}\")\n",
    "print(f\"Objetivo: {tasa_retencion_objetivo:.2%}\")\n",
    "print(f\"Usuarios repetidos necesarios: {usuarios_repetidos_necesarios}\")\n"
   ]
  },
  {
   "cell_type": "markdown",
   "metadata": {},
   "source": [
    "KPIs:\n",
    "\n",
    "Enfoque técnico: Optimización del alcance y calidad del servicio      \n",
    "\n",
    "KPI 1: Mejorar un 10% la accesibilidad de los restaurantes en Florida      \n",
    "Métricas: Cantidad de restaurantes por estado cada 1000 habitantes        \n",
    "    business_google.json.gz         \n",
    "\n",
    "KPI 2: Aumento 5% rating promedio por grupo de categorías \n",
    "Métricas: correlación entre group y stars a través del tiempo  \n",
    "    business_yelp.json.gz  \n",
    "\n",
    "\n",
    "Enfoque orgánico: Networking            \n",
    "\n",
    "KPI 3: Mejorar la tasa de diferencia entre reviews y respuestas \n",
    "\"Aumentar la calidad de la comunicación a través de un mejor ratio respuestas por comentarios y  disminuir el tiempo promedio de respuestas\"\n",
    "\n",
    "kpi = (ratio respuestas/review * rango tiempo) + sentiment_resp promedio\n",
    "\n",
    "Métricas: respuesta/review, tiempo promedio y sentiment_resp promedio\n",
    "    se puede hacer con: business_id, resp time != 0, sentiment_score !=0, date             \n",
    "    reviews_google.parquet.gz           \n",
    "\n",
    "KPI 4: Aumentar 5% la tasa de retención de cliente            \n",
    "Métricas: count distinct usuario con reviews > 1\n",
    "    reviews_google.parquet.gz           \n",
    "segun distribucion de datos, x > 1 es valido para decir que es cliente habitual?           \n",
    "establecer rangos\n",
    "\n",
    "KPI 5: Aumentar 10% reviews de usuarios poco influyentes y 1% muy influyente            \n",
    "Métricas: Cantidad de usuarios inluyentes y poco influyentes         \n",
    "    users_yelp.parquet.gz \n",
    "    rango influencia: \n",
    "\n",
    "    \n",
    "metricas        \n",
    "ratio useful/review-count       \n",
    "distribucion de reviews por mes"
   ]
  },
  {
   "cell_type": "markdown",
   "metadata": {},
   "source": [
    "Sistema de recomendación para empresas: Análisis de ubicación       \n",
    "    Por cantidad competencia en la zona     \n",
    "    Por calidad competencia en la zona      \n",
    "    Por horario por atributo            \n",
    "Sistema de recomendación para empresas: Publicidad      \n",
    "    Promoción por gustos del usuario        \n",
    "    Por gustos de usuarios similares        \n",
    "    Por gustos de amigos del usuario        \n"
   ]
  },
  {
   "cell_type": "markdown",
   "metadata": {},
   "source": [
    "### KPI 5: Aumentar 10% reviews de usuarios poco influyentes y 1% muy influyente            \n",
    "Métricas: Cantidad de usuarios por rango influencia         \n",
    "    users_yelp.parquet.gz \n"
   ]
  },
  {
   "cell_type": "code",
   "execution_count": null,
   "metadata": {},
   "outputs": [
    {
     "data": {
      "text/plain": [
       "{'Usuarios por influencia': {0: 340388, 1: 12586, 2: 271},\n",
       " 'Objetivo usuarios influyentes': 34038,\n",
       " 'Objetivo usuarios muy influyentes': 125}"
      ]
     },
     "execution_count": 69,
     "metadata": {},
     "output_type": "execute_result"
    }
   ],
   "source": [
    "# Definir rangos de influencia\n",
    "def rango_influyente(cant_fans):\n",
    "    if cant_fans < 10:\n",
    "        return 0  # Bajo influencia\n",
    "    elif cant_fans < 100:\n",
    "        return 1  # Moderada influencia\n",
    "    else:\n",
    "        return 2  # Alta influencia\n",
    "\n",
    "# Aplicar la función de influencia para crear la columna 'influence'\n",
    "df_uy['influence'] = df_uy['review_count'].apply(rango_influyente)\n",
    "\n",
    "# Calcular la cantidad de usuarios en cada rango de influencia\n",
    "usuarios_por_influencia = df_uy.groupby('influence').size().to_dict()\n",
    "\n",
    "# Calcular los objetivos de aumento\n",
    "objetivo_aumento_bajo = int(usuarios_por_influencia.get(0, 0) * 0.10)\n",
    "objetivo_aumento_medio = int(usuarios_por_influencia.get(1, 0) * 0.01)\n",
    "\n",
    "# Mostrar los resultados en un diccionario\n",
    "kpi5_metrics = {\n",
    "    'Usuarios por influencia': usuarios_por_influencia,\n",
    "    'Objetivo usuarios influyentes': objetivo_aumento_bajo,\n",
    "    'Objetivo usuarios muy influyentes': objetivo_aumento_medio\n",
    "}\n",
    "kpi5_metrics\n"
   ]
  },
  {
   "cell_type": "code",
   "execution_count": null,
   "metadata": {},
   "outputs": [
    {
     "name": "stderr",
     "output_type": "stream",
     "text": [
      "/tmp/ipykernel_65112/1390716702.py:9: FutureWarning: \n",
      "\n",
      "Passing `palette` without assigning `hue` is deprecated and will be removed in v0.14.0. Assign the `x` variable to `hue` and set `legend=False` for the same effect.\n",
      "\n",
      "  ax = sns.barplot(df_uy['influence'].value_counts(), palette='deep')\n"
     ]
    },
    {
     "data": {
      "image/png": "[encoded data removed]",
      "text/plain": [
       "<Figure size 1200x600 with 1 Axes>"
      ]
     },
     "metadata": {},
     "output_type": "display_data"
    }
   ],
   "source": [
    "import pandas as pd\n",
    "import matplotlib.pyplot as plt\n",
    "import seaborn as sns\n",
    "\n",
    "# Crear una figura con un tamaño específico\n",
    "plt.figure(figsize=(12, 6))\n",
    "\n",
    "# Crear un gráfico de barras utilizando Seaborn\n",
    "ax = sns.barplot(df_uy['influence'].value_counts(), palette='deep')\n",
    "\n",
    "# Añadir título al gráfico\n",
    "plt.title('Distribución de influencia')\n",
    "\n",
    "# Etiquetas de los ejes\n",
    "plt.xlabel('Tipo de influencia')\n",
    "plt.ylabel('Cantidad de usuarios')\n",
    "\n",
    "# Añadir etiquetas con porcentaje en la parte superior de las barras\n",
    "for i, valor in enumerate(df_uy['influence'].value_counts()):\n",
    "    porcentaje = round(valor / (len(df_uy)), 3)\n",
    "    ax.annotate(f\"{porcentaje}\", (i, valor), ha='center', va='bottom')\n",
    "\n",
    "# Añadir etiquetas personalizadas en el eje x\n",
    "plt.xticks([0, 1, 2], ['Nada influyente', 'Poco influyente', 'Muy influyente'])\n",
    "\n",
    "# Mostrar el gráfico\n",
    "plt.show()\n"
   ]
  }
 ],
 "metadata": {
  "kernelspec": {
   "display_name": ".venv",
   "language": "python",
   "name": "python3"
  },
  "language_info": {
   "codemirror_mode": {
    "name": "ipython",
    "version": 3
   },
   "file_extension": ".py",
   "mimetype": "text/x-python",
   "name": "python",
   "nbconvert_exporter": "python",
   "pygments_lexer": "ipython3",
   "version": "3.11.6"
  }
 },
 "nbformat": 4,
 "nbformat_minor": 2
}
