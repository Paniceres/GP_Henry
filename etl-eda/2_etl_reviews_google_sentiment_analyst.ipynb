{
  "cells": [
    {
      "cell_type": "code",
      "execution_count": 21,
      "metadata": {
        "id": "dy9Kk6PVk7Kl"
      },
      "outputs": [],
      "source": [
        "import pandas as pd\n",
        "import os\n",
        "import matplotlib.pyplot as plt\n",
        "import seaborn as sns\n",
        "import numpy as np\n"
      ]
    },
    {
      "cell_type": "code",
      "execution_count": 22,
      "metadata": {},
      "outputs": [],
      "source": [
        "ruta ='../extras/Google Maps/reviews-estados'"
      ]
    },
    {
      "cell_type": "code",
      "execution_count": 23,
      "metadata": {
        "id": "QDWDr3R7-D-7"
      },
      "outputs": [],
      "source": [
        "metadata_google = pd.read_json('../extras/Google Maps/bussiness_google.json.gz', compression='gzip')\n"
      ]
    },
    {
      "cell_type": "markdown",
      "metadata": {},
      "source": [
        "Cargo los datasets de los estados seleccionados en uno unico"
      ]
    },
    {
      "cell_type": "code",
      "execution_count": 24,
      "metadata": {
        "id": "gg3yKAmQlOmm"
      },
      "outputs": [],
      "source": [
        "estados = ['California', 'New_Jersey', 'Florida', 'Illinois']  # Datasets usados para el estudio\n",
        "\n",
        "df_states = pd.DataFrame()\n",
        "\n",
        "for estado in estados:\n",
        "    ruta_archivo = f'{ruta}/review-{estado}/all_{estado}.parquet'\n",
        "    review_estado = pd.read_parquet(ruta_archivo)\n",
        "\n",
        "    # Agrega la columna 'state' con el valor del estado actual\n",
        "    review_estado['state'] = estado\n",
        "\n",
        "    df_states = pd.concat([df_states, review_estado], ignore_index=True)\n",
        "\n",
        "# df_states ahora contiene la concatenación de todos los DataFrames de los diferentes estados, con la columna 'state' agregada\n"
      ]
    },
    {
      "cell_type": "markdown",
      "metadata": {},
      "source": [
        "Normalizo un estado"
      ]
    },
    {
      "cell_type": "code",
      "execution_count": 25,
      "metadata": {},
      "outputs": [],
      "source": [
        "df_states['state'].replace('New_Jersey','New Jersey',inplace=True)"
      ]
    },
    {
      "cell_type": "code",
      "execution_count": 26,
      "metadata": {
        "colab": {
          "base_uri": "https://localhost:8080/",
          "height": 650
        },
        "id": "flRXjJX0-bJ8",
        "outputId": "6b756db3-991d-430e-e4f9-889ba2d0159e"
      },
      "outputs": [
        {
          "data": {
            "text/html": [
              "<div>\n",
              "<style scoped>\n",
              "    .dataframe tbody tr th:only-of-type {\n",
              "        vertical-align: middle;\n",
              "    }\n",
              "\n",
              "    .dataframe tbody tr th {\n",
              "        vertical-align: top;\n",
              "    }\n",
              "\n",
              "    .dataframe thead th {\n",
              "        text-align: right;\n",
              "    }\n",
              "</style>\n",
              "<table border=\"1\" class=\"dataframe\">\n",
              "  <thead>\n",
              "    <tr style=\"text-align: right;\">\n",
              "      <th></th>\n",
              "      <th>user_id</th>\n",
              "      <th>name</th>\n",
              "      <th>time</th>\n",
              "      <th>rating</th>\n",
              "      <th>text</th>\n",
              "      <th>pics</th>\n",
              "      <th>gmap_id</th>\n",
              "      <th>resp_time</th>\n",
              "      <th>resp_text</th>\n",
              "      <th>state</th>\n",
              "    </tr>\n",
              "  </thead>\n",
              "  <tbody>\n",
              "    <tr>\n",
              "      <th>0</th>\n",
              "      <td>1.089912e+20</td>\n",
              "      <td>Song Ro</td>\n",
              "      <td>2021-01-06 05:12:07.056</td>\n",
              "      <td>5</td>\n",
              "      <td>Love there korean rice cake.</td>\n",
              "      <td>None</td>\n",
              "      <td>0x80c2c778e3b73d33:0xbdc58662a4a97d49</td>\n",
              "      <td>NaT</td>\n",
              "      <td>None</td>\n",
              "      <td>California</td>\n",
              "    </tr>\n",
              "    <tr>\n",
              "      <th>1</th>\n",
              "      <td>1.112903e+20</td>\n",
              "      <td>Rafa Robles</td>\n",
              "      <td>2021-02-09 05:47:28.663</td>\n",
              "      <td>5</td>\n",
              "      <td>Good very good</td>\n",
              "      <td>None</td>\n",
              "      <td>0x80c2c778e3b73d33:0xbdc58662a4a97d49</td>\n",
              "      <td>NaT</td>\n",
              "      <td>None</td>\n",
              "      <td>California</td>\n",
              "    </tr>\n",
              "    <tr>\n",
              "      <th>2</th>\n",
              "      <td>1.126404e+20</td>\n",
              "      <td>David Han</td>\n",
              "      <td>2020-03-08 05:04:42.296</td>\n",
              "      <td>4</td>\n",
              "      <td>They make Korean traditional food very properly.</td>\n",
              "      <td>None</td>\n",
              "      <td>0x80c2c778e3b73d33:0xbdc58662a4a97d49</td>\n",
              "      <td>NaT</td>\n",
              "      <td>None</td>\n",
              "      <td>California</td>\n",
              "    </tr>\n",
              "    <tr>\n",
              "      <th>3</th>\n",
              "      <td>1.174403e+20</td>\n",
              "      <td>Anthony Kim</td>\n",
              "      <td>2019-03-07 05:56:56.355</td>\n",
              "      <td>5</td>\n",
              "      <td>Short ribs are very delicious.</td>\n",
              "      <td>None</td>\n",
              "      <td>0x80c2c778e3b73d33:0xbdc58662a4a97d49</td>\n",
              "      <td>NaT</td>\n",
              "      <td>None</td>\n",
              "      <td>California</td>\n",
              "    </tr>\n",
              "    <tr>\n",
              "      <th>4</th>\n",
              "      <td>1.005808e+20</td>\n",
              "      <td>Mario Marzouk</td>\n",
              "      <td>2017-05-16 05:01:41.933</td>\n",
              "      <td>5</td>\n",
              "      <td>Great food and prices the portions are large</td>\n",
              "      <td>None</td>\n",
              "      <td>0x80c2c778e3b73d33:0xbdc58662a4a97d49</td>\n",
              "      <td>NaT</td>\n",
              "      <td>None</td>\n",
              "      <td>California</td>\n",
              "    </tr>\n",
              "  </tbody>\n",
              "</table>\n",
              "</div>"
            ],
            "text/plain": [
              "        user_id           name                    time  rating  \\\n",
              "0  1.089912e+20        Song Ro 2021-01-06 05:12:07.056       5   \n",
              "1  1.112903e+20    Rafa Robles 2021-02-09 05:47:28.663       5   \n",
              "2  1.126404e+20      David Han 2020-03-08 05:04:42.296       4   \n",
              "3  1.174403e+20    Anthony Kim 2019-03-07 05:56:56.355       5   \n",
              "4  1.005808e+20  Mario Marzouk 2017-05-16 05:01:41.933       5   \n",
              "\n",
              "                                               text  pics  \\\n",
              "0                      Love there korean rice cake.  None   \n",
              "1                                    Good very good  None   \n",
              "2  They make Korean traditional food very properly.  None   \n",
              "3                    Short ribs are very delicious.  None   \n",
              "4      Great food and prices the portions are large  None   \n",
              "\n",
              "                                 gmap_id resp_time resp_text       state  \n",
              "0  0x80c2c778e3b73d33:0xbdc58662a4a97d49       NaT      None  California  \n",
              "1  0x80c2c778e3b73d33:0xbdc58662a4a97d49       NaT      None  California  \n",
              "2  0x80c2c778e3b73d33:0xbdc58662a4a97d49       NaT      None  California  \n",
              "3  0x80c2c778e3b73d33:0xbdc58662a4a97d49       NaT      None  California  \n",
              "4  0x80c2c778e3b73d33:0xbdc58662a4a97d49       NaT      None  California  "
            ]
          },
          "execution_count": 26,
          "metadata": {},
          "output_type": "execute_result"
        }
      ],
      "source": [
        "df_states.head()"
      ]
    },
    {
      "cell_type": "markdown",
      "metadata": {},
      "source": [
        "Elimino duplicados en user_id time y gmap_id en conjunto"
      ]
    },
    {
      "cell_type": "code",
      "execution_count": 27,
      "metadata": {
        "id": "S15KWUOLmXxl"
      },
      "outputs": [],
      "source": [
        "df_states.drop_duplicates(subset=['user_id','time','gmap_id'],inplace=True)"
      ]
    },
    {
      "cell_type": "markdown",
      "metadata": {},
      "source": [
        "Elimino la columna pics que no sera usada"
      ]
    },
    {
      "cell_type": "code",
      "execution_count": 28,
      "metadata": {
        "id": "zpnTTBQlmZFd"
      },
      "outputs": [],
      "source": [
        "df_states.drop(columns='pics',inplace=True)\n"
      ]
    },
    {
      "cell_type": "code",
      "execution_count": 29,
      "metadata": {
        "colab": {
          "base_uri": "https://localhost:8080/",
          "height": 397
        },
        "id": "4WO-Tu9Gmah1",
        "outputId": "1da8c361-b29c-41e4-80eb-4be510dc1f52"
      },
      "outputs": [
        {
          "data": {
            "text/html": [
              "<div>\n",
              "<style scoped>\n",
              "    .dataframe tbody tr th:only-of-type {\n",
              "        vertical-align: middle;\n",
              "    }\n",
              "\n",
              "    .dataframe tbody tr th {\n",
              "        vertical-align: top;\n",
              "    }\n",
              "\n",
              "    .dataframe thead th {\n",
              "        text-align: right;\n",
              "    }\n",
              "</style>\n",
              "<table border=\"1\" class=\"dataframe\">\n",
              "  <thead>\n",
              "    <tr style=\"text-align: right;\">\n",
              "      <th></th>\n",
              "      <th>user_id</th>\n",
              "      <th>name</th>\n",
              "      <th>time</th>\n",
              "      <th>rating</th>\n",
              "      <th>text</th>\n",
              "      <th>gmap_id</th>\n",
              "      <th>resp_time</th>\n",
              "      <th>resp_text</th>\n",
              "      <th>state</th>\n",
              "    </tr>\n",
              "  </thead>\n",
              "  <tbody>\n",
              "    <tr>\n",
              "      <th>1115214</th>\n",
              "      <td>1.168975e+20</td>\n",
              "      <td>Alan Hernandez</td>\n",
              "      <td>2020-01-14 05:41:15.939</td>\n",
              "      <td>4</td>\n",
              "      <td>None</td>\n",
              "      <td>0x80daf95decf9fe77:0xbcf57e3ec378be10</td>\n",
              "      <td>NaT</td>\n",
              "      <td>None</td>\n",
              "      <td>California</td>\n",
              "    </tr>\n",
              "    <tr>\n",
              "      <th>5802969</th>\n",
              "      <td>1.113231e+20</td>\n",
              "      <td>Emil Esmurdoc</td>\n",
              "      <td>2021-06-11 14:52:57.633</td>\n",
              "      <td>5</td>\n",
              "      <td>None</td>\n",
              "      <td>0x88d9bb3fce77dbbb:0xaafa88db11af4375</td>\n",
              "      <td>NaT</td>\n",
              "      <td>None</td>\n",
              "      <td>Florida</td>\n",
              "    </tr>\n",
              "    <tr>\n",
              "      <th>6221688</th>\n",
              "      <td>1.100853e+20</td>\n",
              "      <td>Maria Manjelo</td>\n",
              "      <td>2021-04-02 22:22:28.276</td>\n",
              "      <td>5</td>\n",
              "      <td>Worth the wait. Very delicious, outstanding se...</td>\n",
              "      <td>0x88e4279668c1a2f1:0x8c1cd12f09764aeb</td>\n",
              "      <td>NaT</td>\n",
              "      <td>None</td>\n",
              "      <td>Florida</td>\n",
              "    </tr>\n",
              "    <tr>\n",
              "      <th>1431247</th>\n",
              "      <td>1.053027e+20</td>\n",
              "      <td>Jon Dale</td>\n",
              "      <td>2021-03-10 06:33:27.686</td>\n",
              "      <td>5</td>\n",
              "      <td>None</td>\n",
              "      <td>0x80dc7a69338e19f1:0xf9f01acc85b937ee</td>\n",
              "      <td>NaT</td>\n",
              "      <td>None</td>\n",
              "      <td>California</td>\n",
              "    </tr>\n",
              "    <tr>\n",
              "      <th>4434661</th>\n",
              "      <td>1.176328e+20</td>\n",
              "      <td>Charles Schmidt</td>\n",
              "      <td>2018-08-04 11:20:08.842</td>\n",
              "      <td>4</td>\n",
              "      <td>Very good.</td>\n",
              "      <td>0x89c18371fb9b35e7:0xd420e54ef4b4a7a1</td>\n",
              "      <td>NaT</td>\n",
              "      <td>None</td>\n",
              "      <td>New Jersey</td>\n",
              "    </tr>\n",
              "  </tbody>\n",
              "</table>\n",
              "</div>"
            ],
            "text/plain": [
              "              user_id             name                    time  rating  \\\n",
              "1115214  1.168975e+20   Alan Hernandez 2020-01-14 05:41:15.939       4   \n",
              "5802969  1.113231e+20    Emil Esmurdoc 2021-06-11 14:52:57.633       5   \n",
              "6221688  1.100853e+20    Maria Manjelo 2021-04-02 22:22:28.276       5   \n",
              "1431247  1.053027e+20         Jon Dale 2021-03-10 06:33:27.686       5   \n",
              "4434661  1.176328e+20  Charles Schmidt 2018-08-04 11:20:08.842       4   \n",
              "\n",
              "                                                      text  \\\n",
              "1115214                                               None   \n",
              "5802969                                               None   \n",
              "6221688  Worth the wait. Very delicious, outstanding se...   \n",
              "1431247                                               None   \n",
              "4434661                                         Very good.   \n",
              "\n",
              "                                       gmap_id resp_time resp_text       state  \n",
              "1115214  0x80daf95decf9fe77:0xbcf57e3ec378be10       NaT      None  California  \n",
              "5802969  0x88d9bb3fce77dbbb:0xaafa88db11af4375       NaT      None     Florida  \n",
              "6221688  0x88e4279668c1a2f1:0x8c1cd12f09764aeb       NaT      None     Florida  \n",
              "1431247  0x80dc7a69338e19f1:0xf9f01acc85b937ee       NaT      None  California  \n",
              "4434661  0x89c18371fb9b35e7:0xd420e54ef4b4a7a1       NaT      None  New Jersey  "
            ]
          },
          "execution_count": 29,
          "metadata": {},
          "output_type": "execute_result"
        }
      ],
      "source": [
        "df_states.sample(5)"
      ]
    },
    {
      "cell_type": "markdown",
      "metadata": {},
      "source": [
        "Convierto la fecha a time"
      ]
    },
    {
      "cell_type": "code",
      "execution_count": 30,
      "metadata": {
        "id": "lcMeTvcS4511"
      },
      "outputs": [],
      "source": [
        "df_states['year'] = df_states['time'].dt.year"
      ]
    },
    {
      "cell_type": "code",
      "execution_count": 31,
      "metadata": {
        "colab": {
          "base_uri": "https://localhost:8080/"
        },
        "id": "lFwHFWCZ6Nyc",
        "outputId": "5d9d7b02-7e3d-4b64-e863-5535c0704cae"
      },
      "outputs": [
        {
          "data": {
            "text/plain": [
              "year\n",
              "2019    2708067\n",
              "2018    2131682\n",
              "2020    1759673\n",
              "2017    1179738\n",
              "2021    1025434\n",
              "2016     368949\n",
              "2015      80596\n",
              "2014      29503\n",
              "2013      20937\n",
              "2012      11331\n",
              "2011       8459\n",
              "2010       3465\n",
              "2009        385\n",
              "2008        190\n",
              "2007         94\n",
              "2006         75\n",
              "2005         61\n",
              "2004         39\n",
              "2003         23\n",
              "1990          8\n",
              "2002          6\n",
              "1999          1\n",
              "2001          1\n",
              "Name: count, dtype: int64"
            ]
          },
          "execution_count": 31,
          "metadata": {},
          "output_type": "execute_result"
        }
      ],
      "source": [
        "df_states['year'].value_counts()"
      ]
    },
    {
      "cell_type": "code",
      "execution_count": 32,
      "metadata": {
        "colab": {
          "base_uri": "https://localhost:8080/",
          "height": 519
        },
        "id": "uvRA8vjm5iNl",
        "outputId": "3bf5bc77-c126-4d0e-9410-3aebeb4167b2"
      },
      "outputs": [
        {
          "name": "stderr",
          "output_type": "stream",
          "text": [
            "C:\\Users\\bruno\\AppData\\Local\\Temp\\ipykernel_16916\\2547165849.py:1: UserWarning: Ignoring `palette` because no `hue` variable has been assigned.\n",
            "  sns.histplot(data=df_states[df_states['year']>2008],x='year',palette='dark',bins=10)\n"
          ]
        },
        {
          "data": {
            "image/png": "[encoded data removed]",
            "text/plain": [
              "<Figure size 640x480 with 1 Axes>"
            ]
          },
          "metadata": {},
          "output_type": "display_data"
        }
      ],
      "source": [
        "sns.histplot(data=df_states[df_states['year']>2008],x='year',palette='dark',bins=10)\n",
        "plt.show()"
      ]
    },
    {
      "cell_type": "markdown",
      "metadata": {
        "id": "0eS0w6iv9cNY"
      },
      "source": [
        "# Puede observarse que para años anteriores a 2016 las reseñas son insignificantes."
      ]
    },
    {
      "cell_type": "markdown",
      "metadata": {
        "id": "ahxs9UOnEe1I"
      },
      "source": [
        "# Hago una cruza con la data de los sitios de google para ver las reviews de restaurantes"
      ]
    },
    {
      "cell_type": "code",
      "execution_count": 33,
      "metadata": {
        "colab": {
          "base_uri": "https://localhost:8080/",
          "height": 206
        },
        "id": "QTjpp5m6Exug",
        "outputId": "6a8ce80b-2da4-42cf-f26b-498bff43e772"
      },
      "outputs": [
        {
          "data": {
            "text/html": [
              "<div>\n",
              "<style scoped>\n",
              "    .dataframe tbody tr th:only-of-type {\n",
              "        vertical-align: middle;\n",
              "    }\n",
              "\n",
              "    .dataframe tbody tr th {\n",
              "        vertical-align: top;\n",
              "    }\n",
              "\n",
              "    .dataframe thead th {\n",
              "        text-align: right;\n",
              "    }\n",
              "</style>\n",
              "<table border=\"1\" class=\"dataframe\">\n",
              "  <thead>\n",
              "    <tr style=\"text-align: right;\">\n",
              "      <th></th>\n",
              "      <th>gmap_id</th>\n",
              "      <th>latitude</th>\n",
              "      <th>longitude</th>\n",
              "      <th>category</th>\n",
              "      <th>stars</th>\n",
              "      <th>name</th>\n",
              "      <th>state</th>\n",
              "    </tr>\n",
              "  </thead>\n",
              "  <tbody>\n",
              "    <tr>\n",
              "      <th>688835</th>\n",
              "      <td>0x89c1064a0c0f7829:0x391334c82192c9f8</td>\n",
              "      <td>39.705614</td>\n",
              "      <td>-74.276500</td>\n",
              "      <td>['Chinese restaurant' 'Asian restaurant']</td>\n",
              "      <td>2.9</td>\n",
              "      <td>Golden Jade</td>\n",
              "      <td>New Jersey</td>\n",
              "    </tr>\n",
              "    <tr>\n",
              "      <th>408260</th>\n",
              "      <td>0x80dd32ad8f0a6df1:0x5f958683962b6b2f</td>\n",
              "      <td>33.888972</td>\n",
              "      <td>-118.122475</td>\n",
              "      <td>['Chicken restaurant']</td>\n",
              "      <td>4.7</td>\n",
              "      <td>Grandma's Chicken</td>\n",
              "      <td>California</td>\n",
              "    </tr>\n",
              "    <tr>\n",
              "      <th>470820</th>\n",
              "      <td>0x808df890c5bf4719:0x488b7ab5a8c7d120</td>\n",
              "      <td>36.672535</td>\n",
              "      <td>-121.641595</td>\n",
              "      <td>['Restaurant']</td>\n",
              "      <td>4.6</td>\n",
              "      <td>La Paloma</td>\n",
              "      <td>California</td>\n",
              "    </tr>\n",
              "    <tr>\n",
              "      <th>323588</th>\n",
              "      <td>0x80db7de50a3b8f11:0x6de79bf75c42a3b2</td>\n",
              "      <td>33.556156</td>\n",
              "      <td>-117.157928</td>\n",
              "      <td>['Sandwich shop' 'Caterer' 'Fast food restaura...</td>\n",
              "      <td>3.6</td>\n",
              "      <td>Subway</td>\n",
              "      <td>California</td>\n",
              "    </tr>\n",
              "    <tr>\n",
              "      <th>413778</th>\n",
              "      <td>0x80d95364e5802349:0xe28712ceb247bc81</td>\n",
              "      <td>32.716535</td>\n",
              "      <td>-117.140045</td>\n",
              "      <td>['Restaurant']</td>\n",
              "      <td>4.5</td>\n",
              "      <td>Golden Hill Cafe.</td>\n",
              "      <td>California</td>\n",
              "    </tr>\n",
              "  </tbody>\n",
              "</table>\n",
              "</div>"
            ],
            "text/plain": [
              "                                      gmap_id   latitude   longitude  \\\n",
              "688835  0x89c1064a0c0f7829:0x391334c82192c9f8  39.705614  -74.276500   \n",
              "408260  0x80dd32ad8f0a6df1:0x5f958683962b6b2f  33.888972 -118.122475   \n",
              "470820  0x808df890c5bf4719:0x488b7ab5a8c7d120  36.672535 -121.641595   \n",
              "323588  0x80db7de50a3b8f11:0x6de79bf75c42a3b2  33.556156 -117.157928   \n",
              "413778  0x80d95364e5802349:0xe28712ceb247bc81  32.716535 -117.140045   \n",
              "\n",
              "                                                 category  stars  \\\n",
              "688835          ['Chinese restaurant' 'Asian restaurant']    2.9   \n",
              "408260                             ['Chicken restaurant']    4.7   \n",
              "470820                                     ['Restaurant']    4.6   \n",
              "323588  ['Sandwich shop' 'Caterer' 'Fast food restaura...    3.6   \n",
              "413778                                     ['Restaurant']    4.5   \n",
              "\n",
              "                     name       state  \n",
              "688835        Golden Jade  New Jersey  \n",
              "408260  Grandma's Chicken  California  \n",
              "470820          La Paloma  California  \n",
              "323588             Subway  California  \n",
              "413778  Golden Hill Cafe.  California  "
            ]
          },
          "execution_count": 33,
          "metadata": {},
          "output_type": "execute_result"
        }
      ],
      "source": [
        "metadata_google.sample(5)"
      ]
    },
    {
      "cell_type": "code",
      "execution_count": 34,
      "metadata": {
        "colab": {
          "base_uri": "https://localhost:8080/",
          "height": 424
        },
        "id": "AlY8UMJaJlo6",
        "outputId": "bd6fc81b-f4ea-4bb3-ef94-e542de457c81"
      },
      "outputs": [
        {
          "data": {
            "text/html": [
              "<div>\n",
              "<style scoped>\n",
              "    .dataframe tbody tr th:only-of-type {\n",
              "        vertical-align: middle;\n",
              "    }\n",
              "\n",
              "    .dataframe tbody tr th {\n",
              "        vertical-align: top;\n",
              "    }\n",
              "\n",
              "    .dataframe thead th {\n",
              "        text-align: right;\n",
              "    }\n",
              "</style>\n",
              "<table border=\"1\" class=\"dataframe\">\n",
              "  <thead>\n",
              "    <tr style=\"text-align: right;\">\n",
              "      <th></th>\n",
              "      <th>gmap_id</th>\n",
              "      <th>category</th>\n",
              "    </tr>\n",
              "  </thead>\n",
              "  <tbody>\n",
              "    <tr>\n",
              "      <th>4</th>\n",
              "      <td>0x88db4147b1d9e6f3:0x943dbd10a92ba1b1</td>\n",
              "      <td>['Restaurant']</td>\n",
              "    </tr>\n",
              "    <tr>\n",
              "      <th>5</th>\n",
              "      <td>0x88c2e4e34f1ed783:0x76c5da381c499d79</td>\n",
              "      <td>['Buffet restaurant']</td>\n",
              "    </tr>\n",
              "    <tr>\n",
              "      <th>46</th>\n",
              "      <td>0x8890b9241e704667:0x3a1e565c17c00993</td>\n",
              "      <td>['Restaurant']</td>\n",
              "    </tr>\n",
              "    <tr>\n",
              "      <th>81</th>\n",
              "      <td>0x88e635378f43352f:0xa1b53c63436fa428</td>\n",
              "      <td>['Gas station' 'ATM' 'Convenience store' 'Rest...</td>\n",
              "    </tr>\n",
              "    <tr>\n",
              "      <th>156</th>\n",
              "      <td>0x88d9ab98b5baad79:0x1a2e3f0642a55246</td>\n",
              "      <td>['Mexican restaurant']</td>\n",
              "    </tr>\n",
              "    <tr>\n",
              "      <th>...</th>\n",
              "      <td>...</td>\n",
              "      <td>...</td>\n",
              "    </tr>\n",
              "    <tr>\n",
              "      <th>693466</th>\n",
              "      <td>0x89c3b2b8e9c8c357:0xb1b07826ef85a598</td>\n",
              "      <td>['Bar' 'Italian restaurant' 'Pub' 'Restaurant']</td>\n",
              "    </tr>\n",
              "    <tr>\n",
              "      <th>693471</th>\n",
              "      <td>0x89c24d60acc3ffff:0xc8048546518281f6</td>\n",
              "      <td>['Restaurant' 'Family restaurant']</td>\n",
              "    </tr>\n",
              "    <tr>\n",
              "      <th>693475</th>\n",
              "      <td>0x89c24d7a198a3541:0x3dcb8f429c053248</td>\n",
              "      <td>['American restaurant']</td>\n",
              "    </tr>\n",
              "    <tr>\n",
              "      <th>693478</th>\n",
              "      <td>0x89c3b290dcc12d6d:0x34ad59938efed577</td>\n",
              "      <td>['Latin American restaurant' 'Mexican restaura...</td>\n",
              "    </tr>\n",
              "    <tr>\n",
              "      <th>693485</th>\n",
              "      <td>0x89c17b3b65b4680d:0x40a43d960a97a0</td>\n",
              "      <td>['Pizza restaurant' 'Italian restaurant' 'Pizz...</td>\n",
              "    </tr>\n",
              "  </tbody>\n",
              "</table>\n",
              "<p>54906 rows × 2 columns</p>\n",
              "</div>"
            ],
            "text/plain": [
              "                                      gmap_id  \\\n",
              "4       0x88db4147b1d9e6f3:0x943dbd10a92ba1b1   \n",
              "5       0x88c2e4e34f1ed783:0x76c5da381c499d79   \n",
              "46      0x8890b9241e704667:0x3a1e565c17c00993   \n",
              "81      0x88e635378f43352f:0xa1b53c63436fa428   \n",
              "156     0x88d9ab98b5baad79:0x1a2e3f0642a55246   \n",
              "...                                       ...   \n",
              "693466  0x89c3b2b8e9c8c357:0xb1b07826ef85a598   \n",
              "693471  0x89c24d60acc3ffff:0xc8048546518281f6   \n",
              "693475  0x89c24d7a198a3541:0x3dcb8f429c053248   \n",
              "693478  0x89c3b290dcc12d6d:0x34ad59938efed577   \n",
              "693485    0x89c17b3b65b4680d:0x40a43d960a97a0   \n",
              "\n",
              "                                                 category  \n",
              "4                                          ['Restaurant']  \n",
              "5                                   ['Buffet restaurant']  \n",
              "46                                         ['Restaurant']  \n",
              "81      ['Gas station' 'ATM' 'Convenience store' 'Rest...  \n",
              "156                                ['Mexican restaurant']  \n",
              "...                                                   ...  \n",
              "693466    ['Bar' 'Italian restaurant' 'Pub' 'Restaurant']  \n",
              "693471                 ['Restaurant' 'Family restaurant']  \n",
              "693475                            ['American restaurant']  \n",
              "693478  ['Latin American restaurant' 'Mexican restaura...  \n",
              "693485  ['Pizza restaurant' 'Italian restaurant' 'Pizz...  \n",
              "\n",
              "[54906 rows x 2 columns]"
            ]
          },
          "execution_count": 34,
          "metadata": {},
          "output_type": "execute_result"
        }
      ],
      "source": [
        "metadata_google[['gmap_id','category']]"
      ]
    },
    {
      "cell_type": "markdown",
      "metadata": {},
      "source": [
        "Encuentro las review que por gmap_id pertenescan a los locales de restaurante."
      ]
    },
    {
      "cell_type": "code",
      "execution_count": 35,
      "metadata": {
        "id": "aVr3ptyBJvra"
      },
      "outputs": [],
      "source": [
        "df_states = df_states[df_states['gmap_id'].isin(metadata_google['gmap_id'])]"
      ]
    },
    {
      "cell_type": "markdown",
      "metadata": {},
      "source": [
        "## Analisis de sentimiento usando TextBlob"
      ]
    },
    {
      "cell_type": "code",
      "execution_count": 36,
      "metadata": {
        "id": "AUu6cCxDRun0"
      },
      "outputs": [],
      "source": [
        "from textblob import TextBlob\n"
      ]
    },
    {
      "cell_type": "code",
      "execution_count": 37,
      "metadata": {
        "id": "5CF_M6_nqgqq"
      },
      "outputs": [],
      "source": [
        "\n",
        "\n",
        "df_states['sentiment_textblob'] = df_states['text'].apply(lambda x:0 if x is None else TextBlob(x).sentiment.polarity)\n",
        "df_states['sentiment_textblob_resp'] = df_states['resp_text'].apply(lambda x:0 if x is None else TextBlob(x).sentiment.polarity)\n",
        "\n"
      ]
    },
    {
      "cell_type": "markdown",
      "metadata": {},
      "source": [
        "Exploro y comparo ratings con score del sentimiento"
      ]
    },
    {
      "cell_type": "code",
      "execution_count": 38,
      "metadata": {
        "colab": {
          "base_uri": "https://localhost:8080/",
          "height": 539
        },
        "id": "WjevY6hv2zY1",
        "outputId": "d88b692f-bed2-4940-9dc5-14c94e85b606"
      },
      "outputs": [
        {
          "data": {
            "text/html": [
              "<div>\n",
              "<style scoped>\n",
              "    .dataframe tbody tr th:only-of-type {\n",
              "        vertical-align: middle;\n",
              "    }\n",
              "\n",
              "    .dataframe tbody tr th {\n",
              "        vertical-align: top;\n",
              "    }\n",
              "\n",
              "    .dataframe thead th {\n",
              "        text-align: right;\n",
              "    }\n",
              "</style>\n",
              "<table border=\"1\" class=\"dataframe\">\n",
              "  <thead>\n",
              "    <tr style=\"text-align: right;\">\n",
              "      <th></th>\n",
              "      <th>user_id</th>\n",
              "      <th>name</th>\n",
              "      <th>time</th>\n",
              "      <th>rating</th>\n",
              "      <th>text</th>\n",
              "      <th>gmap_id</th>\n",
              "      <th>resp_time</th>\n",
              "      <th>resp_text</th>\n",
              "      <th>state</th>\n",
              "      <th>year</th>\n",
              "      <th>sentiment_textblob</th>\n",
              "      <th>sentiment_textblob_resp</th>\n",
              "    </tr>\n",
              "  </thead>\n",
              "  <tbody>\n",
              "    <tr>\n",
              "      <th>5588276</th>\n",
              "      <td>1.011721e+20</td>\n",
              "      <td>Bryan Morris</td>\n",
              "      <td>2020-12-18 04:09:06.069</td>\n",
              "      <td>3</td>\n",
              "      <td>Service was okay; I ordered a \"spicy\" #10, but...</td>\n",
              "      <td>0x88e5bfc659799f5b:0xe866f5d617b6cc6</td>\n",
              "      <td>NaT</td>\n",
              "      <td>None</td>\n",
              "      <td>Florida</td>\n",
              "      <td>2020</td>\n",
              "      <td>0.042929</td>\n",
              "      <td>0.0</td>\n",
              "    </tr>\n",
              "    <tr>\n",
              "      <th>5773497</th>\n",
              "      <td>1.109643e+20</td>\n",
              "      <td>Kim</td>\n",
              "      <td>2019-06-10 11:32:29.076</td>\n",
              "      <td>4</td>\n",
              "      <td>Really did love the ambience and decor. Sat ou...</td>\n",
              "      <td>0x88e729364230818f:0xa6470abc0a3d1867</td>\n",
              "      <td>2019-06-11 15:13:14.948999936</td>\n",
              "      <td>Thank you for joining us. We hope to see you a...</td>\n",
              "      <td>Florida</td>\n",
              "      <td>2019</td>\n",
              "      <td>0.425278</td>\n",
              "      <td>0.0</td>\n",
              "    </tr>\n",
              "    <tr>\n",
              "      <th>2359610</th>\n",
              "      <td>1.033120e+20</td>\n",
              "      <td>Melchor Aldaco</td>\n",
              "      <td>2019-08-13 21:34:34.415</td>\n",
              "      <td>5</td>\n",
              "      <td>None</td>\n",
              "      <td>0x80db1ce4211fee5b:0x579bfea868f6392a</td>\n",
              "      <td>NaT</td>\n",
              "      <td>None</td>\n",
              "      <td>California</td>\n",
              "      <td>2019</td>\n",
              "      <td>0.000000</td>\n",
              "      <td>0.0</td>\n",
              "    </tr>\n",
              "    <tr>\n",
              "      <th>8786907</th>\n",
              "      <td>1.166135e+20</td>\n",
              "      <td>Michael Schmalz</td>\n",
              "      <td>2020-08-07 22:36:38.026</td>\n",
              "      <td>4</td>\n",
              "      <td>None</td>\n",
              "      <td>0x880fcc7ded7d982d:0xd20df110c90fc74a</td>\n",
              "      <td>NaT</td>\n",
              "      <td>None</td>\n",
              "      <td>Illinois</td>\n",
              "      <td>2020</td>\n",
              "      <td>0.000000</td>\n",
              "      <td>0.0</td>\n",
              "    </tr>\n",
              "    <tr>\n",
              "      <th>5745712</th>\n",
              "      <td>1.107330e+20</td>\n",
              "      <td>Kamryn Sanders</td>\n",
              "      <td>2020-10-14 03:01:29.683</td>\n",
              "      <td>1</td>\n",
              "      <td>None</td>\n",
              "      <td>0x88dd6b2cbe8bfe8f:0x18dfd771da287def</td>\n",
              "      <td>NaT</td>\n",
              "      <td>None</td>\n",
              "      <td>Florida</td>\n",
              "      <td>2020</td>\n",
              "      <td>0.000000</td>\n",
              "      <td>0.0</td>\n",
              "    </tr>\n",
              "  </tbody>\n",
              "</table>\n",
              "</div>"
            ],
            "text/plain": [
              "              user_id             name                    time  rating  \\\n",
              "5588276  1.011721e+20     Bryan Morris 2020-12-18 04:09:06.069       3   \n",
              "5773497  1.109643e+20              Kim 2019-06-10 11:32:29.076       4   \n",
              "2359610  1.033120e+20   Melchor Aldaco 2019-08-13 21:34:34.415       5   \n",
              "8786907  1.166135e+20  Michael Schmalz 2020-08-07 22:36:38.026       4   \n",
              "5745712  1.107330e+20   Kamryn Sanders 2020-10-14 03:01:29.683       1   \n",
              "\n",
              "                                                      text  \\\n",
              "5588276  Service was okay; I ordered a \"spicy\" #10, but...   \n",
              "5773497  Really did love the ambience and decor. Sat ou...   \n",
              "2359610                                               None   \n",
              "8786907                                               None   \n",
              "5745712                                               None   \n",
              "\n",
              "                                       gmap_id                     resp_time  \\\n",
              "5588276   0x88e5bfc659799f5b:0xe866f5d617b6cc6                           NaT   \n",
              "5773497  0x88e729364230818f:0xa6470abc0a3d1867 2019-06-11 15:13:14.948999936   \n",
              "2359610  0x80db1ce4211fee5b:0x579bfea868f6392a                           NaT   \n",
              "8786907  0x880fcc7ded7d982d:0xd20df110c90fc74a                           NaT   \n",
              "5745712  0x88dd6b2cbe8bfe8f:0x18dfd771da287def                           NaT   \n",
              "\n",
              "                                                 resp_text       state  year  \\\n",
              "5588276                                               None     Florida  2020   \n",
              "5773497  Thank you for joining us. We hope to see you a...     Florida  2019   \n",
              "2359610                                               None  California  2019   \n",
              "8786907                                               None    Illinois  2020   \n",
              "5745712                                               None     Florida  2020   \n",
              "\n",
              "         sentiment_textblob  sentiment_textblob_resp  \n",
              "5588276            0.042929                      0.0  \n",
              "5773497            0.425278                      0.0  \n",
              "2359610            0.000000                      0.0  \n",
              "8786907            0.000000                      0.0  \n",
              "5745712            0.000000                      0.0  "
            ]
          },
          "execution_count": 38,
          "metadata": {},
          "output_type": "execute_result"
        }
      ],
      "source": [
        "df_states.sample(5)"
      ]
    },
    {
      "cell_type": "code",
      "execution_count": 39,
      "metadata": {
        "colab": {
          "base_uri": "https://localhost:8080/",
          "height": 643
        },
        "id": "JxGs2xrm3eQv",
        "outputId": "143b9896-9765-4360-f206-c7adc7b29f7a"
      },
      "outputs": [
        {
          "data": {
            "text/html": [
              "<div>\n",
              "<style scoped>\n",
              "    .dataframe tbody tr th:only-of-type {\n",
              "        vertical-align: middle;\n",
              "    }\n",
              "\n",
              "    .dataframe tbody tr th {\n",
              "        vertical-align: top;\n",
              "    }\n",
              "\n",
              "    .dataframe thead th {\n",
              "        text-align: right;\n",
              "    }\n",
              "</style>\n",
              "<table border=\"1\" class=\"dataframe\">\n",
              "  <thead>\n",
              "    <tr style=\"text-align: right;\">\n",
              "      <th></th>\n",
              "      <th>user_id</th>\n",
              "      <th>name</th>\n",
              "      <th>time</th>\n",
              "      <th>rating</th>\n",
              "      <th>text</th>\n",
              "      <th>gmap_id</th>\n",
              "      <th>resp_time</th>\n",
              "      <th>resp_text</th>\n",
              "      <th>state</th>\n",
              "      <th>year</th>\n",
              "      <th>sentiment_textblob</th>\n",
              "      <th>sentiment_textblob_resp</th>\n",
              "    </tr>\n",
              "  </thead>\n",
              "  <tbody>\n",
              "    <tr>\n",
              "      <th>3657564</th>\n",
              "      <td>1.001272e+20</td>\n",
              "      <td>Vikki Pierson</td>\n",
              "      <td>2020-08-27 01:39:56.019</td>\n",
              "      <td>4</td>\n",
              "      <td>Town has a flying termite problem so the secon...</td>\n",
              "      <td>0x89c6cbfa126f28cb:0x7a0d1dd09d8f8a91</td>\n",
              "      <td>NaT</td>\n",
              "      <td>None</td>\n",
              "      <td>New Jersey</td>\n",
              "      <td>2020</td>\n",
              "      <td>-0.037500</td>\n",
              "      <td>0.0</td>\n",
              "    </tr>\n",
              "    <tr>\n",
              "      <th>1156045</th>\n",
              "      <td>1.128046e+20</td>\n",
              "      <td>Roomal Ahmadzai</td>\n",
              "      <td>2017-09-06 21:47:44.214</td>\n",
              "      <td>1</td>\n",
              "      <td>That will be my last day...  very bad food the...</td>\n",
              "      <td>0x80844aff4f1ef585:0x6c9799a496c37c46</td>\n",
              "      <td>NaT</td>\n",
              "      <td>None</td>\n",
              "      <td>California</td>\n",
              "      <td>2017</td>\n",
              "      <td>-0.536667</td>\n",
              "      <td>0.0</td>\n",
              "    </tr>\n",
              "    <tr>\n",
              "      <th>939282</th>\n",
              "      <td>1.177162e+20</td>\n",
              "      <td>David Schneider</td>\n",
              "      <td>2018-09-09 01:05:34.913</td>\n",
              "      <td>3</td>\n",
              "      <td>Confused staff confused food confused beer thi...</td>\n",
              "      <td>0x80eeaba39ac328b9:0xecba7aa0c4f95cc2</td>\n",
              "      <td>NaT</td>\n",
              "      <td>None</td>\n",
              "      <td>California</td>\n",
              "      <td>2018</td>\n",
              "      <td>-0.400000</td>\n",
              "      <td>0.0</td>\n",
              "    </tr>\n",
              "    <tr>\n",
              "      <th>2225538</th>\n",
              "      <td>1.048221e+20</td>\n",
              "      <td>Michelle Morris</td>\n",
              "      <td>2016-07-26 01:19:00.955</td>\n",
              "      <td>3</td>\n",
              "      <td>Convenient but staff are very rude.</td>\n",
              "      <td>0x809524489dae64cd:0xc8d5884738541799</td>\n",
              "      <td>NaT</td>\n",
              "      <td>None</td>\n",
              "      <td>California</td>\n",
              "      <td>2016</td>\n",
              "      <td>-0.390000</td>\n",
              "      <td>0.0</td>\n",
              "    </tr>\n",
              "    <tr>\n",
              "      <th>6184038</th>\n",
              "      <td>1.024294e+20</td>\n",
              "      <td>Jessica R Felder</td>\n",
              "      <td>2021-04-06 15:49:43.412</td>\n",
              "      <td>1</td>\n",
              "      <td>Piss poor service!!! Will never visit this pla...</td>\n",
              "      <td>0x88def27a63a8e48f:0x49d1de95978c78c1</td>\n",
              "      <td>NaT</td>\n",
              "      <td>None</td>\n",
              "      <td>Florida</td>\n",
              "      <td>2021</td>\n",
              "      <td>-0.540625</td>\n",
              "      <td>0.0</td>\n",
              "    </tr>\n",
              "  </tbody>\n",
              "</table>\n",
              "</div>"
            ],
            "text/plain": [
              "              user_id              name                    time  rating  \\\n",
              "3657564  1.001272e+20     Vikki Pierson 2020-08-27 01:39:56.019       4   \n",
              "1156045  1.128046e+20   Roomal Ahmadzai 2017-09-06 21:47:44.214       1   \n",
              "939282   1.177162e+20   David Schneider 2018-09-09 01:05:34.913       3   \n",
              "2225538  1.048221e+20   Michelle Morris 2016-07-26 01:19:00.955       3   \n",
              "6184038  1.024294e+20  Jessica R Felder 2021-04-06 15:49:43.412       1   \n",
              "\n",
              "                                                      text  \\\n",
              "3657564  Town has a flying termite problem so the secon...   \n",
              "1156045  That will be my last day...  very bad food the...   \n",
              "939282   Confused staff confused food confused beer thi...   \n",
              "2225538                Convenient but staff are very rude.   \n",
              "6184038  Piss poor service!!! Will never visit this pla...   \n",
              "\n",
              "                                       gmap_id resp_time resp_text  \\\n",
              "3657564  0x89c6cbfa126f28cb:0x7a0d1dd09d8f8a91       NaT      None   \n",
              "1156045  0x80844aff4f1ef585:0x6c9799a496c37c46       NaT      None   \n",
              "939282   0x80eeaba39ac328b9:0xecba7aa0c4f95cc2       NaT      None   \n",
              "2225538  0x809524489dae64cd:0xc8d5884738541799       NaT      None   \n",
              "6184038  0x88def27a63a8e48f:0x49d1de95978c78c1       NaT      None   \n",
              "\n",
              "              state  year  sentiment_textblob  sentiment_textblob_resp  \n",
              "3657564  New Jersey  2020           -0.037500                      0.0  \n",
              "1156045  California  2017           -0.536667                      0.0  \n",
              "939282   California  2018           -0.400000                      0.0  \n",
              "2225538  California  2016           -0.390000                      0.0  \n",
              "6184038     Florida  2021           -0.540625                      0.0  "
            ]
          },
          "execution_count": 39,
          "metadata": {},
          "output_type": "execute_result"
        }
      ],
      "source": [
        "df_states[df_states['sentiment_textblob']<0].sample(5)"
      ]
    },
    {
      "cell_type": "markdown",
      "metadata": {},
      "source": [
        "### Voy a generar el criterio que en el sentimiento se obtenga un valor cuantificable mas real, normalizando el ranting y sumandole al socre"
      ]
    },
    {
      "cell_type": "code",
      "execution_count": 40,
      "metadata": {
        "id": "xmoijqRaU2X_"
      },
      "outputs": [],
      "source": [
        "df_states['sentiment'] = df_states['rating'] / 5. + df_states['sentiment_textblob']"
      ]
    },
    {
      "cell_type": "code",
      "execution_count": 41,
      "metadata": {
        "colab": {
          "base_uri": "https://localhost:8080/",
          "height": 539
        },
        "id": "Pop5LwNlV3Sw",
        "outputId": "48645e75-3520-4726-ad89-73c524435828"
      },
      "outputs": [
        {
          "data": {
            "text/html": [
              "<div>\n",
              "<style scoped>\n",
              "    .dataframe tbody tr th:only-of-type {\n",
              "        vertical-align: middle;\n",
              "    }\n",
              "\n",
              "    .dataframe tbody tr th {\n",
              "        vertical-align: top;\n",
              "    }\n",
              "\n",
              "    .dataframe thead th {\n",
              "        text-align: right;\n",
              "    }\n",
              "</style>\n",
              "<table border=\"1\" class=\"dataframe\">\n",
              "  <thead>\n",
              "    <tr style=\"text-align: right;\">\n",
              "      <th></th>\n",
              "      <th>user_id</th>\n",
              "      <th>name</th>\n",
              "      <th>time</th>\n",
              "      <th>rating</th>\n",
              "      <th>text</th>\n",
              "      <th>gmap_id</th>\n",
              "      <th>resp_time</th>\n",
              "      <th>resp_text</th>\n",
              "      <th>state</th>\n",
              "      <th>year</th>\n",
              "      <th>sentiment_textblob</th>\n",
              "      <th>sentiment_textblob_resp</th>\n",
              "      <th>sentiment</th>\n",
              "    </tr>\n",
              "  </thead>\n",
              "  <tbody>\n",
              "    <tr>\n",
              "      <th>5739827</th>\n",
              "      <td>1.088351e+20</td>\n",
              "      <td>Michele Jordan</td>\n",
              "      <td>2019-08-05 22:19:24.294</td>\n",
              "      <td>4</td>\n",
              "      <td>yum. but this location was super slow</td>\n",
              "      <td>0x88dd473f7b912acf:0xe138be6b3fdd11e8</td>\n",
              "      <td>NaT</td>\n",
              "      <td>None</td>\n",
              "      <td>Florida</td>\n",
              "      <td>2019</td>\n",
              "      <td>0.016667</td>\n",
              "      <td>0.0</td>\n",
              "      <td>0.816667</td>\n",
              "    </tr>\n",
              "    <tr>\n",
              "      <th>648102</th>\n",
              "      <td>1.080181e+20</td>\n",
              "      <td>Vincent Bibbee</td>\n",
              "      <td>2018-08-11 23:31:55.505</td>\n",
              "      <td>5</td>\n",
              "      <td>Always great food and service.</td>\n",
              "      <td>0x80dcaf45a49656df:0x99d7cac698af187d</td>\n",
              "      <td>NaT</td>\n",
              "      <td>None</td>\n",
              "      <td>California</td>\n",
              "      <td>2018</td>\n",
              "      <td>0.800000</td>\n",
              "      <td>0.0</td>\n",
              "      <td>1.800000</td>\n",
              "    </tr>\n",
              "    <tr>\n",
              "      <th>5376309</th>\n",
              "      <td>1.019300e+20</td>\n",
              "      <td>Giselle Marzano</td>\n",
              "      <td>2018-02-22 22:47:48.003</td>\n",
              "      <td>2</td>\n",
              "      <td>Took too long to have order taken, the food wa...</td>\n",
              "      <td>0x88c2e3f645d0c0c1:0xe4d0b40a7feb3611</td>\n",
              "      <td>NaT</td>\n",
              "      <td>None</td>\n",
              "      <td>Florida</td>\n",
              "      <td>2018</td>\n",
              "      <td>0.316667</td>\n",
              "      <td>0.0</td>\n",
              "      <td>0.716667</td>\n",
              "    </tr>\n",
              "    <tr>\n",
              "      <th>5351408</th>\n",
              "      <td>1.055078e+20</td>\n",
              "      <td>Courtney W. May</td>\n",
              "      <td>2017-08-07 15:12:18.195</td>\n",
              "      <td>5</td>\n",
              "      <td>None</td>\n",
              "      <td>0x88e7c4eb0840b44b:0x5042d18bac575272</td>\n",
              "      <td>NaT</td>\n",
              "      <td>None</td>\n",
              "      <td>Florida</td>\n",
              "      <td>2017</td>\n",
              "      <td>0.000000</td>\n",
              "      <td>0.0</td>\n",
              "      <td>1.000000</td>\n",
              "    </tr>\n",
              "    <tr>\n",
              "      <th>5681762</th>\n",
              "      <td>1.011276e+20</td>\n",
              "      <td>Stephanie L Smith</td>\n",
              "      <td>2018-12-02 20:01:19.549</td>\n",
              "      <td>4</td>\n",
              "      <td>Food was alright, server was over friendly.</td>\n",
              "      <td>0x88ef3a520871b263:0x1886485671a1ad53</td>\n",
              "      <td>NaT</td>\n",
              "      <td>None</td>\n",
              "      <td>Florida</td>\n",
              "      <td>2018</td>\n",
              "      <td>0.375000</td>\n",
              "      <td>0.0</td>\n",
              "      <td>1.175000</td>\n",
              "    </tr>\n",
              "  </tbody>\n",
              "</table>\n",
              "</div>"
            ],
            "text/plain": [
              "              user_id               name                    time  rating  \\\n",
              "5739827  1.088351e+20     Michele Jordan 2019-08-05 22:19:24.294       4   \n",
              "648102   1.080181e+20     Vincent Bibbee 2018-08-11 23:31:55.505       5   \n",
              "5376309  1.019300e+20    Giselle Marzano 2018-02-22 22:47:48.003       2   \n",
              "5351408  1.055078e+20    Courtney W. May 2017-08-07 15:12:18.195       5   \n",
              "5681762  1.011276e+20  Stephanie L Smith 2018-12-02 20:01:19.549       4   \n",
              "\n",
              "                                                      text  \\\n",
              "5739827              yum. but this location was super slow   \n",
              "648102                      Always great food and service.   \n",
              "5376309  Took too long to have order taken, the food wa...   \n",
              "5351408                                               None   \n",
              "5681762        Food was alright, server was over friendly.   \n",
              "\n",
              "                                       gmap_id resp_time resp_text  \\\n",
              "5739827  0x88dd473f7b912acf:0xe138be6b3fdd11e8       NaT      None   \n",
              "648102   0x80dcaf45a49656df:0x99d7cac698af187d       NaT      None   \n",
              "5376309  0x88c2e3f645d0c0c1:0xe4d0b40a7feb3611       NaT      None   \n",
              "5351408  0x88e7c4eb0840b44b:0x5042d18bac575272       NaT      None   \n",
              "5681762  0x88ef3a520871b263:0x1886485671a1ad53       NaT      None   \n",
              "\n",
              "              state  year  sentiment_textblob  sentiment_textblob_resp  \\\n",
              "5739827     Florida  2019            0.016667                      0.0   \n",
              "648102   California  2018            0.800000                      0.0   \n",
              "5376309     Florida  2018            0.316667                      0.0   \n",
              "5351408     Florida  2017            0.000000                      0.0   \n",
              "5681762     Florida  2018            0.375000                      0.0   \n",
              "\n",
              "         sentiment  \n",
              "5739827   0.816667  \n",
              "648102    1.800000  \n",
              "5376309   0.716667  \n",
              "5351408   1.000000  \n",
              "5681762   1.175000  "
            ]
          },
          "execution_count": 41,
          "metadata": {},
          "output_type": "execute_result"
        }
      ],
      "source": [
        "df_states.sample(5)\n"
      ]
    },
    {
      "cell_type": "markdown",
      "metadata": {},
      "source": [
        "### En base al valor obtenido defijo el criterio de <br>\n",
        " para score ponderado mayor a 1.5 en un sentimiento muy bueno y asigno 2, <br>\n",
        " Para score ponderado mayor a 1 y menor a 1.5 en un sentimiento bueno y asigno 1,<br>\n",
        " Para score ponderado menor a 0.3 es un score negativo y asigno -1,<br>\n",
        " Para score ponderado entre 1 y 0.3 es un score neutro y asigno 0"
      ]
    },
    {
      "cell_type": "code",
      "execution_count": 42,
      "metadata": {
        "id": "o2ihqdv-WtTZ"
      },
      "outputs": [],
      "source": [
        "df_states['sentiment'] = df_states['sentiment'].apply(lambda x: 2 if x >= 1.5 else (1 if x >= 1 else (-1 if x <= 0.3 else 0)))\n"
      ]
    },
    {
      "cell_type": "code",
      "execution_count": 43,
      "metadata": {
        "colab": {
          "base_uri": "https://localhost:8080/",
          "height": 808
        },
        "id": "_1bokYq2XPyg",
        "outputId": "b2e3f829-8c0b-4e29-9e9b-8c86378dcd0f"
      },
      "outputs": [
        {
          "data": {
            "text/html": [
              "<div>\n",
              "<style scoped>\n",
              "    .dataframe tbody tr th:only-of-type {\n",
              "        vertical-align: middle;\n",
              "    }\n",
              "\n",
              "    .dataframe tbody tr th {\n",
              "        vertical-align: top;\n",
              "    }\n",
              "\n",
              "    .dataframe thead th {\n",
              "        text-align: right;\n",
              "    }\n",
              "</style>\n",
              "<table border=\"1\" class=\"dataframe\">\n",
              "  <thead>\n",
              "    <tr style=\"text-align: right;\">\n",
              "      <th></th>\n",
              "      <th>user_id</th>\n",
              "      <th>name</th>\n",
              "      <th>time</th>\n",
              "      <th>rating</th>\n",
              "      <th>text</th>\n",
              "      <th>gmap_id</th>\n",
              "      <th>resp_time</th>\n",
              "      <th>resp_text</th>\n",
              "      <th>state</th>\n",
              "      <th>year</th>\n",
              "      <th>sentiment_textblob</th>\n",
              "      <th>sentiment_textblob_resp</th>\n",
              "      <th>sentiment</th>\n",
              "    </tr>\n",
              "  </thead>\n",
              "  <tbody>\n",
              "    <tr>\n",
              "      <th>0</th>\n",
              "      <td>1.089912e+20</td>\n",
              "      <td>Song Ro</td>\n",
              "      <td>2021-01-06 05:12:07.056</td>\n",
              "      <td>5</td>\n",
              "      <td>Love there korean rice cake.</td>\n",
              "      <td>0x80c2c778e3b73d33:0xbdc58662a4a97d49</td>\n",
              "      <td>NaT</td>\n",
              "      <td>None</td>\n",
              "      <td>California</td>\n",
              "      <td>2021</td>\n",
              "      <td>0.500000</td>\n",
              "      <td>0.0</td>\n",
              "      <td>2</td>\n",
              "    </tr>\n",
              "    <tr>\n",
              "      <th>1</th>\n",
              "      <td>1.112903e+20</td>\n",
              "      <td>Rafa Robles</td>\n",
              "      <td>2021-02-09 05:47:28.663</td>\n",
              "      <td>5</td>\n",
              "      <td>Good very good</td>\n",
              "      <td>0x80c2c778e3b73d33:0xbdc58662a4a97d49</td>\n",
              "      <td>NaT</td>\n",
              "      <td>None</td>\n",
              "      <td>California</td>\n",
              "      <td>2021</td>\n",
              "      <td>0.805000</td>\n",
              "      <td>0.0</td>\n",
              "      <td>2</td>\n",
              "    </tr>\n",
              "    <tr>\n",
              "      <th>2</th>\n",
              "      <td>1.126404e+20</td>\n",
              "      <td>David Han</td>\n",
              "      <td>2020-03-08 05:04:42.296</td>\n",
              "      <td>4</td>\n",
              "      <td>They make Korean traditional food very properly.</td>\n",
              "      <td>0x80c2c778e3b73d33:0xbdc58662a4a97d49</td>\n",
              "      <td>NaT</td>\n",
              "      <td>None</td>\n",
              "      <td>California</td>\n",
              "      <td>2020</td>\n",
              "      <td>0.000000</td>\n",
              "      <td>0.0</td>\n",
              "      <td>0</td>\n",
              "    </tr>\n",
              "    <tr>\n",
              "      <th>3</th>\n",
              "      <td>1.174403e+20</td>\n",
              "      <td>Anthony Kim</td>\n",
              "      <td>2019-03-07 05:56:56.355</td>\n",
              "      <td>5</td>\n",
              "      <td>Short ribs are very delicious.</td>\n",
              "      <td>0x80c2c778e3b73d33:0xbdc58662a4a97d49</td>\n",
              "      <td>NaT</td>\n",
              "      <td>None</td>\n",
              "      <td>California</td>\n",
              "      <td>2019</td>\n",
              "      <td>0.500000</td>\n",
              "      <td>0.0</td>\n",
              "      <td>2</td>\n",
              "    </tr>\n",
              "    <tr>\n",
              "      <th>4</th>\n",
              "      <td>1.005808e+20</td>\n",
              "      <td>Mario Marzouk</td>\n",
              "      <td>2017-05-16 05:01:41.933</td>\n",
              "      <td>5</td>\n",
              "      <td>Great food and prices the portions are large</td>\n",
              "      <td>0x80c2c778e3b73d33:0xbdc58662a4a97d49</td>\n",
              "      <td>NaT</td>\n",
              "      <td>None</td>\n",
              "      <td>California</td>\n",
              "      <td>2017</td>\n",
              "      <td>0.507143</td>\n",
              "      <td>0.0</td>\n",
              "      <td>2</td>\n",
              "    </tr>\n",
              "  </tbody>\n",
              "</table>\n",
              "</div>"
            ],
            "text/plain": [
              "        user_id           name                    time  rating  \\\n",
              "0  1.089912e+20        Song Ro 2021-01-06 05:12:07.056       5   \n",
              "1  1.112903e+20    Rafa Robles 2021-02-09 05:47:28.663       5   \n",
              "2  1.126404e+20      David Han 2020-03-08 05:04:42.296       4   \n",
              "3  1.174403e+20    Anthony Kim 2019-03-07 05:56:56.355       5   \n",
              "4  1.005808e+20  Mario Marzouk 2017-05-16 05:01:41.933       5   \n",
              "\n",
              "                                               text  \\\n",
              "0                      Love there korean rice cake.   \n",
              "1                                    Good very good   \n",
              "2  They make Korean traditional food very properly.   \n",
              "3                    Short ribs are very delicious.   \n",
              "4      Great food and prices the portions are large   \n",
              "\n",
              "                                 gmap_id resp_time resp_text       state  \\\n",
              "0  0x80c2c778e3b73d33:0xbdc58662a4a97d49       NaT      None  California   \n",
              "1  0x80c2c778e3b73d33:0xbdc58662a4a97d49       NaT      None  California   \n",
              "2  0x80c2c778e3b73d33:0xbdc58662a4a97d49       NaT      None  California   \n",
              "3  0x80c2c778e3b73d33:0xbdc58662a4a97d49       NaT      None  California   \n",
              "4  0x80c2c778e3b73d33:0xbdc58662a4a97d49       NaT      None  California   \n",
              "\n",
              "   year  sentiment_textblob  sentiment_textblob_resp  sentiment  \n",
              "0  2021            0.500000                      0.0          2  \n",
              "1  2021            0.805000                      0.0          2  \n",
              "2  2020            0.000000                      0.0          0  \n",
              "3  2019            0.500000                      0.0          2  \n",
              "4  2017            0.507143                      0.0          2  "
            ]
          },
          "execution_count": 43,
          "metadata": {},
          "output_type": "execute_result"
        }
      ],
      "source": [
        "df_states.head()"
      ]
    },
    {
      "cell_type": "markdown",
      "metadata": {},
      "source": [
        "Elimino las columnas que ya no se usan debido al analisis de sentimiento"
      ]
    },
    {
      "cell_type": "code",
      "execution_count": 44,
      "metadata": {
        "id": "31VEMULkX7E3"
      },
      "outputs": [],
      "source": [
        "df_states.drop(columns=['sentiment_textblob','text','resp_text','rating'],inplace=True)"
      ]
    },
    {
      "cell_type": "code",
      "execution_count": 45,
      "metadata": {
        "colab": {
          "base_uri": "https://localhost:8080/",
          "height": 293
        },
        "id": "TlqzP_Gdblc3",
        "outputId": "d9d28cec-7e1c-4dce-9890-1251b59719ea"
      },
      "outputs": [
        {
          "data": {
            "text/html": [
              "<div>\n",
              "<style scoped>\n",
              "    .dataframe tbody tr th:only-of-type {\n",
              "        vertical-align: middle;\n",
              "    }\n",
              "\n",
              "    .dataframe tbody tr th {\n",
              "        vertical-align: top;\n",
              "    }\n",
              "\n",
              "    .dataframe thead th {\n",
              "        text-align: right;\n",
              "    }\n",
              "</style>\n",
              "<table border=\"1\" class=\"dataframe\">\n",
              "  <thead>\n",
              "    <tr style=\"text-align: right;\">\n",
              "      <th></th>\n",
              "      <th>user_id</th>\n",
              "      <th>name</th>\n",
              "      <th>time</th>\n",
              "      <th>gmap_id</th>\n",
              "      <th>resp_time</th>\n",
              "      <th>state</th>\n",
              "      <th>year</th>\n",
              "      <th>sentiment_textblob_resp</th>\n",
              "      <th>sentiment</th>\n",
              "    </tr>\n",
              "  </thead>\n",
              "  <tbody>\n",
              "    <tr>\n",
              "      <th>0</th>\n",
              "      <td>1.089912e+20</td>\n",
              "      <td>Song Ro</td>\n",
              "      <td>2021-01-06 05:12:07.056</td>\n",
              "      <td>0x80c2c778e3b73d33:0xbdc58662a4a97d49</td>\n",
              "      <td>NaT</td>\n",
              "      <td>California</td>\n",
              "      <td>2021</td>\n",
              "      <td>0.0</td>\n",
              "      <td>2</td>\n",
              "    </tr>\n",
              "    <tr>\n",
              "      <th>1</th>\n",
              "      <td>1.112903e+20</td>\n",
              "      <td>Rafa Robles</td>\n",
              "      <td>2021-02-09 05:47:28.663</td>\n",
              "      <td>0x80c2c778e3b73d33:0xbdc58662a4a97d49</td>\n",
              "      <td>NaT</td>\n",
              "      <td>California</td>\n",
              "      <td>2021</td>\n",
              "      <td>0.0</td>\n",
              "      <td>2</td>\n",
              "    </tr>\n",
              "    <tr>\n",
              "      <th>2</th>\n",
              "      <td>1.126404e+20</td>\n",
              "      <td>David Han</td>\n",
              "      <td>2020-03-08 05:04:42.296</td>\n",
              "      <td>0x80c2c778e3b73d33:0xbdc58662a4a97d49</td>\n",
              "      <td>NaT</td>\n",
              "      <td>California</td>\n",
              "      <td>2020</td>\n",
              "      <td>0.0</td>\n",
              "      <td>0</td>\n",
              "    </tr>\n",
              "    <tr>\n",
              "      <th>3</th>\n",
              "      <td>1.174403e+20</td>\n",
              "      <td>Anthony Kim</td>\n",
              "      <td>2019-03-07 05:56:56.355</td>\n",
              "      <td>0x80c2c778e3b73d33:0xbdc58662a4a97d49</td>\n",
              "      <td>NaT</td>\n",
              "      <td>California</td>\n",
              "      <td>2019</td>\n",
              "      <td>0.0</td>\n",
              "      <td>2</td>\n",
              "    </tr>\n",
              "    <tr>\n",
              "      <th>4</th>\n",
              "      <td>1.005808e+20</td>\n",
              "      <td>Mario Marzouk</td>\n",
              "      <td>2017-05-16 05:01:41.933</td>\n",
              "      <td>0x80c2c778e3b73d33:0xbdc58662a4a97d49</td>\n",
              "      <td>NaT</td>\n",
              "      <td>California</td>\n",
              "      <td>2017</td>\n",
              "      <td>0.0</td>\n",
              "      <td>2</td>\n",
              "    </tr>\n",
              "  </tbody>\n",
              "</table>\n",
              "</div>"
            ],
            "text/plain": [
              "        user_id           name                    time  \\\n",
              "0  1.089912e+20        Song Ro 2021-01-06 05:12:07.056   \n",
              "1  1.112903e+20    Rafa Robles 2021-02-09 05:47:28.663   \n",
              "2  1.126404e+20      David Han 2020-03-08 05:04:42.296   \n",
              "3  1.174403e+20    Anthony Kim 2019-03-07 05:56:56.355   \n",
              "4  1.005808e+20  Mario Marzouk 2017-05-16 05:01:41.933   \n",
              "\n",
              "                                 gmap_id resp_time       state  year  \\\n",
              "0  0x80c2c778e3b73d33:0xbdc58662a4a97d49       NaT  California  2021   \n",
              "1  0x80c2c778e3b73d33:0xbdc58662a4a97d49       NaT  California  2021   \n",
              "2  0x80c2c778e3b73d33:0xbdc58662a4a97d49       NaT  California  2020   \n",
              "3  0x80c2c778e3b73d33:0xbdc58662a4a97d49       NaT  California  2019   \n",
              "4  0x80c2c778e3b73d33:0xbdc58662a4a97d49       NaT  California  2017   \n",
              "\n",
              "   sentiment_textblob_resp  sentiment  \n",
              "0                      0.0          2  \n",
              "1                      0.0          2  \n",
              "2                      0.0          0  \n",
              "3                      0.0          2  \n",
              "4                      0.0          2  "
            ]
          },
          "execution_count": 45,
          "metadata": {},
          "output_type": "execute_result"
        }
      ],
      "source": [
        "df_states.head()"
      ]
    },
    {
      "cell_type": "markdown",
      "metadata": {},
      "source": [
        "### Por ultimo exporto el dataset a parquet particionado por estados"
      ]
    },
    {
      "cell_type": "code",
      "execution_count": 46,
      "metadata": {
        "id": "KADQ5pGEfz0_"
      },
      "outputs": [],
      "source": [
        "#df_states['time'] = df_states['time'].astype('str')"
      ]
    },
    {
      "cell_type": "code",
      "execution_count": 47,
      "metadata": {
        "id": "dmDhXU7Vo0M0"
      },
      "outputs": [],
      "source": [
        "#df_states['time'] = df_states['time'].apply(lambda x:x.split(' '))"
      ]
    },
    {
      "cell_type": "code",
      "execution_count": 50,
      "metadata": {
        "id": "5AJ7VHPeXXg4"
      },
      "outputs": [],
      "source": [
        "df_states.to_parquet('../datasets/proceced/google/reviews_google.parquet.gz', compression='gzip')"
      ]
    }
  ],
  "metadata": {
    "colab": {
      "provenance": []
    },
    "kernelspec": {
      "display_name": "Python 3",
      "name": "python3"
    },
    "language_info": {
      "codemirror_mode": {
        "name": "ipython",
        "version": 3
      },
      "file_extension": ".py",
      "mimetype": "text/x-python",
      "name": "python",
      "nbconvert_exporter": "python",
      "pygments_lexer": "ipython3",
      "version": "3.11.6"
    }
  },
  "nbformat": 4,
  "nbformat_minor": 0
}
