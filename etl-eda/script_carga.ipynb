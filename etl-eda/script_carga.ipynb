{
 "cells": [
  {
   "cell_type": "code",
   "execution_count": 3,
   "metadata": {},
   "outputs": [],
   "source": [
    "import schedule\n",
    "import time\n",
    "import subprocess"
   ]
  },
  {
   "cell_type": "code",
   "execution_count": null,
   "metadata": {},
   "outputs": [],
   "source": [
    "# Contador para controlar las iteraciones\n",
    "iteraciones = 0\n",
    "\n",
    "def ejecutar_script():\n",
    "    global iteraciones\n",
    "    # Reemplaza 'archivo.py' con la ruta de tu archivo.py\n",
    "    subprocess.run(['python', 'ruta/al/archivo.py'])\n",
    "    iteraciones += 1\n",
    "    if iteraciones >= 20:\n",
    "        # Detener el script después de 20 iteraciones\n",
    "        print(\"Se han completado 20 iteraciones. Deteniendo el script.\")\n",
    "        schedule.clear()\n",
    "\n",
    "# Función para verificar la hora y ejecutar el script si es 22:00\n",
    "def verificar_hora():\n",
    "    hora_actual = time.localtime()\n",
    "    if hora_actual.tm_hour == 22 and hora_actual.tm_min == 0:\n",
    "        ejecutar_script()\n",
    "\n",
    "# Programar la verificación cada hora\n",
    "schedule.every().hour.do(verificar_hora)\n",
    "\n",
    "# Bucle para ejecutar la verificación continuamente cada hora\n",
    "while True:\n",
    "    schedule.run_pending()\n",
    "    \n",
    "    # Obtener la hora actual en cada iteración del bucle\n",
    "    hora_actual_print = time.localtime()\n",
    "    \n",
    "    # Formatear la hora actual para impresión\n",
    "    hora_formateada = time.strftime(\"%Y-%m-%d %H:%M:%S\", hora_actual_print)\n",
    "    \n",
    "    # Imprimir la hora actual formateada\n",
    "    print(\"Fecha y hora actual:\", hora_formateada)\n",
    "    \n",
    "    # Dormir durante una hora (3600 segundos)\n",
    "    time.sleep(3600)\n",
    "\n",
    "\n",
    "\n",
    "\n",
    "\n",
    "\n",
    "\n"
   ]
  }
 ],
 "metadata": {
  "kernelspec": {
   "display_name": "Python 3",
   "language": "python",
   "name": "python3"
  },
  "language_info": {
   "codemirror_mode": {
    "name": "ipython",
    "version": 3
   },
   "file_extension": ".py",
   "mimetype": "text/x-python",
   "name": "python",
   "nbconvert_exporter": "python",
   "pygments_lexer": "ipython3",
   "version": "3.11.5"
  }
 },
 "nbformat": 4,
 "nbformat_minor": 2
}
